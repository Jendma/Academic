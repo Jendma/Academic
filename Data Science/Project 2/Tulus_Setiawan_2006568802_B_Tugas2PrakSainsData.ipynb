{
  "nbformat": 4,
  "nbformat_minor": 0,
  "metadata": {
    "colab": {
      "name": "Tulus Setiawan_2006568802_B_Tugas2PrakSainsData.ipynb",
      "provenance": []
    },
    "kernelspec": {
      "name": "python3",
      "display_name": "Python 3"
    },
    "language_info": {
      "name": "python"
    }
  },
  "cells": [
    {
      "cell_type": "markdown",
      "source": [
        "#No.1"
      ],
      "metadata": {
        "id": "jboD7CCVnOr1"
      }
    },
    {
      "cell_type": "code",
      "execution_count": 1,
      "metadata": {
        "id": "KdGQQixmx51n"
      },
      "outputs": [],
      "source": [
        "#import package and module\n",
        "import pandas as pd\n",
        "import numpy as np\n",
        "import matplotlib.pyplot as plt\n",
        "import seaborn as sns\n",
        "from sklearn.metrics import f1_score\n",
        "from sklearn.metrics import classification_report\n",
        "from sklearn.model_selection import train_test_split\n",
        "from sklearn.preprocessing import StandardScaler\n",
        "import tensorflow as tf\n",
        "from tensorflow import keras"
      ]
    },
    {
      "cell_type": "markdown",
      "source": [
        "Pertama, kita import terlebih dahulu package dan module yang dibutuhkan untuk menjalankan beberapa program yang akan dilakukan"
      ],
      "metadata": {
        "id": "-6NzZDS6fUqB"
      }
    },
    {
      "cell_type": "code",
      "source": [
        "import warnings\n",
        "warnings.filterwarnings(\"ignore\", category=DeprecationWarning)\n",
        "warnings.filterwarnings(\"ignore\", category=FutureWarning)"
      ],
      "metadata": {
        "id": "AN5lC7Aj76cB"
      },
      "execution_count": 2,
      "outputs": []
    },
    {
      "cell_type": "markdown",
      "source": [
        "Hanya sebagai tambahan, jika nanti muncul warning saat runing program bisa di sembunyikan"
      ],
      "metadata": {
        "id": "CUQx8bCjfpH0"
      }
    },
    {
      "cell_type": "code",
      "source": [
        "with open('about dataset.txt') as f:\n",
        "    contents = f.read()\n",
        "    print(contents)"
      ],
      "metadata": {
        "colab": {
          "base_uri": "https://localhost:8080/"
        },
        "id": "Z0Pg40f0zL7P",
        "outputId": "d67e1cce-945d-45fa-d159-31ca3754a50e"
      },
      "execution_count": 3,
      "outputs": [
        {
          "output_type": "stream",
          "name": "stdout",
          "text": [
            "About datasets\n",
            "1. age - age in years \n",
            "2. sex - sex (1 = male; 0 = female) \n",
            "3. cp - chest pain type (1 = typical angina; 2 = atypical angina; 3 = non-anginal pain; 0 = asymptomatic) \n",
            "4. trestbps - resting blood pressure (in mm Hg on admission to the hospital) \n",
            "5. chol - serum cholestoral in mg/dl \n",
            "6. fbs - fasting blood sugar > 120 mg/dl (1 = true; 0 = false) \n",
            "7. restecg - resting electrocardiographic results (1 = normal; 2 = having ST-T wave abnormality; 0 = hypertrophy) \n",
            "8. thalach - maximum heart rate achieved \n",
            "9. exang - exercise induced angina (1 = yes; 0 = no) \n",
            "10. oldpeak - ST depression induced by exercise relative to rest \n",
            "11. slope - the slope of the peak exercise ST segment (2 = upsloping; 1 = flat; 0 = downsloping) \n",
            "12. ca - number of major vessels (0-3) colored by flourosopy \n",
            "13. thal - 2 = normal; 1 = fixed defect; 3 = reversable defect \n",
            "14. output - the predicted attribute - diagnosis of heart disease (0 = less chance of heart attack, 1 = higher chance of heart attack)\n",
            "\n"
          ]
        }
      ]
    },
    {
      "cell_type": "markdown",
      "source": [
        "Mencoba untuk melihat text deskripsi mengenai dataset yang akan digunakan"
      ],
      "metadata": {
        "id": "nnborqaKhJnY"
      }
    },
    {
      "cell_type": "markdown",
      "source": [
        "##Observasi Data"
      ],
      "metadata": {
        "id": "vtzl3ccqborD"
      }
    },
    {
      "cell_type": "code",
      "source": [
        "#Inisiasi variable dataset\n",
        "heart_df = pd.read_csv('heart.csv')\n",
        "heart_df.head()"
      ],
      "metadata": {
        "colab": {
          "base_uri": "https://localhost:8080/",
          "height": 206
        },
        "id": "5b2gfiqPyqog",
        "outputId": "98d51d31-58bb-42ce-91f9-e9b4dbf0988e"
      },
      "execution_count": 4,
      "outputs": [
        {
          "output_type": "execute_result",
          "data": {
            "text/plain": [
              "   age  sex  cp  trtbps  chol  fbs  restecg  thalachh  exng  oldpeak  slp  \\\n",
              "0   63    1   3     145   233    1        0       150     0      2.3    0   \n",
              "1   37    1   2     130   250    0        1       187     0      3.5    0   \n",
              "2   41    0   1     130   204    0        0       172     0      1.4    2   \n",
              "3   56    1   1     120   236    0        1       178     0      0.8    2   \n",
              "4   57    0   0     120   354    0        1       163     1      0.6    2   \n",
              "\n",
              "   caa  thall  output  \n",
              "0    0      1       1  \n",
              "1    0      2       1  \n",
              "2    0      2       1  \n",
              "3    0      2       1  \n",
              "4    0      2       1  "
            ],
            "text/html": [
              "\n",
              "  <div id=\"df-49a11df7-0096-4fdb-a969-da17c93fcb96\">\n",
              "    <div class=\"colab-df-container\">\n",
              "      <div>\n",
              "<style scoped>\n",
              "    .dataframe tbody tr th:only-of-type {\n",
              "        vertical-align: middle;\n",
              "    }\n",
              "\n",
              "    .dataframe tbody tr th {\n",
              "        vertical-align: top;\n",
              "    }\n",
              "\n",
              "    .dataframe thead th {\n",
              "        text-align: right;\n",
              "    }\n",
              "</style>\n",
              "<table border=\"1\" class=\"dataframe\">\n",
              "  <thead>\n",
              "    <tr style=\"text-align: right;\">\n",
              "      <th></th>\n",
              "      <th>age</th>\n",
              "      <th>sex</th>\n",
              "      <th>cp</th>\n",
              "      <th>trtbps</th>\n",
              "      <th>chol</th>\n",
              "      <th>fbs</th>\n",
              "      <th>restecg</th>\n",
              "      <th>thalachh</th>\n",
              "      <th>exng</th>\n",
              "      <th>oldpeak</th>\n",
              "      <th>slp</th>\n",
              "      <th>caa</th>\n",
              "      <th>thall</th>\n",
              "      <th>output</th>\n",
              "    </tr>\n",
              "  </thead>\n",
              "  <tbody>\n",
              "    <tr>\n",
              "      <th>0</th>\n",
              "      <td>63</td>\n",
              "      <td>1</td>\n",
              "      <td>3</td>\n",
              "      <td>145</td>\n",
              "      <td>233</td>\n",
              "      <td>1</td>\n",
              "      <td>0</td>\n",
              "      <td>150</td>\n",
              "      <td>0</td>\n",
              "      <td>2.3</td>\n",
              "      <td>0</td>\n",
              "      <td>0</td>\n",
              "      <td>1</td>\n",
              "      <td>1</td>\n",
              "    </tr>\n",
              "    <tr>\n",
              "      <th>1</th>\n",
              "      <td>37</td>\n",
              "      <td>1</td>\n",
              "      <td>2</td>\n",
              "      <td>130</td>\n",
              "      <td>250</td>\n",
              "      <td>0</td>\n",
              "      <td>1</td>\n",
              "      <td>187</td>\n",
              "      <td>0</td>\n",
              "      <td>3.5</td>\n",
              "      <td>0</td>\n",
              "      <td>0</td>\n",
              "      <td>2</td>\n",
              "      <td>1</td>\n",
              "    </tr>\n",
              "    <tr>\n",
              "      <th>2</th>\n",
              "      <td>41</td>\n",
              "      <td>0</td>\n",
              "      <td>1</td>\n",
              "      <td>130</td>\n",
              "      <td>204</td>\n",
              "      <td>0</td>\n",
              "      <td>0</td>\n",
              "      <td>172</td>\n",
              "      <td>0</td>\n",
              "      <td>1.4</td>\n",
              "      <td>2</td>\n",
              "      <td>0</td>\n",
              "      <td>2</td>\n",
              "      <td>1</td>\n",
              "    </tr>\n",
              "    <tr>\n",
              "      <th>3</th>\n",
              "      <td>56</td>\n",
              "      <td>1</td>\n",
              "      <td>1</td>\n",
              "      <td>120</td>\n",
              "      <td>236</td>\n",
              "      <td>0</td>\n",
              "      <td>1</td>\n",
              "      <td>178</td>\n",
              "      <td>0</td>\n",
              "      <td>0.8</td>\n",
              "      <td>2</td>\n",
              "      <td>0</td>\n",
              "      <td>2</td>\n",
              "      <td>1</td>\n",
              "    </tr>\n",
              "    <tr>\n",
              "      <th>4</th>\n",
              "      <td>57</td>\n",
              "      <td>0</td>\n",
              "      <td>0</td>\n",
              "      <td>120</td>\n",
              "      <td>354</td>\n",
              "      <td>0</td>\n",
              "      <td>1</td>\n",
              "      <td>163</td>\n",
              "      <td>1</td>\n",
              "      <td>0.6</td>\n",
              "      <td>2</td>\n",
              "      <td>0</td>\n",
              "      <td>2</td>\n",
              "      <td>1</td>\n",
              "    </tr>\n",
              "  </tbody>\n",
              "</table>\n",
              "</div>\n",
              "      <button class=\"colab-df-convert\" onclick=\"convertToInteractive('df-49a11df7-0096-4fdb-a969-da17c93fcb96')\"\n",
              "              title=\"Convert this dataframe to an interactive table.\"\n",
              "              style=\"display:none;\">\n",
              "        \n",
              "  <svg xmlns=\"http://www.w3.org/2000/svg\" height=\"24px\"viewBox=\"0 0 24 24\"\n",
              "       width=\"24px\">\n",
              "    <path d=\"M0 0h24v24H0V0z\" fill=\"none\"/>\n",
              "    <path d=\"M18.56 5.44l.94 2.06.94-2.06 2.06-.94-2.06-.94-.94-2.06-.94 2.06-2.06.94zm-11 1L8.5 8.5l.94-2.06 2.06-.94-2.06-.94L8.5 2.5l-.94 2.06-2.06.94zm10 10l.94 2.06.94-2.06 2.06-.94-2.06-.94-.94-2.06-.94 2.06-2.06.94z\"/><path d=\"M17.41 7.96l-1.37-1.37c-.4-.4-.92-.59-1.43-.59-.52 0-1.04.2-1.43.59L10.3 9.45l-7.72 7.72c-.78.78-.78 2.05 0 2.83L4 21.41c.39.39.9.59 1.41.59.51 0 1.02-.2 1.41-.59l7.78-7.78 2.81-2.81c.8-.78.8-2.07 0-2.86zM5.41 20L4 18.59l7.72-7.72 1.47 1.35L5.41 20z\"/>\n",
              "  </svg>\n",
              "      </button>\n",
              "      \n",
              "  <style>\n",
              "    .colab-df-container {\n",
              "      display:flex;\n",
              "      flex-wrap:wrap;\n",
              "      gap: 12px;\n",
              "    }\n",
              "\n",
              "    .colab-df-convert {\n",
              "      background-color: #E8F0FE;\n",
              "      border: none;\n",
              "      border-radius: 50%;\n",
              "      cursor: pointer;\n",
              "      display: none;\n",
              "      fill: #1967D2;\n",
              "      height: 32px;\n",
              "      padding: 0 0 0 0;\n",
              "      width: 32px;\n",
              "    }\n",
              "\n",
              "    .colab-df-convert:hover {\n",
              "      background-color: #E2EBFA;\n",
              "      box-shadow: 0px 1px 2px rgba(60, 64, 67, 0.3), 0px 1px 3px 1px rgba(60, 64, 67, 0.15);\n",
              "      fill: #174EA6;\n",
              "    }\n",
              "\n",
              "    [theme=dark] .colab-df-convert {\n",
              "      background-color: #3B4455;\n",
              "      fill: #D2E3FC;\n",
              "    }\n",
              "\n",
              "    [theme=dark] .colab-df-convert:hover {\n",
              "      background-color: #434B5C;\n",
              "      box-shadow: 0px 1px 3px 1px rgba(0, 0, 0, 0.15);\n",
              "      filter: drop-shadow(0px 1px 2px rgba(0, 0, 0, 0.3));\n",
              "      fill: #FFFFFF;\n",
              "    }\n",
              "  </style>\n",
              "\n",
              "      <script>\n",
              "        const buttonEl =\n",
              "          document.querySelector('#df-49a11df7-0096-4fdb-a969-da17c93fcb96 button.colab-df-convert');\n",
              "        buttonEl.style.display =\n",
              "          google.colab.kernel.accessAllowed ? 'block' : 'none';\n",
              "\n",
              "        async function convertToInteractive(key) {\n",
              "          const element = document.querySelector('#df-49a11df7-0096-4fdb-a969-da17c93fcb96');\n",
              "          const dataTable =\n",
              "            await google.colab.kernel.invokeFunction('convertToInteractive',\n",
              "                                                     [key], {});\n",
              "          if (!dataTable) return;\n",
              "\n",
              "          const docLinkHtml = 'Like what you see? Visit the ' +\n",
              "            '<a target=\"_blank\" href=https://colab.research.google.com/notebooks/data_table.ipynb>data table notebook</a>'\n",
              "            + ' to learn more about interactive tables.';\n",
              "          element.innerHTML = '';\n",
              "          dataTable['output_type'] = 'display_data';\n",
              "          await google.colab.output.renderOutput(dataTable, element);\n",
              "          const docLink = document.createElement('div');\n",
              "          docLink.innerHTML = docLinkHtml;\n",
              "          element.appendChild(docLink);\n",
              "        }\n",
              "      </script>\n",
              "    </div>\n",
              "  </div>\n",
              "  "
            ]
          },
          "metadata": {},
          "execution_count": 4
        }
      ]
    },
    {
      "cell_type": "markdown",
      "source": [
        "Melihat isi dari dataset untuk lima baris pertamanya"
      ],
      "metadata": {
        "id": "wUHwEPPUhm_w"
      }
    },
    {
      "cell_type": "code",
      "source": [
        "heart_df.info()"
      ],
      "metadata": {
        "colab": {
          "base_uri": "https://localhost:8080/"
        },
        "id": "VW-ANIRpzrp8",
        "outputId": "fd526bff-44b0-4fe2-f486-4858b9139980"
      },
      "execution_count": 5,
      "outputs": [
        {
          "output_type": "stream",
          "name": "stdout",
          "text": [
            "<class 'pandas.core.frame.DataFrame'>\n",
            "RangeIndex: 303 entries, 0 to 302\n",
            "Data columns (total 14 columns):\n",
            " #   Column    Non-Null Count  Dtype  \n",
            "---  ------    --------------  -----  \n",
            " 0   age       303 non-null    int64  \n",
            " 1   sex       303 non-null    int64  \n",
            " 2   cp        303 non-null    int64  \n",
            " 3   trtbps    303 non-null    int64  \n",
            " 4   chol      303 non-null    int64  \n",
            " 5   fbs       303 non-null    int64  \n",
            " 6   restecg   303 non-null    int64  \n",
            " 7   thalachh  303 non-null    int64  \n",
            " 8   exng      303 non-null    int64  \n",
            " 9   oldpeak   303 non-null    float64\n",
            " 10  slp       303 non-null    int64  \n",
            " 11  caa       303 non-null    int64  \n",
            " 12  thall     303 non-null    int64  \n",
            " 13  output    303 non-null    int64  \n",
            "dtypes: float64(1), int64(13)\n",
            "memory usage: 33.3 KB\n"
          ]
        }
      ]
    },
    {
      "cell_type": "markdown",
      "source": [
        "Melihat informasi mengenai dataset yang digunakan, terdiri 303 sampel baris dan 14 kolom yang semua datanya berjenis numerik tanpa data null"
      ],
      "metadata": {
        "id": "ngiQRCUDhxKS"
      }
    },
    {
      "cell_type": "code",
      "source": [
        "heart_df.describe()"
      ],
      "metadata": {
        "colab": {
          "base_uri": "https://localhost:8080/",
          "height": 364
        },
        "id": "YAoJ9efN8Okj",
        "outputId": "61c84ab7-40a1-41e4-a75f-1303e9cddf29"
      },
      "execution_count": 6,
      "outputs": [
        {
          "output_type": "execute_result",
          "data": {
            "text/plain": [
              "              age         sex          cp      trtbps        chol         fbs  \\\n",
              "count  303.000000  303.000000  303.000000  303.000000  303.000000  303.000000   \n",
              "mean    54.366337    0.683168    0.966997  131.623762  246.264026    0.148515   \n",
              "std      9.082101    0.466011    1.032052   17.538143   51.830751    0.356198   \n",
              "min     29.000000    0.000000    0.000000   94.000000  126.000000    0.000000   \n",
              "25%     47.500000    0.000000    0.000000  120.000000  211.000000    0.000000   \n",
              "50%     55.000000    1.000000    1.000000  130.000000  240.000000    0.000000   \n",
              "75%     61.000000    1.000000    2.000000  140.000000  274.500000    0.000000   \n",
              "max     77.000000    1.000000    3.000000  200.000000  564.000000    1.000000   \n",
              "\n",
              "          restecg    thalachh        exng     oldpeak         slp         caa  \\\n",
              "count  303.000000  303.000000  303.000000  303.000000  303.000000  303.000000   \n",
              "mean     0.528053  149.646865    0.326733    1.039604    1.399340    0.729373   \n",
              "std      0.525860   22.905161    0.469794    1.161075    0.616226    1.022606   \n",
              "min      0.000000   71.000000    0.000000    0.000000    0.000000    0.000000   \n",
              "25%      0.000000  133.500000    0.000000    0.000000    1.000000    0.000000   \n",
              "50%      1.000000  153.000000    0.000000    0.800000    1.000000    0.000000   \n",
              "75%      1.000000  166.000000    1.000000    1.600000    2.000000    1.000000   \n",
              "max      2.000000  202.000000    1.000000    6.200000    2.000000    4.000000   \n",
              "\n",
              "            thall      output  \n",
              "count  303.000000  303.000000  \n",
              "mean     2.313531    0.544554  \n",
              "std      0.612277    0.498835  \n",
              "min      0.000000    0.000000  \n",
              "25%      2.000000    0.000000  \n",
              "50%      2.000000    1.000000  \n",
              "75%      3.000000    1.000000  \n",
              "max      3.000000    1.000000  "
            ],
            "text/html": [
              "\n",
              "  <div id=\"df-a14effc7-5696-4534-b0a7-a6938ad6de52\">\n",
              "    <div class=\"colab-df-container\">\n",
              "      <div>\n",
              "<style scoped>\n",
              "    .dataframe tbody tr th:only-of-type {\n",
              "        vertical-align: middle;\n",
              "    }\n",
              "\n",
              "    .dataframe tbody tr th {\n",
              "        vertical-align: top;\n",
              "    }\n",
              "\n",
              "    .dataframe thead th {\n",
              "        text-align: right;\n",
              "    }\n",
              "</style>\n",
              "<table border=\"1\" class=\"dataframe\">\n",
              "  <thead>\n",
              "    <tr style=\"text-align: right;\">\n",
              "      <th></th>\n",
              "      <th>age</th>\n",
              "      <th>sex</th>\n",
              "      <th>cp</th>\n",
              "      <th>trtbps</th>\n",
              "      <th>chol</th>\n",
              "      <th>fbs</th>\n",
              "      <th>restecg</th>\n",
              "      <th>thalachh</th>\n",
              "      <th>exng</th>\n",
              "      <th>oldpeak</th>\n",
              "      <th>slp</th>\n",
              "      <th>caa</th>\n",
              "      <th>thall</th>\n",
              "      <th>output</th>\n",
              "    </tr>\n",
              "  </thead>\n",
              "  <tbody>\n",
              "    <tr>\n",
              "      <th>count</th>\n",
              "      <td>303.000000</td>\n",
              "      <td>303.000000</td>\n",
              "      <td>303.000000</td>\n",
              "      <td>303.000000</td>\n",
              "      <td>303.000000</td>\n",
              "      <td>303.000000</td>\n",
              "      <td>303.000000</td>\n",
              "      <td>303.000000</td>\n",
              "      <td>303.000000</td>\n",
              "      <td>303.000000</td>\n",
              "      <td>303.000000</td>\n",
              "      <td>303.000000</td>\n",
              "      <td>303.000000</td>\n",
              "      <td>303.000000</td>\n",
              "    </tr>\n",
              "    <tr>\n",
              "      <th>mean</th>\n",
              "      <td>54.366337</td>\n",
              "      <td>0.683168</td>\n",
              "      <td>0.966997</td>\n",
              "      <td>131.623762</td>\n",
              "      <td>246.264026</td>\n",
              "      <td>0.148515</td>\n",
              "      <td>0.528053</td>\n",
              "      <td>149.646865</td>\n",
              "      <td>0.326733</td>\n",
              "      <td>1.039604</td>\n",
              "      <td>1.399340</td>\n",
              "      <td>0.729373</td>\n",
              "      <td>2.313531</td>\n",
              "      <td>0.544554</td>\n",
              "    </tr>\n",
              "    <tr>\n",
              "      <th>std</th>\n",
              "      <td>9.082101</td>\n",
              "      <td>0.466011</td>\n",
              "      <td>1.032052</td>\n",
              "      <td>17.538143</td>\n",
              "      <td>51.830751</td>\n",
              "      <td>0.356198</td>\n",
              "      <td>0.525860</td>\n",
              "      <td>22.905161</td>\n",
              "      <td>0.469794</td>\n",
              "      <td>1.161075</td>\n",
              "      <td>0.616226</td>\n",
              "      <td>1.022606</td>\n",
              "      <td>0.612277</td>\n",
              "      <td>0.498835</td>\n",
              "    </tr>\n",
              "    <tr>\n",
              "      <th>min</th>\n",
              "      <td>29.000000</td>\n",
              "      <td>0.000000</td>\n",
              "      <td>0.000000</td>\n",
              "      <td>94.000000</td>\n",
              "      <td>126.000000</td>\n",
              "      <td>0.000000</td>\n",
              "      <td>0.000000</td>\n",
              "      <td>71.000000</td>\n",
              "      <td>0.000000</td>\n",
              "      <td>0.000000</td>\n",
              "      <td>0.000000</td>\n",
              "      <td>0.000000</td>\n",
              "      <td>0.000000</td>\n",
              "      <td>0.000000</td>\n",
              "    </tr>\n",
              "    <tr>\n",
              "      <th>25%</th>\n",
              "      <td>47.500000</td>\n",
              "      <td>0.000000</td>\n",
              "      <td>0.000000</td>\n",
              "      <td>120.000000</td>\n",
              "      <td>211.000000</td>\n",
              "      <td>0.000000</td>\n",
              "      <td>0.000000</td>\n",
              "      <td>133.500000</td>\n",
              "      <td>0.000000</td>\n",
              "      <td>0.000000</td>\n",
              "      <td>1.000000</td>\n",
              "      <td>0.000000</td>\n",
              "      <td>2.000000</td>\n",
              "      <td>0.000000</td>\n",
              "    </tr>\n",
              "    <tr>\n",
              "      <th>50%</th>\n",
              "      <td>55.000000</td>\n",
              "      <td>1.000000</td>\n",
              "      <td>1.000000</td>\n",
              "      <td>130.000000</td>\n",
              "      <td>240.000000</td>\n",
              "      <td>0.000000</td>\n",
              "      <td>1.000000</td>\n",
              "      <td>153.000000</td>\n",
              "      <td>0.000000</td>\n",
              "      <td>0.800000</td>\n",
              "      <td>1.000000</td>\n",
              "      <td>0.000000</td>\n",
              "      <td>2.000000</td>\n",
              "      <td>1.000000</td>\n",
              "    </tr>\n",
              "    <tr>\n",
              "      <th>75%</th>\n",
              "      <td>61.000000</td>\n",
              "      <td>1.000000</td>\n",
              "      <td>2.000000</td>\n",
              "      <td>140.000000</td>\n",
              "      <td>274.500000</td>\n",
              "      <td>0.000000</td>\n",
              "      <td>1.000000</td>\n",
              "      <td>166.000000</td>\n",
              "      <td>1.000000</td>\n",
              "      <td>1.600000</td>\n",
              "      <td>2.000000</td>\n",
              "      <td>1.000000</td>\n",
              "      <td>3.000000</td>\n",
              "      <td>1.000000</td>\n",
              "    </tr>\n",
              "    <tr>\n",
              "      <th>max</th>\n",
              "      <td>77.000000</td>\n",
              "      <td>1.000000</td>\n",
              "      <td>3.000000</td>\n",
              "      <td>200.000000</td>\n",
              "      <td>564.000000</td>\n",
              "      <td>1.000000</td>\n",
              "      <td>2.000000</td>\n",
              "      <td>202.000000</td>\n",
              "      <td>1.000000</td>\n",
              "      <td>6.200000</td>\n",
              "      <td>2.000000</td>\n",
              "      <td>4.000000</td>\n",
              "      <td>3.000000</td>\n",
              "      <td>1.000000</td>\n",
              "    </tr>\n",
              "  </tbody>\n",
              "</table>\n",
              "</div>\n",
              "      <button class=\"colab-df-convert\" onclick=\"convertToInteractive('df-a14effc7-5696-4534-b0a7-a6938ad6de52')\"\n",
              "              title=\"Convert this dataframe to an interactive table.\"\n",
              "              style=\"display:none;\">\n",
              "        \n",
              "  <svg xmlns=\"http://www.w3.org/2000/svg\" height=\"24px\"viewBox=\"0 0 24 24\"\n",
              "       width=\"24px\">\n",
              "    <path d=\"M0 0h24v24H0V0z\" fill=\"none\"/>\n",
              "    <path d=\"M18.56 5.44l.94 2.06.94-2.06 2.06-.94-2.06-.94-.94-2.06-.94 2.06-2.06.94zm-11 1L8.5 8.5l.94-2.06 2.06-.94-2.06-.94L8.5 2.5l-.94 2.06-2.06.94zm10 10l.94 2.06.94-2.06 2.06-.94-2.06-.94-.94-2.06-.94 2.06-2.06.94z\"/><path d=\"M17.41 7.96l-1.37-1.37c-.4-.4-.92-.59-1.43-.59-.52 0-1.04.2-1.43.59L10.3 9.45l-7.72 7.72c-.78.78-.78 2.05 0 2.83L4 21.41c.39.39.9.59 1.41.59.51 0 1.02-.2 1.41-.59l7.78-7.78 2.81-2.81c.8-.78.8-2.07 0-2.86zM5.41 20L4 18.59l7.72-7.72 1.47 1.35L5.41 20z\"/>\n",
              "  </svg>\n",
              "      </button>\n",
              "      \n",
              "  <style>\n",
              "    .colab-df-container {\n",
              "      display:flex;\n",
              "      flex-wrap:wrap;\n",
              "      gap: 12px;\n",
              "    }\n",
              "\n",
              "    .colab-df-convert {\n",
              "      background-color: #E8F0FE;\n",
              "      border: none;\n",
              "      border-radius: 50%;\n",
              "      cursor: pointer;\n",
              "      display: none;\n",
              "      fill: #1967D2;\n",
              "      height: 32px;\n",
              "      padding: 0 0 0 0;\n",
              "      width: 32px;\n",
              "    }\n",
              "\n",
              "    .colab-df-convert:hover {\n",
              "      background-color: #E2EBFA;\n",
              "      box-shadow: 0px 1px 2px rgba(60, 64, 67, 0.3), 0px 1px 3px 1px rgba(60, 64, 67, 0.15);\n",
              "      fill: #174EA6;\n",
              "    }\n",
              "\n",
              "    [theme=dark] .colab-df-convert {\n",
              "      background-color: #3B4455;\n",
              "      fill: #D2E3FC;\n",
              "    }\n",
              "\n",
              "    [theme=dark] .colab-df-convert:hover {\n",
              "      background-color: #434B5C;\n",
              "      box-shadow: 0px 1px 3px 1px rgba(0, 0, 0, 0.15);\n",
              "      filter: drop-shadow(0px 1px 2px rgba(0, 0, 0, 0.3));\n",
              "      fill: #FFFFFF;\n",
              "    }\n",
              "  </style>\n",
              "\n",
              "      <script>\n",
              "        const buttonEl =\n",
              "          document.querySelector('#df-a14effc7-5696-4534-b0a7-a6938ad6de52 button.colab-df-convert');\n",
              "        buttonEl.style.display =\n",
              "          google.colab.kernel.accessAllowed ? 'block' : 'none';\n",
              "\n",
              "        async function convertToInteractive(key) {\n",
              "          const element = document.querySelector('#df-a14effc7-5696-4534-b0a7-a6938ad6de52');\n",
              "          const dataTable =\n",
              "            await google.colab.kernel.invokeFunction('convertToInteractive',\n",
              "                                                     [key], {});\n",
              "          if (!dataTable) return;\n",
              "\n",
              "          const docLinkHtml = 'Like what you see? Visit the ' +\n",
              "            '<a target=\"_blank\" href=https://colab.research.google.com/notebooks/data_table.ipynb>data table notebook</a>'\n",
              "            + ' to learn more about interactive tables.';\n",
              "          element.innerHTML = '';\n",
              "          dataTable['output_type'] = 'display_data';\n",
              "          await google.colab.output.renderOutput(dataTable, element);\n",
              "          const docLink = document.createElement('div');\n",
              "          docLink.innerHTML = docLinkHtml;\n",
              "          element.appendChild(docLink);\n",
              "        }\n",
              "      </script>\n",
              "    </div>\n",
              "  </div>\n",
              "  "
            ]
          },
          "metadata": {},
          "execution_count": 6
        }
      ]
    },
    {
      "cell_type": "markdown",
      "source": [
        "Mencoba untuk melihat statistik deskriptif dari dataset yang digunakan, dari tabel terlihat beberapa fitur memiliki rata rata yang besar dengan standar deviasi yang cukup tinggi, hal ini menandakan bahwa rentang variasi datanya cukup lebar sehingga memungkinkan terdapat outlier di dalam dataset"
      ],
      "metadata": {
        "id": "ZZFUphmpiNF7"
      }
    },
    {
      "cell_type": "markdown",
      "source": [
        "##EDA"
      ],
      "metadata": {
        "id": "pUYODYUUb1SH"
      }
    },
    {
      "cell_type": "code",
      "source": [
        "heart_df.output.value_counts().plot.pie(autopct=('%.2f{}'.format('%%')))"
      ],
      "metadata": {
        "colab": {
          "base_uri": "https://localhost:8080/",
          "height": 265
        },
        "id": "_FEwOME-0YQO",
        "outputId": "16cde5df-a7a8-4a7c-e406-90c72aef9dc5"
      },
      "execution_count": 7,
      "outputs": [
        {
          "output_type": "execute_result",
          "data": {
            "text/plain": [
              "<matplotlib.axes._subplots.AxesSubplot at 0x7fafb212a190>"
            ]
          },
          "metadata": {},
          "execution_count": 7
        },
        {
          "output_type": "display_data",
          "data": {
            "text/plain": [
              "<Figure size 432x288 with 1 Axes>"
            ],
            "image/png": "[encoded data removed]"
          },
          "metadata": {}
        }
      ]
    },
    {
      "cell_type": "markdown",
      "source": [
        "Mencoba melihat perbandingan jumlah data untuk setiap nilai pada fitur target dengan visualisasi pie chart."
      ],
      "metadata": {
        "id": "nqemi9xhjinB"
      }
    },
    {
      "cell_type": "code",
      "source": [
        "heart_df.output.value_counts()"
      ],
      "metadata": {
        "colab": {
          "base_uri": "https://localhost:8080/"
        },
        "id": "rs0W9qC91b6k",
        "outputId": "b1074482-7ba9-4601-9f0f-34a550087992"
      },
      "execution_count": 8,
      "outputs": [
        {
          "output_type": "execute_result",
          "data": {
            "text/plain": [
              "1    165\n",
              "0    138\n",
              "Name: output, dtype: int64"
            ]
          },
          "metadata": {},
          "execution_count": 8
        }
      ]
    },
    {
      "cell_type": "markdown",
      "source": [
        "Melihat secara proporsial jumlah data untuk setiap nilai pada fitur target. Untuk angka 1 sebanyak 165 data yang berarti terdapat 165 orang dengan kemungkinan tinggi terkena serangan jantung dan 0 sebanyak 138 data yang berarti terdapat 138 orang dengan kemungkinan rendah terkena serangan jantung "
      ],
      "metadata": {
        "id": "OrAGsRkLkRyv"
      }
    },
    {
      "cell_type": "code",
      "source": [
        "# Plot histogram untuk masing - masing fitur\n",
        "plt.style.use(\"ggplot\")\n",
        "fig, axs = plt.subplots(3, 5, figsize=(15,10))\n",
        "axs[-1,-1].axis('off')\n",
        "\n",
        "for i, ax in zip(range(14), axs.flat):\n",
        "  sns.distplot(heart_df[heart_df.columns[i]], kde=True, ax=ax)\n",
        "  ax.set_title(heart_df.columns[i])\n",
        "\n",
        "plt.tight_layout()\n",
        "plt.show()"
      ],
      "metadata": {
        "colab": {
          "base_uri": "https://localhost:8080/",
          "height": 646
        },
        "id": "EpFs8yEm1hlo",
        "outputId": "858ef001-8e90-4a30-eab5-41514cab349e"
      },
      "execution_count": 9,
      "outputs": [
        {
          "output_type": "display_data",
          "data": {
            "text/plain": [
              "<Figure size 1080x720 with 15 Axes>"
            ],
            "image/png": "[encoded data removed]"
          },
          "metadata": {}
        }
      ]
    },
    {
      "cell_type": "markdown",
      "source": [
        "Dari subplot histogram tiap fitur yang ditampilkan, terdapat beberapa fitur yang grafiknya cenderung miring, yaitu age, trtbps, chol, thalachh, dan oldpeak. Hal ini menandakan terdapat outlier pada fitur fitur tersebut. Oleh karena itu, selanjutkan akan dicoba untuk menangani outlier tersebut."
      ],
      "metadata": {
        "id": "CKMgQjJilXZm"
      }
    },
    {
      "cell_type": "markdown",
      "source": [
        "##Handle Data Outlier"
      ],
      "metadata": {
        "id": "5VWgHEohb6EN"
      }
    },
    {
      "cell_type": "code",
      "source": [
        "# menghitung IQR untuk menghitung batas outlier\n",
        "lower_boundries = []\n",
        "upper_boundries = []\n",
        "for i in [\"age\", \"trtbps\", \"chol\", \"thalachh\", \"oldpeak\"]:\n",
        "  IQR = heart_df[i].quantile(0.75) - heart_df[i].quantile(0.25)\n",
        "  lower_bound = heart_df[i].quantile(0.25) - (1.5*IQR)\n",
        "  upper_bound = heart_df[i].quantile(0.75) + (1.5*IQR)\n",
        "  \n",
        "  print(i, \":\", lower_bound, \",\",  upper_bound)\n",
        "  \n",
        "  lower_boundries.append(lower_bound)\n",
        "  upper_boundries.append(upper_bound)"
      ],
      "metadata": {
        "colab": {
          "base_uri": "https://localhost:8080/"
        },
        "id": "WENqKtV1MGhX",
        "outputId": "7495ac85-210e-414e-92b9-9c7264fad78f"
      },
      "execution_count": 10,
      "outputs": [
        {
          "output_type": "stream",
          "name": "stdout",
          "text": [
            "age : 27.25 , 81.25\n",
            "trtbps : 90.0 , 170.0\n",
            "chol : 115.75 , 369.75\n",
            "thalachh : 84.75 , 214.75\n",
            "oldpeak : -2.4000000000000004 , 4.0\n"
          ]
        }
      ]
    },
    {
      "cell_type": "markdown",
      "source": [
        "Disini, dihitung IQR(Interquartile Range), yaitu kuartil atas dikurang kuartil bawah. Kemudian, akan digunakan untuk menghitung batas bawah dan batas atas dari tiap fitur yang diperkirakan memiliki outlier. Dengan batas bawahnya didapat dengan cara menghitung kuartil bawah fitur dikurang 1.5*IQR dan batas atasnya didapat dengan cara menghitung kuartil atas fitur dikurang 1.5*IQR. Maka, didapat untuk fitur: \\\n",
        "age (batas bawah = 27.25, batas atas = 81.25) \\\n",
        "trtbps (batas bawah = 90, batas atas = 170) \\\n",
        "chol (batas bawah = 115.75, batas atas = 369.75) \\\n",
        "thalachh (batas bawah = 84.75, batas atas = 214.75) \\\n",
        "oldpeak (batas bawah = -2.4, batas atas = 4)\n",
        "\n",
        "\n",
        "\n"
      ],
      "metadata": {
        "id": "J-M0WF5kmQBB"
      }
    },
    {
      "cell_type": "code",
      "source": [
        "# mengganti nilai outlier dengan nilai batas atas fiturnya\n",
        "j = 0\n",
        "for i in [\"age\", \"trtbps\", \"chol\", \"thalachh\", \"oldpeak\"]:\n",
        "  heart_df.loc[heart_df[i] > upper_boundries[j], i] = int(upper_boundries[j])\n",
        "  j = j + 1  "
      ],
      "metadata": {
        "id": "eKwMhcD9NCHX"
      },
      "execution_count": 11,
      "outputs": []
    },
    {
      "cell_type": "markdown",
      "source": [
        "untuk setiap nilai pada fitur yang terindikasi terdapat outlier, jika nilainya lebih besar dari batas atas fitur tersebut, maka dapat dikatakan bahwa nilai tersebut adalah outlier sehingga dengan program di atas, nilai outlier pada fitur tersebut akan digantikan dengan batas atas fiturnya"
      ],
      "metadata": {
        "id": "0jnRzw4gpKVl"
      }
    },
    {
      "cell_type": "code",
      "source": [
        "# mengganti nilai outlier dengan nilai batas atas fiturnya\n",
        "j = 0\n",
        "for i in [\"age\", \"trtbps\", \"chol\", \"thalachh\", \"oldpeak\"]:\n",
        "  heart_df.loc[heart_df[i] < lower_boundries[j], i] = int(lower_boundries[j])\n",
        "  j = j + 1  "
      ],
      "metadata": {
        "id": "aX9Y3PHqNmtg"
      },
      "execution_count": 12,
      "outputs": []
    },
    {
      "cell_type": "markdown",
      "source": [
        "untuk setiap nilai pada fitur yang terindikasi terdapat outlier, jika nilainya lebih kecil dari batas bawah fitur tersebut, maka dapat dikatakan bahwa nilai tersebut adalah outlier sehingga dengan program di atas, nilai outlier pada fitur tersebut akan digantikan dengan batas bawah fiturnya"
      ],
      "metadata": {
        "id": "jv_u9qtqp1W0"
      }
    },
    {
      "cell_type": "code",
      "source": [
        "heart_df.describe()"
      ],
      "metadata": {
        "colab": {
          "base_uri": "https://localhost:8080/",
          "height": 364
        },
        "id": "fZe0BK7MNzwa",
        "outputId": "cb213844-c6f1-46cb-eed3-af963c23e09c"
      },
      "execution_count": 13,
      "outputs": [
        {
          "output_type": "execute_result",
          "data": {
            "text/plain": [
              "              age         sex          cp      trtbps        chol         fbs  \\\n",
              "count  303.000000  303.000000  303.000000  303.000000  303.000000  303.000000   \n",
              "mean    54.366337    0.683168    0.966997  131.280528  245.122112    0.148515   \n",
              "std      9.082101    0.466011    1.032052   16.582241   47.520455    0.356198   \n",
              "min     29.000000    0.000000    0.000000   94.000000  126.000000    0.000000   \n",
              "25%     47.500000    0.000000    0.000000  120.000000  211.000000    0.000000   \n",
              "50%     55.000000    1.000000    1.000000  130.000000  240.000000    0.000000   \n",
              "75%     61.000000    1.000000    2.000000  140.000000  274.500000    0.000000   \n",
              "max     77.000000    1.000000    3.000000  170.000000  369.000000    1.000000   \n",
              "\n",
              "          restecg    thalachh        exng     oldpeak         slp         caa  \\\n",
              "count  303.000000  303.000000  303.000000  303.000000  303.000000  303.000000   \n",
              "mean     0.528053  149.689769    0.326733    1.024422    1.399340    0.729373   \n",
              "std      0.525860   22.769129    0.469794    1.110127    0.616226    1.022606   \n",
              "min      0.000000   84.000000    0.000000    0.000000    0.000000    0.000000   \n",
              "25%      0.000000  133.500000    0.000000    0.000000    1.000000    0.000000   \n",
              "50%      1.000000  153.000000    0.000000    0.800000    1.000000    0.000000   \n",
              "75%      1.000000  166.000000    1.000000    1.600000    2.000000    1.000000   \n",
              "max      2.000000  202.000000    1.000000    4.000000    2.000000    4.000000   \n",
              "\n",
              "            thall      output  \n",
              "count  303.000000  303.000000  \n",
              "mean     2.313531    0.544554  \n",
              "std      0.612277    0.498835  \n",
              "min      0.000000    0.000000  \n",
              "25%      2.000000    0.000000  \n",
              "50%      2.000000    1.000000  \n",
              "75%      3.000000    1.000000  \n",
              "max      3.000000    1.000000  "
            ],
            "text/html": [
              "\n",
              "  <div id=\"df-04d87fd6-c78d-4675-a597-414a08e589cd\">\n",
              "    <div class=\"colab-df-container\">\n",
              "      <div>\n",
              "<style scoped>\n",
              "    .dataframe tbody tr th:only-of-type {\n",
              "        vertical-align: middle;\n",
              "    }\n",
              "\n",
              "    .dataframe tbody tr th {\n",
              "        vertical-align: top;\n",
              "    }\n",
              "\n",
              "    .dataframe thead th {\n",
              "        text-align: right;\n",
              "    }\n",
              "</style>\n",
              "<table border=\"1\" class=\"dataframe\">\n",
              "  <thead>\n",
              "    <tr style=\"text-align: right;\">\n",
              "      <th></th>\n",
              "      <th>age</th>\n",
              "      <th>sex</th>\n",
              "      <th>cp</th>\n",
              "      <th>trtbps</th>\n",
              "      <th>chol</th>\n",
              "      <th>fbs</th>\n",
              "      <th>restecg</th>\n",
              "      <th>thalachh</th>\n",
              "      <th>exng</th>\n",
              "      <th>oldpeak</th>\n",
              "      <th>slp</th>\n",
              "      <th>caa</th>\n",
              "      <th>thall</th>\n",
              "      <th>output</th>\n",
              "    </tr>\n",
              "  </thead>\n",
              "  <tbody>\n",
              "    <tr>\n",
              "      <th>count</th>\n",
              "      <td>303.000000</td>\n",
              "      <td>303.000000</td>\n",
              "      <td>303.000000</td>\n",
              "      <td>303.000000</td>\n",
              "      <td>303.000000</td>\n",
              "      <td>303.000000</td>\n",
              "      <td>303.000000</td>\n",
              "      <td>303.000000</td>\n",
              "      <td>303.000000</td>\n",
              "      <td>303.000000</td>\n",
              "      <td>303.000000</td>\n",
              "      <td>303.000000</td>\n",
              "      <td>303.000000</td>\n",
              "      <td>303.000000</td>\n",
              "    </tr>\n",
              "    <tr>\n",
              "      <th>mean</th>\n",
              "      <td>54.366337</td>\n",
              "      <td>0.683168</td>\n",
              "      <td>0.966997</td>\n",
              "      <td>131.280528</td>\n",
              "      <td>245.122112</td>\n",
              "      <td>0.148515</td>\n",
              "      <td>0.528053</td>\n",
              "      <td>149.689769</td>\n",
              "      <td>0.326733</td>\n",
              "      <td>1.024422</td>\n",
              "      <td>1.399340</td>\n",
              "      <td>0.729373</td>\n",
              "      <td>2.313531</td>\n",
              "      <td>0.544554</td>\n",
              "    </tr>\n",
              "    <tr>\n",
              "      <th>std</th>\n",
              "      <td>9.082101</td>\n",
              "      <td>0.466011</td>\n",
              "      <td>1.032052</td>\n",
              "      <td>16.582241</td>\n",
              "      <td>47.520455</td>\n",
              "      <td>0.356198</td>\n",
              "      <td>0.525860</td>\n",
              "      <td>22.769129</td>\n",
              "      <td>0.469794</td>\n",
              "      <td>1.110127</td>\n",
              "      <td>0.616226</td>\n",
              "      <td>1.022606</td>\n",
              "      <td>0.612277</td>\n",
              "      <td>0.498835</td>\n",
              "    </tr>\n",
              "    <tr>\n",
              "      <th>min</th>\n",
              "      <td>29.000000</td>\n",
              "      <td>0.000000</td>\n",
              "      <td>0.000000</td>\n",
              "      <td>94.000000</td>\n",
              "      <td>126.000000</td>\n",
              "      <td>0.000000</td>\n",
              "      <td>0.000000</td>\n",
              "      <td>84.000000</td>\n",
              "      <td>0.000000</td>\n",
              "      <td>0.000000</td>\n",
              "      <td>0.000000</td>\n",
              "      <td>0.000000</td>\n",
              "      <td>0.000000</td>\n",
              "      <td>0.000000</td>\n",
              "    </tr>\n",
              "    <tr>\n",
              "      <th>25%</th>\n",
              "      <td>47.500000</td>\n",
              "      <td>0.000000</td>\n",
              "      <td>0.000000</td>\n",
              "      <td>120.000000</td>\n",
              "      <td>211.000000</td>\n",
              "      <td>0.000000</td>\n",
              "      <td>0.000000</td>\n",
              "      <td>133.500000</td>\n",
              "      <td>0.000000</td>\n",
              "      <td>0.000000</td>\n",
              "      <td>1.000000</td>\n",
              "      <td>0.000000</td>\n",
              "      <td>2.000000</td>\n",
              "      <td>0.000000</td>\n",
              "    </tr>\n",
              "    <tr>\n",
              "      <th>50%</th>\n",
              "      <td>55.000000</td>\n",
              "      <td>1.000000</td>\n",
              "      <td>1.000000</td>\n",
              "      <td>130.000000</td>\n",
              "      <td>240.000000</td>\n",
              "      <td>0.000000</td>\n",
              "      <td>1.000000</td>\n",
              "      <td>153.000000</td>\n",
              "      <td>0.000000</td>\n",
              "      <td>0.800000</td>\n",
              "      <td>1.000000</td>\n",
              "      <td>0.000000</td>\n",
              "      <td>2.000000</td>\n",
              "      <td>1.000000</td>\n",
              "    </tr>\n",
              "    <tr>\n",
              "      <th>75%</th>\n",
              "      <td>61.000000</td>\n",
              "      <td>1.000000</td>\n",
              "      <td>2.000000</td>\n",
              "      <td>140.000000</td>\n",
              "      <td>274.500000</td>\n",
              "      <td>0.000000</td>\n",
              "      <td>1.000000</td>\n",
              "      <td>166.000000</td>\n",
              "      <td>1.000000</td>\n",
              "      <td>1.600000</td>\n",
              "      <td>2.000000</td>\n",
              "      <td>1.000000</td>\n",
              "      <td>3.000000</td>\n",
              "      <td>1.000000</td>\n",
              "    </tr>\n",
              "    <tr>\n",
              "      <th>max</th>\n",
              "      <td>77.000000</td>\n",
              "      <td>1.000000</td>\n",
              "      <td>3.000000</td>\n",
              "      <td>170.000000</td>\n",
              "      <td>369.000000</td>\n",
              "      <td>1.000000</td>\n",
              "      <td>2.000000</td>\n",
              "      <td>202.000000</td>\n",
              "      <td>1.000000</td>\n",
              "      <td>4.000000</td>\n",
              "      <td>2.000000</td>\n",
              "      <td>4.000000</td>\n",
              "      <td>3.000000</td>\n",
              "      <td>1.000000</td>\n",
              "    </tr>\n",
              "  </tbody>\n",
              "</table>\n",
              "</div>\n",
              "      <button class=\"colab-df-convert\" onclick=\"convertToInteractive('df-04d87fd6-c78d-4675-a597-414a08e589cd')\"\n",
              "              title=\"Convert this dataframe to an interactive table.\"\n",
              "              style=\"display:none;\">\n",
              "        \n",
              "  <svg xmlns=\"http://www.w3.org/2000/svg\" height=\"24px\"viewBox=\"0 0 24 24\"\n",
              "       width=\"24px\">\n",
              "    <path d=\"M0 0h24v24H0V0z\" fill=\"none\"/>\n",
              "    <path d=\"M18.56 5.44l.94 2.06.94-2.06 2.06-.94-2.06-.94-.94-2.06-.94 2.06-2.06.94zm-11 1L8.5 8.5l.94-2.06 2.06-.94-2.06-.94L8.5 2.5l-.94 2.06-2.06.94zm10 10l.94 2.06.94-2.06 2.06-.94-2.06-.94-.94-2.06-.94 2.06-2.06.94z\"/><path d=\"M17.41 7.96l-1.37-1.37c-.4-.4-.92-.59-1.43-.59-.52 0-1.04.2-1.43.59L10.3 9.45l-7.72 7.72c-.78.78-.78 2.05 0 2.83L4 21.41c.39.39.9.59 1.41.59.51 0 1.02-.2 1.41-.59l7.78-7.78 2.81-2.81c.8-.78.8-2.07 0-2.86zM5.41 20L4 18.59l7.72-7.72 1.47 1.35L5.41 20z\"/>\n",
              "  </svg>\n",
              "      </button>\n",
              "      \n",
              "  <style>\n",
              "    .colab-df-container {\n",
              "      display:flex;\n",
              "      flex-wrap:wrap;\n",
              "      gap: 12px;\n",
              "    }\n",
              "\n",
              "    .colab-df-convert {\n",
              "      background-color: #E8F0FE;\n",
              "      border: none;\n",
              "      border-radius: 50%;\n",
              "      cursor: pointer;\n",
              "      display: none;\n",
              "      fill: #1967D2;\n",
              "      height: 32px;\n",
              "      padding: 0 0 0 0;\n",
              "      width: 32px;\n",
              "    }\n",
              "\n",
              "    .colab-df-convert:hover {\n",
              "      background-color: #E2EBFA;\n",
              "      box-shadow: 0px 1px 2px rgba(60, 64, 67, 0.3), 0px 1px 3px 1px rgba(60, 64, 67, 0.15);\n",
              "      fill: #174EA6;\n",
              "    }\n",
              "\n",
              "    [theme=dark] .colab-df-convert {\n",
              "      background-color: #3B4455;\n",
              "      fill: #D2E3FC;\n",
              "    }\n",
              "\n",
              "    [theme=dark] .colab-df-convert:hover {\n",
              "      background-color: #434B5C;\n",
              "      box-shadow: 0px 1px 3px 1px rgba(0, 0, 0, 0.15);\n",
              "      filter: drop-shadow(0px 1px 2px rgba(0, 0, 0, 0.3));\n",
              "      fill: #FFFFFF;\n",
              "    }\n",
              "  </style>\n",
              "\n",
              "      <script>\n",
              "        const buttonEl =\n",
              "          document.querySelector('#df-04d87fd6-c78d-4675-a597-414a08e589cd button.colab-df-convert');\n",
              "        buttonEl.style.display =\n",
              "          google.colab.kernel.accessAllowed ? 'block' : 'none';\n",
              "\n",
              "        async function convertToInteractive(key) {\n",
              "          const element = document.querySelector('#df-04d87fd6-c78d-4675-a597-414a08e589cd');\n",
              "          const dataTable =\n",
              "            await google.colab.kernel.invokeFunction('convertToInteractive',\n",
              "                                                     [key], {});\n",
              "          if (!dataTable) return;\n",
              "\n",
              "          const docLinkHtml = 'Like what you see? Visit the ' +\n",
              "            '<a target=\"_blank\" href=https://colab.research.google.com/notebooks/data_table.ipynb>data table notebook</a>'\n",
              "            + ' to learn more about interactive tables.';\n",
              "          element.innerHTML = '';\n",
              "          dataTable['output_type'] = 'display_data';\n",
              "          await google.colab.output.renderOutput(dataTable, element);\n",
              "          const docLink = document.createElement('div');\n",
              "          docLink.innerHTML = docLinkHtml;\n",
              "          element.appendChild(docLink);\n",
              "        }\n",
              "      </script>\n",
              "    </div>\n",
              "  </div>\n",
              "  "
            ]
          },
          "metadata": {},
          "execution_count": 13
        }
      ]
    },
    {
      "cell_type": "markdown",
      "source": [
        "Mencoba untuk melihat kembali statistik deskriptif dataset tersebut setelah outliernya sudah digantinkan dengan data baru, terlihat bahwa untuk rata-rata beberapa fitur yang terdapat outlier sebelumnya, sekarang sudah mengalami penurunan dan untuk standar deviasinya juga mengalami penurunan yang menandakan rentang variasi datanya sudah tidak terlalu lebar."
      ],
      "metadata": {
        "id": "k3mRRowCp_W0"
      }
    },
    {
      "cell_type": "markdown",
      "source": [
        "##OneHotEncoding Manual"
      ],
      "metadata": {
        "id": "t_krqh4LcBO4"
      }
    },
    {
      "cell_type": "code",
      "source": [
        "cat_var = ['cp','fbs','restecg','exng','slp','caa','thall']\n",
        "data_cat = heart_df[cat_var].copy()\n",
        "data_cat = pd.get_dummies(data_cat,columns=cat_var)\n",
        "heart_df = pd.concat([heart_df, data_cat],axis=1)\n",
        "heart_df.drop(columns=cat_var,inplace=True)"
      ],
      "metadata": {
        "id": "cSQqcphbcOKw"
      },
      "execution_count": 14,
      "outputs": []
    },
    {
      "cell_type": "markdown",
      "source": [
        "Disini dilakukan OneHotEncoding untuk data kategorik yang sudah dijadikan numerik, tetapi secara manual, yaitu dengan cara menambahkan data dummy baru yang disesuaikan dengan fitur kolom yang ada pada dataset yang dimana memetakan nilai pada fitur dengan angka 1 jika iya dan 0 jika bukan. Sebagai cth dapat dilihat pada tabel dibawah, fitur cp terdiri dari 4 nilai kategorik yg sudah jadi numerik, jika kita tambahkan data dummy, maka akan terdapat 4 kolom baru yang memetakan nilai dari cp. Untuk baris pertama, karena cp bernilai 3 maka akan dipetakan untuk 4 kolom tadi bahwa cp_0:0, cp_1:0, cp_2:0, cp_3:1. Setelah semua nilai pada fitur data kategorik sudah dipetakan pada data dummy, maka kolom aslinya bisa di drop atau dihilangkan, karena sudah direpresentasikan oleh data dummy tersebut."
      ],
      "metadata": {
        "id": "ObRcNXJCrHKZ"
      }
    },
    {
      "cell_type": "code",
      "source": [
        "heart_df.head()"
      ],
      "metadata": {
        "colab": {
          "base_uri": "https://localhost:8080/",
          "height": 300
        },
        "id": "zAJre1XieU-4",
        "outputId": "934a4636-4505-494e-ea1e-c2fc56976922"
      },
      "execution_count": 15,
      "outputs": [
        {
          "output_type": "execute_result",
          "data": {
            "text/plain": [
              "   age  sex  trtbps  chol  thalachh  oldpeak  output  cp_0  cp_1  cp_2  ...  \\\n",
              "0   63    1     145   233       150      2.3       1     0     0     0  ...   \n",
              "1   37    1     130   250       187      3.5       1     0     0     1  ...   \n",
              "2   41    0     130   204       172      1.4       1     0     1     0  ...   \n",
              "3   56    1     120   236       178      0.8       1     0     1     0  ...   \n",
              "4   57    0     120   354       163      0.6       1     1     0     0  ...   \n",
              "\n",
              "   slp_2  caa_0  caa_1  caa_2  caa_3  caa_4  thall_0  thall_1  thall_2  \\\n",
              "0      0      1      0      0      0      0        0        1        0   \n",
              "1      0      1      0      0      0      0        0        0        1   \n",
              "2      1      1      0      0      0      0        0        0        1   \n",
              "3      1      1      0      0      0      0        0        0        1   \n",
              "4      1      1      0      0      0      0        0        0        1   \n",
              "\n",
              "   thall_3  \n",
              "0        0  \n",
              "1        0  \n",
              "2        0  \n",
              "3        0  \n",
              "4        0  \n",
              "\n",
              "[5 rows x 30 columns]"
            ],
            "text/html": [
              "\n",
              "  <div id=\"df-f7ddf9b9-1b74-40a9-aed2-fb34edc07b2f\">\n",
              "    <div class=\"colab-df-container\">\n",
              "      <div>\n",
              "<style scoped>\n",
              "    .dataframe tbody tr th:only-of-type {\n",
              "        vertical-align: middle;\n",
              "    }\n",
              "\n",
              "    .dataframe tbody tr th {\n",
              "        vertical-align: top;\n",
              "    }\n",
              "\n",
              "    .dataframe thead th {\n",
              "        text-align: right;\n",
              "    }\n",
              "</style>\n",
              "<table border=\"1\" class=\"dataframe\">\n",
              "  <thead>\n",
              "    <tr style=\"text-align: right;\">\n",
              "      <th></th>\n",
              "      <th>age</th>\n",
              "      <th>sex</th>\n",
              "      <th>trtbps</th>\n",
              "      <th>chol</th>\n",
              "      <th>thalachh</th>\n",
              "      <th>oldpeak</th>\n",
              "      <th>output</th>\n",
              "      <th>cp_0</th>\n",
              "      <th>cp_1</th>\n",
              "      <th>cp_2</th>\n",
              "      <th>...</th>\n",
              "      <th>slp_2</th>\n",
              "      <th>caa_0</th>\n",
              "      <th>caa_1</th>\n",
              "      <th>caa_2</th>\n",
              "      <th>caa_3</th>\n",
              "      <th>caa_4</th>\n",
              "      <th>thall_0</th>\n",
              "      <th>thall_1</th>\n",
              "      <th>thall_2</th>\n",
              "      <th>thall_3</th>\n",
              "    </tr>\n",
              "  </thead>\n",
              "  <tbody>\n",
              "    <tr>\n",
              "      <th>0</th>\n",
              "      <td>63</td>\n",
              "      <td>1</td>\n",
              "      <td>145</td>\n",
              "      <td>233</td>\n",
              "      <td>150</td>\n",
              "      <td>2.3</td>\n",
              "      <td>1</td>\n",
              "      <td>0</td>\n",
              "      <td>0</td>\n",
              "      <td>0</td>\n",
              "      <td>...</td>\n",
              "      <td>0</td>\n",
              "      <td>1</td>\n",
              "      <td>0</td>\n",
              "      <td>0</td>\n",
              "      <td>0</td>\n",
              "      <td>0</td>\n",
              "      <td>0</td>\n",
              "      <td>1</td>\n",
              "      <td>0</td>\n",
              "      <td>0</td>\n",
              "    </tr>\n",
              "    <tr>\n",
              "      <th>1</th>\n",
              "      <td>37</td>\n",
              "      <td>1</td>\n",
              "      <td>130</td>\n",
              "      <td>250</td>\n",
              "      <td>187</td>\n",
              "      <td>3.5</td>\n",
              "      <td>1</td>\n",
              "      <td>0</td>\n",
              "      <td>0</td>\n",
              "      <td>1</td>\n",
              "      <td>...</td>\n",
              "      <td>0</td>\n",
              "      <td>1</td>\n",
              "      <td>0</td>\n",
              "      <td>0</td>\n",
              "      <td>0</td>\n",
              "      <td>0</td>\n",
              "      <td>0</td>\n",
              "      <td>0</td>\n",
              "      <td>1</td>\n",
              "      <td>0</td>\n",
              "    </tr>\n",
              "    <tr>\n",
              "      <th>2</th>\n",
              "      <td>41</td>\n",
              "      <td>0</td>\n",
              "      <td>130</td>\n",
              "      <td>204</td>\n",
              "      <td>172</td>\n",
              "      <td>1.4</td>\n",
              "      <td>1</td>\n",
              "      <td>0</td>\n",
              "      <td>1</td>\n",
              "      <td>0</td>\n",
              "      <td>...</td>\n",
              "      <td>1</td>\n",
              "      <td>1</td>\n",
              "      <td>0</td>\n",
              "      <td>0</td>\n",
              "      <td>0</td>\n",
              "      <td>0</td>\n",
              "      <td>0</td>\n",
              "      <td>0</td>\n",
              "      <td>1</td>\n",
              "      <td>0</td>\n",
              "    </tr>\n",
              "    <tr>\n",
              "      <th>3</th>\n",
              "      <td>56</td>\n",
              "      <td>1</td>\n",
              "      <td>120</td>\n",
              "      <td>236</td>\n",
              "      <td>178</td>\n",
              "      <td>0.8</td>\n",
              "      <td>1</td>\n",
              "      <td>0</td>\n",
              "      <td>1</td>\n",
              "      <td>0</td>\n",
              "      <td>...</td>\n",
              "      <td>1</td>\n",
              "      <td>1</td>\n",
              "      <td>0</td>\n",
              "      <td>0</td>\n",
              "      <td>0</td>\n",
              "      <td>0</td>\n",
              "      <td>0</td>\n",
              "      <td>0</td>\n",
              "      <td>1</td>\n",
              "      <td>0</td>\n",
              "    </tr>\n",
              "    <tr>\n",
              "      <th>4</th>\n",
              "      <td>57</td>\n",
              "      <td>0</td>\n",
              "      <td>120</td>\n",
              "      <td>354</td>\n",
              "      <td>163</td>\n",
              "      <td>0.6</td>\n",
              "      <td>1</td>\n",
              "      <td>1</td>\n",
              "      <td>0</td>\n",
              "      <td>0</td>\n",
              "      <td>...</td>\n",
              "      <td>1</td>\n",
              "      <td>1</td>\n",
              "      <td>0</td>\n",
              "      <td>0</td>\n",
              "      <td>0</td>\n",
              "      <td>0</td>\n",
              "      <td>0</td>\n",
              "      <td>0</td>\n",
              "      <td>1</td>\n",
              "      <td>0</td>\n",
              "    </tr>\n",
              "  </tbody>\n",
              "</table>\n",
              "<p>5 rows × 30 columns</p>\n",
              "</div>\n",
              "      <button class=\"colab-df-convert\" onclick=\"convertToInteractive('df-f7ddf9b9-1b74-40a9-aed2-fb34edc07b2f')\"\n",
              "              title=\"Convert this dataframe to an interactive table.\"\n",
              "              style=\"display:none;\">\n",
              "        \n",
              "  <svg xmlns=\"http://www.w3.org/2000/svg\" height=\"24px\"viewBox=\"0 0 24 24\"\n",
              "       width=\"24px\">\n",
              "    <path d=\"M0 0h24v24H0V0z\" fill=\"none\"/>\n",
              "    <path d=\"M18.56 5.44l.94 2.06.94-2.06 2.06-.94-2.06-.94-.94-2.06-.94 2.06-2.06.94zm-11 1L8.5 8.5l.94-2.06 2.06-.94-2.06-.94L8.5 2.5l-.94 2.06-2.06.94zm10 10l.94 2.06.94-2.06 2.06-.94-2.06-.94-.94-2.06-.94 2.06-2.06.94z\"/><path d=\"M17.41 7.96l-1.37-1.37c-.4-.4-.92-.59-1.43-.59-.52 0-1.04.2-1.43.59L10.3 9.45l-7.72 7.72c-.78.78-.78 2.05 0 2.83L4 21.41c.39.39.9.59 1.41.59.51 0 1.02-.2 1.41-.59l7.78-7.78 2.81-2.81c.8-.78.8-2.07 0-2.86zM5.41 20L4 18.59l7.72-7.72 1.47 1.35L5.41 20z\"/>\n",
              "  </svg>\n",
              "      </button>\n",
              "      \n",
              "  <style>\n",
              "    .colab-df-container {\n",
              "      display:flex;\n",
              "      flex-wrap:wrap;\n",
              "      gap: 12px;\n",
              "    }\n",
              "\n",
              "    .colab-df-convert {\n",
              "      background-color: #E8F0FE;\n",
              "      border: none;\n",
              "      border-radius: 50%;\n",
              "      cursor: pointer;\n",
              "      display: none;\n",
              "      fill: #1967D2;\n",
              "      height: 32px;\n",
              "      padding: 0 0 0 0;\n",
              "      width: 32px;\n",
              "    }\n",
              "\n",
              "    .colab-df-convert:hover {\n",
              "      background-color: #E2EBFA;\n",
              "      box-shadow: 0px 1px 2px rgba(60, 64, 67, 0.3), 0px 1px 3px 1px rgba(60, 64, 67, 0.15);\n",
              "      fill: #174EA6;\n",
              "    }\n",
              "\n",
              "    [theme=dark] .colab-df-convert {\n",
              "      background-color: #3B4455;\n",
              "      fill: #D2E3FC;\n",
              "    }\n",
              "\n",
              "    [theme=dark] .colab-df-convert:hover {\n",
              "      background-color: #434B5C;\n",
              "      box-shadow: 0px 1px 3px 1px rgba(0, 0, 0, 0.15);\n",
              "      filter: drop-shadow(0px 1px 2px rgba(0, 0, 0, 0.3));\n",
              "      fill: #FFFFFF;\n",
              "    }\n",
              "  </style>\n",
              "\n",
              "      <script>\n",
              "        const buttonEl =\n",
              "          document.querySelector('#df-f7ddf9b9-1b74-40a9-aed2-fb34edc07b2f button.colab-df-convert');\n",
              "        buttonEl.style.display =\n",
              "          google.colab.kernel.accessAllowed ? 'block' : 'none';\n",
              "\n",
              "        async function convertToInteractive(key) {\n",
              "          const element = document.querySelector('#df-f7ddf9b9-1b74-40a9-aed2-fb34edc07b2f');\n",
              "          const dataTable =\n",
              "            await google.colab.kernel.invokeFunction('convertToInteractive',\n",
              "                                                     [key], {});\n",
              "          if (!dataTable) return;\n",
              "\n",
              "          const docLinkHtml = 'Like what you see? Visit the ' +\n",
              "            '<a target=\"_blank\" href=https://colab.research.google.com/notebooks/data_table.ipynb>data table notebook</a>'\n",
              "            + ' to learn more about interactive tables.';\n",
              "          element.innerHTML = '';\n",
              "          dataTable['output_type'] = 'display_data';\n",
              "          await google.colab.output.renderOutput(dataTable, element);\n",
              "          const docLink = document.createElement('div');\n",
              "          docLink.innerHTML = docLinkHtml;\n",
              "          element.appendChild(docLink);\n",
              "        }\n",
              "      </script>\n",
              "    </div>\n",
              "  </div>\n",
              "  "
            ]
          },
          "metadata": {},
          "execution_count": 15
        }
      ]
    },
    {
      "cell_type": "markdown",
      "source": [
        "Melihat dataset yang sudah dilakukan OneHotEncoding secara manual, cara lain bisa menggunakan module OneHotEncoding dari package sklearn.preprocessing"
      ],
      "metadata": {
        "id": "nTqJOjfDufkQ"
      }
    },
    {
      "cell_type": "markdown",
      "source": [
        "##Selection Features"
      ],
      "metadata": {
        "id": "I3z_aFsmcKO7"
      }
    },
    {
      "cell_type": "code",
      "source": [
        "# feature variables\n",
        "X = heart_df.drop('output', axis=1)\n",
        "\n",
        "# target variable\n",
        "y = heart_df['output'].copy()"
      ],
      "metadata": {
        "id": "R8YyqbBI4Jg0"
      },
      "execution_count": 16,
      "outputs": []
    },
    {
      "cell_type": "markdown",
      "source": [
        "Akan dislicing fitur-fitur yang menjadi fitur target dan fitur pendukung."
      ],
      "metadata": {
        "id": "qgMeTkm7vII_"
      }
    },
    {
      "cell_type": "markdown",
      "source": [
        "##Scaling Dataset"
      ],
      "metadata": {
        "id": "eKFXeFNScQG4"
      }
    },
    {
      "cell_type": "code",
      "source": [
        "#Scaling dataset\n",
        "std_scale = StandardScaler()\n",
        "X.iloc[:,:] = std_scale.fit_transform(X)\n",
        "X"
      ],
      "metadata": {
        "colab": {
          "base_uri": "https://localhost:8080/",
          "height": 488
        },
        "id": "DH3lhJAhBryS",
        "outputId": "1151489d-386b-4bd2-ca21-494cbaa92260"
      },
      "execution_count": 17,
      "outputs": [
        {
          "output_type": "execute_result",
          "data": {
            "text/plain": [
              "          age       sex    trtbps      chol  thalachh   oldpeak      cp_0  \\\n",
              "0    0.952197  0.681005  0.828728 -0.255515  0.013648  1.150938 -0.945384   \n",
              "1   -1.915313  0.681005 -0.077351  0.102818  1.641343  2.233684 -0.945384   \n",
              "2   -1.474158 -1.468418 -0.077351 -0.866788  0.981467  0.338879 -0.945384   \n",
              "3    0.180175  0.681005 -0.681403 -0.192279  1.245417 -0.202494 -0.945384   \n",
              "4    0.290464 -1.468418 -0.681403  2.294970  0.585541 -0.382951  1.057772   \n",
              "..        ...       ...       ...       ...       ...       ...       ...   \n",
              "298  0.290464 -1.468418  0.526702 -0.086887 -1.174130 -0.743867  1.057772   \n",
              "299 -1.033002  0.681005 -1.285455  0.397915 -0.778204  0.158422 -0.945384   \n",
              "300  1.503641  0.681005  0.768323 -1.098650 -0.382278  2.143455  1.057772   \n",
              "301  0.290464  0.681005 -0.077351 -2.405509 -1.526064  0.158422  1.057772   \n",
              "302  0.290464 -1.468418 -0.077351 -0.192279  1.069450 -0.924324 -0.945384   \n",
              "\n",
              "         cp_1      cp_2      cp_3  ...     slp_2     caa_0     caa_1  \\\n",
              "0   -0.444554 -0.634648  3.489114  ... -0.939142  0.855236 -0.522599   \n",
              "1   -0.444554  1.575677 -0.286606  ... -0.939142  0.855236 -0.522599   \n",
              "2    2.249444 -0.634648 -0.286606  ...  1.064802  0.855236 -0.522599   \n",
              "3    2.249444 -0.634648 -0.286606  ...  1.064802  0.855236 -0.522599   \n",
              "4   -0.444554 -0.634648 -0.286606  ...  1.064802  0.855236 -0.522599   \n",
              "..        ...       ...       ...  ...       ...       ...       ...   \n",
              "298 -0.444554 -0.634648 -0.286606  ... -0.939142  0.855236 -0.522599   \n",
              "299 -0.444554 -0.634648  3.489114  ... -0.939142  0.855236 -0.522599   \n",
              "300 -0.444554 -0.634648 -0.286606  ... -0.939142 -1.169268 -0.522599   \n",
              "301 -0.444554 -0.634648 -0.286606  ... -0.939142 -1.169268  1.913515   \n",
              "302  2.249444 -0.634648 -0.286606  ... -0.939142 -1.169268  1.913515   \n",
              "\n",
              "        caa_2     caa_3     caa_4   thall_0   thall_1   thall_2   thall_3  \n",
              "0   -0.378677 -0.265841 -0.129532 -0.081514  3.979112 -1.100763 -0.793116  \n",
              "1   -0.378677 -0.265841 -0.129532 -0.081514 -0.251312  0.908461 -0.793116  \n",
              "2   -0.378677 -0.265841 -0.129532 -0.081514 -0.251312  0.908461 -0.793116  \n",
              "3   -0.378677 -0.265841 -0.129532 -0.081514 -0.251312  0.908461 -0.793116  \n",
              "4   -0.378677 -0.265841 -0.129532 -0.081514 -0.251312  0.908461 -0.793116  \n",
              "..        ...       ...       ...       ...       ...       ...       ...  \n",
              "298 -0.378677 -0.265841 -0.129532 -0.081514 -0.251312 -1.100763  1.260850  \n",
              "299 -0.378677 -0.265841 -0.129532 -0.081514 -0.251312 -1.100763  1.260850  \n",
              "300  2.640773 -0.265841 -0.129532 -0.081514 -0.251312 -1.100763  1.260850  \n",
              "301 -0.378677 -0.265841 -0.129532 -0.081514 -0.251312 -1.100763  1.260850  \n",
              "302 -0.378677 -0.265841 -0.129532 -0.081514 -0.251312  0.908461 -0.793116  \n",
              "\n",
              "[303 rows x 29 columns]"
            ],
            "text/html": [
              "\n",
              "  <div id=\"df-c9a6f90a-2d69-4e1c-98b5-8253940fea9c\">\n",
              "    <div class=\"colab-df-container\">\n",
              "      <div>\n",
              "<style scoped>\n",
              "    .dataframe tbody tr th:only-of-type {\n",
              "        vertical-align: middle;\n",
              "    }\n",
              "\n",
              "    .dataframe tbody tr th {\n",
              "        vertical-align: top;\n",
              "    }\n",
              "\n",
              "    .dataframe thead th {\n",
              "        text-align: right;\n",
              "    }\n",
              "</style>\n",
              "<table border=\"1\" class=\"dataframe\">\n",
              "  <thead>\n",
              "    <tr style=\"text-align: right;\">\n",
              "      <th></th>\n",
              "      <th>age</th>\n",
              "      <th>sex</th>\n",
              "      <th>trtbps</th>\n",
              "      <th>chol</th>\n",
              "      <th>thalachh</th>\n",
              "      <th>oldpeak</th>\n",
              "      <th>cp_0</th>\n",
              "      <th>cp_1</th>\n",
              "      <th>cp_2</th>\n",
              "      <th>cp_3</th>\n",
              "      <th>...</th>\n",
              "      <th>slp_2</th>\n",
              "      <th>caa_0</th>\n",
              "      <th>caa_1</th>\n",
              "      <th>caa_2</th>\n",
              "      <th>caa_3</th>\n",
              "      <th>caa_4</th>\n",
              "      <th>thall_0</th>\n",
              "      <th>thall_1</th>\n",
              "      <th>thall_2</th>\n",
              "      <th>thall_3</th>\n",
              "    </tr>\n",
              "  </thead>\n",
              "  <tbody>\n",
              "    <tr>\n",
              "      <th>0</th>\n",
              "      <td>0.952197</td>\n",
              "      <td>0.681005</td>\n",
              "      <td>0.828728</td>\n",
              "      <td>-0.255515</td>\n",
              "      <td>0.013648</td>\n",
              "      <td>1.150938</td>\n",
              "      <td>-0.945384</td>\n",
              "      <td>-0.444554</td>\n",
              "      <td>-0.634648</td>\n",
              "      <td>3.489114</td>\n",
              "      <td>...</td>\n",
              "      <td>-0.939142</td>\n",
              "      <td>0.855236</td>\n",
              "      <td>-0.522599</td>\n",
              "      <td>-0.378677</td>\n",
              "      <td>-0.265841</td>\n",
              "      <td>-0.129532</td>\n",
              "      <td>-0.081514</td>\n",
              "      <td>3.979112</td>\n",
              "      <td>-1.100763</td>\n",
              "      <td>-0.793116</td>\n",
              "    </tr>\n",
              "    <tr>\n",
              "      <th>1</th>\n",
              "      <td>-1.915313</td>\n",
              "      <td>0.681005</td>\n",
              "      <td>-0.077351</td>\n",
              "      <td>0.102818</td>\n",
              "      <td>1.641343</td>\n",
              "      <td>2.233684</td>\n",
              "      <td>-0.945384</td>\n",
              "      <td>-0.444554</td>\n",
              "      <td>1.575677</td>\n",
              "      <td>-0.286606</td>\n",
              "      <td>...</td>\n",
              "      <td>-0.939142</td>\n",
              "      <td>0.855236</td>\n",
              "      <td>-0.522599</td>\n",
              "      <td>-0.378677</td>\n",
              "      <td>-0.265841</td>\n",
              "      <td>-0.129532</td>\n",
              "      <td>-0.081514</td>\n",
              "      <td>-0.251312</td>\n",
              "      <td>0.908461</td>\n",
              "      <td>-0.793116</td>\n",
              "    </tr>\n",
              "    <tr>\n",
              "      <th>2</th>\n",
              "      <td>-1.474158</td>\n",
              "      <td>-1.468418</td>\n",
              "      <td>-0.077351</td>\n",
              "      <td>-0.866788</td>\n",
              "      <td>0.981467</td>\n",
              "      <td>0.338879</td>\n",
              "      <td>-0.945384</td>\n",
              "      <td>2.249444</td>\n",
              "      <td>-0.634648</td>\n",
              "      <td>-0.286606</td>\n",
              "      <td>...</td>\n",
              "      <td>1.064802</td>\n",
              "      <td>0.855236</td>\n",
              "      <td>-0.522599</td>\n",
              "      <td>-0.378677</td>\n",
              "      <td>-0.265841</td>\n",
              "      <td>-0.129532</td>\n",
              "      <td>-0.081514</td>\n",
              "      <td>-0.251312</td>\n",
              "      <td>0.908461</td>\n",
              "      <td>-0.793116</td>\n",
              "    </tr>\n",
              "    <tr>\n",
              "      <th>3</th>\n",
              "      <td>0.180175</td>\n",
              "      <td>0.681005</td>\n",
              "      <td>-0.681403</td>\n",
              "      <td>-0.192279</td>\n",
              "      <td>1.245417</td>\n",
              "      <td>-0.202494</td>\n",
              "      <td>-0.945384</td>\n",
              "      <td>2.249444</td>\n",
              "      <td>-0.634648</td>\n",
              "      <td>-0.286606</td>\n",
              "      <td>...</td>\n",
              "      <td>1.064802</td>\n",
              "      <td>0.855236</td>\n",
              "      <td>-0.522599</td>\n",
              "      <td>-0.378677</td>\n",
              "      <td>-0.265841</td>\n",
              "      <td>-0.129532</td>\n",
              "      <td>-0.081514</td>\n",
              "      <td>-0.251312</td>\n",
              "      <td>0.908461</td>\n",
              "      <td>-0.793116</td>\n",
              "    </tr>\n",
              "    <tr>\n",
              "      <th>4</th>\n",
              "      <td>0.290464</td>\n",
              "      <td>-1.468418</td>\n",
              "      <td>-0.681403</td>\n",
              "      <td>2.294970</td>\n",
              "      <td>0.585541</td>\n",
              "      <td>-0.382951</td>\n",
              "      <td>1.057772</td>\n",
              "      <td>-0.444554</td>\n",
              "      <td>-0.634648</td>\n",
              "      <td>-0.286606</td>\n",
              "      <td>...</td>\n",
              "      <td>1.064802</td>\n",
              "      <td>0.855236</td>\n",
              "      <td>-0.522599</td>\n",
              "      <td>-0.378677</td>\n",
              "      <td>-0.265841</td>\n",
              "      <td>-0.129532</td>\n",
              "      <td>-0.081514</td>\n",
              "      <td>-0.251312</td>\n",
              "      <td>0.908461</td>\n",
              "      <td>-0.793116</td>\n",
              "    </tr>\n",
              "    <tr>\n",
              "      <th>...</th>\n",
              "      <td>...</td>\n",
              "      <td>...</td>\n",
              "      <td>...</td>\n",
              "      <td>...</td>\n",
              "      <td>...</td>\n",
              "      <td>...</td>\n",
              "      <td>...</td>\n",
              "      <td>...</td>\n",
              "      <td>...</td>\n",
              "      <td>...</td>\n",
              "      <td>...</td>\n",
              "      <td>...</td>\n",
              "      <td>...</td>\n",
              "      <td>...</td>\n",
              "      <td>...</td>\n",
              "      <td>...</td>\n",
              "      <td>...</td>\n",
              "      <td>...</td>\n",
              "      <td>...</td>\n",
              "      <td>...</td>\n",
              "      <td>...</td>\n",
              "    </tr>\n",
              "    <tr>\n",
              "      <th>298</th>\n",
              "      <td>0.290464</td>\n",
              "      <td>-1.468418</td>\n",
              "      <td>0.526702</td>\n",
              "      <td>-0.086887</td>\n",
              "      <td>-1.174130</td>\n",
              "      <td>-0.743867</td>\n",
              "      <td>1.057772</td>\n",
              "      <td>-0.444554</td>\n",
              "      <td>-0.634648</td>\n",
              "      <td>-0.286606</td>\n",
              "      <td>...</td>\n",
              "      <td>-0.939142</td>\n",
              "      <td>0.855236</td>\n",
              "      <td>-0.522599</td>\n",
              "      <td>-0.378677</td>\n",
              "      <td>-0.265841</td>\n",
              "      <td>-0.129532</td>\n",
              "      <td>-0.081514</td>\n",
              "      <td>-0.251312</td>\n",
              "      <td>-1.100763</td>\n",
              "      <td>1.260850</td>\n",
              "    </tr>\n",
              "    <tr>\n",
              "      <th>299</th>\n",
              "      <td>-1.033002</td>\n",
              "      <td>0.681005</td>\n",
              "      <td>-1.285455</td>\n",
              "      <td>0.397915</td>\n",
              "      <td>-0.778204</td>\n",
              "      <td>0.158422</td>\n",
              "      <td>-0.945384</td>\n",
              "      <td>-0.444554</td>\n",
              "      <td>-0.634648</td>\n",
              "      <td>3.489114</td>\n",
              "      <td>...</td>\n",
              "      <td>-0.939142</td>\n",
              "      <td>0.855236</td>\n",
              "      <td>-0.522599</td>\n",
              "      <td>-0.378677</td>\n",
              "      <td>-0.265841</td>\n",
              "      <td>-0.129532</td>\n",
              "      <td>-0.081514</td>\n",
              "      <td>-0.251312</td>\n",
              "      <td>-1.100763</td>\n",
              "      <td>1.260850</td>\n",
              "    </tr>\n",
              "    <tr>\n",
              "      <th>300</th>\n",
              "      <td>1.503641</td>\n",
              "      <td>0.681005</td>\n",
              "      <td>0.768323</td>\n",
              "      <td>-1.098650</td>\n",
              "      <td>-0.382278</td>\n",
              "      <td>2.143455</td>\n",
              "      <td>1.057772</td>\n",
              "      <td>-0.444554</td>\n",
              "      <td>-0.634648</td>\n",
              "      <td>-0.286606</td>\n",
              "      <td>...</td>\n",
              "      <td>-0.939142</td>\n",
              "      <td>-1.169268</td>\n",
              "      <td>-0.522599</td>\n",
              "      <td>2.640773</td>\n",
              "      <td>-0.265841</td>\n",
              "      <td>-0.129532</td>\n",
              "      <td>-0.081514</td>\n",
              "      <td>-0.251312</td>\n",
              "      <td>-1.100763</td>\n",
              "      <td>1.260850</td>\n",
              "    </tr>\n",
              "    <tr>\n",
              "      <th>301</th>\n",
              "      <td>0.290464</td>\n",
              "      <td>0.681005</td>\n",
              "      <td>-0.077351</td>\n",
              "      <td>-2.405509</td>\n",
              "      <td>-1.526064</td>\n",
              "      <td>0.158422</td>\n",
              "      <td>1.057772</td>\n",
              "      <td>-0.444554</td>\n",
              "      <td>-0.634648</td>\n",
              "      <td>-0.286606</td>\n",
              "      <td>...</td>\n",
              "      <td>-0.939142</td>\n",
              "      <td>-1.169268</td>\n",
              "      <td>1.913515</td>\n",
              "      <td>-0.378677</td>\n",
              "      <td>-0.265841</td>\n",
              "      <td>-0.129532</td>\n",
              "      <td>-0.081514</td>\n",
              "      <td>-0.251312</td>\n",
              "      <td>-1.100763</td>\n",
              "      <td>1.260850</td>\n",
              "    </tr>\n",
              "    <tr>\n",
              "      <th>302</th>\n",
              "      <td>0.290464</td>\n",
              "      <td>-1.468418</td>\n",
              "      <td>-0.077351</td>\n",
              "      <td>-0.192279</td>\n",
              "      <td>1.069450</td>\n",
              "      <td>-0.924324</td>\n",
              "      <td>-0.945384</td>\n",
              "      <td>2.249444</td>\n",
              "      <td>-0.634648</td>\n",
              "      <td>-0.286606</td>\n",
              "      <td>...</td>\n",
              "      <td>-0.939142</td>\n",
              "      <td>-1.169268</td>\n",
              "      <td>1.913515</td>\n",
              "      <td>-0.378677</td>\n",
              "      <td>-0.265841</td>\n",
              "      <td>-0.129532</td>\n",
              "      <td>-0.081514</td>\n",
              "      <td>-0.251312</td>\n",
              "      <td>0.908461</td>\n",
              "      <td>-0.793116</td>\n",
              "    </tr>\n",
              "  </tbody>\n",
              "</table>\n",
              "<p>303 rows × 29 columns</p>\n",
              "</div>\n",
              "      <button class=\"colab-df-convert\" onclick=\"convertToInteractive('df-c9a6f90a-2d69-4e1c-98b5-8253940fea9c')\"\n",
              "              title=\"Convert this dataframe to an interactive table.\"\n",
              "              style=\"display:none;\">\n",
              "        \n",
              "  <svg xmlns=\"http://www.w3.org/2000/svg\" height=\"24px\"viewBox=\"0 0 24 24\"\n",
              "       width=\"24px\">\n",
              "    <path d=\"M0 0h24v24H0V0z\" fill=\"none\"/>\n",
              "    <path d=\"M18.56 5.44l.94 2.06.94-2.06 2.06-.94-2.06-.94-.94-2.06-.94 2.06-2.06.94zm-11 1L8.5 8.5l.94-2.06 2.06-.94-2.06-.94L8.5 2.5l-.94 2.06-2.06.94zm10 10l.94 2.06.94-2.06 2.06-.94-2.06-.94-.94-2.06-.94 2.06-2.06.94z\"/><path d=\"M17.41 7.96l-1.37-1.37c-.4-.4-.92-.59-1.43-.59-.52 0-1.04.2-1.43.59L10.3 9.45l-7.72 7.72c-.78.78-.78 2.05 0 2.83L4 21.41c.39.39.9.59 1.41.59.51 0 1.02-.2 1.41-.59l7.78-7.78 2.81-2.81c.8-.78.8-2.07 0-2.86zM5.41 20L4 18.59l7.72-7.72 1.47 1.35L5.41 20z\"/>\n",
              "  </svg>\n",
              "      </button>\n",
              "      \n",
              "  <style>\n",
              "    .colab-df-container {\n",
              "      display:flex;\n",
              "      flex-wrap:wrap;\n",
              "      gap: 12px;\n",
              "    }\n",
              "\n",
              "    .colab-df-convert {\n",
              "      background-color: #E8F0FE;\n",
              "      border: none;\n",
              "      border-radius: 50%;\n",
              "      cursor: pointer;\n",
              "      display: none;\n",
              "      fill: #1967D2;\n",
              "      height: 32px;\n",
              "      padding: 0 0 0 0;\n",
              "      width: 32px;\n",
              "    }\n",
              "\n",
              "    .colab-df-convert:hover {\n",
              "      background-color: #E2EBFA;\n",
              "      box-shadow: 0px 1px 2px rgba(60, 64, 67, 0.3), 0px 1px 3px 1px rgba(60, 64, 67, 0.15);\n",
              "      fill: #174EA6;\n",
              "    }\n",
              "\n",
              "    [theme=dark] .colab-df-convert {\n",
              "      background-color: #3B4455;\n",
              "      fill: #D2E3FC;\n",
              "    }\n",
              "\n",
              "    [theme=dark] .colab-df-convert:hover {\n",
              "      background-color: #434B5C;\n",
              "      box-shadow: 0px 1px 3px 1px rgba(0, 0, 0, 0.15);\n",
              "      filter: drop-shadow(0px 1px 2px rgba(0, 0, 0, 0.3));\n",
              "      fill: #FFFFFF;\n",
              "    }\n",
              "  </style>\n",
              "\n",
              "      <script>\n",
              "        const buttonEl =\n",
              "          document.querySelector('#df-c9a6f90a-2d69-4e1c-98b5-8253940fea9c button.colab-df-convert');\n",
              "        buttonEl.style.display =\n",
              "          google.colab.kernel.accessAllowed ? 'block' : 'none';\n",
              "\n",
              "        async function convertToInteractive(key) {\n",
              "          const element = document.querySelector('#df-c9a6f90a-2d69-4e1c-98b5-8253940fea9c');\n",
              "          const dataTable =\n",
              "            await google.colab.kernel.invokeFunction('convertToInteractive',\n",
              "                                                     [key], {});\n",
              "          if (!dataTable) return;\n",
              "\n",
              "          const docLinkHtml = 'Like what you see? Visit the ' +\n",
              "            '<a target=\"_blank\" href=https://colab.research.google.com/notebooks/data_table.ipynb>data table notebook</a>'\n",
              "            + ' to learn more about interactive tables.';\n",
              "          element.innerHTML = '';\n",
              "          dataTable['output_type'] = 'display_data';\n",
              "          await google.colab.output.renderOutput(dataTable, element);\n",
              "          const docLink = document.createElement('div');\n",
              "          docLink.innerHTML = docLinkHtml;\n",
              "          element.appendChild(docLink);\n",
              "        }\n",
              "      </script>\n",
              "    </div>\n",
              "  </div>\n",
              "  "
            ]
          },
          "metadata": {},
          "execution_count": 17
        }
      ]
    },
    {
      "cell_type": "markdown",
      "source": [
        "Karena skala perbandingan nilai pada setiap data di beberapa fitur, maka akan dilakukan standarisasi supaya skala perbandingannya tidak terlalu besar. Sehingga berdampak bagus juga untuk membangun model nanti. "
      ],
      "metadata": {
        "id": "0TBz7-kEvypA"
      }
    },
    {
      "cell_type": "markdown",
      "source": [
        "##Train Test Split Dataset"
      ],
      "metadata": {
        "id": "5PH0nSlkcXp2"
      }
    },
    {
      "cell_type": "code",
      "source": [
        "#Split Dataset\n",
        "X_train, X_val, y_train, y_val = train_test_split(X, y, test_size=0.2, random_state=42)\n",
        "X_train.shape, X_val.shape, y_train.shape, y_val.shape"
      ],
      "metadata": {
        "colab": {
          "base_uri": "https://localhost:8080/"
        },
        "id": "TtcEUk7HB3Ml",
        "outputId": "664821a1-aaa5-4204-8775-3c528fc7bb7f"
      },
      "execution_count": 18,
      "outputs": [
        {
          "output_type": "execute_result",
          "data": {
            "text/plain": [
              "((242, 29), (61, 29), (242,), (61,))"
            ]
          },
          "metadata": {},
          "execution_count": 18
        }
      ]
    },
    {
      "cell_type": "markdown",
      "source": [
        "Akan displit atau dibagi dataset yang akan digunakan sebagai data latih dan data test dengan perbandingan 0.2, yaitu 80% dari total dataset dijadikan sebagai data latih dan 20% sebagai data test"
      ],
      "metadata": {
        "id": "UJsdgQXtxRdm"
      }
    },
    {
      "cell_type": "code",
      "source": [
        "from keras.utils.np_utils import to_categorical\n",
        "\n",
        "Y_train = to_categorical(y_train)\n",
        "Y_val = to_categorical(y_val)\n",
        "Y_train.shape, Y_val.shape"
      ],
      "metadata": {
        "colab": {
          "base_uri": "https://localhost:8080/"
        },
        "id": "9FXSy-ZJb8VA",
        "outputId": "aefba884-f66b-414f-9924-f6372f4984b8"
      },
      "execution_count": 19,
      "outputs": [
        {
          "output_type": "execute_result",
          "data": {
            "text/plain": [
              "((242, 2), (61, 2))"
            ]
          },
          "metadata": {},
          "execution_count": 19
        }
      ]
    },
    {
      "cell_type": "markdown",
      "source": [
        "Disini mencoba untuk menjadikan data target menjadi 2 kolom dari yang sebelumnya hanya satu kolom."
      ],
      "metadata": {
        "id": "F4ZS2O5GBg9n"
      }
    },
    {
      "cell_type": "markdown",
      "source": [
        "##Build Model"
      ],
      "metadata": {
        "id": "TtL6uvzTcdWs"
      }
    },
    {
      "cell_type": "code",
      "source": [
        "#Membaut model deep learning dengan keras dari tensorflow\n",
        "def build_model(hp):\n",
        "  model=keras.models.Sequential()\n",
        "  model.add(Dense(29, input_dim=29, activation=\"relu\"))\n",
        "\n",
        "  hp_layers=hp.Choice('layer',[2,3])\n",
        "  hp_neurons=hp.Int('neuron', min_value=30,max_value=150,step=10)\n",
        "\n",
        "  for layers in range(hp_layers):\n",
        "    model.add(Dense(hp_neurons, activation=\"relu\"))\n",
        "  model.add(Dense(2,activation=\"sigmoid\"))\n",
        "\n",
        "  optimizer=tf.keras.optimizers.Adam()\n",
        "  model.compile(loss= 'binary_crossentropy',\n",
        "              optimizer=optimizer,\n",
        "              metrics=['binary_accuracy'])\n",
        "  \n",
        "  return model"
      ],
      "metadata": {
        "id": "_lRCbHt2B8Y-"
      },
      "execution_count": 49,
      "outputs": []
    },
    {
      "cell_type": "markdown",
      "source": [
        "Membuat arsitektur model deep neural network dengan module keras dari package tensorflow, untuk hyperparameternya disetting secara manual dan random dengan intuisi karena dituning kembali hyperparameternya, yaitu untuk fungsi aktivasi pada hidden layer adalah 'relu' dan pada output layer adalah 'sigmoid'. Kemudian, untuk jumlah neuron pada input layer 29 (menyesuaikan jumlah fitur) dan jumlah neuron pada hidden layer di set minimal 30 dan maksimal 150 dengan stepsize kenaikan 10, hidden layer bisa 2 atau 3 tergantung saat di tuning. Untuk loss function digunakan binary cross entropy dengan optimisasi Adam dan metrics binary accuracy."
      ],
      "metadata": {
        "id": "yO0Wxvp-78_E"
      }
    },
    {
      "cell_type": "code",
      "source": [
        "!pip install -q -U keras-tuner"
      ],
      "metadata": {
        "colab": {
          "base_uri": "https://localhost:8080/"
        },
        "id": "4CdydosgZF9x",
        "outputId": "64ea364a-deb2-474d-d164-902492acf18e"
      },
      "execution_count": 21,
      "outputs": [
        {
          "output_type": "stream",
          "name": "stdout",
          "text": [
            "\u001b[?25l\r\u001b[K     |██▌                             | 10 kB 19.9 MB/s eta 0:00:01\r\u001b[K     |█████                           | 20 kB 26.0 MB/s eta 0:00:01\r\u001b[K     |███████▍                        | 30 kB 28.7 MB/s eta 0:00:01\r\u001b[K     |█████████▉                      | 40 kB 9.4 MB/s eta 0:00:01\r\u001b[K     |████████████▎                   | 51 kB 7.9 MB/s eta 0:00:01\r\u001b[K     |██████████████▊                 | 61 kB 9.2 MB/s eta 0:00:01\r\u001b[K     |█████████████████▏              | 71 kB 9.1 MB/s eta 0:00:01\r\u001b[K     |███████████████████▋            | 81 kB 9.2 MB/s eta 0:00:01\r\u001b[K     |██████████████████████          | 92 kB 10.2 MB/s eta 0:00:01\r\u001b[K     |████████████████████████▌       | 102 kB 9.2 MB/s eta 0:00:01\r\u001b[K     |███████████████████████████     | 112 kB 9.2 MB/s eta 0:00:01\r\u001b[K     |█████████████████████████████▍  | 122 kB 9.2 MB/s eta 0:00:01\r\u001b[K     |███████████████████████████████▉| 133 kB 9.2 MB/s eta 0:00:01\r\u001b[K     |████████████████████████████████| 133 kB 9.2 MB/s \n",
            "\u001b[?25h"
          ]
        }
      ]
    },
    {
      "cell_type": "markdown",
      "source": [
        "install package keras_tuner karena belum ada di library colab"
      ],
      "metadata": {
        "id": "dcsrwydw9HKr"
      }
    },
    {
      "cell_type": "code",
      "source": [
        "import keras_tuner as kt"
      ],
      "metadata": {
        "id": "RNb_e0ODDbhM"
      },
      "execution_count": 22,
      "outputs": []
    },
    {
      "cell_type": "markdown",
      "source": [
        "import package keras_tuner yang sudah diinstall sebelumnya karena akan digunakan untuk tuning hyperparameter"
      ],
      "metadata": {
        "id": "79CEvcND9U4e"
      }
    },
    {
      "cell_type": "markdown",
      "source": [
        "##Hyperparameter tuning"
      ],
      "metadata": {
        "id": "f9uMUEkZc89g"
      }
    },
    {
      "cell_type": "code",
      "source": [
        "from keras.layers import Dense\n",
        "tuner = kt.RandomSearch(\n",
        "    build_model,\n",
        "    objective='val_binary_accuracy',\n",
        "    max_trials=5,\n",
        "    overwrite=True,\n",
        "    directory=\"test_search\",\n",
        "    project_name=\"test_project\")\n",
        "tuner.search(X_train, Y_train, epochs=100, validation_data=(X_val, Y_val))"
      ],
      "metadata": {
        "colab": {
          "base_uri": "https://localhost:8080/"
        },
        "id": "ovjJjrY4E768",
        "outputId": "f51b182a-b1e4-4010-a9de-43898860d402"
      },
      "execution_count": 74,
      "outputs": [
        {
          "output_type": "stream",
          "name": "stdout",
          "text": [
            "Trial 5 Complete [00h 00m 07s]\n",
            "val_binary_accuracy: 0.8934426307678223\n",
            "\n",
            "Best val_binary_accuracy So Far: 0.9098360538482666\n",
            "Total elapsed time: 00h 00m 48s\n",
            "INFO:tensorflow:Oracle triggered exit\n"
          ]
        }
      ]
    },
    {
      "cell_type": "markdown",
      "source": [
        "tuning hyperparameter dengan keras_tuner dengan metode Random Search pada model didapat val_binary_accuracy  sekitar 0.89 dan terbaik sekitar 0.91 untuk 5 kali percobaan."
      ],
      "metadata": {
        "id": "sKWCqjmM-DbI"
      }
    },
    {
      "cell_type": "code",
      "source": [
        "best_hps=tuner.get_best_hyperparameters()[0]\n",
        "\n",
        "print('best number of layers:',best_hps.get('layer'))\n",
        "print('best number of neurons:',best_hps.get('neuron'))"
      ],
      "metadata": {
        "colab": {
          "base_uri": "https://localhost:8080/"
        },
        "id": "0Uwh9obqGrfp",
        "outputId": "1ab3b4a0-e1bd-4d29-f32b-25597ec92750"
      },
      "execution_count": 75,
      "outputs": [
        {
          "output_type": "stream",
          "name": "stdout",
          "text": [
            "best number of layers: 3\n",
            "best number of neurons: 40\n"
          ]
        }
      ]
    },
    {
      "cell_type": "markdown",
      "source": [
        "Dari tuner keras juga didapat hyperparameter terbaik untuk hidden layer, yaitu 3 hidden layer dan jumlah neuron, yaitu 40 neuron."
      ],
      "metadata": {
        "id": "x6pcJrLoAEZ5"
      }
    },
    {
      "cell_type": "markdown",
      "source": [
        "##Final Model"
      ],
      "metadata": {
        "id": "Nl5WTTBndr_-"
      }
    },
    {
      "cell_type": "code",
      "source": [
        "model = tuner.hypermodel.build(best_hps)"
      ],
      "metadata": {
        "id": "0Q17cM8cnFhJ"
      },
      "execution_count": 76,
      "outputs": []
    },
    {
      "cell_type": "markdown",
      "source": [
        "Kemudian, set hyperparameter terbaik yang sudah didapatkan dari hasil tuning ke dalam model."
      ],
      "metadata": {
        "id": "Puq0HGkfAaUF"
      }
    },
    {
      "cell_type": "code",
      "source": [
        "model.fit(X_train, Y_train, epochs = 100, batch_size = 10,validation_split= 0.2)"
      ],
      "metadata": {
        "colab": {
          "base_uri": "https://localhost:8080/"
        },
        "id": "Dw_Z9LDrnKlr",
        "outputId": "03f23e7e-5a4c-486a-9bff-e707d184e69f"
      },
      "execution_count": 77,
      "outputs": [
        {
          "output_type": "stream",
          "name": "stdout",
          "text": [
            "Epoch 1/100\n",
            "20/20 [==============================] - 1s 14ms/step - loss: 0.6368 - binary_accuracy: 0.7176 - val_loss: 0.5894 - val_binary_accuracy: 0.6735\n",
            "Epoch 2/100\n",
            "20/20 [==============================] - 0s 4ms/step - loss: 0.5086 - binary_accuracy: 0.8368 - val_loss: 0.4740 - val_binary_accuracy: 0.7551\n",
            "Epoch 3/100\n",
            "20/20 [==============================] - 0s 3ms/step - loss: 0.3879 - binary_accuracy: 0.8601 - val_loss: 0.4043 - val_binary_accuracy: 0.7653\n",
            "Epoch 4/100\n",
            "20/20 [==============================] - 0s 5ms/step - loss: 0.3211 - binary_accuracy: 0.8834 - val_loss: 0.4039 - val_binary_accuracy: 0.7959\n",
            "Epoch 5/100\n",
            "20/20 [==============================] - 0s 4ms/step - loss: 0.2853 - binary_accuracy: 0.8860 - val_loss: 0.4249 - val_binary_accuracy: 0.7755\n",
            "Epoch 6/100\n",
            "20/20 [==============================] - 0s 4ms/step - loss: 0.2521 - binary_accuracy: 0.8990 - val_loss: 0.4244 - val_binary_accuracy: 0.7959\n",
            "Epoch 7/100\n",
            "20/20 [==============================] - 0s 4ms/step - loss: 0.2298 - binary_accuracy: 0.9041 - val_loss: 0.4653 - val_binary_accuracy: 0.7755\n",
            "Epoch 8/100\n",
            "20/20 [==============================] - 0s 4ms/step - loss: 0.1988 - binary_accuracy: 0.9145 - val_loss: 0.4868 - val_binary_accuracy: 0.7755\n",
            "Epoch 9/100\n",
            "20/20 [==============================] - 0s 4ms/step - loss: 0.1807 - binary_accuracy: 0.9301 - val_loss: 0.5196 - val_binary_accuracy: 0.7449\n",
            "Epoch 10/100\n",
            "20/20 [==============================] - 0s 4ms/step - loss: 0.1459 - binary_accuracy: 0.9611 - val_loss: 0.5575 - val_binary_accuracy: 0.7653\n",
            "Epoch 11/100\n",
            "20/20 [==============================] - 0s 4ms/step - loss: 0.1230 - binary_accuracy: 0.9611 - val_loss: 0.6154 - val_binary_accuracy: 0.7755\n",
            "Epoch 12/100\n",
            "20/20 [==============================] - 0s 4ms/step - loss: 0.1081 - binary_accuracy: 0.9663 - val_loss: 0.6227 - val_binary_accuracy: 0.7857\n",
            "Epoch 13/100\n",
            "20/20 [==============================] - 0s 3ms/step - loss: 0.0832 - binary_accuracy: 0.9793 - val_loss: 0.7141 - val_binary_accuracy: 0.7347\n",
            "Epoch 14/100\n",
            "20/20 [==============================] - 0s 4ms/step - loss: 0.0648 - binary_accuracy: 0.9896 - val_loss: 0.7474 - val_binary_accuracy: 0.7755\n",
            "Epoch 15/100\n",
            "20/20 [==============================] - 0s 4ms/step - loss: 0.0506 - binary_accuracy: 0.9896 - val_loss: 0.8069 - val_binary_accuracy: 0.7551\n",
            "Epoch 16/100\n",
            "20/20 [==============================] - 0s 4ms/step - loss: 0.0401 - binary_accuracy: 0.9845 - val_loss: 0.8668 - val_binary_accuracy: 0.7551\n",
            "Epoch 17/100\n",
            "20/20 [==============================] - 0s 4ms/step - loss: 0.0300 - binary_accuracy: 0.9896 - val_loss: 0.8959 - val_binary_accuracy: 0.7755\n",
            "Epoch 18/100\n",
            "20/20 [==============================] - 0s 3ms/step - loss: 0.0250 - binary_accuracy: 0.9896 - val_loss: 0.9727 - val_binary_accuracy: 0.7551\n",
            "Epoch 19/100\n",
            "20/20 [==============================] - 0s 4ms/step - loss: 0.0188 - binary_accuracy: 1.0000 - val_loss: 0.9887 - val_binary_accuracy: 0.7653\n",
            "Epoch 20/100\n",
            "20/20 [==============================] - 0s 4ms/step - loss: 0.0169 - binary_accuracy: 1.0000 - val_loss: 1.0503 - val_binary_accuracy: 0.7551\n",
            "Epoch 21/100\n",
            "20/20 [==============================] - 0s 5ms/step - loss: 0.0110 - binary_accuracy: 1.0000 - val_loss: 1.0889 - val_binary_accuracy: 0.7653\n",
            "Epoch 22/100\n",
            "20/20 [==============================] - 0s 3ms/step - loss: 0.0100 - binary_accuracy: 1.0000 - val_loss: 1.1373 - val_binary_accuracy: 0.7551\n",
            "Epoch 23/100\n",
            "20/20 [==============================] - 0s 3ms/step - loss: 0.0085 - binary_accuracy: 1.0000 - val_loss: 1.1931 - val_binary_accuracy: 0.7653\n",
            "Epoch 24/100\n",
            "20/20 [==============================] - 0s 3ms/step - loss: 0.0060 - binary_accuracy: 1.0000 - val_loss: 1.2167 - val_binary_accuracy: 0.7653\n",
            "Epoch 25/100\n",
            "20/20 [==============================] - 0s 4ms/step - loss: 0.0054 - binary_accuracy: 1.0000 - val_loss: 1.2464 - val_binary_accuracy: 0.7551\n",
            "Epoch 26/100\n",
            "20/20 [==============================] - 0s 4ms/step - loss: 0.0049 - binary_accuracy: 1.0000 - val_loss: 1.2877 - val_binary_accuracy: 0.7551\n",
            "Epoch 27/100\n",
            "20/20 [==============================] - 0s 4ms/step - loss: 0.0045 - binary_accuracy: 1.0000 - val_loss: 1.3446 - val_binary_accuracy: 0.7653\n",
            "Epoch 28/100\n",
            "20/20 [==============================] - 0s 4ms/step - loss: 0.0033 - binary_accuracy: 1.0000 - val_loss: 1.3458 - val_binary_accuracy: 0.7551\n",
            "Epoch 29/100\n",
            "20/20 [==============================] - 0s 4ms/step - loss: 0.0038 - binary_accuracy: 1.0000 - val_loss: 1.3919 - val_binary_accuracy: 0.7551\n",
            "Epoch 30/100\n",
            "20/20 [==============================] - 0s 4ms/step - loss: 0.0026 - binary_accuracy: 1.0000 - val_loss: 1.4054 - val_binary_accuracy: 0.7551\n",
            "Epoch 31/100\n",
            "20/20 [==============================] - 0s 5ms/step - loss: 0.0022 - binary_accuracy: 1.0000 - val_loss: 1.4422 - val_binary_accuracy: 0.7551\n",
            "Epoch 32/100\n",
            "20/20 [==============================] - 0s 3ms/step - loss: 0.0019 - binary_accuracy: 1.0000 - val_loss: 1.4669 - val_binary_accuracy: 0.7551\n",
            "Epoch 33/100\n",
            "20/20 [==============================] - 0s 5ms/step - loss: 0.0017 - binary_accuracy: 1.0000 - val_loss: 1.4861 - val_binary_accuracy: 0.7551\n",
            "Epoch 34/100\n",
            "20/20 [==============================] - 0s 4ms/step - loss: 0.0015 - binary_accuracy: 1.0000 - val_loss: 1.5085 - val_binary_accuracy: 0.7551\n",
            "Epoch 35/100\n",
            "20/20 [==============================] - 0s 4ms/step - loss: 0.0014 - binary_accuracy: 1.0000 - val_loss: 1.5335 - val_binary_accuracy: 0.7551\n",
            "Epoch 36/100\n",
            "20/20 [==============================] - 0s 4ms/step - loss: 0.0013 - binary_accuracy: 1.0000 - val_loss: 1.5488 - val_binary_accuracy: 0.7551\n",
            "Epoch 37/100\n",
            "20/20 [==============================] - 0s 5ms/step - loss: 0.0012 - binary_accuracy: 1.0000 - val_loss: 1.5608 - val_binary_accuracy: 0.7551\n",
            "Epoch 38/100\n",
            "20/20 [==============================] - 0s 4ms/step - loss: 0.0012 - binary_accuracy: 1.0000 - val_loss: 1.5966 - val_binary_accuracy: 0.7551\n",
            "Epoch 39/100\n",
            "20/20 [==============================] - 0s 3ms/step - loss: 0.0010 - binary_accuracy: 1.0000 - val_loss: 1.6015 - val_binary_accuracy: 0.7551\n",
            "Epoch 40/100\n",
            "20/20 [==============================] - 0s 4ms/step - loss: 8.7650e-04 - binary_accuracy: 1.0000 - val_loss: 1.6213 - val_binary_accuracy: 0.7551\n",
            "Epoch 41/100\n",
            "20/20 [==============================] - 0s 4ms/step - loss: 8.2454e-04 - binary_accuracy: 1.0000 - val_loss: 1.6333 - val_binary_accuracy: 0.7551\n",
            "Epoch 42/100\n",
            "20/20 [==============================] - 0s 5ms/step - loss: 7.6935e-04 - binary_accuracy: 1.0000 - val_loss: 1.6491 - val_binary_accuracy: 0.7551\n",
            "Epoch 43/100\n",
            "20/20 [==============================] - 0s 4ms/step - loss: 7.2087e-04 - binary_accuracy: 1.0000 - val_loss: 1.6622 - val_binary_accuracy: 0.7551\n",
            "Epoch 44/100\n",
            "20/20 [==============================] - 0s 5ms/step - loss: 6.7650e-04 - binary_accuracy: 1.0000 - val_loss: 1.6810 - val_binary_accuracy: 0.7551\n",
            "Epoch 45/100\n",
            "20/20 [==============================] - 0s 4ms/step - loss: 6.4849e-04 - binary_accuracy: 1.0000 - val_loss: 1.7000 - val_binary_accuracy: 0.7551\n",
            "Epoch 46/100\n",
            "20/20 [==============================] - 0s 5ms/step - loss: 5.9407e-04 - binary_accuracy: 1.0000 - val_loss: 1.7056 - val_binary_accuracy: 0.7551\n",
            "Epoch 47/100\n",
            "20/20 [==============================] - 0s 5ms/step - loss: 5.6016e-04 - binary_accuracy: 1.0000 - val_loss: 1.7229 - val_binary_accuracy: 0.7551\n",
            "Epoch 48/100\n",
            "20/20 [==============================] - 0s 4ms/step - loss: 5.2727e-04 - binary_accuracy: 1.0000 - val_loss: 1.7332 - val_binary_accuracy: 0.7551\n",
            "Epoch 49/100\n",
            "20/20 [==============================] - 0s 4ms/step - loss: 5.3252e-04 - binary_accuracy: 1.0000 - val_loss: 1.7354 - val_binary_accuracy: 0.7551\n",
            "Epoch 50/100\n",
            "20/20 [==============================] - 0s 4ms/step - loss: 4.6432e-04 - binary_accuracy: 1.0000 - val_loss: 1.7590 - val_binary_accuracy: 0.7551\n",
            "Epoch 51/100\n",
            "20/20 [==============================] - 0s 4ms/step - loss: 4.3950e-04 - binary_accuracy: 1.0000 - val_loss: 1.7728 - val_binary_accuracy: 0.7551\n",
            "Epoch 52/100\n",
            "20/20 [==============================] - 0s 5ms/step - loss: 4.1546e-04 - binary_accuracy: 1.0000 - val_loss: 1.7821 - val_binary_accuracy: 0.7551\n",
            "Epoch 53/100\n",
            "20/20 [==============================] - 0s 4ms/step - loss: 3.9529e-04 - binary_accuracy: 1.0000 - val_loss: 1.7905 - val_binary_accuracy: 0.7551\n",
            "Epoch 54/100\n",
            "20/20 [==============================] - 0s 9ms/step - loss: 3.7564e-04 - binary_accuracy: 1.0000 - val_loss: 1.8033 - val_binary_accuracy: 0.7551\n",
            "Epoch 55/100\n",
            "20/20 [==============================] - 0s 16ms/step - loss: 3.6096e-04 - binary_accuracy: 1.0000 - val_loss: 1.8155 - val_binary_accuracy: 0.7551\n",
            "Epoch 56/100\n",
            "20/20 [==============================] - 0s 16ms/step - loss: 3.4097e-04 - binary_accuracy: 1.0000 - val_loss: 1.8242 - val_binary_accuracy: 0.7551\n",
            "Epoch 57/100\n",
            "20/20 [==============================] - 0s 13ms/step - loss: 3.2297e-04 - binary_accuracy: 1.0000 - val_loss: 1.8365 - val_binary_accuracy: 0.7551\n",
            "Epoch 58/100\n",
            "20/20 [==============================] - 0s 6ms/step - loss: 3.1038e-04 - binary_accuracy: 1.0000 - val_loss: 1.8434 - val_binary_accuracy: 0.7551\n",
            "Epoch 59/100\n",
            "20/20 [==============================] - 0s 5ms/step - loss: 3.0025e-04 - binary_accuracy: 1.0000 - val_loss: 1.8539 - val_binary_accuracy: 0.7551\n",
            "Epoch 60/100\n",
            "20/20 [==============================] - 0s 4ms/step - loss: 2.7991e-04 - binary_accuracy: 1.0000 - val_loss: 1.8677 - val_binary_accuracy: 0.7551\n",
            "Epoch 61/100\n",
            "20/20 [==============================] - 0s 4ms/step - loss: 2.6729e-04 - binary_accuracy: 1.0000 - val_loss: 1.8819 - val_binary_accuracy: 0.7551\n",
            "Epoch 62/100\n",
            "20/20 [==============================] - 0s 4ms/step - loss: 2.5933e-04 - binary_accuracy: 1.0000 - val_loss: 1.8883 - val_binary_accuracy: 0.7551\n",
            "Epoch 63/100\n",
            "20/20 [==============================] - 0s 4ms/step - loss: 2.5243e-04 - binary_accuracy: 1.0000 - val_loss: 1.8931 - val_binary_accuracy: 0.7551\n",
            "Epoch 64/100\n",
            "20/20 [==============================] - 0s 4ms/step - loss: 2.3904e-04 - binary_accuracy: 1.0000 - val_loss: 1.9067 - val_binary_accuracy: 0.7551\n",
            "Epoch 65/100\n",
            "20/20 [==============================] - 0s 6ms/step - loss: 2.2769e-04 - binary_accuracy: 1.0000 - val_loss: 1.9158 - val_binary_accuracy: 0.7551\n",
            "Epoch 66/100\n",
            "20/20 [==============================] - 0s 4ms/step - loss: 2.2023e-04 - binary_accuracy: 1.0000 - val_loss: 1.9209 - val_binary_accuracy: 0.7551\n",
            "Epoch 67/100\n",
            "20/20 [==============================] - 0s 5ms/step - loss: 2.1294e-04 - binary_accuracy: 1.0000 - val_loss: 1.9302 - val_binary_accuracy: 0.7551\n",
            "Epoch 68/100\n",
            "20/20 [==============================] - 0s 4ms/step - loss: 2.0010e-04 - binary_accuracy: 1.0000 - val_loss: 1.9404 - val_binary_accuracy: 0.7551\n",
            "Epoch 69/100\n",
            "20/20 [==============================] - 0s 4ms/step - loss: 1.9344e-04 - binary_accuracy: 1.0000 - val_loss: 1.9486 - val_binary_accuracy: 0.7551\n",
            "Epoch 70/100\n",
            "20/20 [==============================] - 0s 5ms/step - loss: 1.8650e-04 - binary_accuracy: 1.0000 - val_loss: 1.9588 - val_binary_accuracy: 0.7551\n",
            "Epoch 71/100\n",
            "20/20 [==============================] - 0s 4ms/step - loss: 1.7917e-04 - binary_accuracy: 1.0000 - val_loss: 1.9640 - val_binary_accuracy: 0.7551\n",
            "Epoch 72/100\n",
            "20/20 [==============================] - 0s 3ms/step - loss: 1.7367e-04 - binary_accuracy: 1.0000 - val_loss: 1.9752 - val_binary_accuracy: 0.7551\n",
            "Epoch 73/100\n",
            "20/20 [==============================] - 0s 4ms/step - loss: 1.6828e-04 - binary_accuracy: 1.0000 - val_loss: 1.9809 - val_binary_accuracy: 0.7551\n",
            "Epoch 74/100\n",
            "20/20 [==============================] - 0s 4ms/step - loss: 1.6169e-04 - binary_accuracy: 1.0000 - val_loss: 1.9965 - val_binary_accuracy: 0.7551\n",
            "Epoch 75/100\n",
            "20/20 [==============================] - 0s 4ms/step - loss: 1.5481e-04 - binary_accuracy: 1.0000 - val_loss: 2.0004 - val_binary_accuracy: 0.7551\n",
            "Epoch 76/100\n",
            "20/20 [==============================] - 0s 4ms/step - loss: 1.4916e-04 - binary_accuracy: 1.0000 - val_loss: 2.0081 - val_binary_accuracy: 0.7551\n",
            "Epoch 77/100\n",
            "20/20 [==============================] - 0s 3ms/step - loss: 1.4525e-04 - binary_accuracy: 1.0000 - val_loss: 2.0149 - val_binary_accuracy: 0.7551\n",
            "Epoch 78/100\n",
            "20/20 [==============================] - 0s 4ms/step - loss: 1.4029e-04 - binary_accuracy: 1.0000 - val_loss: 2.0204 - val_binary_accuracy: 0.7551\n",
            "Epoch 79/100\n",
            "20/20 [==============================] - 0s 4ms/step - loss: 1.3639e-04 - binary_accuracy: 1.0000 - val_loss: 2.0284 - val_binary_accuracy: 0.7551\n",
            "Epoch 80/100\n",
            "20/20 [==============================] - 0s 3ms/step - loss: 1.3489e-04 - binary_accuracy: 1.0000 - val_loss: 2.0299 - val_binary_accuracy: 0.7551\n",
            "Epoch 81/100\n",
            "20/20 [==============================] - 0s 4ms/step - loss: 1.2768e-04 - binary_accuracy: 1.0000 - val_loss: 2.0416 - val_binary_accuracy: 0.7551\n",
            "Epoch 82/100\n",
            "20/20 [==============================] - 0s 5ms/step - loss: 1.2294e-04 - binary_accuracy: 1.0000 - val_loss: 2.0505 - val_binary_accuracy: 0.7551\n",
            "Epoch 83/100\n",
            "20/20 [==============================] - 0s 4ms/step - loss: 1.1907e-04 - binary_accuracy: 1.0000 - val_loss: 2.0580 - val_binary_accuracy: 0.7551\n",
            "Epoch 84/100\n",
            "20/20 [==============================] - 0s 3ms/step - loss: 1.1530e-04 - binary_accuracy: 1.0000 - val_loss: 2.0628 - val_binary_accuracy: 0.7551\n",
            "Epoch 85/100\n",
            "20/20 [==============================] - 0s 5ms/step - loss: 1.1228e-04 - binary_accuracy: 1.0000 - val_loss: 2.0691 - val_binary_accuracy: 0.7551\n",
            "Epoch 86/100\n",
            "20/20 [==============================] - 0s 3ms/step - loss: 1.1045e-04 - binary_accuracy: 1.0000 - val_loss: 2.0784 - val_binary_accuracy: 0.7551\n",
            "Epoch 87/100\n",
            "20/20 [==============================] - 0s 4ms/step - loss: 1.0542e-04 - binary_accuracy: 1.0000 - val_loss: 2.0846 - val_binary_accuracy: 0.7551\n",
            "Epoch 88/100\n",
            "20/20 [==============================] - 0s 4ms/step - loss: 1.0253e-04 - binary_accuracy: 1.0000 - val_loss: 2.0881 - val_binary_accuracy: 0.7551\n",
            "Epoch 89/100\n",
            "20/20 [==============================] - 0s 5ms/step - loss: 9.9790e-05 - binary_accuracy: 1.0000 - val_loss: 2.0926 - val_binary_accuracy: 0.7551\n",
            "Epoch 90/100\n",
            "20/20 [==============================] - 0s 7ms/step - loss: 9.7125e-05 - binary_accuracy: 1.0000 - val_loss: 2.1016 - val_binary_accuracy: 0.7551\n",
            "Epoch 91/100\n",
            "20/20 [==============================] - 0s 7ms/step - loss: 9.3711e-05 - binary_accuracy: 1.0000 - val_loss: 2.1079 - val_binary_accuracy: 0.7551\n",
            "Epoch 92/100\n",
            "20/20 [==============================] - 0s 6ms/step - loss: 9.2178e-05 - binary_accuracy: 1.0000 - val_loss: 2.1138 - val_binary_accuracy: 0.7551\n",
            "Epoch 93/100\n",
            "20/20 [==============================] - 0s 7ms/step - loss: 8.9171e-05 - binary_accuracy: 1.0000 - val_loss: 2.1211 - val_binary_accuracy: 0.7551\n",
            "Epoch 94/100\n",
            "20/20 [==============================] - 0s 7ms/step - loss: 8.6765e-05 - binary_accuracy: 1.0000 - val_loss: 2.1249 - val_binary_accuracy: 0.7551\n",
            "Epoch 95/100\n",
            "20/20 [==============================] - 0s 7ms/step - loss: 8.4394e-05 - binary_accuracy: 1.0000 - val_loss: 2.1327 - val_binary_accuracy: 0.7551\n",
            "Epoch 96/100\n",
            "20/20 [==============================] - 0s 6ms/step - loss: 8.3781e-05 - binary_accuracy: 1.0000 - val_loss: 2.1428 - val_binary_accuracy: 0.7551\n",
            "Epoch 97/100\n",
            "20/20 [==============================] - 0s 7ms/step - loss: 8.0536e-05 - binary_accuracy: 1.0000 - val_loss: 2.1468 - val_binary_accuracy: 0.7551\n",
            "Epoch 98/100\n",
            "20/20 [==============================] - 0s 7ms/step - loss: 7.7768e-05 - binary_accuracy: 1.0000 - val_loss: 2.1530 - val_binary_accuracy: 0.7551\n",
            "Epoch 99/100\n",
            "20/20 [==============================] - 0s 7ms/step - loss: 7.5837e-05 - binary_accuracy: 1.0000 - val_loss: 2.1587 - val_binary_accuracy: 0.7551\n",
            "Epoch 100/100\n",
            "20/20 [==============================] - 0s 6ms/step - loss: 7.4586e-05 - binary_accuracy: 1.0000 - val_loss: 2.1628 - val_binary_accuracy: 0.7551\n"
          ]
        },
        {
          "output_type": "execute_result",
          "data": {
            "text/plain": [
              "<keras.callbacks.History at 0x7faf8da973d0>"
            ]
          },
          "metadata": {},
          "execution_count": 77
        }
      ]
    },
    {
      "cell_type": "markdown",
      "source": [
        "Selanjutnya fitting lagi atau latih lagi model dengan data latih dengan epochs sebanyak 100, batch sizenya 10, dan validasi dengan data test."
      ],
      "metadata": {
        "id": "cZdM78XVAvjv"
      }
    },
    {
      "cell_type": "code",
      "source": [
        "y_prob = model.predict(X_val)\n",
        "y_prob"
      ],
      "metadata": {
        "colab": {
          "base_uri": "https://localhost:8080/"
        },
        "id": "ubc2JyqenrRS",
        "outputId": "facef721-4a56-4c27-8bfb-8350fe02bf86"
      },
      "execution_count": 78,
      "outputs": [
        {
          "output_type": "execute_result",
          "data": {
            "text/plain": [
              "array([[1.00000000e+00, 3.61866891e-11],\n",
              "       [1.35230720e-02, 9.87840772e-01],\n",
              "       [2.57066858e-06, 9.99995232e-01],\n",
              "       [1.00000000e+00, 2.11085309e-17],\n",
              "       [5.47464260e-05, 9.99914050e-01],\n",
              "       [2.18714904e-05, 9.99967635e-01],\n",
              "       [3.19010105e-05, 9.99958456e-01],\n",
              "       [1.00000000e+00, 6.39581397e-16],\n",
              "       [1.00000000e+00, 1.61542492e-13],\n",
              "       [9.99998689e-01, 1.64544747e-06],\n",
              "       [4.74318877e-05, 9.99946058e-01],\n",
              "       [4.42838669e-02, 9.58972812e-01],\n",
              "       [3.67581844e-04, 9.99591172e-01],\n",
              "       [9.99990642e-01, 9.19437207e-06],\n",
              "       [1.56853353e-09, 1.00000000e+00],\n",
              "       [6.31193245e-07, 9.99998450e-01],\n",
              "       [1.08113215e-11, 1.00000000e+00],\n",
              "       [1.00000000e+00, 3.53308810e-12],\n",
              "       [1.00000000e+00, 1.22895444e-18],\n",
              "       [1.00000000e+00, 1.20418616e-12],\n",
              "       [5.78684885e-05, 9.99939919e-01],\n",
              "       [6.97672844e-01, 2.76560962e-01],\n",
              "       [8.80396008e-01, 9.42772031e-02],\n",
              "       [6.53051393e-06, 9.99989152e-01],\n",
              "       [7.05735843e-08, 9.99999821e-01],\n",
              "       [3.15173893e-05, 9.99958932e-01],\n",
              "       [1.54141215e-08, 1.00000000e+00],\n",
              "       [8.25888395e-01, 1.64338022e-01],\n",
              "       [1.00000000e+00, 2.31128999e-13],\n",
              "       [4.06324863e-04, 9.99451041e-01],\n",
              "       [1.00000000e+00, 2.45032401e-13],\n",
              "       [1.00000000e+00, 3.04133857e-10],\n",
              "       [1.00000000e+00, 1.64468303e-14],\n",
              "       [9.95570779e-01, 4.56643105e-03],\n",
              "       [4.26942970e-05, 9.99953151e-01],\n",
              "       [1.00000000e+00, 3.08621096e-14],\n",
              "       [2.00685477e-07, 9.99999762e-01],\n",
              "       [3.81428003e-02, 9.48406696e-01],\n",
              "       [9.98611331e-01, 1.36917830e-03],\n",
              "       [7.59852701e-05, 9.99900639e-01],\n",
              "       [1.17871745e-11, 1.00000000e+00],\n",
              "       [7.89673805e-01, 2.03688651e-01],\n",
              "       [8.39133207e-11, 1.00000000e+00],\n",
              "       [2.22831964e-04, 9.99751270e-01],\n",
              "       [3.50058079e-04, 9.99552369e-01],\n",
              "       [3.38080227e-01, 7.43009567e-01],\n",
              "       [1.00000000e+00, 1.58359569e-07],\n",
              "       [1.70287204e-11, 1.00000000e+00],\n",
              "       [1.00000000e+00, 5.35279526e-17],\n",
              "       [1.00000000e+00, 5.56684604e-20],\n",
              "       [1.00000000e+00, 9.33760713e-09],\n",
              "       [1.00000000e+00, 4.31275904e-16],\n",
              "       [1.37298855e-06, 9.99998212e-01],\n",
              "       [2.31482087e-08, 1.00000000e+00],\n",
              "       [1.00000000e+00, 4.85100363e-11],\n",
              "       [9.98106122e-01, 2.86912918e-03],\n",
              "       [1.00000000e+00, 1.29939922e-11],\n",
              "       [1.64806843e-04, 9.99811828e-01],\n",
              "       [1.00000000e+00, 1.09659020e-14],\n",
              "       [1.00000000e+00, 5.56387400e-20],\n",
              "       [1.00000000e+00, 2.31011564e-11]], dtype=float32)"
            ]
          },
          "metadata": {},
          "execution_count": 78
        }
      ]
    },
    {
      "cell_type": "markdown",
      "source": [
        "Mencoba untuk memprediksi data test, didapatkan probabilitas untuk setiap nilai pada setiap baris di 2 kolom karena sebelumnya sudah kita ubah data targetnya menjadi 2 kolom juga."
      ],
      "metadata": {
        "id": "-g8CVLfZETuf"
      }
    },
    {
      "cell_type": "code",
      "source": [
        "y_pred=np.array([np.argmax(i) for i in y_prob])"
      ],
      "metadata": {
        "id": "7lLCCThroU-a"
      },
      "execution_count": 79,
      "outputs": []
    },
    {
      "cell_type": "markdown",
      "source": [
        "Untuk setiap baris dari 2 kolom tersebut nilai yang paling tinggi diambil lalu dijadikan array 1 dimensi."
      ],
      "metadata": {
        "id": "EH9ifDgVE8P2"
      }
    },
    {
      "cell_type": "markdown",
      "source": [
        "##Evaluasi Model"
      ],
      "metadata": {
        "id": "kH5Y_Ta4d0W4"
      }
    },
    {
      "cell_type": "code",
      "source": [
        "from sklearn.metrics import confusion_matrix, ConfusionMatrixDisplay, classification_report\n",
        "\n",
        "def evaluation_parametrics(name,Y_val, y_pred):\n",
        "    \n",
        "    print(\"\\n------------------------{}------------------------\\n\".format(name))\n",
        "\n",
        "    cm_test = confusion_matrix(Y_val, y_pred)\n",
        "    t1 = ConfusionMatrixDisplay(cm_test)    \n",
        "    print(\"\\nClassification Report for Data Test\\n\")\n",
        "    print(classification_report(Y_val, y_pred))   \n",
        "    print(\"--------------------------------------------------------------------------\")\n",
        "\n",
        "    t1.plot()"
      ],
      "metadata": {
        "id": "_Fjl5Sp3n9PT"
      },
      "execution_count": 80,
      "outputs": []
    },
    {
      "cell_type": "markdown",
      "source": [
        "Akan ditampilkan classification report dan confusion matrix untuk model ini."
      ],
      "metadata": {
        "id": "wsPKyck7wn8E"
      }
    },
    {
      "cell_type": "code",
      "source": [
        "evaluation_parametrics(\"Deep Neural Network\", y_val, y_pred)"
      ],
      "metadata": {
        "colab": {
          "base_uri": "https://localhost:8080/",
          "height": 560
        },
        "id": "Le2etPcpKNXD",
        "outputId": "97c50d5f-2363-4ba7-84d1-5b8993efca7d"
      },
      "execution_count": 81,
      "outputs": [
        {
          "output_type": "stream",
          "name": "stdout",
          "text": [
            "\n",
            "------------------------Deep Neural Network------------------------\n",
            "\n",
            "\n",
            "Classification Report for Data Test\n",
            "\n",
            "              precision    recall  f1-score   support\n",
            "\n",
            "           0       0.81      0.86      0.83        29\n",
            "           1       0.87      0.81      0.84        32\n",
            "\n",
            "    accuracy                           0.84        61\n",
            "   macro avg       0.84      0.84      0.84        61\n",
            "weighted avg       0.84      0.84      0.84        61\n",
            "\n",
            "--------------------------------------------------------------------------\n"
          ]
        },
        {
          "output_type": "display_data",
          "data": {
            "text/plain": [
              "<Figure size 432x288 with 2 Axes>"
            ],
            "image/png": "[encoded data removed]"
          },
          "metadata": {}
        }
      ]
    },
    {
      "cell_type": "markdown",
      "source": [
        "Berdasarkan classification report dan confusion matrix di atas: \\\n",
        "1. Nilai untuk precision pada data 0 adalah 0.81 karena TN nya 25 dan FN nya 6, nilai yang cukuk bagus karena dari 29 data prediksi 25 nya data actual bernilai 0. \\\n",
        "2. Nilai untuk precision pada data 1 adalah 0.87 karena TP nya 26 dan FP nya 4, nilai yang bagus karena dari 32 data prediksi 26 nya data actual bernilai 1. \\\n",
        "3. Nilai untuk recall pada data 0 adalah 0.86 karena TN nya 25 dan FN nya 4, nilai yang bagus karena dari 29 data prediksi 25 nya data actual bernilai 0. \\\n",
        "4. Nilai untuk recall pada data 1 adalah 0.81 karena TP nya 26 dan FN nya 6, nilai yang cukup bagus karena dari 32 data prediksi 26 nya data actual bernilai 1. \\\n",
        "5. f1 score untuk data 0 adalah 0.83 karena kombinasi dari nilai precision dan recall-nya, sudah cukup bagus karena sudah di atas 0.80. \\\n",
        "6. f1 score untuk data 1 adalah 0.84 karena kombinasi dari nilai precision dan recall-nya, sudah cukup bagus juga karena sudah di atas 0.80. \\\n",
        "7. Terakhir, untuk accuracy juga sudah cukup bagus karena di atas 0.80, yaitu 0.84. \\\n",
        "\n",
        "Note: TN(True Negative), TP(True Positive), FN(False Negatif), FP(False Positif). \\\n",
        "Sehingga dapat disimpulkan bahwa model ini cukup bagus untuk melakukan klasifikasi biner terhadap kemungkinan tinggi atau rendah terkena serangan jantung."
      ],
      "metadata": {
        "id": "w8NHDxEiTDxZ"
      }
    },
    {
      "cell_type": "markdown",
      "source": [
        "#No.2"
      ],
      "metadata": {
        "id": "BnBxA5R8S8wH"
      }
    },
    {
      "cell_type": "code",
      "source": [
        "#Import package and module\n",
        "import pandas as pd\n",
        "import numpy as np\n",
        "import matplotlib.pyplot as plt\n",
        "import seaborn as sns\n",
        "import tensorflow as tf\n",
        "from tensorflow import keras\n",
        "from sklearn.preprocessing import OrdinalEncoder\n",
        "from sklearn.preprocessing import StandardScaler\n",
        "from sklearn.model_selection import train_test_split\n",
        "from keras.wrappers.scikit_learn import KerasClassifier\n",
        "from sklearn.model_selection import cross_val_score\n",
        "from sklearn.model_selection import RandomizedSearchCV\n",
        "from sklearn.inspection import permutation_importance"
      ],
      "metadata": {
        "id": "mMOrLVA6S98H"
      },
      "execution_count": 82,
      "outputs": []
    },
    {
      "cell_type": "markdown",
      "source": [
        "Pertama, import package dan module yang dibutuhkan."
      ],
      "metadata": {
        "id": "ztb1wjWOeUgx"
      }
    },
    {
      "cell_type": "code",
      "source": [
        "import warnings\n",
        "warnings.filterwarnings(\"ignore\", category=DeprecationWarning)\n",
        "warnings.filterwarnings(\"ignore\", category=FutureWarning)"
      ],
      "metadata": {
        "id": "LYoFiSozTEoL"
      },
      "execution_count": 83,
      "outputs": []
    },
    {
      "cell_type": "markdown",
      "source": [
        "Hanya sebagai tambahan, jika nanti muncul warning saat runing program bisa di sembunyikan"
      ],
      "metadata": {
        "id": "CTutDcNKePPT"
      }
    },
    {
      "cell_type": "code",
      "source": [
        "with open('readme.txt') as f:\n",
        "    contents = f.read()\n",
        "    print(contents)"
      ],
      "metadata": {
        "colab": {
          "base_uri": "https://localhost:8080/"
        },
        "id": "kvmV8kqkTGpQ",
        "outputId": "23536676-e6bc-4ce9-d537-11370dbb9c9d"
      },
      "execution_count": 84,
      "outputs": [
        {
          "output_type": "stream",
          "name": "stdout",
          "text": [
            "About this file\n",
            "Attribute Information: (classes: edible=e, poisonous=p)\n",
            "\n",
            "cap-shape: bell=b,conical=c,convex=x,flat=f, knobbed=k,sunken=s\n",
            "\n",
            "cap-surface: fibrous=f,grooves=g,scaly=y,smooth=s\n",
            "\n",
            "cap-color: brown=n,buff=b,cinnamon=c,gray=g,green=r,pink=p,purple=u,red=e,white=w,yellow=y\n",
            "\n",
            "bruises: bruises=t,no=f\n",
            "\n",
            "odor: almond=a,anise=l,creosote=c,fishy=y,foul=f,musty=m,none=n,pungent=p,spicy=s\n",
            "\n",
            "gill-attachment: attached=a,descending=d,free=f,notched=n\n",
            "\n",
            "gill-spacing: close=c,crowded=w,distant=d\n",
            "\n",
            "gill-size: broad=b,narrow=n\n",
            "\n",
            "gill-color: black=k,brown=n,buff=b,chocolate=h,gray=g, green=r,orange=o,pink=p,purple=u,red=e,white=w,yellow=y\n",
            "\n",
            "stalk-shape: enlarging=e,tapering=t\n",
            "\n",
            "stalk-root: bulbous=b,club=c,cup=u,equal=e,rhizomorphs=z,rooted=r,missing=?\n",
            "\n",
            "stalk-surface-above-ring: fibrous=f,scaly=y,silky=k,smooth=s\n",
            "\n",
            "stalk-surface-below-ring: fibrous=f,scaly=y,silky=k,smooth=s\n",
            "\n",
            "stalk-color-above-ring: brown=n,buff=b,cinnamon=c,gray=g,orange=o,pink=p,red=e,white=w,yellow=y\n",
            "\n",
            "stalk-color-below-ring: brown=n,buff=b,cinnamon=c,gray=g,orange=o,pink=p,red=e,white=w,yellow=y\n",
            "\n",
            "veil-type: partial=p,universal=u\n",
            "\n",
            "veil-color: brown=n,orange=o,white=w,yellow=y\n",
            "\n",
            "ring-number: none=n,one=o,two=t\n",
            "\n",
            "ring-type: cobwebby=c,evanescent=e,flaring=f,large=l,none=n,pendant=p,sheathing=s,zone=z\n",
            "\n",
            "spore-print-color: black=k,brown=n,buff=b,chocolate=h,green=r,orange=o,purple=u,white=w,yellow=y\n",
            "\n",
            "population: abundant=a,clustered=c,numerous=n,scattered=s,several=v,solitary=y\n",
            "\n",
            "habitat: grasses=g,leaves=l,meadows=m,paths=p,urban=u,waste=w,woods=d\n"
          ]
        }
      ]
    },
    {
      "cell_type": "markdown",
      "source": [
        "Melihat teks deskripsi mengenai dataset yang akan digunakan."
      ],
      "metadata": {
        "id": "EZh4FlFAebN_"
      }
    },
    {
      "cell_type": "markdown",
      "source": [
        "##Observasi Data"
      ],
      "metadata": {
        "id": "n0aHfJ9PemAD"
      }
    },
    {
      "cell_type": "code",
      "source": [
        "#Inisiasi variabel data frame\n",
        "jamur_df = pd.read_csv('Jamur.csv')\n",
        "jamur_df.head()"
      ],
      "metadata": {
        "colab": {
          "base_uri": "https://localhost:8080/",
          "height": 352
        },
        "id": "5IpkmCAxTKBK",
        "outputId": "f1814b88-8989-4e01-98ea-b01bd0561333"
      },
      "execution_count": 86,
      "outputs": [
        {
          "output_type": "execute_result",
          "data": {
            "text/plain": [
              "  class cap-shape cap-surface cap-color bruises odor gill-attachment  \\\n",
              "0     p         x           s         n       t    p               f   \n",
              "1     e         x           s         y       t    a               f   \n",
              "2     e         b           s         w       t    l               f   \n",
              "3     p         x           y         w       t    p               f   \n",
              "4     e         x           s         g       f    n               f   \n",
              "\n",
              "  gill-spacing gill-size gill-color  ... stalk-surface-below-ring  \\\n",
              "0            c         n          k  ...                        s   \n",
              "1            c         b          k  ...                        s   \n",
              "2            c         b          n  ...                        s   \n",
              "3            c         n          n  ...                        s   \n",
              "4            w         b          k  ...                        s   \n",
              "\n",
              "  stalk-color-above-ring stalk-color-below-ring veil-type veil-color  \\\n",
              "0                      w                      w         p          w   \n",
              "1                      w                      w         p          w   \n",
              "2                      w                      w         p          w   \n",
              "3                      w                      w         p          w   \n",
              "4                      w                      w         p          w   \n",
              "\n",
              "  ring-number ring-type spore-print-color population habitat  \n",
              "0           o         p                 k          s       u  \n",
              "1           o         p                 n          n       g  \n",
              "2           o         p                 n          n       m  \n",
              "3           o         p                 k          s       u  \n",
              "4           o         e                 n          a       g  \n",
              "\n",
              "[5 rows x 23 columns]"
            ],
            "text/html": [
              "\n",
              "  <div id=\"df-7c58cec6-6272-4809-964e-7269d8630b8e\">\n",
              "    <div class=\"colab-df-container\">\n",
              "      <div>\n",
              "<style scoped>\n",
              "    .dataframe tbody tr th:only-of-type {\n",
              "        vertical-align: middle;\n",
              "    }\n",
              "\n",
              "    .dataframe tbody tr th {\n",
              "        vertical-align: top;\n",
              "    }\n",
              "\n",
              "    .dataframe thead th {\n",
              "        text-align: right;\n",
              "    }\n",
              "</style>\n",
              "<table border=\"1\" class=\"dataframe\">\n",
              "  <thead>\n",
              "    <tr style=\"text-align: right;\">\n",
              "      <th></th>\n",
              "      <th>class</th>\n",
              "      <th>cap-shape</th>\n",
              "      <th>cap-surface</th>\n",
              "      <th>cap-color</th>\n",
              "      <th>bruises</th>\n",
              "      <th>odor</th>\n",
              "      <th>gill-attachment</th>\n",
              "      <th>gill-spacing</th>\n",
              "      <th>gill-size</th>\n",
              "      <th>gill-color</th>\n",
              "      <th>...</th>\n",
              "      <th>stalk-surface-below-ring</th>\n",
              "      <th>stalk-color-above-ring</th>\n",
              "      <th>stalk-color-below-ring</th>\n",
              "      <th>veil-type</th>\n",
              "      <th>veil-color</th>\n",
              "      <th>ring-number</th>\n",
              "      <th>ring-type</th>\n",
              "      <th>spore-print-color</th>\n",
              "      <th>population</th>\n",
              "      <th>habitat</th>\n",
              "    </tr>\n",
              "  </thead>\n",
              "  <tbody>\n",
              "    <tr>\n",
              "      <th>0</th>\n",
              "      <td>p</td>\n",
              "      <td>x</td>\n",
              "      <td>s</td>\n",
              "      <td>n</td>\n",
              "      <td>t</td>\n",
              "      <td>p</td>\n",
              "      <td>f</td>\n",
              "      <td>c</td>\n",
              "      <td>n</td>\n",
              "      <td>k</td>\n",
              "      <td>...</td>\n",
              "      <td>s</td>\n",
              "      <td>w</td>\n",
              "      <td>w</td>\n",
              "      <td>p</td>\n",
              "      <td>w</td>\n",
              "      <td>o</td>\n",
              "      <td>p</td>\n",
              "      <td>k</td>\n",
              "      <td>s</td>\n",
              "      <td>u</td>\n",
              "    </tr>\n",
              "    <tr>\n",
              "      <th>1</th>\n",
              "      <td>e</td>\n",
              "      <td>x</td>\n",
              "      <td>s</td>\n",
              "      <td>y</td>\n",
              "      <td>t</td>\n",
              "      <td>a</td>\n",
              "      <td>f</td>\n",
              "      <td>c</td>\n",
              "      <td>b</td>\n",
              "      <td>k</td>\n",
              "      <td>...</td>\n",
              "      <td>s</td>\n",
              "      <td>w</td>\n",
              "      <td>w</td>\n",
              "      <td>p</td>\n",
              "      <td>w</td>\n",
              "      <td>o</td>\n",
              "      <td>p</td>\n",
              "      <td>n</td>\n",
              "      <td>n</td>\n",
              "      <td>g</td>\n",
              "    </tr>\n",
              "    <tr>\n",
              "      <th>2</th>\n",
              "      <td>e</td>\n",
              "      <td>b</td>\n",
              "      <td>s</td>\n",
              "      <td>w</td>\n",
              "      <td>t</td>\n",
              "      <td>l</td>\n",
              "      <td>f</td>\n",
              "      <td>c</td>\n",
              "      <td>b</td>\n",
              "      <td>n</td>\n",
              "      <td>...</td>\n",
              "      <td>s</td>\n",
              "      <td>w</td>\n",
              "      <td>w</td>\n",
              "      <td>p</td>\n",
              "      <td>w</td>\n",
              "      <td>o</td>\n",
              "      <td>p</td>\n",
              "      <td>n</td>\n",
              "      <td>n</td>\n",
              "      <td>m</td>\n",
              "    </tr>\n",
              "    <tr>\n",
              "      <th>3</th>\n",
              "      <td>p</td>\n",
              "      <td>x</td>\n",
              "      <td>y</td>\n",
              "      <td>w</td>\n",
              "      <td>t</td>\n",
              "      <td>p</td>\n",
              "      <td>f</td>\n",
              "      <td>c</td>\n",
              "      <td>n</td>\n",
              "      <td>n</td>\n",
              "      <td>...</td>\n",
              "      <td>s</td>\n",
              "      <td>w</td>\n",
              "      <td>w</td>\n",
              "      <td>p</td>\n",
              "      <td>w</td>\n",
              "      <td>o</td>\n",
              "      <td>p</td>\n",
              "      <td>k</td>\n",
              "      <td>s</td>\n",
              "      <td>u</td>\n",
              "    </tr>\n",
              "    <tr>\n",
              "      <th>4</th>\n",
              "      <td>e</td>\n",
              "      <td>x</td>\n",
              "      <td>s</td>\n",
              "      <td>g</td>\n",
              "      <td>f</td>\n",
              "      <td>n</td>\n",
              "      <td>f</td>\n",
              "      <td>w</td>\n",
              "      <td>b</td>\n",
              "      <td>k</td>\n",
              "      <td>...</td>\n",
              "      <td>s</td>\n",
              "      <td>w</td>\n",
              "      <td>w</td>\n",
              "      <td>p</td>\n",
              "      <td>w</td>\n",
              "      <td>o</td>\n",
              "      <td>e</td>\n",
              "      <td>n</td>\n",
              "      <td>a</td>\n",
              "      <td>g</td>\n",
              "    </tr>\n",
              "  </tbody>\n",
              "</table>\n",
              "<p>5 rows × 23 columns</p>\n",
              "</div>\n",
              "      <button class=\"colab-df-convert\" onclick=\"convertToInteractive('df-7c58cec6-6272-4809-964e-7269d8630b8e')\"\n",
              "              title=\"Convert this dataframe to an interactive table.\"\n",
              "              style=\"display:none;\">\n",
              "        \n",
              "  <svg xmlns=\"http://www.w3.org/2000/svg\" height=\"24px\"viewBox=\"0 0 24 24\"\n",
              "       width=\"24px\">\n",
              "    <path d=\"M0 0h24v24H0V0z\" fill=\"none\"/>\n",
              "    <path d=\"M18.56 5.44l.94 2.06.94-2.06 2.06-.94-2.06-.94-.94-2.06-.94 2.06-2.06.94zm-11 1L8.5 8.5l.94-2.06 2.06-.94-2.06-.94L8.5 2.5l-.94 2.06-2.06.94zm10 10l.94 2.06.94-2.06 2.06-.94-2.06-.94-.94-2.06-.94 2.06-2.06.94z\"/><path d=\"M17.41 7.96l-1.37-1.37c-.4-.4-.92-.59-1.43-.59-.52 0-1.04.2-1.43.59L10.3 9.45l-7.72 7.72c-.78.78-.78 2.05 0 2.83L4 21.41c.39.39.9.59 1.41.59.51 0 1.02-.2 1.41-.59l7.78-7.78 2.81-2.81c.8-.78.8-2.07 0-2.86zM5.41 20L4 18.59l7.72-7.72 1.47 1.35L5.41 20z\"/>\n",
              "  </svg>\n",
              "      </button>\n",
              "      \n",
              "  <style>\n",
              "    .colab-df-container {\n",
              "      display:flex;\n",
              "      flex-wrap:wrap;\n",
              "      gap: 12px;\n",
              "    }\n",
              "\n",
              "    .colab-df-convert {\n",
              "      background-color: #E8F0FE;\n",
              "      border: none;\n",
              "      border-radius: 50%;\n",
              "      cursor: pointer;\n",
              "      display: none;\n",
              "      fill: #1967D2;\n",
              "      height: 32px;\n",
              "      padding: 0 0 0 0;\n",
              "      width: 32px;\n",
              "    }\n",
              "\n",
              "    .colab-df-convert:hover {\n",
              "      background-color: #E2EBFA;\n",
              "      box-shadow: 0px 1px 2px rgba(60, 64, 67, 0.3), 0px 1px 3px 1px rgba(60, 64, 67, 0.15);\n",
              "      fill: #174EA6;\n",
              "    }\n",
              "\n",
              "    [theme=dark] .colab-df-convert {\n",
              "      background-color: #3B4455;\n",
              "      fill: #D2E3FC;\n",
              "    }\n",
              "\n",
              "    [theme=dark] .colab-df-convert:hover {\n",
              "      background-color: #434B5C;\n",
              "      box-shadow: 0px 1px 3px 1px rgba(0, 0, 0, 0.15);\n",
              "      filter: drop-shadow(0px 1px 2px rgba(0, 0, 0, 0.3));\n",
              "      fill: #FFFFFF;\n",
              "    }\n",
              "  </style>\n",
              "\n",
              "      <script>\n",
              "        const buttonEl =\n",
              "          document.querySelector('#df-7c58cec6-6272-4809-964e-7269d8630b8e button.colab-df-convert');\n",
              "        buttonEl.style.display =\n",
              "          google.colab.kernel.accessAllowed ? 'block' : 'none';\n",
              "\n",
              "        async function convertToInteractive(key) {\n",
              "          const element = document.querySelector('#df-7c58cec6-6272-4809-964e-7269d8630b8e');\n",
              "          const dataTable =\n",
              "            await google.colab.kernel.invokeFunction('convertToInteractive',\n",
              "                                                     [key], {});\n",
              "          if (!dataTable) return;\n",
              "\n",
              "          const docLinkHtml = 'Like what you see? Visit the ' +\n",
              "            '<a target=\"_blank\" href=https://colab.research.google.com/notebooks/data_table.ipynb>data table notebook</a>'\n",
              "            + ' to learn more about interactive tables.';\n",
              "          element.innerHTML = '';\n",
              "          dataTable['output_type'] = 'display_data';\n",
              "          await google.colab.output.renderOutput(dataTable, element);\n",
              "          const docLink = document.createElement('div');\n",
              "          docLink.innerHTML = docLinkHtml;\n",
              "          element.appendChild(docLink);\n",
              "        }\n",
              "      </script>\n",
              "    </div>\n",
              "  </div>\n",
              "  "
            ]
          },
          "metadata": {},
          "execution_count": 86
        }
      ]
    },
    {
      "cell_type": "markdown",
      "source": [
        "Mencoba melihat isi dari dataset untuk lima baris pertamanya."
      ],
      "metadata": {
        "id": "XDvo9_LeerQR"
      }
    },
    {
      "cell_type": "code",
      "source": [
        "jamur_df.info()"
      ],
      "metadata": {
        "colab": {
          "base_uri": "https://localhost:8080/"
        },
        "id": "GAZSNx1PTORw",
        "outputId": "517229a6-cfd3-46b0-b37e-43e12554e5ef"
      },
      "execution_count": 87,
      "outputs": [
        {
          "output_type": "stream",
          "name": "stdout",
          "text": [
            "<class 'pandas.core.frame.DataFrame'>\n",
            "RangeIndex: 8124 entries, 0 to 8123\n",
            "Data columns (total 23 columns):\n",
            " #   Column                    Non-Null Count  Dtype \n",
            "---  ------                    --------------  ----- \n",
            " 0   class                     8124 non-null   object\n",
            " 1   cap-shape                 8124 non-null   object\n",
            " 2   cap-surface               8124 non-null   object\n",
            " 3   cap-color                 8124 non-null   object\n",
            " 4   bruises                   8124 non-null   object\n",
            " 5   odor                      8124 non-null   object\n",
            " 6   gill-attachment           8124 non-null   object\n",
            " 7   gill-spacing              8124 non-null   object\n",
            " 8   gill-size                 8124 non-null   object\n",
            " 9   gill-color                8124 non-null   object\n",
            " 10  stalk-shape               8124 non-null   object\n",
            " 11  stalk-root                8124 non-null   object\n",
            " 12  stalk-surface-above-ring  8124 non-null   object\n",
            " 13  stalk-surface-below-ring  8124 non-null   object\n",
            " 14  stalk-color-above-ring    8124 non-null   object\n",
            " 15  stalk-color-below-ring    8124 non-null   object\n",
            " 16  veil-type                 8124 non-null   object\n",
            " 17  veil-color                8124 non-null   object\n",
            " 18  ring-number               8124 non-null   object\n",
            " 19  ring-type                 8124 non-null   object\n",
            " 20  spore-print-color         8124 non-null   object\n",
            " 21  population                8124 non-null   object\n",
            " 22  habitat                   8124 non-null   object\n",
            "dtypes: object(23)\n",
            "memory usage: 1.4+ MB\n"
          ]
        }
      ]
    },
    {
      "cell_type": "markdown",
      "source": [
        "Melihat informasi mengenai dataset,terdapat 8124 sampel baris dan 23 kolom dengan kesemua datanya non-null atau tidak ada data null, semua datanya berjenis data kategorik."
      ],
      "metadata": {
        "id": "D7EG3soDe_Fw"
      }
    },
    {
      "cell_type": "code",
      "source": [
        "jamur_df.describe()"
      ],
      "metadata": {
        "colab": {
          "base_uri": "https://localhost:8080/",
          "height": 320
        },
        "id": "EA7UmFGoTWR2",
        "outputId": "87f27a2a-0a4d-466e-d697-758d7241c3a8"
      },
      "execution_count": 88,
      "outputs": [
        {
          "output_type": "execute_result",
          "data": {
            "text/plain": [
              "       class cap-shape cap-surface cap-color bruises  odor gill-attachment  \\\n",
              "count   8124      8124        8124      8124    8124  8124            8124   \n",
              "unique     2         6           4        10       2     9               2   \n",
              "top        e         x           y         n       f     n               f   \n",
              "freq    4208      3656        3244      2284    4748  3528            7914   \n",
              "\n",
              "       gill-spacing gill-size gill-color  ... stalk-surface-below-ring  \\\n",
              "count          8124      8124       8124  ...                     8124   \n",
              "unique            2         2         12  ...                        4   \n",
              "top               c         b          b  ...                        s   \n",
              "freq           6812      5612       1728  ...                     4936   \n",
              "\n",
              "       stalk-color-above-ring stalk-color-below-ring veil-type veil-color  \\\n",
              "count                    8124                   8124      8124       8124   \n",
              "unique                      9                      9         1          4   \n",
              "top                         w                      w         p          w   \n",
              "freq                     4464                   4384      8124       7924   \n",
              "\n",
              "       ring-number ring-type spore-print-color population habitat  \n",
              "count         8124      8124              8124       8124    8124  \n",
              "unique           3         5                 9          6       7  \n",
              "top              o         p                 w          v       d  \n",
              "freq          7488      3968              2388       4040    3148  \n",
              "\n",
              "[4 rows x 23 columns]"
            ],
            "text/html": [
              "\n",
              "  <div id=\"df-d42ad81b-4166-4e09-bf8c-5a2239f6c353\">\n",
              "    <div class=\"colab-df-container\">\n",
              "      <div>\n",
              "<style scoped>\n",
              "    .dataframe tbody tr th:only-of-type {\n",
              "        vertical-align: middle;\n",
              "    }\n",
              "\n",
              "    .dataframe tbody tr th {\n",
              "        vertical-align: top;\n",
              "    }\n",
              "\n",
              "    .dataframe thead th {\n",
              "        text-align: right;\n",
              "    }\n",
              "</style>\n",
              "<table border=\"1\" class=\"dataframe\">\n",
              "  <thead>\n",
              "    <tr style=\"text-align: right;\">\n",
              "      <th></th>\n",
              "      <th>class</th>\n",
              "      <th>cap-shape</th>\n",
              "      <th>cap-surface</th>\n",
              "      <th>cap-color</th>\n",
              "      <th>bruises</th>\n",
              "      <th>odor</th>\n",
              "      <th>gill-attachment</th>\n",
              "      <th>gill-spacing</th>\n",
              "      <th>gill-size</th>\n",
              "      <th>gill-color</th>\n",
              "      <th>...</th>\n",
              "      <th>stalk-surface-below-ring</th>\n",
              "      <th>stalk-color-above-ring</th>\n",
              "      <th>stalk-color-below-ring</th>\n",
              "      <th>veil-type</th>\n",
              "      <th>veil-color</th>\n",
              "      <th>ring-number</th>\n",
              "      <th>ring-type</th>\n",
              "      <th>spore-print-color</th>\n",
              "      <th>population</th>\n",
              "      <th>habitat</th>\n",
              "    </tr>\n",
              "  </thead>\n",
              "  <tbody>\n",
              "    <tr>\n",
              "      <th>count</th>\n",
              "      <td>8124</td>\n",
              "      <td>8124</td>\n",
              "      <td>8124</td>\n",
              "      <td>8124</td>\n",
              "      <td>8124</td>\n",
              "      <td>8124</td>\n",
              "      <td>8124</td>\n",
              "      <td>8124</td>\n",
              "      <td>8124</td>\n",
              "      <td>8124</td>\n",
              "      <td>...</td>\n",
              "      <td>8124</td>\n",
              "      <td>8124</td>\n",
              "      <td>8124</td>\n",
              "      <td>8124</td>\n",
              "      <td>8124</td>\n",
              "      <td>8124</td>\n",
              "      <td>8124</td>\n",
              "      <td>8124</td>\n",
              "      <td>8124</td>\n",
              "      <td>8124</td>\n",
              "    </tr>\n",
              "    <tr>\n",
              "      <th>unique</th>\n",
              "      <td>2</td>\n",
              "      <td>6</td>\n",
              "      <td>4</td>\n",
              "      <td>10</td>\n",
              "      <td>2</td>\n",
              "      <td>9</td>\n",
              "      <td>2</td>\n",
              "      <td>2</td>\n",
              "      <td>2</td>\n",
              "      <td>12</td>\n",
              "      <td>...</td>\n",
              "      <td>4</td>\n",
              "      <td>9</td>\n",
              "      <td>9</td>\n",
              "      <td>1</td>\n",
              "      <td>4</td>\n",
              "      <td>3</td>\n",
              "      <td>5</td>\n",
              "      <td>9</td>\n",
              "      <td>6</td>\n",
              "      <td>7</td>\n",
              "    </tr>\n",
              "    <tr>\n",
              "      <th>top</th>\n",
              "      <td>e</td>\n",
              "      <td>x</td>\n",
              "      <td>y</td>\n",
              "      <td>n</td>\n",
              "      <td>f</td>\n",
              "      <td>n</td>\n",
              "      <td>f</td>\n",
              "      <td>c</td>\n",
              "      <td>b</td>\n",
              "      <td>b</td>\n",
              "      <td>...</td>\n",
              "      <td>s</td>\n",
              "      <td>w</td>\n",
              "      <td>w</td>\n",
              "      <td>p</td>\n",
              "      <td>w</td>\n",
              "      <td>o</td>\n",
              "      <td>p</td>\n",
              "      <td>w</td>\n",
              "      <td>v</td>\n",
              "      <td>d</td>\n",
              "    </tr>\n",
              "    <tr>\n",
              "      <th>freq</th>\n",
              "      <td>4208</td>\n",
              "      <td>3656</td>\n",
              "      <td>3244</td>\n",
              "      <td>2284</td>\n",
              "      <td>4748</td>\n",
              "      <td>3528</td>\n",
              "      <td>7914</td>\n",
              "      <td>6812</td>\n",
              "      <td>5612</td>\n",
              "      <td>1728</td>\n",
              "      <td>...</td>\n",
              "      <td>4936</td>\n",
              "      <td>4464</td>\n",
              "      <td>4384</td>\n",
              "      <td>8124</td>\n",
              "      <td>7924</td>\n",
              "      <td>7488</td>\n",
              "      <td>3968</td>\n",
              "      <td>2388</td>\n",
              "      <td>4040</td>\n",
              "      <td>3148</td>\n",
              "    </tr>\n",
              "  </tbody>\n",
              "</table>\n",
              "<p>4 rows × 23 columns</p>\n",
              "</div>\n",
              "      <button class=\"colab-df-convert\" onclick=\"convertToInteractive('df-d42ad81b-4166-4e09-bf8c-5a2239f6c353')\"\n",
              "              title=\"Convert this dataframe to an interactive table.\"\n",
              "              style=\"display:none;\">\n",
              "        \n",
              "  <svg xmlns=\"http://www.w3.org/2000/svg\" height=\"24px\"viewBox=\"0 0 24 24\"\n",
              "       width=\"24px\">\n",
              "    <path d=\"M0 0h24v24H0V0z\" fill=\"none\"/>\n",
              "    <path d=\"M18.56 5.44l.94 2.06.94-2.06 2.06-.94-2.06-.94-.94-2.06-.94 2.06-2.06.94zm-11 1L8.5 8.5l.94-2.06 2.06-.94-2.06-.94L8.5 2.5l-.94 2.06-2.06.94zm10 10l.94 2.06.94-2.06 2.06-.94-2.06-.94-.94-2.06-.94 2.06-2.06.94z\"/><path d=\"M17.41 7.96l-1.37-1.37c-.4-.4-.92-.59-1.43-.59-.52 0-1.04.2-1.43.59L10.3 9.45l-7.72 7.72c-.78.78-.78 2.05 0 2.83L4 21.41c.39.39.9.59 1.41.59.51 0 1.02-.2 1.41-.59l7.78-7.78 2.81-2.81c.8-.78.8-2.07 0-2.86zM5.41 20L4 18.59l7.72-7.72 1.47 1.35L5.41 20z\"/>\n",
              "  </svg>\n",
              "      </button>\n",
              "      \n",
              "  <style>\n",
              "    .colab-df-container {\n",
              "      display:flex;\n",
              "      flex-wrap:wrap;\n",
              "      gap: 12px;\n",
              "    }\n",
              "\n",
              "    .colab-df-convert {\n",
              "      background-color: #E8F0FE;\n",
              "      border: none;\n",
              "      border-radius: 50%;\n",
              "      cursor: pointer;\n",
              "      display: none;\n",
              "      fill: #1967D2;\n",
              "      height: 32px;\n",
              "      padding: 0 0 0 0;\n",
              "      width: 32px;\n",
              "    }\n",
              "\n",
              "    .colab-df-convert:hover {\n",
              "      background-color: #E2EBFA;\n",
              "      box-shadow: 0px 1px 2px rgba(60, 64, 67, 0.3), 0px 1px 3px 1px rgba(60, 64, 67, 0.15);\n",
              "      fill: #174EA6;\n",
              "    }\n",
              "\n",
              "    [theme=dark] .colab-df-convert {\n",
              "      background-color: #3B4455;\n",
              "      fill: #D2E3FC;\n",
              "    }\n",
              "\n",
              "    [theme=dark] .colab-df-convert:hover {\n",
              "      background-color: #434B5C;\n",
              "      box-shadow: 0px 1px 3px 1px rgba(0, 0, 0, 0.15);\n",
              "      filter: drop-shadow(0px 1px 2px rgba(0, 0, 0, 0.3));\n",
              "      fill: #FFFFFF;\n",
              "    }\n",
              "  </style>\n",
              "\n",
              "      <script>\n",
              "        const buttonEl =\n",
              "          document.querySelector('#df-d42ad81b-4166-4e09-bf8c-5a2239f6c353 button.colab-df-convert');\n",
              "        buttonEl.style.display =\n",
              "          google.colab.kernel.accessAllowed ? 'block' : 'none';\n",
              "\n",
              "        async function convertToInteractive(key) {\n",
              "          const element = document.querySelector('#df-d42ad81b-4166-4e09-bf8c-5a2239f6c353');\n",
              "          const dataTable =\n",
              "            await google.colab.kernel.invokeFunction('convertToInteractive',\n",
              "                                                     [key], {});\n",
              "          if (!dataTable) return;\n",
              "\n",
              "          const docLinkHtml = 'Like what you see? Visit the ' +\n",
              "            '<a target=\"_blank\" href=https://colab.research.google.com/notebooks/data_table.ipynb>data table notebook</a>'\n",
              "            + ' to learn more about interactive tables.';\n",
              "          element.innerHTML = '';\n",
              "          dataTable['output_type'] = 'display_data';\n",
              "          await google.colab.output.renderOutput(dataTable, element);\n",
              "          const docLink = document.createElement('div');\n",
              "          docLink.innerHTML = docLinkHtml;\n",
              "          element.appendChild(docLink);\n",
              "        }\n",
              "      </script>\n",
              "    </div>\n",
              "  </div>\n",
              "  "
            ]
          },
          "metadata": {},
          "execution_count": 88
        }
      ]
    },
    {
      "cell_type": "markdown",
      "source": [
        "Melihat statistik deskriptif dari dataset, karena data pada dataset berjenis kategorik sehingga hanya terdapat jumlah data unik untuk setiap fitur, jumlah data pada setiap fitur, dan jumlah data untuk nilai yang paling banyak di setiap fitur."
      ],
      "metadata": {
        "id": "56n7NDRPfY47"
      }
    },
    {
      "cell_type": "code",
      "source": [
        "jamur_df['class'].value_counts().plot.pie(autopct=('%.2f{}'.format('%%')))"
      ],
      "metadata": {
        "colab": {
          "base_uri": "https://localhost:8080/",
          "height": 265
        },
        "id": "BGbXubmfTgGF",
        "outputId": "314ec00b-7baf-4300-e9c2-7351ea8452ae"
      },
      "execution_count": 89,
      "outputs": [
        {
          "output_type": "execute_result",
          "data": {
            "text/plain": [
              "<matplotlib.axes._subplots.AxesSubplot at 0x7faf9420a3d0>"
            ]
          },
          "metadata": {},
          "execution_count": 89
        },
        {
          "output_type": "display_data",
          "data": {
            "text/plain": [
              "<Figure size 432x288 with 1 Axes>"
            ],
            "image/png": "[encoded data removed]"
          },
          "metadata": {}
        }
      ]
    },
    {
      "cell_type": "markdown",
      "source": [
        "Melihat perbandingan jumlah data untuk setiap nilai pada fitur target dengan visualisai pie chart, untuk huruf e yang berarti jamur tidak beracun memiliki jumlah data sebesar 51.80% dari total keseluruhan data pada fitur target dan sisanya huruf p yang berarti jamur beracun memiliki jumlah data sebesar 48.20%."
      ],
      "metadata": {
        "id": "TEYcqETygOsF"
      }
    },
    {
      "cell_type": "code",
      "source": [
        "jamur_df['class'].value_counts()"
      ],
      "metadata": {
        "colab": {
          "base_uri": "https://localhost:8080/"
        },
        "id": "klHXITJnTjGk",
        "outputId": "d23bdd9c-63e8-468c-b6a4-640eedcd23a8"
      },
      "execution_count": 90,
      "outputs": [
        {
          "output_type": "execute_result",
          "data": {
            "text/plain": [
              "e    4208\n",
              "p    3916\n",
              "Name: class, dtype: int64"
            ]
          },
          "metadata": {},
          "execution_count": 90
        }
      ]
    },
    {
      "cell_type": "markdown",
      "source": [
        "Terlihat untuk jamur tidak beracun memiliki jumlah data sebanyak 4208 dan jamur beracun memiliki jumlah data sebanyak 3916. Selisih dari kedua data tersebut tidak terlalu besar sehingga dapat dikatakan seimbang untuk digunakan nanti."
      ],
      "metadata": {
        "id": "R0z3xWf5g-nZ"
      }
    },
    {
      "cell_type": "markdown",
      "source": [
        "##Encoding Data Kategorik"
      ],
      "metadata": {
        "id": "Q3TLq4TkhuFm"
      }
    },
    {
      "cell_type": "code",
      "source": [
        "oe = OrdinalEncoder()\n",
        "cat_var = jamur_df.select_dtypes(include= [\"object\"]).columns\n",
        "jamur_df[cat_var] = pd.DataFrame(oe.fit_transform(jamur_df[cat_var]))"
      ],
      "metadata": {
        "id": "FkmTxUZUTmAC"
      },
      "execution_count": 91,
      "outputs": []
    },
    {
      "cell_type": "markdown",
      "source": [
        "Akan di encoding atau diubah datanya dari yang kategorik menjadi numerik dengan bantuan module dari sklearn."
      ],
      "metadata": {
        "id": "qtZKF3alhzlQ"
      }
    },
    {
      "cell_type": "code",
      "source": [
        "oe.categories_"
      ],
      "metadata": {
        "colab": {
          "base_uri": "https://localhost:8080/"
        },
        "id": "GTUjjJWyTpOB",
        "outputId": "0b461dbe-12c2-4e17-cffa-590de8624aa4"
      },
      "execution_count": 92,
      "outputs": [
        {
          "output_type": "execute_result",
          "data": {
            "text/plain": [
              "[array(['e', 'p'], dtype=object),\n",
              " array(['b', 'c', 'f', 'k', 's', 'x'], dtype=object),\n",
              " array(['f', 'g', 's', 'y'], dtype=object),\n",
              " array(['b', 'c', 'e', 'g', 'n', 'p', 'r', 'u', 'w', 'y'], dtype=object),\n",
              " array(['f', 't'], dtype=object),\n",
              " array(['a', 'c', 'f', 'l', 'm', 'n', 'p', 's', 'y'], dtype=object),\n",
              " array(['a', 'f'], dtype=object),\n",
              " array(['c', 'w'], dtype=object),\n",
              " array(['b', 'n'], dtype=object),\n",
              " array(['b', 'e', 'g', 'h', 'k', 'n', 'o', 'p', 'r', 'u', 'w', 'y'],\n",
              "       dtype=object),\n",
              " array(['e', 't'], dtype=object),\n",
              " array(['?', 'b', 'c', 'e', 'r'], dtype=object),\n",
              " array(['f', 'k', 's', 'y'], dtype=object),\n",
              " array(['f', 'k', 's', 'y'], dtype=object),\n",
              " array(['b', 'c', 'e', 'g', 'n', 'o', 'p', 'w', 'y'], dtype=object),\n",
              " array(['b', 'c', 'e', 'g', 'n', 'o', 'p', 'w', 'y'], dtype=object),\n",
              " array(['p'], dtype=object),\n",
              " array(['n', 'o', 'w', 'y'], dtype=object),\n",
              " array(['n', 'o', 't'], dtype=object),\n",
              " array(['e', 'f', 'l', 'n', 'p'], dtype=object),\n",
              " array(['b', 'h', 'k', 'n', 'o', 'r', 'u', 'w', 'y'], dtype=object),\n",
              " array(['a', 'c', 'n', 's', 'v', 'y'], dtype=object),\n",
              " array(['d', 'g', 'l', 'm', 'p', 'u', 'w'], dtype=object)]"
            ]
          },
          "metadata": {},
          "execution_count": 92
        }
      ]
    },
    {
      "cell_type": "markdown",
      "source": [
        "Berikut adalah array dari setiap fitur, terlihat bahwa untuk array pertama, yaitu fitur class terdapat 2 entri nilai, yaitu e dan p. Karena e berada di indeks ke-0 dan p indeks ke-1. Maka, setelah diencoding nanti datanya akan berubah, untuk setiap nilai berhuruf e pada fitur class akan berganti jadi angka 0 dan huruf p menjadi 1. Begitu juga dengan semua fitur, menggunakan prinsip yang sama semua nilai huruf/kategorik akan berganti menjadi nilai angka/numerik berdasarkan indeks nya pada array di atas. "
      ],
      "metadata": {
        "id": "7GDvDOtKiMhd"
      }
    },
    {
      "cell_type": "code",
      "source": [
        "jamur_df.head()"
      ],
      "metadata": {
        "colab": {
          "base_uri": "https://localhost:8080/",
          "height": 352
        },
        "id": "BKoPd6UjTw91",
        "outputId": "a8e45335-18fe-4457-e1ca-e14049349c9b"
      },
      "execution_count": 93,
      "outputs": [
        {
          "output_type": "execute_result",
          "data": {
            "text/plain": [
              "   class  cap-shape  cap-surface  cap-color  bruises  odor  gill-attachment  \\\n",
              "0    1.0        5.0          2.0        4.0      1.0   6.0              1.0   \n",
              "1    0.0        5.0          2.0        9.0      1.0   0.0              1.0   \n",
              "2    0.0        0.0          2.0        8.0      1.0   3.0              1.0   \n",
              "3    1.0        5.0          3.0        8.0      1.0   6.0              1.0   \n",
              "4    0.0        5.0          2.0        3.0      0.0   5.0              1.0   \n",
              "\n",
              "   gill-spacing  gill-size  gill-color  ...  stalk-surface-below-ring  \\\n",
              "0           0.0        1.0         4.0  ...                       2.0   \n",
              "1           0.0        0.0         4.0  ...                       2.0   \n",
              "2           0.0        0.0         5.0  ...                       2.0   \n",
              "3           0.0        1.0         5.0  ...                       2.0   \n",
              "4           1.0        0.0         4.0  ...                       2.0   \n",
              "\n",
              "   stalk-color-above-ring  stalk-color-below-ring  veil-type  veil-color  \\\n",
              "0                     7.0                     7.0        0.0         2.0   \n",
              "1                     7.0                     7.0        0.0         2.0   \n",
              "2                     7.0                     7.0        0.0         2.0   \n",
              "3                     7.0                     7.0        0.0         2.0   \n",
              "4                     7.0                     7.0        0.0         2.0   \n",
              "\n",
              "   ring-number  ring-type  spore-print-color  population  habitat  \n",
              "0          1.0        4.0                2.0         3.0      5.0  \n",
              "1          1.0        4.0                3.0         2.0      1.0  \n",
              "2          1.0        4.0                3.0         2.0      3.0  \n",
              "3          1.0        4.0                2.0         3.0      5.0  \n",
              "4          1.0        0.0                3.0         0.0      1.0  \n",
              "\n",
              "[5 rows x 23 columns]"
            ],
            "text/html": [
              "\n",
              "  <div id=\"df-fa70ca0e-0517-4dca-8428-d9b4da79c0c7\">\n",
              "    <div class=\"colab-df-container\">\n",
              "      <div>\n",
              "<style scoped>\n",
              "    .dataframe tbody tr th:only-of-type {\n",
              "        vertical-align: middle;\n",
              "    }\n",
              "\n",
              "    .dataframe tbody tr th {\n",
              "        vertical-align: top;\n",
              "    }\n",
              "\n",
              "    .dataframe thead th {\n",
              "        text-align: right;\n",
              "    }\n",
              "</style>\n",
              "<table border=\"1\" class=\"dataframe\">\n",
              "  <thead>\n",
              "    <tr style=\"text-align: right;\">\n",
              "      <th></th>\n",
              "      <th>class</th>\n",
              "      <th>cap-shape</th>\n",
              "      <th>cap-surface</th>\n",
              "      <th>cap-color</th>\n",
              "      <th>bruises</th>\n",
              "      <th>odor</th>\n",
              "      <th>gill-attachment</th>\n",
              "      <th>gill-spacing</th>\n",
              "      <th>gill-size</th>\n",
              "      <th>gill-color</th>\n",
              "      <th>...</th>\n",
              "      <th>stalk-surface-below-ring</th>\n",
              "      <th>stalk-color-above-ring</th>\n",
              "      <th>stalk-color-below-ring</th>\n",
              "      <th>veil-type</th>\n",
              "      <th>veil-color</th>\n",
              "      <th>ring-number</th>\n",
              "      <th>ring-type</th>\n",
              "      <th>spore-print-color</th>\n",
              "      <th>population</th>\n",
              "      <th>habitat</th>\n",
              "    </tr>\n",
              "  </thead>\n",
              "  <tbody>\n",
              "    <tr>\n",
              "      <th>0</th>\n",
              "      <td>1.0</td>\n",
              "      <td>5.0</td>\n",
              "      <td>2.0</td>\n",
              "      <td>4.0</td>\n",
              "      <td>1.0</td>\n",
              "      <td>6.0</td>\n",
              "      <td>1.0</td>\n",
              "      <td>0.0</td>\n",
              "      <td>1.0</td>\n",
              "      <td>4.0</td>\n",
              "      <td>...</td>\n",
              "      <td>2.0</td>\n",
              "      <td>7.0</td>\n",
              "      <td>7.0</td>\n",
              "      <td>0.0</td>\n",
              "      <td>2.0</td>\n",
              "      <td>1.0</td>\n",
              "      <td>4.0</td>\n",
              "      <td>2.0</td>\n",
              "      <td>3.0</td>\n",
              "      <td>5.0</td>\n",
              "    </tr>\n",
              "    <tr>\n",
              "      <th>1</th>\n",
              "      <td>0.0</td>\n",
              "      <td>5.0</td>\n",
              "      <td>2.0</td>\n",
              "      <td>9.0</td>\n",
              "      <td>1.0</td>\n",
              "      <td>0.0</td>\n",
              "      <td>1.0</td>\n",
              "      <td>0.0</td>\n",
              "      <td>0.0</td>\n",
              "      <td>4.0</td>\n",
              "      <td>...</td>\n",
              "      <td>2.0</td>\n",
              "      <td>7.0</td>\n",
              "      <td>7.0</td>\n",
              "      <td>0.0</td>\n",
              "      <td>2.0</td>\n",
              "      <td>1.0</td>\n",
              "      <td>4.0</td>\n",
              "      <td>3.0</td>\n",
              "      <td>2.0</td>\n",
              "      <td>1.0</td>\n",
              "    </tr>\n",
              "    <tr>\n",
              "      <th>2</th>\n",
              "      <td>0.0</td>\n",
              "      <td>0.0</td>\n",
              "      <td>2.0</td>\n",
              "      <td>8.0</td>\n",
              "      <td>1.0</td>\n",
              "      <td>3.0</td>\n",
              "      <td>1.0</td>\n",
              "      <td>0.0</td>\n",
              "      <td>0.0</td>\n",
              "      <td>5.0</td>\n",
              "      <td>...</td>\n",
              "      <td>2.0</td>\n",
              "      <td>7.0</td>\n",
              "      <td>7.0</td>\n",
              "      <td>0.0</td>\n",
              "      <td>2.0</td>\n",
              "      <td>1.0</td>\n",
              "      <td>4.0</td>\n",
              "      <td>3.0</td>\n",
              "      <td>2.0</td>\n",
              "      <td>3.0</td>\n",
              "    </tr>\n",
              "    <tr>\n",
              "      <th>3</th>\n",
              "      <td>1.0</td>\n",
              "      <td>5.0</td>\n",
              "      <td>3.0</td>\n",
              "      <td>8.0</td>\n",
              "      <td>1.0</td>\n",
              "      <td>6.0</td>\n",
              "      <td>1.0</td>\n",
              "      <td>0.0</td>\n",
              "      <td>1.0</td>\n",
              "      <td>5.0</td>\n",
              "      <td>...</td>\n",
              "      <td>2.0</td>\n",
              "      <td>7.0</td>\n",
              "      <td>7.0</td>\n",
              "      <td>0.0</td>\n",
              "      <td>2.0</td>\n",
              "      <td>1.0</td>\n",
              "      <td>4.0</td>\n",
              "      <td>2.0</td>\n",
              "      <td>3.0</td>\n",
              "      <td>5.0</td>\n",
              "    </tr>\n",
              "    <tr>\n",
              "      <th>4</th>\n",
              "      <td>0.0</td>\n",
              "      <td>5.0</td>\n",
              "      <td>2.0</td>\n",
              "      <td>3.0</td>\n",
              "      <td>0.0</td>\n",
              "      <td>5.0</td>\n",
              "      <td>1.0</td>\n",
              "      <td>1.0</td>\n",
              "      <td>0.0</td>\n",
              "      <td>4.0</td>\n",
              "      <td>...</td>\n",
              "      <td>2.0</td>\n",
              "      <td>7.0</td>\n",
              "      <td>7.0</td>\n",
              "      <td>0.0</td>\n",
              "      <td>2.0</td>\n",
              "      <td>1.0</td>\n",
              "      <td>0.0</td>\n",
              "      <td>3.0</td>\n",
              "      <td>0.0</td>\n",
              "      <td>1.0</td>\n",
              "    </tr>\n",
              "  </tbody>\n",
              "</table>\n",
              "<p>5 rows × 23 columns</p>\n",
              "</div>\n",
              "      <button class=\"colab-df-convert\" onclick=\"convertToInteractive('df-fa70ca0e-0517-4dca-8428-d9b4da79c0c7')\"\n",
              "              title=\"Convert this dataframe to an interactive table.\"\n",
              "              style=\"display:none;\">\n",
              "        \n",
              "  <svg xmlns=\"http://www.w3.org/2000/svg\" height=\"24px\"viewBox=\"0 0 24 24\"\n",
              "       width=\"24px\">\n",
              "    <path d=\"M0 0h24v24H0V0z\" fill=\"none\"/>\n",
              "    <path d=\"M18.56 5.44l.94 2.06.94-2.06 2.06-.94-2.06-.94-.94-2.06-.94 2.06-2.06.94zm-11 1L8.5 8.5l.94-2.06 2.06-.94-2.06-.94L8.5 2.5l-.94 2.06-2.06.94zm10 10l.94 2.06.94-2.06 2.06-.94-2.06-.94-.94-2.06-.94 2.06-2.06.94z\"/><path d=\"M17.41 7.96l-1.37-1.37c-.4-.4-.92-.59-1.43-.59-.52 0-1.04.2-1.43.59L10.3 9.45l-7.72 7.72c-.78.78-.78 2.05 0 2.83L4 21.41c.39.39.9.59 1.41.59.51 0 1.02-.2 1.41-.59l7.78-7.78 2.81-2.81c.8-.78.8-2.07 0-2.86zM5.41 20L4 18.59l7.72-7.72 1.47 1.35L5.41 20z\"/>\n",
              "  </svg>\n",
              "      </button>\n",
              "      \n",
              "  <style>\n",
              "    .colab-df-container {\n",
              "      display:flex;\n",
              "      flex-wrap:wrap;\n",
              "      gap: 12px;\n",
              "    }\n",
              "\n",
              "    .colab-df-convert {\n",
              "      background-color: #E8F0FE;\n",
              "      border: none;\n",
              "      border-radius: 50%;\n",
              "      cursor: pointer;\n",
              "      display: none;\n",
              "      fill: #1967D2;\n",
              "      height: 32px;\n",
              "      padding: 0 0 0 0;\n",
              "      width: 32px;\n",
              "    }\n",
              "\n",
              "    .colab-df-convert:hover {\n",
              "      background-color: #E2EBFA;\n",
              "      box-shadow: 0px 1px 2px rgba(60, 64, 67, 0.3), 0px 1px 3px 1px rgba(60, 64, 67, 0.15);\n",
              "      fill: #174EA6;\n",
              "    }\n",
              "\n",
              "    [theme=dark] .colab-df-convert {\n",
              "      background-color: #3B4455;\n",
              "      fill: #D2E3FC;\n",
              "    }\n",
              "\n",
              "    [theme=dark] .colab-df-convert:hover {\n",
              "      background-color: #434B5C;\n",
              "      box-shadow: 0px 1px 3px 1px rgba(0, 0, 0, 0.15);\n",
              "      filter: drop-shadow(0px 1px 2px rgba(0, 0, 0, 0.3));\n",
              "      fill: #FFFFFF;\n",
              "    }\n",
              "  </style>\n",
              "\n",
              "      <script>\n",
              "        const buttonEl =\n",
              "          document.querySelector('#df-fa70ca0e-0517-4dca-8428-d9b4da79c0c7 button.colab-df-convert');\n",
              "        buttonEl.style.display =\n",
              "          google.colab.kernel.accessAllowed ? 'block' : 'none';\n",
              "\n",
              "        async function convertToInteractive(key) {\n",
              "          const element = document.querySelector('#df-fa70ca0e-0517-4dca-8428-d9b4da79c0c7');\n",
              "          const dataTable =\n",
              "            await google.colab.kernel.invokeFunction('convertToInteractive',\n",
              "                                                     [key], {});\n",
              "          if (!dataTable) return;\n",
              "\n",
              "          const docLinkHtml = 'Like what you see? Visit the ' +\n",
              "            '<a target=\"_blank\" href=https://colab.research.google.com/notebooks/data_table.ipynb>data table notebook</a>'\n",
              "            + ' to learn more about interactive tables.';\n",
              "          element.innerHTML = '';\n",
              "          dataTable['output_type'] = 'display_data';\n",
              "          await google.colab.output.renderOutput(dataTable, element);\n",
              "          const docLink = document.createElement('div');\n",
              "          docLink.innerHTML = docLinkHtml;\n",
              "          element.appendChild(docLink);\n",
              "        }\n",
              "      </script>\n",
              "    </div>\n",
              "  </div>\n",
              "  "
            ]
          },
          "metadata": {},
          "execution_count": 93
        }
      ]
    },
    {
      "cell_type": "markdown",
      "source": [
        "Tampilan dataset terbaru setelah dilakukan encoding data kategorik, semua data sudah berubah menjadi numerik."
      ],
      "metadata": {
        "id": "qVt7C_vFjhTp"
      }
    },
    {
      "cell_type": "markdown",
      "source": [
        "##Selection Feature"
      ],
      "metadata": {
        "id": "3MI_9z59jt0a"
      }
    },
    {
      "cell_type": "code",
      "source": [
        "#feature variabels\n",
        "X = jamur_df.iloc[:,1:]\n",
        "\n",
        "#target variable\n",
        "y = jamur_df.iloc[:,0]"
      ],
      "metadata": {
        "id": "EuGDm_sgTz5s"
      },
      "execution_count": 94,
      "outputs": []
    },
    {
      "cell_type": "markdown",
      "source": [
        "Data dislicing untuk menentukan mana yang sebagai fitur target dan fitur pendukung."
      ],
      "metadata": {
        "id": "QY4DcZHpjymO"
      }
    },
    {
      "cell_type": "code",
      "source": [
        "X.head()"
      ],
      "metadata": {
        "colab": {
          "base_uri": "https://localhost:8080/",
          "height": 352
        },
        "id": "QEnLzTjGT2k9",
        "outputId": "d188c1ac-a974-4846-8c70-a9e35797eca2"
      },
      "execution_count": 95,
      "outputs": [
        {
          "output_type": "execute_result",
          "data": {
            "text/plain": [
              "   cap-shape  cap-surface  cap-color  bruises  odor  gill-attachment  \\\n",
              "0        5.0          2.0        4.0      1.0   6.0              1.0   \n",
              "1        5.0          2.0        9.0      1.0   0.0              1.0   \n",
              "2        0.0          2.0        8.0      1.0   3.0              1.0   \n",
              "3        5.0          3.0        8.0      1.0   6.0              1.0   \n",
              "4        5.0          2.0        3.0      0.0   5.0              1.0   \n",
              "\n",
              "   gill-spacing  gill-size  gill-color  stalk-shape  ...  \\\n",
              "0           0.0        1.0         4.0          0.0  ...   \n",
              "1           0.0        0.0         4.0          0.0  ...   \n",
              "2           0.0        0.0         5.0          0.0  ...   \n",
              "3           0.0        1.0         5.0          0.0  ...   \n",
              "4           1.0        0.0         4.0          1.0  ...   \n",
              "\n",
              "   stalk-surface-below-ring  stalk-color-above-ring  stalk-color-below-ring  \\\n",
              "0                       2.0                     7.0                     7.0   \n",
              "1                       2.0                     7.0                     7.0   \n",
              "2                       2.0                     7.0                     7.0   \n",
              "3                       2.0                     7.0                     7.0   \n",
              "4                       2.0                     7.0                     7.0   \n",
              "\n",
              "   veil-type  veil-color  ring-number  ring-type  spore-print-color  \\\n",
              "0        0.0         2.0          1.0        4.0                2.0   \n",
              "1        0.0         2.0          1.0        4.0                3.0   \n",
              "2        0.0         2.0          1.0        4.0                3.0   \n",
              "3        0.0         2.0          1.0        4.0                2.0   \n",
              "4        0.0         2.0          1.0        0.0                3.0   \n",
              "\n",
              "   population  habitat  \n",
              "0         3.0      5.0  \n",
              "1         2.0      1.0  \n",
              "2         2.0      3.0  \n",
              "3         3.0      5.0  \n",
              "4         0.0      1.0  \n",
              "\n",
              "[5 rows x 22 columns]"
            ],
            "text/html": [
              "\n",
              "  <div id=\"df-2a93660b-1ca4-4657-b5bc-fc175850ea8c\">\n",
              "    <div class=\"colab-df-container\">\n",
              "      <div>\n",
              "<style scoped>\n",
              "    .dataframe tbody tr th:only-of-type {\n",
              "        vertical-align: middle;\n",
              "    }\n",
              "\n",
              "    .dataframe tbody tr th {\n",
              "        vertical-align: top;\n",
              "    }\n",
              "\n",
              "    .dataframe thead th {\n",
              "        text-align: right;\n",
              "    }\n",
              "</style>\n",
              "<table border=\"1\" class=\"dataframe\">\n",
              "  <thead>\n",
              "    <tr style=\"text-align: right;\">\n",
              "      <th></th>\n",
              "      <th>cap-shape</th>\n",
              "      <th>cap-surface</th>\n",
              "      <th>cap-color</th>\n",
              "      <th>bruises</th>\n",
              "      <th>odor</th>\n",
              "      <th>gill-attachment</th>\n",
              "      <th>gill-spacing</th>\n",
              "      <th>gill-size</th>\n",
              "      <th>gill-color</th>\n",
              "      <th>stalk-shape</th>\n",
              "      <th>...</th>\n",
              "      <th>stalk-surface-below-ring</th>\n",
              "      <th>stalk-color-above-ring</th>\n",
              "      <th>stalk-color-below-ring</th>\n",
              "      <th>veil-type</th>\n",
              "      <th>veil-color</th>\n",
              "      <th>ring-number</th>\n",
              "      <th>ring-type</th>\n",
              "      <th>spore-print-color</th>\n",
              "      <th>population</th>\n",
              "      <th>habitat</th>\n",
              "    </tr>\n",
              "  </thead>\n",
              "  <tbody>\n",
              "    <tr>\n",
              "      <th>0</th>\n",
              "      <td>5.0</td>\n",
              "      <td>2.0</td>\n",
              "      <td>4.0</td>\n",
              "      <td>1.0</td>\n",
              "      <td>6.0</td>\n",
              "      <td>1.0</td>\n",
              "      <td>0.0</td>\n",
              "      <td>1.0</td>\n",
              "      <td>4.0</td>\n",
              "      <td>0.0</td>\n",
              "      <td>...</td>\n",
              "      <td>2.0</td>\n",
              "      <td>7.0</td>\n",
              "      <td>7.0</td>\n",
              "      <td>0.0</td>\n",
              "      <td>2.0</td>\n",
              "      <td>1.0</td>\n",
              "      <td>4.0</td>\n",
              "      <td>2.0</td>\n",
              "      <td>3.0</td>\n",
              "      <td>5.0</td>\n",
              "    </tr>\n",
              "    <tr>\n",
              "      <th>1</th>\n",
              "      <td>5.0</td>\n",
              "      <td>2.0</td>\n",
              "      <td>9.0</td>\n",
              "      <td>1.0</td>\n",
              "      <td>0.0</td>\n",
              "      <td>1.0</td>\n",
              "      <td>0.0</td>\n",
              "      <td>0.0</td>\n",
              "      <td>4.0</td>\n",
              "      <td>0.0</td>\n",
              "      <td>...</td>\n",
              "      <td>2.0</td>\n",
              "      <td>7.0</td>\n",
              "      <td>7.0</td>\n",
              "      <td>0.0</td>\n",
              "      <td>2.0</td>\n",
              "      <td>1.0</td>\n",
              "      <td>4.0</td>\n",
              "      <td>3.0</td>\n",
              "      <td>2.0</td>\n",
              "      <td>1.0</td>\n",
              "    </tr>\n",
              "    <tr>\n",
              "      <th>2</th>\n",
              "      <td>0.0</td>\n",
              "      <td>2.0</td>\n",
              "      <td>8.0</td>\n",
              "      <td>1.0</td>\n",
              "      <td>3.0</td>\n",
              "      <td>1.0</td>\n",
              "      <td>0.0</td>\n",
              "      <td>0.0</td>\n",
              "      <td>5.0</td>\n",
              "      <td>0.0</td>\n",
              "      <td>...</td>\n",
              "      <td>2.0</td>\n",
              "      <td>7.0</td>\n",
              "      <td>7.0</td>\n",
              "      <td>0.0</td>\n",
              "      <td>2.0</td>\n",
              "      <td>1.0</td>\n",
              "      <td>4.0</td>\n",
              "      <td>3.0</td>\n",
              "      <td>2.0</td>\n",
              "      <td>3.0</td>\n",
              "    </tr>\n",
              "    <tr>\n",
              "      <th>3</th>\n",
              "      <td>5.0</td>\n",
              "      <td>3.0</td>\n",
              "      <td>8.0</td>\n",
              "      <td>1.0</td>\n",
              "      <td>6.0</td>\n",
              "      <td>1.0</td>\n",
              "      <td>0.0</td>\n",
              "      <td>1.0</td>\n",
              "      <td>5.0</td>\n",
              "      <td>0.0</td>\n",
              "      <td>...</td>\n",
              "      <td>2.0</td>\n",
              "      <td>7.0</td>\n",
              "      <td>7.0</td>\n",
              "      <td>0.0</td>\n",
              "      <td>2.0</td>\n",
              "      <td>1.0</td>\n",
              "      <td>4.0</td>\n",
              "      <td>2.0</td>\n",
              "      <td>3.0</td>\n",
              "      <td>5.0</td>\n",
              "    </tr>\n",
              "    <tr>\n",
              "      <th>4</th>\n",
              "      <td>5.0</td>\n",
              "      <td>2.0</td>\n",
              "      <td>3.0</td>\n",
              "      <td>0.0</td>\n",
              "      <td>5.0</td>\n",
              "      <td>1.0</td>\n",
              "      <td>1.0</td>\n",
              "      <td>0.0</td>\n",
              "      <td>4.0</td>\n",
              "      <td>1.0</td>\n",
              "      <td>...</td>\n",
              "      <td>2.0</td>\n",
              "      <td>7.0</td>\n",
              "      <td>7.0</td>\n",
              "      <td>0.0</td>\n",
              "      <td>2.0</td>\n",
              "      <td>1.0</td>\n",
              "      <td>0.0</td>\n",
              "      <td>3.0</td>\n",
              "      <td>0.0</td>\n",
              "      <td>1.0</td>\n",
              "    </tr>\n",
              "  </tbody>\n",
              "</table>\n",
              "<p>5 rows × 22 columns</p>\n",
              "</div>\n",
              "      <button class=\"colab-df-convert\" onclick=\"convertToInteractive('df-2a93660b-1ca4-4657-b5bc-fc175850ea8c')\"\n",
              "              title=\"Convert this dataframe to an interactive table.\"\n",
              "              style=\"display:none;\">\n",
              "        \n",
              "  <svg xmlns=\"http://www.w3.org/2000/svg\" height=\"24px\"viewBox=\"0 0 24 24\"\n",
              "       width=\"24px\">\n",
              "    <path d=\"M0 0h24v24H0V0z\" fill=\"none\"/>\n",
              "    <path d=\"M18.56 5.44l.94 2.06.94-2.06 2.06-.94-2.06-.94-.94-2.06-.94 2.06-2.06.94zm-11 1L8.5 8.5l.94-2.06 2.06-.94-2.06-.94L8.5 2.5l-.94 2.06-2.06.94zm10 10l.94 2.06.94-2.06 2.06-.94-2.06-.94-.94-2.06-.94 2.06-2.06.94z\"/><path d=\"M17.41 7.96l-1.37-1.37c-.4-.4-.92-.59-1.43-.59-.52 0-1.04.2-1.43.59L10.3 9.45l-7.72 7.72c-.78.78-.78 2.05 0 2.83L4 21.41c.39.39.9.59 1.41.59.51 0 1.02-.2 1.41-.59l7.78-7.78 2.81-2.81c.8-.78.8-2.07 0-2.86zM5.41 20L4 18.59l7.72-7.72 1.47 1.35L5.41 20z\"/>\n",
              "  </svg>\n",
              "      </button>\n",
              "      \n",
              "  <style>\n",
              "    .colab-df-container {\n",
              "      display:flex;\n",
              "      flex-wrap:wrap;\n",
              "      gap: 12px;\n",
              "    }\n",
              "\n",
              "    .colab-df-convert {\n",
              "      background-color: #E8F0FE;\n",
              "      border: none;\n",
              "      border-radius: 50%;\n",
              "      cursor: pointer;\n",
              "      display: none;\n",
              "      fill: #1967D2;\n",
              "      height: 32px;\n",
              "      padding: 0 0 0 0;\n",
              "      width: 32px;\n",
              "    }\n",
              "\n",
              "    .colab-df-convert:hover {\n",
              "      background-color: #E2EBFA;\n",
              "      box-shadow: 0px 1px 2px rgba(60, 64, 67, 0.3), 0px 1px 3px 1px rgba(60, 64, 67, 0.15);\n",
              "      fill: #174EA6;\n",
              "    }\n",
              "\n",
              "    [theme=dark] .colab-df-convert {\n",
              "      background-color: #3B4455;\n",
              "      fill: #D2E3FC;\n",
              "    }\n",
              "\n",
              "    [theme=dark] .colab-df-convert:hover {\n",
              "      background-color: #434B5C;\n",
              "      box-shadow: 0px 1px 3px 1px rgba(0, 0, 0, 0.15);\n",
              "      filter: drop-shadow(0px 1px 2px rgba(0, 0, 0, 0.3));\n",
              "      fill: #FFFFFF;\n",
              "    }\n",
              "  </style>\n",
              "\n",
              "      <script>\n",
              "        const buttonEl =\n",
              "          document.querySelector('#df-2a93660b-1ca4-4657-b5bc-fc175850ea8c button.colab-df-convert');\n",
              "        buttonEl.style.display =\n",
              "          google.colab.kernel.accessAllowed ? 'block' : 'none';\n",
              "\n",
              "        async function convertToInteractive(key) {\n",
              "          const element = document.querySelector('#df-2a93660b-1ca4-4657-b5bc-fc175850ea8c');\n",
              "          const dataTable =\n",
              "            await google.colab.kernel.invokeFunction('convertToInteractive',\n",
              "                                                     [key], {});\n",
              "          if (!dataTable) return;\n",
              "\n",
              "          const docLinkHtml = 'Like what you see? Visit the ' +\n",
              "            '<a target=\"_blank\" href=https://colab.research.google.com/notebooks/data_table.ipynb>data table notebook</a>'\n",
              "            + ' to learn more about interactive tables.';\n",
              "          element.innerHTML = '';\n",
              "          dataTable['output_type'] = 'display_data';\n",
              "          await google.colab.output.renderOutput(dataTable, element);\n",
              "          const docLink = document.createElement('div');\n",
              "          docLink.innerHTML = docLinkHtml;\n",
              "          element.appendChild(docLink);\n",
              "        }\n",
              "      </script>\n",
              "    </div>\n",
              "  </div>\n",
              "  "
            ]
          },
          "metadata": {},
          "execution_count": 95
        }
      ]
    },
    {
      "cell_type": "code",
      "source": [
        "y.head()"
      ],
      "metadata": {
        "colab": {
          "base_uri": "https://localhost:8080/"
        },
        "id": "btd6wsMLT6kk",
        "outputId": "eb0e9e23-d50a-4ad4-b9a3-c7a61ef9f252"
      },
      "execution_count": 96,
      "outputs": [
        {
          "output_type": "execute_result",
          "data": {
            "text/plain": [
              "0    1.0\n",
              "1    0.0\n",
              "2    0.0\n",
              "3    1.0\n",
              "4    0.0\n",
              "Name: class, dtype: float64"
            ]
          },
          "metadata": {},
          "execution_count": 96
        }
      ]
    },
    {
      "cell_type": "markdown",
      "source": [
        "##Scaling Dataset"
      ],
      "metadata": {
        "id": "TcZFnzl1kCcG"
      }
    },
    {
      "cell_type": "code",
      "source": [
        "std_scale = StandardScaler()\n",
        "X.iloc[:,:] = std_scale.fit_transform(X)\n",
        "X"
      ],
      "metadata": {
        "colab": {
          "base_uri": "https://localhost:8080/",
          "height": 540
        },
        "id": "U6yriQv0UB56",
        "outputId": "8fa296db-9f20-49b1-a106-c4629ea8af7c"
      },
      "execution_count": 97,
      "outputs": [
        {
          "output_type": "execute_result",
          "data": {
            "text/plain": [
              "      cap-shape  cap-surface  cap-color   bruises      odor  gill-attachment  \\\n",
              "0      1.029712     0.140128  -0.198250  1.185917  0.881938         0.162896   \n",
              "1      1.029712     0.140128   1.765874  1.185917 -1.970316         0.162896   \n",
              "2     -2.087047     0.140128   1.373049  1.185917 -0.544189         0.162896   \n",
              "3      1.029712     0.953270   1.373049  1.185917  0.881938         0.162896   \n",
              "4      1.029712     0.140128  -0.591075 -0.843230  0.406562         0.162896   \n",
              "...         ...          ...        ...       ...       ...              ...   \n",
              "8119  -0.216992     0.140128  -0.198250 -0.843230  0.406562        -6.138869   \n",
              "8120   1.029712     0.140128  -0.198250 -0.843230  0.406562        -6.138869   \n",
              "8121  -0.840343     0.140128  -0.198250 -0.843230  0.406562        -6.138869   \n",
              "8122  -0.216992     0.953270  -0.198250 -0.843230  1.832689         0.162896   \n",
              "8123   1.029712     0.140128  -0.198250 -0.843230  0.406562        -6.138869   \n",
              "\n",
              "      gill-spacing  gill-size  gill-color  stalk-shape  ...  \\\n",
              "0        -0.438864   1.494683   -0.228998    -1.144806  ...   \n",
              "1        -0.438864  -0.669038   -0.228998    -1.144806  ...   \n",
              "2        -0.438864  -0.669038    0.053477    -1.144806  ...   \n",
              "3        -0.438864   1.494683    0.053477    -1.144806  ...   \n",
              "4         2.278612  -0.669038   -0.228998     0.873511  ...   \n",
              "...            ...        ...         ...          ...  ...   \n",
              "8119     -0.438864  -0.669038    1.748325    -1.144806  ...   \n",
              "8120     -0.438864  -0.669038    1.748325    -1.144806  ...   \n",
              "8121     -0.438864  -0.669038    0.053477    -1.144806  ...   \n",
              "8122     -0.438864   1.494683   -1.358896     0.873511  ...   \n",
              "8123     -0.438864  -0.669038    1.748325    -1.144806  ...   \n",
              "\n",
              "      stalk-surface-below-ring  stalk-color-above-ring  \\\n",
              "0                     0.586385                0.622441   \n",
              "1                     0.586385                0.622441   \n",
              "2                     0.586385                0.622441   \n",
              "3                     0.586385                0.622441   \n",
              "4                     0.586385                0.622441   \n",
              "...                        ...                     ...   \n",
              "8119                  0.586385               -0.429288   \n",
              "8120                  0.586385               -0.429288   \n",
              "8121                  0.586385               -0.429288   \n",
              "8122                 -0.893053                0.622441   \n",
              "8123                  0.586385               -0.429288   \n",
              "\n",
              "      stalk-color-below-ring  veil-type  veil-color  ring-number  ring-type  \\\n",
              "0                   0.631991        0.0    0.142037    -0.256132   0.948081   \n",
              "1                   0.631991        0.0    0.142037    -0.256132   0.948081   \n",
              "2                   0.631991        0.0    0.142037    -0.256132   0.948081   \n",
              "3                   0.631991        0.0    0.142037    -0.256132   0.948081   \n",
              "4                   0.631991        0.0    0.142037    -0.256132  -1.272216   \n",
              "...                      ...        ...         ...          ...        ...   \n",
              "8119               -0.416681        0.0   -3.979055    -0.256132   0.948081   \n",
              "8120               -0.416681        0.0   -8.100146    -0.256132   0.948081   \n",
              "8121               -0.416681        0.0   -3.979055    -0.256132   0.948081   \n",
              "8122                0.631991        0.0    0.142037    -0.256132  -1.272216   \n",
              "8123               -0.416681        0.0   -3.979055    -0.256132   0.948081   \n",
              "\n",
              "      spore-print-color  population   habitat  \n",
              "0             -0.670195   -0.514389  2.030028  \n",
              "1             -0.250471   -1.313108 -0.295730  \n",
              "2             -0.250471   -1.313108  0.867149  \n",
              "3             -0.670195   -0.514389  2.030028  \n",
              "4             -0.250471   -2.910546 -0.295730  \n",
              "...                 ...         ...       ...  \n",
              "8119          -1.509643   -2.111827  0.285710  \n",
              "8120          -1.509643    0.284330  0.285710  \n",
              "8121          -1.509643   -2.111827  0.285710  \n",
              "8122           1.428426    0.284330  0.285710  \n",
              "8123           0.169254   -2.111827  0.285710  \n",
              "\n",
              "[8124 rows x 22 columns]"
            ],
            "text/html": [
              "\n",
              "  <div id=\"df-936a85da-1c56-47ec-a1e3-9c8bcfc3902d\">\n",
              "    <div class=\"colab-df-container\">\n",
              "      <div>\n",
              "<style scoped>\n",
              "    .dataframe tbody tr th:only-of-type {\n",
              "        vertical-align: middle;\n",
              "    }\n",
              "\n",
              "    .dataframe tbody tr th {\n",
              "        vertical-align: top;\n",
              "    }\n",
              "\n",
              "    .dataframe thead th {\n",
              "        text-align: right;\n",
              "    }\n",
              "</style>\n",
              "<table border=\"1\" class=\"dataframe\">\n",
              "  <thead>\n",
              "    <tr style=\"text-align: right;\">\n",
              "      <th></th>\n",
              "      <th>cap-shape</th>\n",
              "      <th>cap-surface</th>\n",
              "      <th>cap-color</th>\n",
              "      <th>bruises</th>\n",
              "      <th>odor</th>\n",
              "      <th>gill-attachment</th>\n",
              "      <th>gill-spacing</th>\n",
              "      <th>gill-size</th>\n",
              "      <th>gill-color</th>\n",
              "      <th>stalk-shape</th>\n",
              "      <th>...</th>\n",
              "      <th>stalk-surface-below-ring</th>\n",
              "      <th>stalk-color-above-ring</th>\n",
              "      <th>stalk-color-below-ring</th>\n",
              "      <th>veil-type</th>\n",
              "      <th>veil-color</th>\n",
              "      <th>ring-number</th>\n",
              "      <th>ring-type</th>\n",
              "      <th>spore-print-color</th>\n",
              "      <th>population</th>\n",
              "      <th>habitat</th>\n",
              "    </tr>\n",
              "  </thead>\n",
              "  <tbody>\n",
              "    <tr>\n",
              "      <th>0</th>\n",
              "      <td>1.029712</td>\n",
              "      <td>0.140128</td>\n",
              "      <td>-0.198250</td>\n",
              "      <td>1.185917</td>\n",
              "      <td>0.881938</td>\n",
              "      <td>0.162896</td>\n",
              "      <td>-0.438864</td>\n",
              "      <td>1.494683</td>\n",
              "      <td>-0.228998</td>\n",
              "      <td>-1.144806</td>\n",
              "      <td>...</td>\n",
              "      <td>0.586385</td>\n",
              "      <td>0.622441</td>\n",
              "      <td>0.631991</td>\n",
              "      <td>0.0</td>\n",
              "      <td>0.142037</td>\n",
              "      <td>-0.256132</td>\n",
              "      <td>0.948081</td>\n",
              "      <td>-0.670195</td>\n",
              "      <td>-0.514389</td>\n",
              "      <td>2.030028</td>\n",
              "    </tr>\n",
              "    <tr>\n",
              "      <th>1</th>\n",
              "      <td>1.029712</td>\n",
              "      <td>0.140128</td>\n",
              "      <td>1.765874</td>\n",
              "      <td>1.185917</td>\n",
              "      <td>-1.970316</td>\n",
              "      <td>0.162896</td>\n",
              "      <td>-0.438864</td>\n",
              "      <td>-0.669038</td>\n",
              "      <td>-0.228998</td>\n",
              "      <td>-1.144806</td>\n",
              "      <td>...</td>\n",
              "      <td>0.586385</td>\n",
              "      <td>0.622441</td>\n",
              "      <td>0.631991</td>\n",
              "      <td>0.0</td>\n",
              "      <td>0.142037</td>\n",
              "      <td>-0.256132</td>\n",
              "      <td>0.948081</td>\n",
              "      <td>-0.250471</td>\n",
              "      <td>-1.313108</td>\n",
              "      <td>-0.295730</td>\n",
              "    </tr>\n",
              "    <tr>\n",
              "      <th>2</th>\n",
              "      <td>-2.087047</td>\n",
              "      <td>0.140128</td>\n",
              "      <td>1.373049</td>\n",
              "      <td>1.185917</td>\n",
              "      <td>-0.544189</td>\n",
              "      <td>0.162896</td>\n",
              "      <td>-0.438864</td>\n",
              "      <td>-0.669038</td>\n",
              "      <td>0.053477</td>\n",
              "      <td>-1.144806</td>\n",
              "      <td>...</td>\n",
              "      <td>0.586385</td>\n",
              "      <td>0.622441</td>\n",
              "      <td>0.631991</td>\n",
              "      <td>0.0</td>\n",
              "      <td>0.142037</td>\n",
              "      <td>-0.256132</td>\n",
              "      <td>0.948081</td>\n",
              "      <td>-0.250471</td>\n",
              "      <td>-1.313108</td>\n",
              "      <td>0.867149</td>\n",
              "    </tr>\n",
              "    <tr>\n",
              "      <th>3</th>\n",
              "      <td>1.029712</td>\n",
              "      <td>0.953270</td>\n",
              "      <td>1.373049</td>\n",
              "      <td>1.185917</td>\n",
              "      <td>0.881938</td>\n",
              "      <td>0.162896</td>\n",
              "      <td>-0.438864</td>\n",
              "      <td>1.494683</td>\n",
              "      <td>0.053477</td>\n",
              "      <td>-1.144806</td>\n",
              "      <td>...</td>\n",
              "      <td>0.586385</td>\n",
              "      <td>0.622441</td>\n",
              "      <td>0.631991</td>\n",
              "      <td>0.0</td>\n",
              "      <td>0.142037</td>\n",
              "      <td>-0.256132</td>\n",
              "      <td>0.948081</td>\n",
              "      <td>-0.670195</td>\n",
              "      <td>-0.514389</td>\n",
              "      <td>2.030028</td>\n",
              "    </tr>\n",
              "    <tr>\n",
              "      <th>4</th>\n",
              "      <td>1.029712</td>\n",
              "      <td>0.140128</td>\n",
              "      <td>-0.591075</td>\n",
              "      <td>-0.843230</td>\n",
              "      <td>0.406562</td>\n",
              "      <td>0.162896</td>\n",
              "      <td>2.278612</td>\n",
              "      <td>-0.669038</td>\n",
              "      <td>-0.228998</td>\n",
              "      <td>0.873511</td>\n",
              "      <td>...</td>\n",
              "      <td>0.586385</td>\n",
              "      <td>0.622441</td>\n",
              "      <td>0.631991</td>\n",
              "      <td>0.0</td>\n",
              "      <td>0.142037</td>\n",
              "      <td>-0.256132</td>\n",
              "      <td>-1.272216</td>\n",
              "      <td>-0.250471</td>\n",
              "      <td>-2.910546</td>\n",
              "      <td>-0.295730</td>\n",
              "    </tr>\n",
              "    <tr>\n",
              "      <th>...</th>\n",
              "      <td>...</td>\n",
              "      <td>...</td>\n",
              "      <td>...</td>\n",
              "      <td>...</td>\n",
              "      <td>...</td>\n",
              "      <td>...</td>\n",
              "      <td>...</td>\n",
              "      <td>...</td>\n",
              "      <td>...</td>\n",
              "      <td>...</td>\n",
              "      <td>...</td>\n",
              "      <td>...</td>\n",
              "      <td>...</td>\n",
              "      <td>...</td>\n",
              "      <td>...</td>\n",
              "      <td>...</td>\n",
              "      <td>...</td>\n",
              "      <td>...</td>\n",
              "      <td>...</td>\n",
              "      <td>...</td>\n",
              "      <td>...</td>\n",
              "    </tr>\n",
              "    <tr>\n",
              "      <th>8119</th>\n",
              "      <td>-0.216992</td>\n",
              "      <td>0.140128</td>\n",
              "      <td>-0.198250</td>\n",
              "      <td>-0.843230</td>\n",
              "      <td>0.406562</td>\n",
              "      <td>-6.138869</td>\n",
              "      <td>-0.438864</td>\n",
              "      <td>-0.669038</td>\n",
              "      <td>1.748325</td>\n",
              "      <td>-1.144806</td>\n",
              "      <td>...</td>\n",
              "      <td>0.586385</td>\n",
              "      <td>-0.429288</td>\n",
              "      <td>-0.416681</td>\n",
              "      <td>0.0</td>\n",
              "      <td>-3.979055</td>\n",
              "      <td>-0.256132</td>\n",
              "      <td>0.948081</td>\n",
              "      <td>-1.509643</td>\n",
              "      <td>-2.111827</td>\n",
              "      <td>0.285710</td>\n",
              "    </tr>\n",
              "    <tr>\n",
              "      <th>8120</th>\n",
              "      <td>1.029712</td>\n",
              "      <td>0.140128</td>\n",
              "      <td>-0.198250</td>\n",
              "      <td>-0.843230</td>\n",
              "      <td>0.406562</td>\n",
              "      <td>-6.138869</td>\n",
              "      <td>-0.438864</td>\n",
              "      <td>-0.669038</td>\n",
              "      <td>1.748325</td>\n",
              "      <td>-1.144806</td>\n",
              "      <td>...</td>\n",
              "      <td>0.586385</td>\n",
              "      <td>-0.429288</td>\n",
              "      <td>-0.416681</td>\n",
              "      <td>0.0</td>\n",
              "      <td>-8.100146</td>\n",
              "      <td>-0.256132</td>\n",
              "      <td>0.948081</td>\n",
              "      <td>-1.509643</td>\n",
              "      <td>0.284330</td>\n",
              "      <td>0.285710</td>\n",
              "    </tr>\n",
              "    <tr>\n",
              "      <th>8121</th>\n",
              "      <td>-0.840343</td>\n",
              "      <td>0.140128</td>\n",
              "      <td>-0.198250</td>\n",
              "      <td>-0.843230</td>\n",
              "      <td>0.406562</td>\n",
              "      <td>-6.138869</td>\n",
              "      <td>-0.438864</td>\n",
              "      <td>-0.669038</td>\n",
              "      <td>0.053477</td>\n",
              "      <td>-1.144806</td>\n",
              "      <td>...</td>\n",
              "      <td>0.586385</td>\n",
              "      <td>-0.429288</td>\n",
              "      <td>-0.416681</td>\n",
              "      <td>0.0</td>\n",
              "      <td>-3.979055</td>\n",
              "      <td>-0.256132</td>\n",
              "      <td>0.948081</td>\n",
              "      <td>-1.509643</td>\n",
              "      <td>-2.111827</td>\n",
              "      <td>0.285710</td>\n",
              "    </tr>\n",
              "    <tr>\n",
              "      <th>8122</th>\n",
              "      <td>-0.216992</td>\n",
              "      <td>0.953270</td>\n",
              "      <td>-0.198250</td>\n",
              "      <td>-0.843230</td>\n",
              "      <td>1.832689</td>\n",
              "      <td>0.162896</td>\n",
              "      <td>-0.438864</td>\n",
              "      <td>1.494683</td>\n",
              "      <td>-1.358896</td>\n",
              "      <td>0.873511</td>\n",
              "      <td>...</td>\n",
              "      <td>-0.893053</td>\n",
              "      <td>0.622441</td>\n",
              "      <td>0.631991</td>\n",
              "      <td>0.0</td>\n",
              "      <td>0.142037</td>\n",
              "      <td>-0.256132</td>\n",
              "      <td>-1.272216</td>\n",
              "      <td>1.428426</td>\n",
              "      <td>0.284330</td>\n",
              "      <td>0.285710</td>\n",
              "    </tr>\n",
              "    <tr>\n",
              "      <th>8123</th>\n",
              "      <td>1.029712</td>\n",
              "      <td>0.140128</td>\n",
              "      <td>-0.198250</td>\n",
              "      <td>-0.843230</td>\n",
              "      <td>0.406562</td>\n",
              "      <td>-6.138869</td>\n",
              "      <td>-0.438864</td>\n",
              "      <td>-0.669038</td>\n",
              "      <td>1.748325</td>\n",
              "      <td>-1.144806</td>\n",
              "      <td>...</td>\n",
              "      <td>0.586385</td>\n",
              "      <td>-0.429288</td>\n",
              "      <td>-0.416681</td>\n",
              "      <td>0.0</td>\n",
              "      <td>-3.979055</td>\n",
              "      <td>-0.256132</td>\n",
              "      <td>0.948081</td>\n",
              "      <td>0.169254</td>\n",
              "      <td>-2.111827</td>\n",
              "      <td>0.285710</td>\n",
              "    </tr>\n",
              "  </tbody>\n",
              "</table>\n",
              "<p>8124 rows × 22 columns</p>\n",
              "</div>\n",
              "      <button class=\"colab-df-convert\" onclick=\"convertToInteractive('df-936a85da-1c56-47ec-a1e3-9c8bcfc3902d')\"\n",
              "              title=\"Convert this dataframe to an interactive table.\"\n",
              "              style=\"display:none;\">\n",
              "        \n",
              "  <svg xmlns=\"http://www.w3.org/2000/svg\" height=\"24px\"viewBox=\"0 0 24 24\"\n",
              "       width=\"24px\">\n",
              "    <path d=\"M0 0h24v24H0V0z\" fill=\"none\"/>\n",
              "    <path d=\"M18.56 5.44l.94 2.06.94-2.06 2.06-.94-2.06-.94-.94-2.06-.94 2.06-2.06.94zm-11 1L8.5 8.5l.94-2.06 2.06-.94-2.06-.94L8.5 2.5l-.94 2.06-2.06.94zm10 10l.94 2.06.94-2.06 2.06-.94-2.06-.94-.94-2.06-.94 2.06-2.06.94z\"/><path d=\"M17.41 7.96l-1.37-1.37c-.4-.4-.92-.59-1.43-.59-.52 0-1.04.2-1.43.59L10.3 9.45l-7.72 7.72c-.78.78-.78 2.05 0 2.83L4 21.41c.39.39.9.59 1.41.59.51 0 1.02-.2 1.41-.59l7.78-7.78 2.81-2.81c.8-.78.8-2.07 0-2.86zM5.41 20L4 18.59l7.72-7.72 1.47 1.35L5.41 20z\"/>\n",
              "  </svg>\n",
              "      </button>\n",
              "      \n",
              "  <style>\n",
              "    .colab-df-container {\n",
              "      display:flex;\n",
              "      flex-wrap:wrap;\n",
              "      gap: 12px;\n",
              "    }\n",
              "\n",
              "    .colab-df-convert {\n",
              "      background-color: #E8F0FE;\n",
              "      border: none;\n",
              "      border-radius: 50%;\n",
              "      cursor: pointer;\n",
              "      display: none;\n",
              "      fill: #1967D2;\n",
              "      height: 32px;\n",
              "      padding: 0 0 0 0;\n",
              "      width: 32px;\n",
              "    }\n",
              "\n",
              "    .colab-df-convert:hover {\n",
              "      background-color: #E2EBFA;\n",
              "      box-shadow: 0px 1px 2px rgba(60, 64, 67, 0.3), 0px 1px 3px 1px rgba(60, 64, 67, 0.15);\n",
              "      fill: #174EA6;\n",
              "    }\n",
              "\n",
              "    [theme=dark] .colab-df-convert {\n",
              "      background-color: #3B4455;\n",
              "      fill: #D2E3FC;\n",
              "    }\n",
              "\n",
              "    [theme=dark] .colab-df-convert:hover {\n",
              "      background-color: #434B5C;\n",
              "      box-shadow: 0px 1px 3px 1px rgba(0, 0, 0, 0.15);\n",
              "      filter: drop-shadow(0px 1px 2px rgba(0, 0, 0, 0.3));\n",
              "      fill: #FFFFFF;\n",
              "    }\n",
              "  </style>\n",
              "\n",
              "      <script>\n",
              "        const buttonEl =\n",
              "          document.querySelector('#df-936a85da-1c56-47ec-a1e3-9c8bcfc3902d button.colab-df-convert');\n",
              "        buttonEl.style.display =\n",
              "          google.colab.kernel.accessAllowed ? 'block' : 'none';\n",
              "\n",
              "        async function convertToInteractive(key) {\n",
              "          const element = document.querySelector('#df-936a85da-1c56-47ec-a1e3-9c8bcfc3902d');\n",
              "          const dataTable =\n",
              "            await google.colab.kernel.invokeFunction('convertToInteractive',\n",
              "                                                     [key], {});\n",
              "          if (!dataTable) return;\n",
              "\n",
              "          const docLinkHtml = 'Like what you see? Visit the ' +\n",
              "            '<a target=\"_blank\" href=https://colab.research.google.com/notebooks/data_table.ipynb>data table notebook</a>'\n",
              "            + ' to learn more about interactive tables.';\n",
              "          element.innerHTML = '';\n",
              "          dataTable['output_type'] = 'display_data';\n",
              "          await google.colab.output.renderOutput(dataTable, element);\n",
              "          const docLink = document.createElement('div');\n",
              "          docLink.innerHTML = docLinkHtml;\n",
              "          element.appendChild(docLink);\n",
              "        }\n",
              "      </script>\n",
              "    </div>\n",
              "  </div>\n",
              "  "
            ]
          },
          "metadata": {},
          "execution_count": 97
        }
      ]
    },
    {
      "cell_type": "markdown",
      "source": [
        "Pada tabel data frame setelah dilakukan encoding data kategorik, terliha bahwa untuk setiap nilai pada setiap fitur memiliki skala perbandingan yang cukup besar atau tidak sama. Oleh karena itu, sekarang dilakukan standarisasi skala perbandingan untuk setiap nilai pada setiap fitur, supaya model yang dibuat nanti semakin optimal."
      ],
      "metadata": {
        "id": "qGT4vaoYlVre"
      }
    },
    {
      "cell_type": "markdown",
      "source": [
        "##Train Test Split Dataset"
      ],
      "metadata": {
        "id": "1jrVm-aPl-Ef"
      }
    },
    {
      "cell_type": "code",
      "source": [
        "X_train, X_val, y_train, y_val = train_test_split(X, y, test_size=0.2, random_state=42)\n",
        "X_train.shape, X_val.shape, y_train.shape, y_val.shape"
      ],
      "metadata": {
        "colab": {
          "base_uri": "https://localhost:8080/"
        },
        "id": "cm65eDgaUEnJ",
        "outputId": "f96eefc9-f513-4b46-dbe0-37e38c2c99da"
      },
      "execution_count": 98,
      "outputs": [
        {
          "output_type": "execute_result",
          "data": {
            "text/plain": [
              "((6499, 22), (1625, 22), (6499,), (1625,))"
            ]
          },
          "metadata": {},
          "execution_count": 98
        }
      ]
    },
    {
      "cell_type": "markdown",
      "source": [
        "Dataset dibagi menjadi 80% data latih dan 20% data test, sehingga didapat untuk X train sebesar 6499 sampel baris dan 22 kolom, X test sebesar 1625 sampel baris dan 22 kolom, y train sebesar 6499 sampel baris dan 1 kolom, y test sebesar 1625 sampel baris dan 1 kolom. \\\n",
        "untuk variabel X adalah kumpulan dataset yang berisi fitur fitur pendukung. \\\n",
        "untuk variabel y adalah fitur targetnya. "
      ],
      "metadata": {
        "id": "8irzCS7TmDIx"
      }
    },
    {
      "cell_type": "markdown",
      "source": [
        "##Build Model"
      ],
      "metadata": {
        "id": "z1kvDyX5nT--"
      }
    },
    {
      "cell_type": "code",
      "source": [
        "def build_model(n_neurons=(25,25), learning_rate=3e-3, activation_hidden='relu'):\n",
        "  model = keras.models.Sequential()\n",
        "  model.add(keras.layers.InputLayer(input_shape=[22]))\n",
        "  for i in range(len(n_neurons)):\n",
        "    model.add(keras.layers.Dense(n_neurons[i], activation=activation_hidden))\n",
        "  model.add(keras.layers.Dense(1, activation='sigmoid'))\n",
        "  optimizer = keras.optimizers.Adam(learning_rate=learning_rate)\n",
        "  model.compile(loss='binary_crossentropy', optimizer=optimizer,\n",
        "                metrics='accuracy')\n",
        "  return model"
      ],
      "metadata": {
        "id": "GNE7x1DwUImK"
      },
      "execution_count": 99,
      "outputs": []
    },
    {
      "cell_type": "markdown",
      "source": [
        "Dibuat model deep neural network dengan hyperparameternya diset menggunakan intuisi, yaitu 2 hidden layer dengan 25 neuron untuk hidden layer pertama dan 25 neuron untuk hidden layer kedua (karena input nya ada 22). Menggunakan learning rate sebesar 0.003, fungsi aktivasi pada hidden layer adalah 'relu' dan pada output layer adalah 'sigmoid'. Dengan optimisasi Adam dari keras, loss functionya binary crossentropy, dan metricsnya accuracy."
      ],
      "metadata": {
        "id": "rLswtf83nZG_"
      }
    },
    {
      "cell_type": "code",
      "source": [
        "model = KerasClassifier(build_model, epochs=100, batch_size=200)"
      ],
      "metadata": {
        "id": "KzYnaq5RUMc8"
      },
      "execution_count": 100,
      "outputs": []
    },
    {
      "cell_type": "markdown",
      "source": [
        "Menggunakan klasifikasi untuk pemodelan dari keras dengan epochs 100 dan batch size 200."
      ],
      "metadata": {
        "id": "F5ZsV3ELozcS"
      }
    },
    {
      "cell_type": "code",
      "source": [
        "cv_mean_accuracy = cross_val_score(model, X_train, y_train, cv=3, scoring='accuracy').mean()"
      ],
      "metadata": {
        "colab": {
          "base_uri": "https://localhost:8080/"
        },
        "id": "ywPPy8LNUOvo",
        "outputId": "da42e8bb-a19a-46d7-a728-16b8f1f4e7c9"
      },
      "execution_count": 101,
      "outputs": [
        {
          "output_type": "stream",
          "name": "stdout",
          "text": [
            "Epoch 1/100\n",
            "22/22 [==============================] - 1s 2ms/step - loss: 0.5071 - accuracy: 0.7830\n",
            "Epoch 2/100\n",
            "22/22 [==============================] - 0s 3ms/step - loss: 0.2179 - accuracy: 0.9167\n",
            "Epoch 3/100\n",
            "22/22 [==============================] - 0s 2ms/step - loss: 0.1183 - accuracy: 0.9633\n",
            "Epoch 4/100\n",
            "22/22 [==============================] - 0s 2ms/step - loss: 0.0673 - accuracy: 0.9825\n",
            "Epoch 5/100\n",
            "22/22 [==============================] - 0s 2ms/step - loss: 0.0401 - accuracy: 0.9892\n",
            "Epoch 6/100\n",
            "22/22 [==============================] - 0s 2ms/step - loss: 0.0244 - accuracy: 0.9945\n",
            "Epoch 7/100\n",
            "22/22 [==============================] - 0s 2ms/step - loss: 0.0159 - accuracy: 0.9979\n",
            "Epoch 8/100\n",
            "22/22 [==============================] - 0s 2ms/step - loss: 0.0108 - accuracy: 0.9991\n",
            "Epoch 9/100\n",
            "22/22 [==============================] - 0s 2ms/step - loss: 0.0076 - accuracy: 0.9998\n",
            "Epoch 10/100\n",
            "22/22 [==============================] - 0s 2ms/step - loss: 0.0058 - accuracy: 0.9998\n",
            "Epoch 11/100\n",
            "22/22 [==============================] - 0s 2ms/step - loss: 0.0046 - accuracy: 0.9998\n",
            "Epoch 12/100\n",
            "22/22 [==============================] - 0s 2ms/step - loss: 0.0038 - accuracy: 0.9998\n",
            "Epoch 13/100\n",
            "22/22 [==============================] - 0s 2ms/step - loss: 0.0031 - accuracy: 1.0000\n",
            "Epoch 14/100\n",
            "22/22 [==============================] - 0s 2ms/step - loss: 0.0026 - accuracy: 0.9998\n",
            "Epoch 15/100\n",
            "22/22 [==============================] - 0s 2ms/step - loss: 0.0025 - accuracy: 0.9998\n",
            "Epoch 16/100\n",
            "22/22 [==============================] - 0s 2ms/step - loss: 0.0020 - accuracy: 1.0000\n",
            "Epoch 17/100\n",
            "22/22 [==============================] - 0s 2ms/step - loss: 0.0017 - accuracy: 1.0000\n",
            "Epoch 18/100\n",
            "22/22 [==============================] - 0s 2ms/step - loss: 0.0015 - accuracy: 1.0000\n",
            "Epoch 19/100\n",
            "22/22 [==============================] - 0s 2ms/step - loss: 0.0013 - accuracy: 1.0000\n",
            "Epoch 20/100\n",
            "22/22 [==============================] - 0s 2ms/step - loss: 0.0012 - accuracy: 1.0000\n",
            "Epoch 21/100\n",
            "22/22 [==============================] - 0s 2ms/step - loss: 0.0010 - accuracy: 1.0000\n",
            "Epoch 22/100\n",
            "22/22 [==============================] - 0s 2ms/step - loss: 9.7629e-04 - accuracy: 1.0000\n",
            "Epoch 23/100\n",
            "22/22 [==============================] - 0s 2ms/step - loss: 8.8273e-04 - accuracy: 1.0000\n",
            "Epoch 24/100\n",
            "22/22 [==============================] - 0s 2ms/step - loss: 7.8504e-04 - accuracy: 1.0000\n",
            "Epoch 25/100\n",
            "22/22 [==============================] - 0s 2ms/step - loss: 7.7641e-04 - accuracy: 1.0000\n",
            "Epoch 26/100\n",
            "22/22 [==============================] - 0s 2ms/step - loss: 6.9442e-04 - accuracy: 1.0000\n",
            "Epoch 27/100\n",
            "22/22 [==============================] - 0s 2ms/step - loss: 6.2684e-04 - accuracy: 1.0000\n",
            "Epoch 28/100\n",
            "22/22 [==============================] - 0s 2ms/step - loss: 5.8334e-04 - accuracy: 1.0000\n",
            "Epoch 29/100\n",
            "22/22 [==============================] - 0s 2ms/step - loss: 5.7839e-04 - accuracy: 1.0000\n",
            "Epoch 30/100\n",
            "22/22 [==============================] - 0s 2ms/step - loss: 4.9785e-04 - accuracy: 1.0000\n",
            "Epoch 31/100\n",
            "22/22 [==============================] - 0s 2ms/step - loss: 5.8086e-04 - accuracy: 1.0000\n",
            "Epoch 32/100\n",
            "22/22 [==============================] - 0s 2ms/step - loss: 5.4040e-04 - accuracy: 1.0000\n",
            "Epoch 33/100\n",
            "22/22 [==============================] - 0s 2ms/step - loss: 4.3004e-04 - accuracy: 1.0000\n",
            "Epoch 34/100\n",
            "22/22 [==============================] - 0s 2ms/step - loss: 3.8627e-04 - accuracy: 1.0000\n",
            "Epoch 35/100\n",
            "22/22 [==============================] - 0s 2ms/step - loss: 3.3363e-04 - accuracy: 1.0000\n",
            "Epoch 36/100\n",
            "22/22 [==============================] - 0s 2ms/step - loss: 3.0421e-04 - accuracy: 1.0000\n",
            "Epoch 37/100\n",
            "22/22 [==============================] - 0s 2ms/step - loss: 2.9068e-04 - accuracy: 1.0000\n",
            "Epoch 38/100\n",
            "22/22 [==============================] - 0s 2ms/step - loss: 2.8893e-04 - accuracy: 1.0000\n",
            "Epoch 39/100\n",
            "22/22 [==============================] - 0s 2ms/step - loss: 2.5711e-04 - accuracy: 1.0000\n",
            "Epoch 40/100\n",
            "22/22 [==============================] - 0s 3ms/step - loss: 2.4828e-04 - accuracy: 1.0000\n",
            "Epoch 41/100\n",
            "22/22 [==============================] - 0s 2ms/step - loss: 2.2875e-04 - accuracy: 1.0000\n",
            "Epoch 42/100\n",
            "22/22 [==============================] - 0s 2ms/step - loss: 2.2124e-04 - accuracy: 1.0000\n",
            "Epoch 43/100\n",
            "22/22 [==============================] - 0s 2ms/step - loss: 2.0551e-04 - accuracy: 1.0000\n",
            "Epoch 44/100\n",
            "22/22 [==============================] - 0s 2ms/step - loss: 1.9674e-04 - accuracy: 1.0000\n",
            "Epoch 45/100\n",
            "22/22 [==============================] - 0s 2ms/step - loss: 1.8814e-04 - accuracy: 1.0000\n",
            "Epoch 46/100\n",
            "22/22 [==============================] - 0s 2ms/step - loss: 1.8062e-04 - accuracy: 1.0000\n",
            "Epoch 47/100\n",
            "22/22 [==============================] - 0s 2ms/step - loss: 1.7049e-04 - accuracy: 1.0000\n",
            "Epoch 48/100\n",
            "22/22 [==============================] - 0s 2ms/step - loss: 1.6315e-04 - accuracy: 1.0000\n",
            "Epoch 49/100\n",
            "22/22 [==============================] - 0s 2ms/step - loss: 1.5719e-04 - accuracy: 1.0000\n",
            "Epoch 50/100\n",
            "22/22 [==============================] - 0s 2ms/step - loss: 1.4909e-04 - accuracy: 1.0000\n",
            "Epoch 51/100\n",
            "22/22 [==============================] - 0s 2ms/step - loss: 1.4313e-04 - accuracy: 1.0000\n",
            "Epoch 52/100\n",
            "22/22 [==============================] - 0s 2ms/step - loss: 1.3915e-04 - accuracy: 1.0000\n",
            "Epoch 53/100\n",
            "22/22 [==============================] - 0s 2ms/step - loss: 1.3015e-04 - accuracy: 1.0000\n",
            "Epoch 54/100\n",
            "22/22 [==============================] - 0s 2ms/step - loss: 1.2433e-04 - accuracy: 1.0000\n",
            "Epoch 55/100\n",
            "22/22 [==============================] - 0s 2ms/step - loss: 1.2051e-04 - accuracy: 1.0000\n",
            "Epoch 56/100\n",
            "22/22 [==============================] - 0s 2ms/step - loss: 1.1482e-04 - accuracy: 1.0000\n",
            "Epoch 57/100\n",
            "22/22 [==============================] - 0s 2ms/step - loss: 1.1054e-04 - accuracy: 1.0000\n",
            "Epoch 58/100\n",
            "22/22 [==============================] - 0s 2ms/step - loss: 1.0689e-04 - accuracy: 1.0000\n",
            "Epoch 59/100\n",
            "22/22 [==============================] - 0s 3ms/step - loss: 1.0494e-04 - accuracy: 1.0000\n",
            "Epoch 60/100\n",
            "22/22 [==============================] - 0s 2ms/step - loss: 1.0418e-04 - accuracy: 1.0000\n",
            "Epoch 61/100\n",
            "22/22 [==============================] - 0s 2ms/step - loss: 9.5474e-05 - accuracy: 1.0000\n",
            "Epoch 62/100\n",
            "22/22 [==============================] - 0s 2ms/step - loss: 9.3752e-05 - accuracy: 1.0000\n",
            "Epoch 63/100\n",
            "22/22 [==============================] - 0s 2ms/step - loss: 9.1425e-05 - accuracy: 1.0000\n",
            "Epoch 64/100\n",
            "22/22 [==============================] - 0s 2ms/step - loss: 8.4917e-05 - accuracy: 1.0000\n",
            "Epoch 65/100\n",
            "22/22 [==============================] - 0s 2ms/step - loss: 8.1760e-05 - accuracy: 1.0000\n",
            "Epoch 66/100\n",
            "22/22 [==============================] - 0s 2ms/step - loss: 7.8908e-05 - accuracy: 1.0000\n",
            "Epoch 67/100\n",
            "22/22 [==============================] - 0s 2ms/step - loss: 7.7551e-05 - accuracy: 1.0000\n",
            "Epoch 68/100\n",
            "22/22 [==============================] - 0s 2ms/step - loss: 7.9179e-05 - accuracy: 1.0000\n",
            "Epoch 69/100\n",
            "22/22 [==============================] - 0s 2ms/step - loss: 7.1857e-05 - accuracy: 1.0000\n",
            "Epoch 70/100\n",
            "22/22 [==============================] - 0s 2ms/step - loss: 6.9168e-05 - accuracy: 1.0000\n",
            "Epoch 71/100\n",
            "22/22 [==============================] - 0s 2ms/step - loss: 6.6927e-05 - accuracy: 1.0000\n",
            "Epoch 72/100\n",
            "22/22 [==============================] - 0s 2ms/step - loss: 6.6595e-05 - accuracy: 1.0000\n",
            "Epoch 73/100\n",
            "22/22 [==============================] - 0s 2ms/step - loss: 6.5034e-05 - accuracy: 1.0000\n",
            "Epoch 74/100\n",
            "22/22 [==============================] - 0s 2ms/step - loss: 6.2098e-05 - accuracy: 1.0000\n",
            "Epoch 75/100\n",
            "22/22 [==============================] - 0s 2ms/step - loss: 5.8866e-05 - accuracy: 1.0000\n",
            "Epoch 76/100\n",
            "22/22 [==============================] - 0s 2ms/step - loss: 5.8002e-05 - accuracy: 1.0000\n",
            "Epoch 77/100\n",
            "22/22 [==============================] - 0s 2ms/step - loss: 5.5571e-05 - accuracy: 1.0000\n",
            "Epoch 78/100\n",
            "22/22 [==============================] - 0s 2ms/step - loss: 5.4853e-05 - accuracy: 1.0000\n",
            "Epoch 79/100\n",
            "22/22 [==============================] - 0s 2ms/step - loss: 5.3335e-05 - accuracy: 1.0000\n",
            "Epoch 80/100\n",
            "22/22 [==============================] - 0s 2ms/step - loss: 5.0430e-05 - accuracy: 1.0000\n",
            "Epoch 81/100\n",
            "22/22 [==============================] - 0s 2ms/step - loss: 5.0054e-05 - accuracy: 1.0000\n",
            "Epoch 82/100\n",
            "22/22 [==============================] - 0s 2ms/step - loss: 4.9199e-05 - accuracy: 1.0000\n",
            "Epoch 83/100\n",
            "22/22 [==============================] - 0s 2ms/step - loss: 4.7625e-05 - accuracy: 1.0000\n",
            "Epoch 84/100\n",
            "22/22 [==============================] - 0s 2ms/step - loss: 4.5007e-05 - accuracy: 1.0000\n",
            "Epoch 85/100\n",
            "22/22 [==============================] - 0s 2ms/step - loss: 4.4315e-05 - accuracy: 1.0000\n",
            "Epoch 86/100\n",
            "22/22 [==============================] - 0s 2ms/step - loss: 4.3922e-05 - accuracy: 1.0000\n",
            "Epoch 87/100\n",
            "22/22 [==============================] - 0s 2ms/step - loss: 4.1616e-05 - accuracy: 1.0000\n",
            "Epoch 88/100\n",
            "22/22 [==============================] - 0s 2ms/step - loss: 4.1372e-05 - accuracy: 1.0000\n",
            "Epoch 89/100\n",
            "22/22 [==============================] - 0s 2ms/step - loss: 3.9904e-05 - accuracy: 1.0000\n",
            "Epoch 90/100\n",
            "22/22 [==============================] - 0s 2ms/step - loss: 3.9325e-05 - accuracy: 1.0000\n",
            "Epoch 91/100\n",
            "22/22 [==============================] - 0s 2ms/step - loss: 3.7091e-05 - accuracy: 1.0000\n",
            "Epoch 92/100\n",
            "22/22 [==============================] - 0s 2ms/step - loss: 3.6110e-05 - accuracy: 1.0000\n",
            "Epoch 93/100\n",
            "22/22 [==============================] - 0s 2ms/step - loss: 3.5267e-05 - accuracy: 1.0000\n",
            "Epoch 94/100\n",
            "22/22 [==============================] - 0s 2ms/step - loss: 3.4348e-05 - accuracy: 1.0000\n",
            "Epoch 95/100\n",
            "22/22 [==============================] - 0s 2ms/step - loss: 3.3910e-05 - accuracy: 1.0000\n",
            "Epoch 96/100\n",
            "22/22 [==============================] - 0s 2ms/step - loss: 3.3084e-05 - accuracy: 1.0000\n",
            "Epoch 97/100\n",
            "22/22 [==============================] - 0s 3ms/step - loss: 3.3009e-05 - accuracy: 1.0000\n",
            "Epoch 98/100\n",
            "22/22 [==============================] - 0s 2ms/step - loss: 3.1038e-05 - accuracy: 1.0000\n",
            "Epoch 99/100\n",
            "22/22 [==============================] - 0s 2ms/step - loss: 3.0316e-05 - accuracy: 1.0000\n",
            "Epoch 100/100\n",
            "22/22 [==============================] - 0s 2ms/step - loss: 2.9540e-05 - accuracy: 1.0000\n",
            "Epoch 1/100\n",
            "22/22 [==============================] - 1s 2ms/step - loss: 0.5354 - accuracy: 0.7182\n",
            "Epoch 2/100\n",
            "22/22 [==============================] - 0s 2ms/step - loss: 0.2244 - accuracy: 0.9252\n",
            "Epoch 3/100\n",
            "22/22 [==============================] - 0s 2ms/step - loss: 0.1170 - accuracy: 0.9545\n",
            "Epoch 4/100\n",
            "22/22 [==============================] - 0s 2ms/step - loss: 0.0711 - accuracy: 0.9737\n",
            "Epoch 5/100\n",
            "22/22 [==============================] - 0s 2ms/step - loss: 0.0451 - accuracy: 0.9903\n",
            "Epoch 6/100\n",
            "22/22 [==============================] - 0s 2ms/step - loss: 0.0297 - accuracy: 0.9919\n",
            "Epoch 7/100\n",
            "22/22 [==============================] - 0s 2ms/step - loss: 0.0201 - accuracy: 0.9949\n",
            "Epoch 8/100\n",
            "22/22 [==============================] - 0s 3ms/step - loss: 0.0142 - accuracy: 0.9972\n",
            "Epoch 9/100\n",
            "22/22 [==============================] - 0s 4ms/step - loss: 0.0101 - accuracy: 0.9995\n",
            "Epoch 10/100\n",
            "22/22 [==============================] - 0s 3ms/step - loss: 0.0074 - accuracy: 0.9995\n",
            "Epoch 11/100\n",
            "22/22 [==============================] - 0s 4ms/step - loss: 0.0058 - accuracy: 0.9998\n",
            "Epoch 12/100\n",
            "22/22 [==============================] - 0s 5ms/step - loss: 0.0046 - accuracy: 0.9998\n",
            "Epoch 13/100\n",
            "22/22 [==============================] - 0s 4ms/step - loss: 0.0037 - accuracy: 1.0000\n",
            "Epoch 14/100\n",
            "22/22 [==============================] - 0s 6ms/step - loss: 0.0032 - accuracy: 1.0000\n",
            "Epoch 15/100\n",
            "22/22 [==============================] - 0s 4ms/step - loss: 0.0025 - accuracy: 1.0000\n",
            "Epoch 16/100\n",
            "22/22 [==============================] - 0s 5ms/step - loss: 0.0022 - accuracy: 1.0000\n",
            "Epoch 17/100\n",
            "22/22 [==============================] - 0s 4ms/step - loss: 0.0019 - accuracy: 1.0000\n",
            "Epoch 18/100\n",
            "22/22 [==============================] - 0s 4ms/step - loss: 0.0017 - accuracy: 1.0000\n",
            "Epoch 19/100\n",
            "22/22 [==============================] - 0s 4ms/step - loss: 0.0016 - accuracy: 1.0000\n",
            "Epoch 20/100\n",
            "22/22 [==============================] - 0s 5ms/step - loss: 0.0014 - accuracy: 1.0000\n",
            "Epoch 21/100\n",
            "22/22 [==============================] - 0s 4ms/step - loss: 0.0012 - accuracy: 1.0000\n",
            "Epoch 22/100\n",
            "22/22 [==============================] - 0s 4ms/step - loss: 0.0010 - accuracy: 1.0000\n",
            "Epoch 23/100\n",
            "22/22 [==============================] - 0s 4ms/step - loss: 9.7260e-04 - accuracy: 1.0000\n",
            "Epoch 24/100\n",
            "22/22 [==============================] - 0s 6ms/step - loss: 8.5550e-04 - accuracy: 1.0000\n",
            "Epoch 25/100\n",
            "22/22 [==============================] - 0s 7ms/step - loss: 8.3587e-04 - accuracy: 1.0000\n",
            "Epoch 26/100\n",
            "22/22 [==============================] - 0s 3ms/step - loss: 7.5696e-04 - accuracy: 1.0000\n",
            "Epoch 27/100\n",
            "22/22 [==============================] - 0s 5ms/step - loss: 6.4745e-04 - accuracy: 1.0000\n",
            "Epoch 28/100\n",
            "22/22 [==============================] - 0s 7ms/step - loss: 6.0819e-04 - accuracy: 1.0000\n",
            "Epoch 29/100\n",
            "22/22 [==============================] - 0s 7ms/step - loss: 5.7231e-04 - accuracy: 1.0000\n",
            "Epoch 30/100\n",
            "22/22 [==============================] - 0s 5ms/step - loss: 5.2696e-04 - accuracy: 1.0000\n",
            "Epoch 31/100\n",
            "22/22 [==============================] - 0s 2ms/step - loss: 4.9351e-04 - accuracy: 1.0000\n",
            "Epoch 32/100\n",
            "22/22 [==============================] - 0s 2ms/step - loss: 4.7992e-04 - accuracy: 1.0000\n",
            "Epoch 33/100\n",
            "22/22 [==============================] - 0s 2ms/step - loss: 4.3584e-04 - accuracy: 1.0000\n",
            "Epoch 34/100\n",
            "22/22 [==============================] - 0s 2ms/step - loss: 3.9584e-04 - accuracy: 1.0000\n",
            "Epoch 35/100\n",
            "22/22 [==============================] - 0s 2ms/step - loss: 3.8172e-04 - accuracy: 1.0000\n",
            "Epoch 36/100\n",
            "22/22 [==============================] - 0s 2ms/step - loss: 3.6380e-04 - accuracy: 1.0000\n",
            "Epoch 37/100\n",
            "22/22 [==============================] - 0s 2ms/step - loss: 3.2860e-04 - accuracy: 1.0000\n",
            "Epoch 38/100\n",
            "22/22 [==============================] - 0s 2ms/step - loss: 3.1489e-04 - accuracy: 1.0000\n",
            "Epoch 39/100\n",
            "22/22 [==============================] - 0s 2ms/step - loss: 2.9689e-04 - accuracy: 1.0000\n",
            "Epoch 40/100\n",
            "22/22 [==============================] - 0s 2ms/step - loss: 2.7917e-04 - accuracy: 1.0000\n",
            "Epoch 41/100\n",
            "22/22 [==============================] - 0s 2ms/step - loss: 2.6419e-04 - accuracy: 1.0000\n",
            "Epoch 42/100\n",
            "22/22 [==============================] - 0s 2ms/step - loss: 2.5539e-04 - accuracy: 1.0000\n",
            "Epoch 43/100\n",
            "22/22 [==============================] - 0s 2ms/step - loss: 2.4722e-04 - accuracy: 1.0000\n",
            "Epoch 44/100\n",
            "22/22 [==============================] - 0s 2ms/step - loss: 2.2555e-04 - accuracy: 1.0000\n",
            "Epoch 45/100\n",
            "22/22 [==============================] - 0s 2ms/step - loss: 2.1728e-04 - accuracy: 1.0000\n",
            "Epoch 46/100\n",
            "22/22 [==============================] - 0s 2ms/step - loss: 2.2477e-04 - accuracy: 1.0000\n",
            "Epoch 47/100\n",
            "22/22 [==============================] - 0s 2ms/step - loss: 1.9722e-04 - accuracy: 1.0000\n",
            "Epoch 48/100\n",
            "22/22 [==============================] - 0s 2ms/step - loss: 1.9555e-04 - accuracy: 1.0000\n",
            "Epoch 49/100\n",
            "22/22 [==============================] - 0s 2ms/step - loss: 1.7972e-04 - accuracy: 1.0000\n",
            "Epoch 50/100\n",
            "22/22 [==============================] - 0s 2ms/step - loss: 1.7413e-04 - accuracy: 1.0000\n",
            "Epoch 51/100\n",
            "22/22 [==============================] - 0s 2ms/step - loss: 1.6749e-04 - accuracy: 1.0000\n",
            "Epoch 52/100\n",
            "22/22 [==============================] - 0s 2ms/step - loss: 1.6156e-04 - accuracy: 1.0000\n",
            "Epoch 53/100\n",
            "22/22 [==============================] - 0s 2ms/step - loss: 1.5504e-04 - accuracy: 1.0000\n",
            "Epoch 54/100\n",
            "22/22 [==============================] - 0s 2ms/step - loss: 1.4409e-04 - accuracy: 1.0000\n",
            "Epoch 55/100\n",
            "22/22 [==============================] - 0s 2ms/step - loss: 1.4335e-04 - accuracy: 1.0000\n",
            "Epoch 56/100\n",
            "22/22 [==============================] - 0s 2ms/step - loss: 1.3293e-04 - accuracy: 1.0000\n",
            "Epoch 57/100\n",
            "22/22 [==============================] - 0s 2ms/step - loss: 1.2526e-04 - accuracy: 1.0000\n",
            "Epoch 58/100\n",
            "22/22 [==============================] - 0s 2ms/step - loss: 1.2322e-04 - accuracy: 1.0000\n",
            "Epoch 59/100\n",
            "22/22 [==============================] - 0s 2ms/step - loss: 1.1957e-04 - accuracy: 1.0000\n",
            "Epoch 60/100\n",
            "22/22 [==============================] - 0s 2ms/step - loss: 1.1372e-04 - accuracy: 1.0000\n",
            "Epoch 61/100\n",
            "22/22 [==============================] - 0s 2ms/step - loss: 1.1070e-04 - accuracy: 1.0000\n",
            "Epoch 62/100\n",
            "22/22 [==============================] - 0s 2ms/step - loss: 1.0360e-04 - accuracy: 1.0000\n",
            "Epoch 63/100\n",
            "22/22 [==============================] - 0s 2ms/step - loss: 1.0402e-04 - accuracy: 1.0000\n",
            "Epoch 64/100\n",
            "22/22 [==============================] - 0s 2ms/step - loss: 9.6554e-05 - accuracy: 1.0000\n",
            "Epoch 65/100\n",
            "22/22 [==============================] - 0s 2ms/step - loss: 9.4027e-05 - accuracy: 1.0000\n",
            "Epoch 66/100\n",
            "22/22 [==============================] - 0s 2ms/step - loss: 9.3774e-05 - accuracy: 1.0000\n",
            "Epoch 67/100\n",
            "22/22 [==============================] - 0s 2ms/step - loss: 8.9194e-05 - accuracy: 1.0000\n",
            "Epoch 68/100\n",
            "22/22 [==============================] - 0s 2ms/step - loss: 8.7345e-05 - accuracy: 1.0000\n",
            "Epoch 69/100\n",
            "22/22 [==============================] - 0s 2ms/step - loss: 8.3564e-05 - accuracy: 1.0000\n",
            "Epoch 70/100\n",
            "22/22 [==============================] - 0s 2ms/step - loss: 7.8501e-05 - accuracy: 1.0000\n",
            "Epoch 71/100\n",
            "22/22 [==============================] - 0s 2ms/step - loss: 7.5954e-05 - accuracy: 1.0000\n",
            "Epoch 72/100\n",
            "22/22 [==============================] - 0s 2ms/step - loss: 7.5981e-05 - accuracy: 1.0000\n",
            "Epoch 73/100\n",
            "22/22 [==============================] - 0s 2ms/step - loss: 7.2037e-05 - accuracy: 1.0000\n",
            "Epoch 74/100\n",
            "22/22 [==============================] - 0s 2ms/step - loss: 7.0212e-05 - accuracy: 1.0000\n",
            "Epoch 75/100\n",
            "22/22 [==============================] - 0s 2ms/step - loss: 6.7497e-05 - accuracy: 1.0000\n",
            "Epoch 76/100\n",
            "22/22 [==============================] - 0s 2ms/step - loss: 6.5135e-05 - accuracy: 1.0000\n",
            "Epoch 77/100\n",
            "22/22 [==============================] - 0s 2ms/step - loss: 6.2874e-05 - accuracy: 1.0000\n",
            "Epoch 78/100\n",
            "22/22 [==============================] - 0s 2ms/step - loss: 6.1281e-05 - accuracy: 1.0000\n",
            "Epoch 79/100\n",
            "22/22 [==============================] - 0s 2ms/step - loss: 6.2163e-05 - accuracy: 1.0000\n",
            "Epoch 80/100\n",
            "22/22 [==============================] - 0s 2ms/step - loss: 6.1224e-05 - accuracy: 1.0000\n",
            "Epoch 81/100\n",
            "22/22 [==============================] - 0s 2ms/step - loss: 5.9553e-05 - accuracy: 1.0000\n",
            "Epoch 82/100\n",
            "22/22 [==============================] - 0s 2ms/step - loss: 5.9016e-05 - accuracy: 1.0000\n",
            "Epoch 83/100\n",
            "22/22 [==============================] - 0s 2ms/step - loss: 5.9373e-05 - accuracy: 1.0000\n",
            "Epoch 84/100\n",
            "22/22 [==============================] - 0s 2ms/step - loss: 5.3069e-05 - accuracy: 1.0000\n",
            "Epoch 85/100\n",
            "22/22 [==============================] - 0s 2ms/step - loss: 4.9934e-05 - accuracy: 1.0000\n",
            "Epoch 86/100\n",
            "22/22 [==============================] - 0s 2ms/step - loss: 4.8629e-05 - accuracy: 1.0000\n",
            "Epoch 87/100\n",
            "22/22 [==============================] - 0s 2ms/step - loss: 4.8172e-05 - accuracy: 1.0000\n",
            "Epoch 88/100\n",
            "22/22 [==============================] - 0s 2ms/step - loss: 4.5775e-05 - accuracy: 1.0000\n",
            "Epoch 89/100\n",
            "22/22 [==============================] - 0s 2ms/step - loss: 4.6268e-05 - accuracy: 1.0000\n",
            "Epoch 90/100\n",
            "22/22 [==============================] - 0s 2ms/step - loss: 4.3998e-05 - accuracy: 1.0000\n",
            "Epoch 91/100\n",
            "22/22 [==============================] - 0s 2ms/step - loss: 4.2893e-05 - accuracy: 1.0000\n",
            "Epoch 92/100\n",
            "22/22 [==============================] - 0s 2ms/step - loss: 4.1725e-05 - accuracy: 1.0000\n",
            "Epoch 93/100\n",
            "22/22 [==============================] - 0s 2ms/step - loss: 3.9941e-05 - accuracy: 1.0000\n",
            "Epoch 94/100\n",
            "22/22 [==============================] - 0s 2ms/step - loss: 3.9522e-05 - accuracy: 1.0000\n",
            "Epoch 95/100\n",
            "22/22 [==============================] - 0s 2ms/step - loss: 3.9509e-05 - accuracy: 1.0000\n",
            "Epoch 96/100\n",
            "22/22 [==============================] - 0s 2ms/step - loss: 3.8032e-05 - accuracy: 1.0000\n",
            "Epoch 97/100\n",
            "22/22 [==============================] - 0s 2ms/step - loss: 3.7040e-05 - accuracy: 1.0000\n",
            "Epoch 98/100\n",
            "22/22 [==============================] - 0s 2ms/step - loss: 3.5456e-05 - accuracy: 1.0000\n",
            "Epoch 99/100\n",
            "22/22 [==============================] - 0s 2ms/step - loss: 3.4312e-05 - accuracy: 1.0000\n",
            "Epoch 100/100\n",
            "22/22 [==============================] - 0s 2ms/step - loss: 3.4094e-05 - accuracy: 1.0000\n",
            "Epoch 1/100\n",
            "22/22 [==============================] - 1s 2ms/step - loss: 0.5201 - accuracy: 0.7570\n",
            "Epoch 2/100\n",
            "22/22 [==============================] - 0s 2ms/step - loss: 0.2501 - accuracy: 0.9128\n",
            "Epoch 3/100\n",
            "22/22 [==============================] - 0s 4ms/step - loss: 0.1482 - accuracy: 0.9451\n",
            "Epoch 4/100\n",
            "22/22 [==============================] - 0s 2ms/step - loss: 0.0851 - accuracy: 0.9718\n",
            "Epoch 5/100\n",
            "22/22 [==============================] - 0s 2ms/step - loss: 0.0470 - accuracy: 0.9843\n",
            "Epoch 6/100\n",
            "22/22 [==============================] - 0s 3ms/step - loss: 0.0263 - accuracy: 0.9954\n",
            "Epoch 7/100\n",
            "22/22 [==============================] - 0s 2ms/step - loss: 0.0160 - accuracy: 0.9975\n",
            "Epoch 8/100\n",
            "22/22 [==============================] - 0s 2ms/step - loss: 0.0103 - accuracy: 0.9988\n",
            "Epoch 9/100\n",
            "22/22 [==============================] - 0s 2ms/step - loss: 0.0074 - accuracy: 0.9998\n",
            "Epoch 10/100\n",
            "22/22 [==============================] - 0s 2ms/step - loss: 0.0054 - accuracy: 0.9993\n",
            "Epoch 11/100\n",
            "22/22 [==============================] - 0s 2ms/step - loss: 0.0042 - accuracy: 0.9998\n",
            "Epoch 12/100\n",
            "22/22 [==============================] - 0s 2ms/step - loss: 0.0032 - accuracy: 1.0000\n",
            "Epoch 13/100\n",
            "22/22 [==============================] - 0s 2ms/step - loss: 0.0025 - accuracy: 1.0000\n",
            "Epoch 14/100\n",
            "22/22 [==============================] - 0s 2ms/step - loss: 0.0021 - accuracy: 1.0000\n",
            "Epoch 15/100\n",
            "22/22 [==============================] - 0s 2ms/step - loss: 0.0019 - accuracy: 1.0000\n",
            "Epoch 16/100\n",
            "22/22 [==============================] - 0s 2ms/step - loss: 0.0016 - accuracy: 1.0000\n",
            "Epoch 17/100\n",
            "22/22 [==============================] - 0s 2ms/step - loss: 0.0014 - accuracy: 1.0000\n",
            "Epoch 18/100\n",
            "22/22 [==============================] - 0s 2ms/step - loss: 0.0012 - accuracy: 1.0000\n",
            "Epoch 19/100\n",
            "22/22 [==============================] - 0s 2ms/step - loss: 0.0010 - accuracy: 1.0000\n",
            "Epoch 20/100\n",
            "22/22 [==============================] - 0s 2ms/step - loss: 8.9795e-04 - accuracy: 1.0000\n",
            "Epoch 21/100\n",
            "22/22 [==============================] - 0s 2ms/step - loss: 8.1920e-04 - accuracy: 1.0000\n",
            "Epoch 22/100\n",
            "22/22 [==============================] - 0s 2ms/step - loss: 7.3934e-04 - accuracy: 1.0000\n",
            "Epoch 23/100\n",
            "22/22 [==============================] - 0s 2ms/step - loss: 6.6278e-04 - accuracy: 1.0000\n",
            "Epoch 24/100\n",
            "22/22 [==============================] - 0s 2ms/step - loss: 6.1910e-04 - accuracy: 1.0000\n",
            "Epoch 25/100\n",
            "22/22 [==============================] - 0s 2ms/step - loss: 5.4609e-04 - accuracy: 1.0000\n",
            "Epoch 26/100\n",
            "22/22 [==============================] - 0s 2ms/step - loss: 5.1131e-04 - accuracy: 1.0000\n",
            "Epoch 27/100\n",
            "22/22 [==============================] - 0s 2ms/step - loss: 4.7482e-04 - accuracy: 1.0000\n",
            "Epoch 28/100\n",
            "22/22 [==============================] - 0s 2ms/step - loss: 4.3034e-04 - accuracy: 1.0000\n",
            "Epoch 29/100\n",
            "22/22 [==============================] - 0s 2ms/step - loss: 3.8827e-04 - accuracy: 1.0000\n",
            "Epoch 30/100\n",
            "22/22 [==============================] - 0s 2ms/step - loss: 3.7908e-04 - accuracy: 1.0000\n",
            "Epoch 31/100\n",
            "22/22 [==============================] - 0s 2ms/step - loss: 3.5188e-04 - accuracy: 1.0000\n",
            "Epoch 32/100\n",
            "22/22 [==============================] - 0s 2ms/step - loss: 3.1602e-04 - accuracy: 1.0000\n",
            "Epoch 33/100\n",
            "22/22 [==============================] - 0s 2ms/step - loss: 3.0000e-04 - accuracy: 1.0000\n",
            "Epoch 34/100\n",
            "22/22 [==============================] - 0s 2ms/step - loss: 2.7490e-04 - accuracy: 1.0000\n",
            "Epoch 35/100\n",
            "22/22 [==============================] - 0s 2ms/step - loss: 2.6955e-04 - accuracy: 1.0000\n",
            "Epoch 36/100\n",
            "22/22 [==============================] - 0s 2ms/step - loss: 2.4965e-04 - accuracy: 1.0000\n",
            "Epoch 37/100\n",
            "22/22 [==============================] - 0s 2ms/step - loss: 2.2646e-04 - accuracy: 1.0000\n",
            "Epoch 38/100\n",
            "22/22 [==============================] - 0s 2ms/step - loss: 2.1612e-04 - accuracy: 1.0000\n",
            "Epoch 39/100\n",
            "22/22 [==============================] - 0s 2ms/step - loss: 2.0528e-04 - accuracy: 1.0000\n",
            "Epoch 40/100\n",
            "22/22 [==============================] - 0s 2ms/step - loss: 1.9377e-04 - accuracy: 1.0000\n",
            "Epoch 41/100\n",
            "22/22 [==============================] - 0s 2ms/step - loss: 1.9034e-04 - accuracy: 1.0000\n",
            "Epoch 42/100\n",
            "22/22 [==============================] - 0s 3ms/step - loss: 1.7979e-04 - accuracy: 1.0000\n",
            "Epoch 43/100\n",
            "22/22 [==============================] - 0s 2ms/step - loss: 1.6580e-04 - accuracy: 1.0000\n",
            "Epoch 44/100\n",
            "22/22 [==============================] - 0s 2ms/step - loss: 1.5786e-04 - accuracy: 1.0000\n",
            "Epoch 45/100\n",
            "22/22 [==============================] - 0s 2ms/step - loss: 1.5042e-04 - accuracy: 1.0000\n",
            "Epoch 46/100\n",
            "22/22 [==============================] - 0s 2ms/step - loss: 1.4294e-04 - accuracy: 1.0000\n",
            "Epoch 47/100\n",
            "22/22 [==============================] - 0s 2ms/step - loss: 1.3749e-04 - accuracy: 1.0000\n",
            "Epoch 48/100\n",
            "22/22 [==============================] - 0s 2ms/step - loss: 1.3278e-04 - accuracy: 1.0000\n",
            "Epoch 49/100\n",
            "22/22 [==============================] - 0s 2ms/step - loss: 1.2473e-04 - accuracy: 1.0000\n",
            "Epoch 50/100\n",
            "22/22 [==============================] - 0s 2ms/step - loss: 1.1923e-04 - accuracy: 1.0000\n",
            "Epoch 51/100\n",
            "22/22 [==============================] - 0s 2ms/step - loss: 1.1540e-04 - accuracy: 1.0000\n",
            "Epoch 52/100\n",
            "22/22 [==============================] - 0s 2ms/step - loss: 1.0899e-04 - accuracy: 1.0000\n",
            "Epoch 53/100\n",
            "22/22 [==============================] - 0s 2ms/step - loss: 1.0741e-04 - accuracy: 1.0000\n",
            "Epoch 54/100\n",
            "22/22 [==============================] - 0s 2ms/step - loss: 1.0354e-04 - accuracy: 1.0000\n",
            "Epoch 55/100\n",
            "22/22 [==============================] - 0s 2ms/step - loss: 9.7548e-05 - accuracy: 1.0000\n",
            "Epoch 56/100\n",
            "22/22 [==============================] - 0s 2ms/step - loss: 9.3595e-05 - accuracy: 1.0000\n",
            "Epoch 57/100\n",
            "22/22 [==============================] - 0s 2ms/step - loss: 9.0363e-05 - accuracy: 1.0000\n",
            "Epoch 58/100\n",
            "22/22 [==============================] - 0s 2ms/step - loss: 8.6703e-05 - accuracy: 1.0000\n",
            "Epoch 59/100\n",
            "22/22 [==============================] - 0s 2ms/step - loss: 8.3275e-05 - accuracy: 1.0000\n",
            "Epoch 60/100\n",
            "22/22 [==============================] - 0s 2ms/step - loss: 7.9862e-05 - accuracy: 1.0000\n",
            "Epoch 61/100\n",
            "22/22 [==============================] - 0s 2ms/step - loss: 7.7477e-05 - accuracy: 1.0000\n",
            "Epoch 62/100\n",
            "22/22 [==============================] - 0s 2ms/step - loss: 7.6533e-05 - accuracy: 1.0000\n",
            "Epoch 63/100\n",
            "22/22 [==============================] - 0s 2ms/step - loss: 7.2700e-05 - accuracy: 1.0000\n",
            "Epoch 64/100\n",
            "22/22 [==============================] - 0s 2ms/step - loss: 7.0023e-05 - accuracy: 1.0000\n",
            "Epoch 65/100\n",
            "22/22 [==============================] - 0s 2ms/step - loss: 6.7315e-05 - accuracy: 1.0000\n",
            "Epoch 66/100\n",
            "22/22 [==============================] - 0s 2ms/step - loss: 6.7893e-05 - accuracy: 1.0000\n",
            "Epoch 67/100\n",
            "22/22 [==============================] - 0s 2ms/step - loss: 6.2112e-05 - accuracy: 1.0000\n",
            "Epoch 68/100\n",
            "22/22 [==============================] - 0s 2ms/step - loss: 6.1267e-05 - accuracy: 1.0000\n",
            "Epoch 69/100\n",
            "22/22 [==============================] - 0s 2ms/step - loss: 5.8382e-05 - accuracy: 1.0000\n",
            "Epoch 70/100\n",
            "22/22 [==============================] - 0s 2ms/step - loss: 5.6813e-05 - accuracy: 1.0000\n",
            "Epoch 71/100\n",
            "22/22 [==============================] - 0s 2ms/step - loss: 5.4898e-05 - accuracy: 1.0000\n",
            "Epoch 72/100\n",
            "22/22 [==============================] - 0s 2ms/step - loss: 5.3789e-05 - accuracy: 1.0000\n",
            "Epoch 73/100\n",
            "22/22 [==============================] - 0s 2ms/step - loss: 5.1753e-05 - accuracy: 1.0000\n",
            "Epoch 74/100\n",
            "22/22 [==============================] - 0s 2ms/step - loss: 5.1172e-05 - accuracy: 1.0000\n",
            "Epoch 75/100\n",
            "22/22 [==============================] - 0s 2ms/step - loss: 4.8618e-05 - accuracy: 1.0000\n",
            "Epoch 76/100\n",
            "22/22 [==============================] - 0s 2ms/step - loss: 4.7598e-05 - accuracy: 1.0000\n",
            "Epoch 77/100\n",
            "22/22 [==============================] - 0s 2ms/step - loss: 4.6070e-05 - accuracy: 1.0000\n",
            "Epoch 78/100\n",
            "22/22 [==============================] - 0s 2ms/step - loss: 4.4376e-05 - accuracy: 1.0000\n",
            "Epoch 79/100\n",
            "22/22 [==============================] - 0s 3ms/step - loss: 4.3475e-05 - accuracy: 1.0000\n",
            "Epoch 80/100\n",
            "22/22 [==============================] - 0s 2ms/step - loss: 4.2314e-05 - accuracy: 1.0000\n",
            "Epoch 81/100\n",
            "22/22 [==============================] - 0s 2ms/step - loss: 4.1353e-05 - accuracy: 1.0000\n",
            "Epoch 82/100\n",
            "22/22 [==============================] - 0s 2ms/step - loss: 3.9572e-05 - accuracy: 1.0000\n",
            "Epoch 83/100\n",
            "22/22 [==============================] - 0s 2ms/step - loss: 3.8642e-05 - accuracy: 1.0000\n",
            "Epoch 84/100\n",
            "22/22 [==============================] - 0s 2ms/step - loss: 3.7557e-05 - accuracy: 1.0000\n",
            "Epoch 85/100\n",
            "22/22 [==============================] - 0s 2ms/step - loss: 3.6549e-05 - accuracy: 1.0000\n",
            "Epoch 86/100\n",
            "22/22 [==============================] - 0s 2ms/step - loss: 3.6068e-05 - accuracy: 1.0000\n",
            "Epoch 87/100\n",
            "22/22 [==============================] - 0s 2ms/step - loss: 3.4866e-05 - accuracy: 1.0000\n",
            "Epoch 88/100\n",
            "22/22 [==============================] - 0s 2ms/step - loss: 3.3675e-05 - accuracy: 1.0000\n",
            "Epoch 89/100\n",
            "22/22 [==============================] - 0s 2ms/step - loss: 3.2844e-05 - accuracy: 1.0000\n",
            "Epoch 90/100\n",
            "22/22 [==============================] - 0s 2ms/step - loss: 3.2347e-05 - accuracy: 1.0000\n",
            "Epoch 91/100\n",
            "22/22 [==============================] - 0s 2ms/step - loss: 3.1157e-05 - accuracy: 1.0000\n",
            "Epoch 92/100\n",
            "22/22 [==============================] - 0s 2ms/step - loss: 3.0507e-05 - accuracy: 1.0000\n",
            "Epoch 93/100\n",
            "22/22 [==============================] - 0s 2ms/step - loss: 3.0223e-05 - accuracy: 1.0000\n",
            "Epoch 94/100\n",
            "22/22 [==============================] - 0s 2ms/step - loss: 2.9265e-05 - accuracy: 1.0000\n",
            "Epoch 95/100\n",
            "22/22 [==============================] - 0s 2ms/step - loss: 2.9369e-05 - accuracy: 1.0000\n",
            "Epoch 96/100\n",
            "22/22 [==============================] - 0s 2ms/step - loss: 2.8268e-05 - accuracy: 1.0000\n",
            "Epoch 97/100\n",
            "22/22 [==============================] - 0s 3ms/step - loss: 2.7167e-05 - accuracy: 1.0000\n",
            "Epoch 98/100\n",
            "22/22 [==============================] - 0s 2ms/step - loss: 2.6280e-05 - accuracy: 1.0000\n",
            "Epoch 99/100\n",
            "22/22 [==============================] - 0s 2ms/step - loss: 2.5479e-05 - accuracy: 1.0000\n",
            "Epoch 100/100\n",
            "22/22 [==============================] - 0s 2ms/step - loss: 2.5522e-05 - accuracy: 1.0000\n"
          ]
        }
      ]
    },
    {
      "cell_type": "code",
      "source": [
        "cv_mean_accuracy"
      ],
      "metadata": {
        "colab": {
          "base_uri": "https://localhost:8080/"
        },
        "id": "hERpBMtMUQ5q",
        "outputId": "56be7242-97fb-45d1-993b-4d1a48d42fdb"
      },
      "execution_count": 102,
      "outputs": [
        {
          "output_type": "execute_result",
          "data": {
            "text/plain": [
              "1.0"
            ]
          },
          "metadata": {},
          "execution_count": 102
        }
      ]
    },
    {
      "cell_type": "markdown",
      "source": [
        "Menggunakan cross validation score untuk melihat rata rata akurasi cross validasinya,dengan cv 3 folds dan scoringnya accuracy."
      ],
      "metadata": {
        "id": "sUJE7oGjpODp"
      }
    },
    {
      "cell_type": "markdown",
      "source": [
        "##Hyperparameter tuning dengan RandomizedSearchCV"
      ],
      "metadata": {
        "id": "nM10Ulenpx7M"
      }
    },
    {
      "cell_type": "code",
      "source": [
        "params_grid1 = {'n_neurons':[(25,25), (30,25), (50,30),(70,50),(100,70),(130,100)]}\n",
        "\n",
        "grid_search1 = RandomizedSearchCV(model, params_grid1, cv=3, scoring='accuracy', \n",
        "                           verbose=2)\n",
        "grid_search1.fit(X_train, y_train, verbose=0)"
      ],
      "metadata": {
        "colab": {
          "base_uri": "https://localhost:8080/"
        },
        "id": "4TB17s88UY5D",
        "outputId": "4530fd3f-0001-4713-c932-a19feb10193b"
      },
      "execution_count": 103,
      "outputs": [
        {
          "output_type": "stream",
          "name": "stderr",
          "text": [
            "/usr/local/lib/python3.7/dist-packages/sklearn/model_selection/_search.py:296: UserWarning: The total space of parameters 6 is smaller than n_iter=10. Running 6 iterations. For exhaustive searches, use GridSearchCV.\n",
            "  UserWarning,\n"
          ]
        },
        {
          "output_type": "stream",
          "name": "stdout",
          "text": [
            "Fitting 3 folds for each of 6 candidates, totalling 18 fits\n",
            "[CV] END .................................n_neurons=(25, 25); total time=   3.9s\n",
            "[CV] END .................................n_neurons=(25, 25); total time=   5.9s\n",
            "[CV] END .................................n_neurons=(25, 25); total time=   4.0s\n",
            "[CV] END .................................n_neurons=(30, 25); total time=   4.0s\n",
            "[CV] END .................................n_neurons=(30, 25); total time=   5.8s\n",
            "[CV] END .................................n_neurons=(30, 25); total time=   5.9s\n",
            "[CV] END .................................n_neurons=(50, 30); total time=   4.0s\n",
            "[CV] END .................................n_neurons=(50, 30); total time=   6.5s\n",
            "[CV] END .................................n_neurons=(50, 30); total time=   5.9s\n",
            "[CV] END .................................n_neurons=(70, 50); total time=   4.4s\n",
            "[CV] END .................................n_neurons=(70, 50); total time=   6.0s\n",
            "[CV] END .................................n_neurons=(70, 50); total time=   4.3s\n",
            "[CV] END ................................n_neurons=(100, 70); total time=   5.3s\n",
            "[CV] END ................................n_neurons=(100, 70); total time=   4.6s\n",
            "[CV] END ................................n_neurons=(100, 70); total time=   5.9s\n",
            "[CV] END ...............................n_neurons=(130, 100); total time=   5.5s\n",
            "[CV] END ...............................n_neurons=(130, 100); total time=   5.8s\n",
            "[CV] END ...............................n_neurons=(130, 100); total time=   5.4s\n"
          ]
        },
        {
          "output_type": "execute_result",
          "data": {
            "text/plain": [
              "RandomizedSearchCV(cv=3,\n",
              "                   estimator=<keras.wrappers.scikit_learn.KerasClassifier object at 0x7faf893a3950>,\n",
              "                   param_distributions={'n_neurons': [(25, 25), (30, 25),\n",
              "                                                      (50, 30), (70, 50),\n",
              "                                                      (100, 70), (130, 100)]},\n",
              "                   scoring='accuracy', verbose=2)"
            ]
          },
          "metadata": {},
          "execution_count": 103
        }
      ]
    },
    {
      "cell_type": "markdown",
      "source": [
        "Mencari hyperparameter terbaik untuk neuron di hidden layer dengan 6 pilihan."
      ],
      "metadata": {
        "id": "tiHwrCZZqkpD"
      }
    },
    {
      "cell_type": "code",
      "source": [
        "grid_search1.cv_results_['mean_test_score'].max(), grid_search1.best_params_"
      ],
      "metadata": {
        "colab": {
          "base_uri": "https://localhost:8080/"
        },
        "id": "J7iimu6rUbqD",
        "outputId": "d5d565f8-dc16-4ec4-f536-1932b3d6e773"
      },
      "execution_count": 104,
      "outputs": [
        {
          "output_type": "execute_result",
          "data": {
            "text/plain": [
              "(1.0, {'n_neurons': (25, 25)})"
            ]
          },
          "metadata": {},
          "execution_count": 104
        }
      ]
    },
    {
      "cell_type": "markdown",
      "source": [
        "Di dapat jumlah neuron terbaik yang memberikan score terbaik, yaitu 25 neuron untuk hidden layer pertama dan 25 neuron untuk hidden layer kedua."
      ],
      "metadata": {
        "id": "BtRjtV3Eqxx7"
      }
    },
    {
      "cell_type": "code",
      "source": [
        "params_grid2 = {'n_neurons':[(25,25)],\n",
        "              'learning_rate':[3e-4, 3e-3, 3e-2],\n",
        "              'activation_hidden':['relu','sigmoid','tanh']}\n",
        "\n",
        "grid_search2 = RandomizedSearchCV(model, params_grid2, cv=3, scoring='accuracy', \n",
        "                           verbose=2)\n",
        "grid_search2.fit(X_train, y_train, verbose=0)"
      ],
      "metadata": {
        "colab": {
          "base_uri": "https://localhost:8080/"
        },
        "id": "YMfZDGWrU5h4",
        "outputId": "a8f57636-7d6d-4a2f-ac44-ce07c968fffc"
      },
      "execution_count": 105,
      "outputs": [
        {
          "output_type": "stream",
          "name": "stderr",
          "text": [
            "/usr/local/lib/python3.7/dist-packages/sklearn/model_selection/_search.py:296: UserWarning: The total space of parameters 9 is smaller than n_iter=10. Running 9 iterations. For exhaustive searches, use GridSearchCV.\n",
            "  UserWarning,\n"
          ]
        },
        {
          "output_type": "stream",
          "name": "stdout",
          "text": [
            "Fitting 3 folds for each of 9 candidates, totalling 27 fits\n",
            "[CV] END activation_hidden=relu, learning_rate=0.0003, n_neurons=(25, 25); total time=   5.9s\n",
            "[CV] END activation_hidden=relu, learning_rate=0.0003, n_neurons=(25, 25); total time=   3.9s\n",
            "[CV] END activation_hidden=relu, learning_rate=0.0003, n_neurons=(25, 25); total time=   5.8s\n",
            "[CV] END activation_hidden=relu, learning_rate=0.003, n_neurons=(25, 25); total time=   5.9s\n",
            "[CV] END activation_hidden=relu, learning_rate=0.003, n_neurons=(25, 25); total time=   4.4s\n",
            "[CV] END activation_hidden=relu, learning_rate=0.003, n_neurons=(25, 25); total time=   5.8s\n",
            "[CV] END activation_hidden=relu, learning_rate=0.03, n_neurons=(25, 25); total time=   4.0s\n",
            "[CV] END activation_hidden=relu, learning_rate=0.03, n_neurons=(25, 25); total time=   6.0s\n",
            "[CV] END activation_hidden=relu, learning_rate=0.03, n_neurons=(25, 25); total time=  11.4s\n",
            "[CV] END activation_hidden=sigmoid, learning_rate=0.0003, n_neurons=(25, 25); total time=   4.0s\n",
            "[CV] END activation_hidden=sigmoid, learning_rate=0.0003, n_neurons=(25, 25); total time=   5.8s\n",
            "[CV] END activation_hidden=sigmoid, learning_rate=0.0003, n_neurons=(25, 25); total time=   5.8s\n",
            "[CV] END activation_hidden=sigmoid, learning_rate=0.003, n_neurons=(25, 25); total time=   4.0s\n",
            "[CV] END activation_hidden=sigmoid, learning_rate=0.003, n_neurons=(25, 25); total time=   3.8s\n",
            "[CV] END activation_hidden=sigmoid, learning_rate=0.003, n_neurons=(25, 25); total time=   5.9s\n",
            "[CV] END activation_hidden=sigmoid, learning_rate=0.03, n_neurons=(25, 25); total time=   5.9s\n",
            "[CV] END activation_hidden=sigmoid, learning_rate=0.03, n_neurons=(25, 25); total time=   5.9s\n",
            "[CV] END activation_hidden=sigmoid, learning_rate=0.03, n_neurons=(25, 25); total time=   3.9s\n",
            "[CV] END activation_hidden=tanh, learning_rate=0.0003, n_neurons=(25, 25); total time=   4.0s\n",
            "[CV] END activation_hidden=tanh, learning_rate=0.0003, n_neurons=(25, 25); total time=   5.8s\n",
            "[CV] END activation_hidden=tanh, learning_rate=0.0003, n_neurons=(25, 25); total time=   3.9s\n",
            "[CV] END activation_hidden=tanh, learning_rate=0.003, n_neurons=(25, 25); total time=   6.4s\n",
            "[CV] END activation_hidden=tanh, learning_rate=0.003, n_neurons=(25, 25); total time=   4.0s\n",
            "[CV] END activation_hidden=tanh, learning_rate=0.003, n_neurons=(25, 25); total time=   5.9s\n",
            "[CV] END activation_hidden=tanh, learning_rate=0.03, n_neurons=(25, 25); total time=   4.2s\n",
            "[CV] END activation_hidden=tanh, learning_rate=0.03, n_neurons=(25, 25); total time=   3.9s\n",
            "[CV] END activation_hidden=tanh, learning_rate=0.03, n_neurons=(25, 25); total time=   5.9s\n"
          ]
        },
        {
          "output_type": "execute_result",
          "data": {
            "text/plain": [
              "RandomizedSearchCV(cv=3,\n",
              "                   estimator=<keras.wrappers.scikit_learn.KerasClassifier object at 0x7faf893a3950>,\n",
              "                   param_distributions={'activation_hidden': ['relu', 'sigmoid',\n",
              "                                                              'tanh'],\n",
              "                                        'learning_rate': [0.0003, 0.003, 0.03],\n",
              "                                        'n_neurons': [(25, 25)]},\n",
              "                   scoring='accuracy', verbose=2)"
            ]
          },
          "metadata": {},
          "execution_count": 105
        }
      ]
    },
    {
      "cell_type": "markdown",
      "source": [
        "Mencari hyperparameter terbaik untuk learning rate dan juga fungsi aktivasinya. Untuk learning rate nya terdapat 3 pilihan, yaitu 0.0003, 0.003, dan 0.03. Untuk fungsi aktivasinya juga terdapat 3 pilihan, yaitu relu, sigmoid, dan tanh."
      ],
      "metadata": {
        "id": "zOHhj2k3rXu4"
      }
    },
    {
      "cell_type": "code",
      "source": [
        "grid_search2.cv_results_['mean_test_score'].max(), grid_search2.best_params_"
      ],
      "metadata": {
        "colab": {
          "base_uri": "https://localhost:8080/"
        },
        "id": "6I2sRqYFU8QU",
        "outputId": "52327f88-d060-4450-e671-ef866da61508"
      },
      "execution_count": 106,
      "outputs": [
        {
          "output_type": "execute_result",
          "data": {
            "text/plain": [
              "(1.0,\n",
              " {'activation_hidden': 'relu', 'learning_rate': 0.003, 'n_neurons': (25, 25)})"
            ]
          },
          "metadata": {},
          "execution_count": 106
        }
      ]
    },
    {
      "cell_type": "markdown",
      "source": [
        "Didapat hyperparameter terbaik untuk fungsi aktivasi adalah relu, learning ratenya sebesar 0.003, dan jumlah neuron untuk masing masing hidden layer, yaitu 25 25."
      ],
      "metadata": {
        "id": "ejoY2lQCr9xd"
      }
    },
    {
      "cell_type": "code",
      "source": [
        "params_grid3 = {'n_neurons':[(25,25)],\n",
        "              'learning_rate':[3e-3],\n",
        "              'activation_hidden':['relu'],\n",
        "              'epochs':[100, 200],\n",
        "              'batch_size':[100,200,350,500]}\n",
        "\n",
        "grid_search3 = RandomizedSearchCV(model, params_grid3, cv=3, scoring='accuracy', \n",
        "                           verbose=2)\n",
        "grid_search3.fit(X_train, y_train, verbose=0)"
      ],
      "metadata": {
        "colab": {
          "base_uri": "https://localhost:8080/"
        },
        "id": "zGiJoLl2WFFJ",
        "outputId": "d3c4efc8-c110-4f62-def1-5541b7925aa5"
      },
      "execution_count": 107,
      "outputs": [
        {
          "output_type": "stream",
          "name": "stderr",
          "text": [
            "/usr/local/lib/python3.7/dist-packages/sklearn/model_selection/_search.py:296: UserWarning: The total space of parameters 8 is smaller than n_iter=10. Running 8 iterations. For exhaustive searches, use GridSearchCV.\n",
            "  UserWarning,\n"
          ]
        },
        {
          "output_type": "stream",
          "name": "stdout",
          "text": [
            "Fitting 3 folds for each of 8 candidates, totalling 24 fits\n",
            "[CV] END activation_hidden=relu, batch_size=100, epochs=100, learning_rate=0.003, n_neurons=(25, 25); total time=   6.8s\n",
            "[CV] END activation_hidden=relu, batch_size=100, epochs=100, learning_rate=0.003, n_neurons=(25, 25); total time=  11.0s\n",
            "[CV] END activation_hidden=relu, batch_size=100, epochs=100, learning_rate=0.003, n_neurons=(25, 25); total time=  11.0s\n",
            "[CV] END activation_hidden=relu, batch_size=100, epochs=200, learning_rate=0.003, n_neurons=(25, 25); total time=  21.3s\n",
            "[CV] END activation_hidden=relu, batch_size=100, epochs=200, learning_rate=0.003, n_neurons=(25, 25); total time=  12.6s\n",
            "[CV] END activation_hidden=relu, batch_size=100, epochs=200, learning_rate=0.003, n_neurons=(25, 25); total time=  21.2s\n",
            "[CV] END activation_hidden=relu, batch_size=200, epochs=100, learning_rate=0.003, n_neurons=(25, 25); total time=   5.9s\n",
            "[CV] END activation_hidden=relu, batch_size=200, epochs=100, learning_rate=0.003, n_neurons=(25, 25); total time=   3.9s\n",
            "[CV] END activation_hidden=relu, batch_size=200, epochs=100, learning_rate=0.003, n_neurons=(25, 25); total time=   5.8s\n",
            "[CV] END activation_hidden=relu, batch_size=200, epochs=200, learning_rate=0.003, n_neurons=(25, 25); total time=  11.4s\n",
            "[CV] END activation_hidden=relu, batch_size=200, epochs=200, learning_rate=0.003, n_neurons=(25, 25); total time=  11.0s\n",
            "[CV] END activation_hidden=relu, batch_size=200, epochs=200, learning_rate=0.003, n_neurons=(25, 25); total time=   7.4s\n",
            "[CV] END activation_hidden=relu, batch_size=350, epochs=100, learning_rate=0.003, n_neurons=(25, 25); total time=   2.9s\n",
            "[CV] END activation_hidden=relu, batch_size=350, epochs=100, learning_rate=0.003, n_neurons=(25, 25); total time=   3.3s\n",
            "[CV] END activation_hidden=relu, batch_size=350, epochs=100, learning_rate=0.003, n_neurons=(25, 25); total time=   2.9s\n",
            "[CV] END activation_hidden=relu, batch_size=350, epochs=200, learning_rate=0.003, n_neurons=(25, 25); total time=   4.9s\n",
            "[CV] END activation_hidden=relu, batch_size=350, epochs=200, learning_rate=0.003, n_neurons=(25, 25); total time=   6.0s\n",
            "[CV] END activation_hidden=relu, batch_size=350, epochs=200, learning_rate=0.003, n_neurons=(25, 25); total time=   5.0s\n",
            "[CV] END activation_hidden=relu, batch_size=500, epochs=100, learning_rate=0.003, n_neurons=(25, 25); total time=   2.3s\n",
            "[CV] END activation_hidden=relu, batch_size=500, epochs=100, learning_rate=0.003, n_neurons=(25, 25); total time=   2.4s\n",
            "[CV] END activation_hidden=relu, batch_size=500, epochs=100, learning_rate=0.003, n_neurons=(25, 25); total time=   3.3s\n",
            "[CV] END activation_hidden=relu, batch_size=500, epochs=200, learning_rate=0.003, n_neurons=(25, 25); total time=   3.8s\n",
            "[CV] END activation_hidden=relu, batch_size=500, epochs=200, learning_rate=0.003, n_neurons=(25, 25); total time=   3.8s\n",
            "[CV] END activation_hidden=relu, batch_size=500, epochs=200, learning_rate=0.003, n_neurons=(25, 25); total time=   3.8s\n"
          ]
        },
        {
          "output_type": "execute_result",
          "data": {
            "text/plain": [
              "RandomizedSearchCV(cv=3,\n",
              "                   estimator=<keras.wrappers.scikit_learn.KerasClassifier object at 0x7faf893a3950>,\n",
              "                   param_distributions={'activation_hidden': ['relu'],\n",
              "                                        'batch_size': [100, 200, 350, 500],\n",
              "                                        'epochs': [100, 200],\n",
              "                                        'learning_rate': [0.003],\n",
              "                                        'n_neurons': [(25, 25)]},\n",
              "                   scoring='accuracy', verbose=2)"
            ]
          },
          "metadata": {},
          "execution_count": 107
        }
      ]
    },
    {
      "cell_type": "markdown",
      "source": [
        "Mencari hyperparameter terbaik untuk epochs dan batch sizenya. untuk batch sizenya terdapat 4 pilihan, yaitu 100,200,350, dan 500. Untuk epochsnya hanya 2 pilihan, yaitu 100 dan 200."
      ],
      "metadata": {
        "id": "wJhx2TKrtF-O"
      }
    },
    {
      "cell_type": "code",
      "source": [
        "grid_search3.cv_results_['mean_test_score'].max(), grid_search3.best_params_"
      ],
      "metadata": {
        "colab": {
          "base_uri": "https://localhost:8080/"
        },
        "id": "9B0BZVNrWJzS",
        "outputId": "fea32909-5179-4a37-f9cb-814574821777"
      },
      "execution_count": 108,
      "outputs": [
        {
          "output_type": "execute_result",
          "data": {
            "text/plain": [
              "(1.0,\n",
              " {'activation_hidden': 'relu',\n",
              "  'batch_size': 100,\n",
              "  'epochs': 100,\n",
              "  'learning_rate': 0.003,\n",
              "  'n_neurons': (25, 25)})"
            ]
          },
          "metadata": {},
          "execution_count": 108
        }
      ]
    },
    {
      "cell_type": "markdown",
      "source": [
        "Didapat hyperparameter terbaik untuk epocs, yaitu 100 dan untuk batch size juga 100."
      ],
      "metadata": {
        "id": "3jSO2Cmttgd8"
      }
    },
    {
      "cell_type": "markdown",
      "source": [
        "##Final Model"
      ],
      "metadata": {
        "id": "uc0ALC82tpt-"
      }
    },
    {
      "cell_type": "code",
      "source": [
        "model = grid_search3.best_estimator_\n",
        "model.fit(X_train, y_train, validation_data=(X_val, y_val))"
      ],
      "metadata": {
        "colab": {
          "base_uri": "https://localhost:8080/"
        },
        "id": "cs7XoMDsXZcA",
        "outputId": "a6e898a9-88f4-4555-bd0a-16a0dbafaef5"
      },
      "execution_count": 109,
      "outputs": [
        {
          "output_type": "stream",
          "name": "stdout",
          "text": [
            "Epoch 1/100\n",
            "65/65 [==============================] - 2s 18ms/step - loss: 0.3072 - accuracy: 0.8832 - val_loss: 0.1144 - val_accuracy: 0.9594\n",
            "Epoch 2/100\n",
            "65/65 [==============================] - 0s 2ms/step - loss: 0.0647 - accuracy: 0.9795 - val_loss: 0.0333 - val_accuracy: 0.9908\n",
            "Epoch 3/100\n",
            "65/65 [==============================] - 0s 3ms/step - loss: 0.0223 - accuracy: 0.9951 - val_loss: 0.0135 - val_accuracy: 0.9982\n",
            "Epoch 4/100\n",
            "65/65 [==============================] - 0s 3ms/step - loss: 0.0101 - accuracy: 0.9986 - val_loss: 0.0078 - val_accuracy: 0.9988\n",
            "Epoch 5/100\n",
            "65/65 [==============================] - 0s 2ms/step - loss: 0.0058 - accuracy: 0.9995 - val_loss: 0.0043 - val_accuracy: 1.0000\n",
            "Epoch 6/100\n",
            "65/65 [==============================] - 0s 3ms/step - loss: 0.0038 - accuracy: 0.9995 - val_loss: 0.0039 - val_accuracy: 0.9994\n",
            "Epoch 7/100\n",
            "65/65 [==============================] - 0s 3ms/step - loss: 0.0032 - accuracy: 0.9997 - val_loss: 0.0019 - val_accuracy: 1.0000\n",
            "Epoch 8/100\n",
            "65/65 [==============================] - 0s 3ms/step - loss: 0.0017 - accuracy: 1.0000 - val_loss: 0.0014 - val_accuracy: 1.0000\n",
            "Epoch 9/100\n",
            "65/65 [==============================] - 0s 3ms/step - loss: 0.0013 - accuracy: 1.0000 - val_loss: 0.0010 - val_accuracy: 1.0000\n",
            "Epoch 10/100\n",
            "65/65 [==============================] - 0s 3ms/step - loss: 0.0010 - accuracy: 1.0000 - val_loss: 8.3763e-04 - val_accuracy: 1.0000\n",
            "Epoch 11/100\n",
            "65/65 [==============================] - 0s 3ms/step - loss: 8.0333e-04 - accuracy: 1.0000 - val_loss: 7.1923e-04 - val_accuracy: 1.0000\n",
            "Epoch 12/100\n",
            "65/65 [==============================] - 0s 3ms/step - loss: 6.6056e-04 - accuracy: 1.0000 - val_loss: 5.5550e-04 - val_accuracy: 1.0000\n",
            "Epoch 13/100\n",
            "65/65 [==============================] - 0s 3ms/step - loss: 5.7179e-04 - accuracy: 1.0000 - val_loss: 4.3920e-04 - val_accuracy: 1.0000\n",
            "Epoch 14/100\n",
            "65/65 [==============================] - 0s 3ms/step - loss: 4.5064e-04 - accuracy: 1.0000 - val_loss: 4.7591e-04 - val_accuracy: 1.0000\n",
            "Epoch 15/100\n",
            "65/65 [==============================] - 0s 3ms/step - loss: 4.0877e-04 - accuracy: 1.0000 - val_loss: 3.2621e-04 - val_accuracy: 1.0000\n",
            "Epoch 16/100\n",
            "65/65 [==============================] - 0s 3ms/step - loss: 3.2636e-04 - accuracy: 1.0000 - val_loss: 2.8240e-04 - val_accuracy: 1.0000\n",
            "Epoch 17/100\n",
            "65/65 [==============================] - 0s 3ms/step - loss: 2.7666e-04 - accuracy: 1.0000 - val_loss: 2.4968e-04 - val_accuracy: 1.0000\n",
            "Epoch 18/100\n",
            "65/65 [==============================] - 0s 3ms/step - loss: 2.4402e-04 - accuracy: 1.0000 - val_loss: 2.2379e-04 - val_accuracy: 1.0000\n",
            "Epoch 19/100\n",
            "65/65 [==============================] - 0s 2ms/step - loss: 2.1554e-04 - accuracy: 1.0000 - val_loss: 1.9651e-04 - val_accuracy: 1.0000\n",
            "Epoch 20/100\n",
            "65/65 [==============================] - 0s 3ms/step - loss: 1.8672e-04 - accuracy: 1.0000 - val_loss: 1.7497e-04 - val_accuracy: 1.0000\n",
            "Epoch 21/100\n",
            "65/65 [==============================] - 0s 2ms/step - loss: 1.7420e-04 - accuracy: 1.0000 - val_loss: 1.4770e-04 - val_accuracy: 1.0000\n",
            "Epoch 22/100\n",
            "65/65 [==============================] - 0s 3ms/step - loss: 1.4905e-04 - accuracy: 1.0000 - val_loss: 1.3315e-04 - val_accuracy: 1.0000\n",
            "Epoch 23/100\n",
            "65/65 [==============================] - 0s 2ms/step - loss: 1.3380e-04 - accuracy: 1.0000 - val_loss: 1.2002e-04 - val_accuracy: 1.0000\n",
            "Epoch 24/100\n",
            "65/65 [==============================] - 0s 3ms/step - loss: 1.1903e-04 - accuracy: 1.0000 - val_loss: 1.0824e-04 - val_accuracy: 1.0000\n",
            "Epoch 25/100\n",
            "65/65 [==============================] - 0s 3ms/step - loss: 1.1154e-04 - accuracy: 1.0000 - val_loss: 9.7951e-05 - val_accuracy: 1.0000\n",
            "Epoch 26/100\n",
            "65/65 [==============================] - 0s 4ms/step - loss: 9.8371e-05 - accuracy: 1.0000 - val_loss: 8.8437e-05 - val_accuracy: 1.0000\n",
            "Epoch 27/100\n",
            "65/65 [==============================] - 0s 3ms/step - loss: 9.2203e-05 - accuracy: 1.0000 - val_loss: 8.1538e-05 - val_accuracy: 1.0000\n",
            "Epoch 28/100\n",
            "65/65 [==============================] - 0s 3ms/step - loss: 8.3412e-05 - accuracy: 1.0000 - val_loss: 7.3832e-05 - val_accuracy: 1.0000\n",
            "Epoch 29/100\n",
            "65/65 [==============================] - 0s 3ms/step - loss: 8.2931e-05 - accuracy: 1.0000 - val_loss: 6.9537e-05 - val_accuracy: 1.0000\n",
            "Epoch 30/100\n",
            "65/65 [==============================] - 0s 2ms/step - loss: 6.9384e-05 - accuracy: 1.0000 - val_loss: 6.1870e-05 - val_accuracy: 1.0000\n",
            "Epoch 31/100\n",
            "65/65 [==============================] - 0s 3ms/step - loss: 6.5715e-05 - accuracy: 1.0000 - val_loss: 5.8857e-05 - val_accuracy: 1.0000\n",
            "Epoch 32/100\n",
            "65/65 [==============================] - 0s 2ms/step - loss: 5.8953e-05 - accuracy: 1.0000 - val_loss: 5.4166e-05 - val_accuracy: 1.0000\n",
            "Epoch 33/100\n",
            "65/65 [==============================] - 0s 2ms/step - loss: 5.4978e-05 - accuracy: 1.0000 - val_loss: 4.9224e-05 - val_accuracy: 1.0000\n",
            "Epoch 34/100\n",
            "65/65 [==============================] - 0s 2ms/step - loss: 5.0252e-05 - accuracy: 1.0000 - val_loss: 4.6988e-05 - val_accuracy: 1.0000\n",
            "Epoch 35/100\n",
            "65/65 [==============================] - 0s 3ms/step - loss: 4.7195e-05 - accuracy: 1.0000 - val_loss: 4.3140e-05 - val_accuracy: 1.0000\n",
            "Epoch 36/100\n",
            "65/65 [==============================] - 0s 2ms/step - loss: 4.3851e-05 - accuracy: 1.0000 - val_loss: 4.1027e-05 - val_accuracy: 1.0000\n",
            "Epoch 37/100\n",
            "65/65 [==============================] - 0s 3ms/step - loss: 4.1457e-05 - accuracy: 1.0000 - val_loss: 3.7304e-05 - val_accuracy: 1.0000\n",
            "Epoch 38/100\n",
            "65/65 [==============================] - 0s 2ms/step - loss: 3.8600e-05 - accuracy: 1.0000 - val_loss: 3.5176e-05 - val_accuracy: 1.0000\n",
            "Epoch 39/100\n",
            "65/65 [==============================] - 0s 2ms/step - loss: 3.6766e-05 - accuracy: 1.0000 - val_loss: 3.3275e-05 - val_accuracy: 1.0000\n",
            "Epoch 40/100\n",
            "65/65 [==============================] - 0s 2ms/step - loss: 3.4302e-05 - accuracy: 1.0000 - val_loss: 3.2786e-05 - val_accuracy: 1.0000\n",
            "Epoch 41/100\n",
            "65/65 [==============================] - 0s 3ms/step - loss: 3.1403e-05 - accuracy: 1.0000 - val_loss: 2.9032e-05 - val_accuracy: 1.0000\n",
            "Epoch 42/100\n",
            "65/65 [==============================] - 0s 3ms/step - loss: 2.9433e-05 - accuracy: 1.0000 - val_loss: 2.8004e-05 - val_accuracy: 1.0000\n",
            "Epoch 43/100\n",
            "65/65 [==============================] - 0s 3ms/step - loss: 3.0420e-05 - accuracy: 1.0000 - val_loss: 2.5488e-05 - val_accuracy: 1.0000\n",
            "Epoch 44/100\n",
            "65/65 [==============================] - 0s 3ms/step - loss: 2.6731e-05 - accuracy: 1.0000 - val_loss: 2.3848e-05 - val_accuracy: 1.0000\n",
            "Epoch 45/100\n",
            "65/65 [==============================] - 0s 3ms/step - loss: 2.4748e-05 - accuracy: 1.0000 - val_loss: 2.2530e-05 - val_accuracy: 1.0000\n",
            "Epoch 46/100\n",
            "65/65 [==============================] - 0s 3ms/step - loss: 2.2659e-05 - accuracy: 1.0000 - val_loss: 2.1243e-05 - val_accuracy: 1.0000\n",
            "Epoch 47/100\n",
            "65/65 [==============================] - 0s 2ms/step - loss: 2.2021e-05 - accuracy: 1.0000 - val_loss: 1.9939e-05 - val_accuracy: 1.0000\n",
            "Epoch 48/100\n",
            "65/65 [==============================] - 0s 2ms/step - loss: 2.0335e-05 - accuracy: 1.0000 - val_loss: 1.8512e-05 - val_accuracy: 1.0000\n",
            "Epoch 49/100\n",
            "65/65 [==============================] - 0s 3ms/step - loss: 1.9994e-05 - accuracy: 1.0000 - val_loss: 1.7639e-05 - val_accuracy: 1.0000\n",
            "Epoch 50/100\n",
            "65/65 [==============================] - 0s 2ms/step - loss: 1.8578e-05 - accuracy: 1.0000 - val_loss: 1.6630e-05 - val_accuracy: 1.0000\n",
            "Epoch 51/100\n",
            "65/65 [==============================] - 0s 2ms/step - loss: 1.6914e-05 - accuracy: 1.0000 - val_loss: 1.6650e-05 - val_accuracy: 1.0000\n",
            "Epoch 52/100\n",
            "65/65 [==============================] - 0s 3ms/step - loss: 1.6675e-05 - accuracy: 1.0000 - val_loss: 1.4887e-05 - val_accuracy: 1.0000\n",
            "Epoch 53/100\n",
            "65/65 [==============================] - 0s 3ms/step - loss: 1.5473e-05 - accuracy: 1.0000 - val_loss: 1.4168e-05 - val_accuracy: 1.0000\n",
            "Epoch 54/100\n",
            "65/65 [==============================] - 0s 3ms/step - loss: 1.4531e-05 - accuracy: 1.0000 - val_loss: 1.3503e-05 - val_accuracy: 1.0000\n",
            "Epoch 55/100\n",
            "65/65 [==============================] - 0s 3ms/step - loss: 1.4336e-05 - accuracy: 1.0000 - val_loss: 1.2885e-05 - val_accuracy: 1.0000\n",
            "Epoch 56/100\n",
            "65/65 [==============================] - 0s 3ms/step - loss: 1.3325e-05 - accuracy: 1.0000 - val_loss: 1.1974e-05 - val_accuracy: 1.0000\n",
            "Epoch 57/100\n",
            "65/65 [==============================] - 0s 3ms/step - loss: 1.2317e-05 - accuracy: 1.0000 - val_loss: 1.1497e-05 - val_accuracy: 1.0000\n",
            "Epoch 58/100\n",
            "65/65 [==============================] - 0s 2ms/step - loss: 1.1675e-05 - accuracy: 1.0000 - val_loss: 1.0832e-05 - val_accuracy: 1.0000\n",
            "Epoch 59/100\n",
            "65/65 [==============================] - 0s 3ms/step - loss: 1.0927e-05 - accuracy: 1.0000 - val_loss: 1.0315e-05 - val_accuracy: 1.0000\n",
            "Epoch 60/100\n",
            "65/65 [==============================] - 0s 3ms/step - loss: 1.0615e-05 - accuracy: 1.0000 - val_loss: 9.8387e-06 - val_accuracy: 1.0000\n",
            "Epoch 61/100\n",
            "65/65 [==============================] - 0s 2ms/step - loss: 1.0062e-05 - accuracy: 1.0000 - val_loss: 9.3422e-06 - val_accuracy: 1.0000\n",
            "Epoch 62/100\n",
            "65/65 [==============================] - 0s 3ms/step - loss: 9.4024e-06 - accuracy: 1.0000 - val_loss: 9.0727e-06 - val_accuracy: 1.0000\n",
            "Epoch 63/100\n",
            "65/65 [==============================] - 0s 3ms/step - loss: 9.1407e-06 - accuracy: 1.0000 - val_loss: 8.5739e-06 - val_accuracy: 1.0000\n",
            "Epoch 64/100\n",
            "65/65 [==============================] - 0s 3ms/step - loss: 8.5873e-06 - accuracy: 1.0000 - val_loss: 8.1065e-06 - val_accuracy: 1.0000\n",
            "Epoch 65/100\n",
            "65/65 [==============================] - 0s 3ms/step - loss: 8.1881e-06 - accuracy: 1.0000 - val_loss: 7.7382e-06 - val_accuracy: 1.0000\n",
            "Epoch 66/100\n",
            "65/65 [==============================] - 0s 3ms/step - loss: 7.8891e-06 - accuracy: 1.0000 - val_loss: 7.3669e-06 - val_accuracy: 1.0000\n",
            "Epoch 67/100\n",
            "65/65 [==============================] - 0s 3ms/step - loss: 7.5503e-06 - accuracy: 1.0000 - val_loss: 7.0613e-06 - val_accuracy: 1.0000\n",
            "Epoch 68/100\n",
            "65/65 [==============================] - 0s 3ms/step - loss: 7.0982e-06 - accuracy: 1.0000 - val_loss: 6.7376e-06 - val_accuracy: 1.0000\n",
            "Epoch 69/100\n",
            "65/65 [==============================] - 0s 2ms/step - loss: 6.8216e-06 - accuracy: 1.0000 - val_loss: 6.4408e-06 - val_accuracy: 1.0000\n",
            "Epoch 70/100\n",
            "65/65 [==============================] - 0s 2ms/step - loss: 6.4799e-06 - accuracy: 1.0000 - val_loss: 6.2089e-06 - val_accuracy: 1.0000\n",
            "Epoch 71/100\n",
            "65/65 [==============================] - 0s 3ms/step - loss: 6.2072e-06 - accuracy: 1.0000 - val_loss: 5.8736e-06 - val_accuracy: 1.0000\n",
            "Epoch 72/100\n",
            "65/65 [==============================] - 0s 2ms/step - loss: 5.9795e-06 - accuracy: 1.0000 - val_loss: 5.6200e-06 - val_accuracy: 1.0000\n",
            "Epoch 73/100\n",
            "65/65 [==============================] - 0s 2ms/step - loss: 5.7236e-06 - accuracy: 1.0000 - val_loss: 5.4652e-06 - val_accuracy: 1.0000\n",
            "Epoch 74/100\n",
            "65/65 [==============================] - 0s 2ms/step - loss: 5.4992e-06 - accuracy: 1.0000 - val_loss: 5.1434e-06 - val_accuracy: 1.0000\n",
            "Epoch 75/100\n",
            "65/65 [==============================] - 0s 3ms/step - loss: 5.2225e-06 - accuracy: 1.0000 - val_loss: 4.9232e-06 - val_accuracy: 1.0000\n",
            "Epoch 76/100\n",
            "65/65 [==============================] - 0s 3ms/step - loss: 4.9886e-06 - accuracy: 1.0000 - val_loss: 4.7179e-06 - val_accuracy: 1.0000\n",
            "Epoch 77/100\n",
            "65/65 [==============================] - 0s 3ms/step - loss: 4.7777e-06 - accuracy: 1.0000 - val_loss: 4.4919e-06 - val_accuracy: 1.0000\n",
            "Epoch 78/100\n",
            "65/65 [==============================] - 0s 2ms/step - loss: 4.6252e-06 - accuracy: 1.0000 - val_loss: 4.3146e-06 - val_accuracy: 1.0000\n",
            "Epoch 79/100\n",
            "65/65 [==============================] - 0s 2ms/step - loss: 4.3421e-06 - accuracy: 1.0000 - val_loss: 4.1276e-06 - val_accuracy: 1.0000\n",
            "Epoch 80/100\n",
            "65/65 [==============================] - 0s 2ms/step - loss: 4.1784e-06 - accuracy: 1.0000 - val_loss: 3.9603e-06 - val_accuracy: 1.0000\n",
            "Epoch 81/100\n",
            "65/65 [==============================] - 0s 2ms/step - loss: 4.0130e-06 - accuracy: 1.0000 - val_loss: 3.8674e-06 - val_accuracy: 1.0000\n",
            "Epoch 82/100\n",
            "65/65 [==============================] - 0s 2ms/step - loss: 3.9128e-06 - accuracy: 1.0000 - val_loss: 3.6184e-06 - val_accuracy: 1.0000\n",
            "Epoch 83/100\n",
            "65/65 [==============================] - 0s 3ms/step - loss: 3.6690e-06 - accuracy: 1.0000 - val_loss: 3.4766e-06 - val_accuracy: 1.0000\n",
            "Epoch 84/100\n",
            "65/65 [==============================] - 0s 3ms/step - loss: 3.5353e-06 - accuracy: 1.0000 - val_loss: 3.3896e-06 - val_accuracy: 1.0000\n",
            "Epoch 85/100\n",
            "65/65 [==============================] - 0s 2ms/step - loss: 3.4398e-06 - accuracy: 1.0000 - val_loss: 3.2067e-06 - val_accuracy: 1.0000\n",
            "Epoch 86/100\n",
            "65/65 [==============================] - 0s 2ms/step - loss: 3.2184e-06 - accuracy: 1.0000 - val_loss: 3.1034e-06 - val_accuracy: 1.0000\n",
            "Epoch 87/100\n",
            "65/65 [==============================] - 0s 2ms/step - loss: 3.2413e-06 - accuracy: 1.0000 - val_loss: 3.0295e-06 - val_accuracy: 1.0000\n",
            "Epoch 88/100\n",
            "65/65 [==============================] - 0s 2ms/step - loss: 3.0284e-06 - accuracy: 1.0000 - val_loss: 2.8284e-06 - val_accuracy: 1.0000\n",
            "Epoch 89/100\n",
            "65/65 [==============================] - 0s 3ms/step - loss: 2.8297e-06 - accuracy: 1.0000 - val_loss: 2.7268e-06 - val_accuracy: 1.0000\n",
            "Epoch 90/100\n",
            "65/65 [==============================] - 0s 2ms/step - loss: 2.7305e-06 - accuracy: 1.0000 - val_loss: 2.6158e-06 - val_accuracy: 1.0000\n",
            "Epoch 91/100\n",
            "65/65 [==============================] - 0s 3ms/step - loss: 2.6015e-06 - accuracy: 1.0000 - val_loss: 2.5023e-06 - val_accuracy: 1.0000\n",
            "Epoch 92/100\n",
            "65/65 [==============================] - 0s 2ms/step - loss: 2.5171e-06 - accuracy: 1.0000 - val_loss: 2.4099e-06 - val_accuracy: 1.0000\n",
            "Epoch 93/100\n",
            "65/65 [==============================] - 0s 2ms/step - loss: 2.4060e-06 - accuracy: 1.0000 - val_loss: 2.2956e-06 - val_accuracy: 1.0000\n",
            "Epoch 94/100\n",
            "65/65 [==============================] - 0s 2ms/step - loss: 2.3035e-06 - accuracy: 1.0000 - val_loss: 2.2127e-06 - val_accuracy: 1.0000\n",
            "Epoch 95/100\n",
            "65/65 [==============================] - 0s 3ms/step - loss: 2.2625e-06 - accuracy: 1.0000 - val_loss: 2.1273e-06 - val_accuracy: 1.0000\n",
            "Epoch 96/100\n",
            "65/65 [==============================] - 0s 2ms/step - loss: 2.1689e-06 - accuracy: 1.0000 - val_loss: 2.0471e-06 - val_accuracy: 1.0000\n",
            "Epoch 97/100\n",
            "65/65 [==============================] - 0s 2ms/step - loss: 2.0497e-06 - accuracy: 1.0000 - val_loss: 1.9642e-06 - val_accuracy: 1.0000\n",
            "Epoch 98/100\n",
            "65/65 [==============================] - 0s 2ms/step - loss: 2.0042e-06 - accuracy: 1.0000 - val_loss: 1.8882e-06 - val_accuracy: 1.0000\n",
            "Epoch 99/100\n",
            "65/65 [==============================] - 0s 2ms/step - loss: 1.9101e-06 - accuracy: 1.0000 - val_loss: 1.8269e-06 - val_accuracy: 1.0000\n",
            "Epoch 100/100\n",
            "65/65 [==============================] - 0s 2ms/step - loss: 1.8420e-06 - accuracy: 1.0000 - val_loss: 1.7353e-06 - val_accuracy: 1.0000\n"
          ]
        },
        {
          "output_type": "execute_result",
          "data": {
            "text/plain": [
              "<keras.callbacks.History at 0x7faf7a43e6d0>"
            ]
          },
          "metadata": {},
          "execution_count": 109
        }
      ]
    },
    {
      "cell_type": "markdown",
      "source": [
        "Kemudian, diset kembali hyperparameter terbaik yang didapat dari tuning kedalam model."
      ],
      "metadata": {
        "id": "pF9au4I3t0Jj"
      }
    },
    {
      "cell_type": "markdown",
      "source": [
        "##Evaluasi Model"
      ],
      "metadata": {
        "id": "a8JiG1pzvCQS"
      }
    },
    {
      "cell_type": "code",
      "source": [
        "from sklearn.metrics import confusion_matrix, ConfusionMatrixDisplay, classification_report\n",
        "\n",
        "y_pred = model.predict(X_val)\n",
        "\n",
        "def evaluation_parametrics(name,Y_val, y_pred):\n",
        "    \n",
        "    print(\"\\n------------------------{}------------------------\\n\".format(name))\n",
        "\n",
        "    cm_test = confusion_matrix(Y_val, y_pred)\n",
        "    t1 = ConfusionMatrixDisplay(cm_test)    \n",
        "    print(\"\\nClassification Report for Data Test\\n\")\n",
        "    print(classification_report(Y_val, y_pred))   \n",
        "    print(\"--------------------------------------------------------------------------\")\n",
        "\n",
        "    t1.plot()"
      ],
      "metadata": {
        "id": "HJ-QOEt8XcTo"
      },
      "execution_count": 111,
      "outputs": []
    },
    {
      "cell_type": "code",
      "source": [
        "evaluation_parametrics(\"Deep Neural Network\", y_val, y_pred)"
      ],
      "metadata": {
        "colab": {
          "base_uri": "https://localhost:8080/",
          "height": 560
        },
        "id": "Sl4ImZZlu2sv",
        "outputId": "2a33784a-915d-4cef-db63-b615780da28c"
      },
      "execution_count": 112,
      "outputs": [
        {
          "output_type": "stream",
          "name": "stdout",
          "text": [
            "\n",
            "------------------------Deep Neural Network------------------------\n",
            "\n",
            "\n",
            "Classification Report for Data Test\n",
            "\n",
            "              precision    recall  f1-score   support\n",
            "\n",
            "         0.0       1.00      1.00      1.00       843\n",
            "         1.0       1.00      1.00      1.00       782\n",
            "\n",
            "    accuracy                           1.00      1625\n",
            "   macro avg       1.00      1.00      1.00      1625\n",
            "weighted avg       1.00      1.00      1.00      1625\n",
            "\n",
            "--------------------------------------------------------------------------\n"
          ]
        },
        {
          "output_type": "display_data",
          "data": {
            "text/plain": [
              "<Figure size 432x288 with 2 Axes>"
            ],
            "image/png": "[encoded data removed]"
          },
          "metadata": {}
        }
      ]
    },
    {
      "cell_type": "markdown",
      "source": [
        "Berdasarkan classification report dan confusion matrix di atas: \\\n",
        "1. Nilai untuk precision pada data 0 adalah  karena TN nya 843 dan FN nya 0, nilai yang sangat bagus karena dari 843 data prediksi, 843 nya data actual bernilai 0. \\\n",
        "2. Nilai untuk precision pada data 1 adalah 1 karena TP nya 782 dan FP nya 0, nilai yang sangat bagus karena dari 782 data prediksi, 782 nya data actual bernilai 1. \\\n",
        "3. Nilai untuk recall pada data 0 adalah 1 karena TN nya 843 dan FN nya 0, nilai yang sangat bagus karena dari 843 data prediksi, 843 nya data actual bernilai 0. \\\n",
        "4. Nilai untuk recall pada data 1 adalah 1 karena TP nya 782 dan FN nya 0, nilai yang sangat bagus karena dari 782 data prediksi, 782 nya data actual bernilai 1. \\\n",
        "5. f1 score untuk data 0 adalah 1 karena kombinasi dari nilai precision dan recall-nya, sudah sangat bagus karena sudah maksimal. \\\n",
        "6. f1 score untuk data 1 adalah 1 karena kombinasi dari nilai precision dan recall-nya, sudah sangat bagus juga karena sudah maksimal. \\\n",
        "7. Terakhir, untuk accuracy juga sudah sangat bagus karena sudah maksimal, yaitu 1. \\\n",
        "\n",
        "Note: TN(True Negative), TP(True Positive), FN(False Negatif), FP(False Positif). \\\n",
        "Sehingga dapat disimpulkan bahwa model ini sangat bagus untuk melakukan klasifikasi biner terhadap kemungkinan jamur beracun atau tidak."
      ],
      "metadata": {
        "id": "P-ODN7C7wEtP"
      }
    },
    {
      "cell_type": "markdown",
      "source": [
        "##Features important"
      ],
      "metadata": {
        "id": "KwNChT_Kxny-"
      }
    },
    {
      "cell_type": "code",
      "source": [
        "result = permutation_importance(model, X_val, y_val, n_repeats=10,\n",
        "                                scoring='accuracy', random_state=42)"
      ],
      "metadata": {
        "id": "iA1qPH_ZYDyq"
      },
      "execution_count": 113,
      "outputs": []
    },
    {
      "cell_type": "markdown",
      "source": [
        "Menggunakan metode permutation importance dari sklearn untuk mencari fitur fitur yang mempengaruhi akurasi dari model dengan men-shuffle setiap fitur sebanyak 10 kali."
      ],
      "metadata": {
        "id": "jYe_yfjCx77V"
      }
    },
    {
      "cell_type": "code",
      "source": [
        "for i in result.importances_mean.argsort()[::-1]:\n",
        "  print(f\"{X_val.columns.values[i]:<12}\"\n",
        "        f\"{result.importances_mean[i]:.3f}\"\n",
        "        f\" +/- {result.importances_std[i]:.3f}\")"
      ],
      "metadata": {
        "colab": {
          "base_uri": "https://localhost:8080/"
        },
        "id": "NcAAkTA-Y2t4",
        "outputId": "5c45740f-ccdf-45d6-c1c0-f46954f33aa3"
      },
      "execution_count": 114,
      "outputs": [
        {
          "output_type": "stream",
          "name": "stdout",
          "text": [
            "stalk-root  0.111 +/- 0.008\n",
            "spore-print-color0.049 +/- 0.004\n",
            "gill-size   0.043 +/- 0.004\n",
            "ring-number 0.037 +/- 0.003\n",
            "odor        0.036 +/- 0.004\n",
            "gill-spacing0.036 +/- 0.004\n",
            "habitat     0.026 +/- 0.003\n",
            "gill-color  0.017 +/- 0.003\n",
            "stalk-surface-above-ring0.015 +/- 0.002\n",
            "veil-color  0.010 +/- 0.002\n",
            "bruises     0.008 +/- 0.001\n",
            "stalk-shape 0.006 +/- 0.001\n",
            "stalk-surface-below-ring0.005 +/- 0.001\n",
            "cap-surface 0.003 +/- 0.001\n",
            "gill-attachment0.002 +/- 0.001\n",
            "stalk-color-above-ring0.001 +/- 0.001\n",
            "stalk-color-below-ring0.001 +/- 0.001\n",
            "ring-type   0.001 +/- 0.001\n",
            "population  0.000 +/- 0.000\n",
            "veil-type   0.000 +/- 0.000\n",
            "cap-color   0.000 +/- 0.000\n",
            "cap-shape   0.000 +/- 0.000\n"
          ]
        }
      ]
    },
    {
      "cell_type": "code",
      "source": [
        "result_sorted = []\n",
        "columns_sorted = []\n",
        "\n",
        "for res, col in sorted(zip(result.importances_mean, X_val.columns.values), reverse=True):\n",
        "  result_sorted.append(res)\n",
        "  columns_sorted.append(col)\n",
        "\n",
        "sns.barplot(result_sorted, columns_sorted)\n",
        "plt.show()"
      ],
      "metadata": {
        "colab": {
          "base_uri": "https://localhost:8080/",
          "height": 265
        },
        "id": "-YBUQWfOaQhz",
        "outputId": "92839fbc-170d-4d51-9709-4106da9de4ea"
      },
      "execution_count": 115,
      "outputs": [
        {
          "output_type": "display_data",
          "data": {
            "text/plain": [
              "<Figure size 432x288 with 1 Axes>"
            ],
            "image/png": "[encoded data removed]"
          },
          "metadata": {}
        }
      ]
    },
    {
      "cell_type": "markdown",
      "source": [
        "Dapat dilihat, fitur-fitur yang sangat mempengaruhi akurasi dari model. Dari visualisasi tersebut, dapat disimpulka fitur fitur yang sangat berpengaruh dalam menentukan apakah jamur beracun atau tidak, yaitu: \\\n",
        "1. stalk-root: bulbous=b, club=c, cup=u, equal=e, rhizomorphs=z, rooted=r, missing=? \\\n",
        "2. spore-print-color: black=k, brown=n, buff=b, chocolate=h, green=r, orange=o, purple=u, white=w, yellow=y \\\n",
        "3. gill-size: broad=b, narrow=n \\\n",
        "4. ring-number: none=n, one=o, two=t \\\n",
        "5. odor: almond=a, anise=l, creosote=c, fishy=y, foul=f, musty=m, none=n, pungent=p, spicy=s \\\n",
        "6. gill-spacing: close=c, crowded=w, distant=d \\\n",
        "7. habitat: grasses=g, leaves=l, meadows=m, paths=p, urban=u, waste=w, woods=d. \\\n",
        "dst."
      ],
      "metadata": {
        "id": "IX6caRAWz2qr"
      }
    },
    {
      "cell_type": "code",
      "source": [
        ""
      ],
      "metadata": {
        "id": "elECm2hIaVhh"
      },
      "execution_count": null,
      "outputs": []
    }
  ]
}