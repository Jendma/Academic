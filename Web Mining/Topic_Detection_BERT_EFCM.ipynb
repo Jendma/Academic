{
  "cells": [
    {
      "cell_type": "markdown",
      "metadata": {
        "id": "view-in-github",
        "colab_type": "text"
      },
      "source": [
        "<a href=\"https://colab.research.google.com/github/Jendma/Academic/blob/main/Web%20Mining/Topic_Detection_BERT_EFCM.ipynb\" target=\"_parent\"><img src=\"https://colab.research.google.com/assets/colab-badge.svg\" alt=\"Open In Colab\"/></a>"
      ]
    },
    {
      "cell_type": "code",
      "execution_count": null,
      "metadata": {
        "id": "Ow3uPg3hiFRW",
        "colab": {
          "base_uri": "https://localhost:8080/"
        },
        "outputId": "1dfaa43a-5fe7-49d6-b0ba-1bbfbba09bdc"
      },
      "outputs": [
        {
          "output_type": "stream",
          "name": "stdout",
          "text": [
            "Drive already mounted at /content/drive; to attempt to forcibly remount, call drive.mount(\"/content/drive\", force_remount=True).\n"
          ]
        }
      ],
      "source": [
        "#GET the data\n",
        "#Mounting path dari Google Colab\n",
        "from google.colab import drive\n",
        "drive.mount('/content/drive')\n"
      ]
    },
    {
      "cell_type": "code",
      "source": [
        "path = \"/content/drive/My Drive/\""
      ],
      "metadata": {
        "id": "3sM6kTI5zKYC"
      },
      "execution_count": null,
      "outputs": []
    },
    {
      "cell_type": "code",
      "execution_count": null,
      "metadata": {
        "id": "3XpRjzR4yrTB",
        "scrolled": true
      },
      "outputs": [],
      "source": [
        "## Memuat Data\n",
        "import pandas as pd\n",
        "\n",
        "dataset = pd.read_csv(\"/content/Capres2014-1.1.csv\", usecols=[\"Isi_Tweet\"])"
      ]
    },
    {
      "cell_type": "code",
      "execution_count": null,
      "metadata": {
        "id": "iTg9R7gExRJt",
        "scrolled": true,
        "colab": {
          "base_uri": "https://localhost:8080/",
          "height": 206
        },
        "outputId": "33b5c34a-5b34-4910-dfb2-72807df79fd7"
      },
      "outputs": [
        {
          "output_type": "execute_result",
          "data": {
            "text/plain": [
              "                                              Isi_Tweet\n",
              "1880  Jangan kabur dari tanggung jawab dengan kemasa...\n",
              "1881  @echo_hadiwibowo mana berani pmrntah..m G da y...\n",
              "1882  @IndonesiaCapres ANAK MEDAN DUKUNG CAPRES JK D...\n",
              "1883  RT @idoidonajib: Jelek! \"@fallenokta: Apa komp...\n",
              "1884  Langsung deh ngadu ke capres Hatta Rajasa, bia..."
            ],
            "text/html": [
              "\n",
              "  <div id=\"df-66ccfbb5-2472-46c9-a9a3-e3c1ce8a5cd0\">\n",
              "    <div class=\"colab-df-container\">\n",
              "      <div>\n",
              "<style scoped>\n",
              "    .dataframe tbody tr th:only-of-type {\n",
              "        vertical-align: middle;\n",
              "    }\n",
              "\n",
              "    .dataframe tbody tr th {\n",
              "        vertical-align: top;\n",
              "    }\n",
              "\n",
              "    .dataframe thead th {\n",
              "        text-align: right;\n",
              "    }\n",
              "</style>\n",
              "<table border=\"1\" class=\"dataframe\">\n",
              "  <thead>\n",
              "    <tr style=\"text-align: right;\">\n",
              "      <th></th>\n",
              "      <th>Isi_Tweet</th>\n",
              "    </tr>\n",
              "  </thead>\n",
              "  <tbody>\n",
              "    <tr>\n",
              "      <th>1880</th>\n",
              "      <td>Jangan kabur dari tanggung jawab dengan kemasa...</td>\n",
              "    </tr>\n",
              "    <tr>\n",
              "      <th>1881</th>\n",
              "      <td>@echo_hadiwibowo mana berani pmrntah..m G da y...</td>\n",
              "    </tr>\n",
              "    <tr>\n",
              "      <th>1882</th>\n",
              "      <td>@IndonesiaCapres ANAK MEDAN DUKUNG CAPRES JK D...</td>\n",
              "    </tr>\n",
              "    <tr>\n",
              "      <th>1883</th>\n",
              "      <td>RT @idoidonajib: Jelek! \"@fallenokta: Apa komp...</td>\n",
              "    </tr>\n",
              "    <tr>\n",
              "      <th>1884</th>\n",
              "      <td>Langsung deh ngadu ke capres Hatta Rajasa, bia...</td>\n",
              "    </tr>\n",
              "  </tbody>\n",
              "</table>\n",
              "</div>\n",
              "      <button class=\"colab-df-convert\" onclick=\"convertToInteractive('df-66ccfbb5-2472-46c9-a9a3-e3c1ce8a5cd0')\"\n",
              "              title=\"Convert this dataframe to an interactive table.\"\n",
              "              style=\"display:none;\">\n",
              "        \n",
              "  <svg xmlns=\"http://www.w3.org/2000/svg\" height=\"24px\"viewBox=\"0 0 24 24\"\n",
              "       width=\"24px\">\n",
              "    <path d=\"M0 0h24v24H0V0z\" fill=\"none\"/>\n",
              "    <path d=\"M18.56 5.44l.94 2.06.94-2.06 2.06-.94-2.06-.94-.94-2.06-.94 2.06-2.06.94zm-11 1L8.5 8.5l.94-2.06 2.06-.94-2.06-.94L8.5 2.5l-.94 2.06-2.06.94zm10 10l.94 2.06.94-2.06 2.06-.94-2.06-.94-.94-2.06-.94 2.06-2.06.94z\"/><path d=\"M17.41 7.96l-1.37-1.37c-.4-.4-.92-.59-1.43-.59-.52 0-1.04.2-1.43.59L10.3 9.45l-7.72 7.72c-.78.78-.78 2.05 0 2.83L4 21.41c.39.39.9.59 1.41.59.51 0 1.02-.2 1.41-.59l7.78-7.78 2.81-2.81c.8-.78.8-2.07 0-2.86zM5.41 20L4 18.59l7.72-7.72 1.47 1.35L5.41 20z\"/>\n",
              "  </svg>\n",
              "      </button>\n",
              "      \n",
              "  <style>\n",
              "    .colab-df-container {\n",
              "      display:flex;\n",
              "      flex-wrap:wrap;\n",
              "      gap: 12px;\n",
              "    }\n",
              "\n",
              "    .colab-df-convert {\n",
              "      background-color: #E8F0FE;\n",
              "      border: none;\n",
              "      border-radius: 50%;\n",
              "      cursor: pointer;\n",
              "      display: none;\n",
              "      fill: #1967D2;\n",
              "      height: 32px;\n",
              "      padding: 0 0 0 0;\n",
              "      width: 32px;\n",
              "    }\n",
              "\n",
              "    .colab-df-convert:hover {\n",
              "      background-color: #E2EBFA;\n",
              "      box-shadow: 0px 1px 2px rgba(60, 64, 67, 0.3), 0px 1px 3px 1px rgba(60, 64, 67, 0.15);\n",
              "      fill: #174EA6;\n",
              "    }\n",
              "\n",
              "    [theme=dark] .colab-df-convert {\n",
              "      background-color: #3B4455;\n",
              "      fill: #D2E3FC;\n",
              "    }\n",
              "\n",
              "    [theme=dark] .colab-df-convert:hover {\n",
              "      background-color: #434B5C;\n",
              "      box-shadow: 0px 1px 3px 1px rgba(0, 0, 0, 0.15);\n",
              "      filter: drop-shadow(0px 1px 2px rgba(0, 0, 0, 0.3));\n",
              "      fill: #FFFFFF;\n",
              "    }\n",
              "  </style>\n",
              "\n",
              "      <script>\n",
              "        const buttonEl =\n",
              "          document.querySelector('#df-66ccfbb5-2472-46c9-a9a3-e3c1ce8a5cd0 button.colab-df-convert');\n",
              "        buttonEl.style.display =\n",
              "          google.colab.kernel.accessAllowed ? 'block' : 'none';\n",
              "\n",
              "        async function convertToInteractive(key) {\n",
              "          const element = document.querySelector('#df-66ccfbb5-2472-46c9-a9a3-e3c1ce8a5cd0');\n",
              "          const dataTable =\n",
              "            await google.colab.kernel.invokeFunction('convertToInteractive',\n",
              "                                                     [key], {});\n",
              "          if (!dataTable) return;\n",
              "\n",
              "          const docLinkHtml = 'Like what you see? Visit the ' +\n",
              "            '<a target=\"_blank\" href=https://colab.research.google.com/notebooks/data_table.ipynb>data table notebook</a>'\n",
              "            + ' to learn more about interactive tables.';\n",
              "          element.innerHTML = '';\n",
              "          dataTable['output_type'] = 'display_data';\n",
              "          await google.colab.output.renderOutput(dataTable, element);\n",
              "          const docLink = document.createElement('div');\n",
              "          docLink.innerHTML = docLinkHtml;\n",
              "          element.appendChild(docLink);\n",
              "        }\n",
              "      </script>\n",
              "    </div>\n",
              "  </div>\n",
              "  "
            ]
          },
          "metadata": {},
          "execution_count": 69
        }
      ],
      "source": [
        "# EXPLORE the data\n",
        "## Menampilkan lima data terakhir\n",
        "dataset.tail()"
      ]
    },
    {
      "cell_type": "code",
      "execution_count": null,
      "metadata": {
        "id": "my1D6A1fxRJ8",
        "scrolled": true,
        "colab": {
          "base_uri": "https://localhost:8080/"
        },
        "outputId": "90db126b-34ca-46c9-e34c-776c22a6de79"
      },
      "outputs": [
        {
          "output_type": "stream",
          "name": "stdout",
          "text": [
            "(1885, 1)\n"
          ]
        }
      ],
      "source": [
        "# MODEL the data\n",
        "## Pra Pengolahan - Cleaning\n",
        "import numpy as np\n",
        "import re\n",
        "\n",
        "def clean_text(tweet):\n",
        "\n",
        "    # Convert to lower case\n",
        "    tweet = tweet.lower()\n",
        "    # remove unicode characters\n",
        "    tweet = tweet.encode('ascii', 'ignore').decode()\n",
        "    # Clean www.* or https?://*\n",
        "    tweet = re.sub('((www\\.[^\\s]+)|(https?://[^\\s]+))','',tweet)\n",
        "    # Clean @username\n",
        "    tweet = re.sub('@[^\\s]+','',tweet)\n",
        "    #Remove additional white spaces\n",
        "    tweet = re.sub('[\\s]+', ' ', tweet)\n",
        "    #Replace #word with word\n",
        "    tweet = re.sub(r'#([^\\s]+)', r'\\1', tweet)\n",
        "    #trim\n",
        "    tweet = tweet.strip('\\'\"')\n",
        "\n",
        "    return tweet\n",
        "\n",
        "dataset[\"Isi_Tweet\"] = dataset['Isi_Tweet'].map(lambda x: clean_text(x))\n",
        "dataset = dataset[dataset['Isi_Tweet'].apply(lambda x: len(x.split()) >=1)]\n",
        "\n",
        "print(dataset.shape)"
      ]
    },
    {
      "cell_type": "code",
      "execution_count": null,
      "metadata": {
        "id": "tk62LS7PGRl0",
        "colab": {
          "base_uri": "https://localhost:8080/"
        },
        "outputId": "2a5e8682-98ae-4360-978c-36fef8ef01f1"
      },
      "outputs": [
        {
          "output_type": "stream",
          "name": "stdout",
          "text": [
            "Looking in indexes: https://pypi.org/simple, https://us-python.pkg.dev/colab-wheels/public/simple/\n",
            "Requirement already satisfied: transformers in /usr/local/lib/python3.9/dist-packages (4.27.3)\n",
            "Requirement already satisfied: requests in /usr/local/lib/python3.9/dist-packages (from transformers) (2.27.1)\n",
            "Requirement already satisfied: numpy>=1.17 in /usr/local/lib/python3.9/dist-packages (from transformers) (1.22.4)\n",
            "Requirement already satisfied: huggingface-hub<1.0,>=0.11.0 in /usr/local/lib/python3.9/dist-packages (from transformers) (0.13.3)\n",
            "Requirement already satisfied: filelock in /usr/local/lib/python3.9/dist-packages (from transformers) (3.10.2)\n",
            "Requirement already satisfied: tokenizers!=0.11.3,<0.14,>=0.11.1 in /usr/local/lib/python3.9/dist-packages (from transformers) (0.13.2)\n",
            "Requirement already satisfied: pyyaml>=5.1 in /usr/local/lib/python3.9/dist-packages (from transformers) (6.0)\n",
            "Requirement already satisfied: packaging>=20.0 in /usr/local/lib/python3.9/dist-packages (from transformers) (23.0)\n",
            "Requirement already satisfied: regex!=2019.12.17 in /usr/local/lib/python3.9/dist-packages (from transformers) (2022.10.31)\n",
            "Requirement already satisfied: tqdm>=4.27 in /usr/local/lib/python3.9/dist-packages (from transformers) (4.65.0)\n",
            "Requirement already satisfied: typing-extensions>=3.7.4.3 in /usr/local/lib/python3.9/dist-packages (from huggingface-hub<1.0,>=0.11.0->transformers) (4.5.0)\n",
            "Requirement already satisfied: certifi>=2017.4.17 in /usr/local/lib/python3.9/dist-packages (from requests->transformers) (2022.12.7)\n",
            "Requirement already satisfied: charset-normalizer~=2.0.0 in /usr/local/lib/python3.9/dist-packages (from requests->transformers) (2.0.12)\n",
            "Requirement already satisfied: urllib3<1.27,>=1.21.1 in /usr/local/lib/python3.9/dist-packages (from requests->transformers) (1.26.15)\n",
            "Requirement already satisfied: idna<4,>=2.5 in /usr/local/lib/python3.9/dist-packages (from requests->transformers) (3.4)\n"
          ]
        }
      ],
      "source": [
        "!pip install transformers"
      ]
    },
    {
      "cell_type": "code",
      "source": [
        "## Pra Pengolahan - Representasi Data\n",
        "from transformers import AutoTokenizer, TFAutoModel\n",
        "\n",
        "bert_tokenizer = AutoTokenizer.from_pretrained(\"indobenchmark/indobert-base-p2\")\n",
        "bert_model = TFAutoModel.from_pretrained(\"indobenchmark/indobert-base-p2\", trainable=False)\n",
        "\n",
        "def tokenisasi(teks):\n",
        "    encode_dict = bert_tokenizer(teks,\n",
        "                                   add_special_tokens = True,\n",
        "                                   max_length = 128,\n",
        "                                   padding = 'max_length',\n",
        "                                   truncation = True,\n",
        "                                   return_attention_mask = True,\n",
        "                                   return_tensors = 'tf',)\n",
        "\n",
        "    tokenID = encode_dict['input_ids']\n",
        "    attention_mask = encode_dict['attention_mask']\n",
        "\n",
        "    return tokenID, attention_mask\n",
        "    return tokenID\n",
        "\n",
        "def bert(data):\n",
        "    emb = []\n",
        "    for teks in data:\n",
        "        #print(teks)\n",
        "        token, mask = tokenisasi(str(teks))\n",
        "        emb.append(bert_model([token, mask])[1].numpy().tolist()[0])\n",
        "\n",
        "    return emb\n",
        "\n",
        "### BERT Embedding\n",
        "bert_emb = np.array(bert(dataset.to_numpy()))\n",
        "\n",
        "print(bert_emb.shape)"
      ],
      "metadata": {
        "id": "1cbuUffKE7Wq",
        "colab": {
          "base_uri": "https://localhost:8080/"
        },
        "outputId": "3ed3ef55-49ea-4e35-8e16-e2031dded628"
      },
      "execution_count": null,
      "outputs": [
        {
          "output_type": "stream",
          "name": "stderr",
          "text": [
            "Some layers from the model checkpoint at indobenchmark/indobert-base-p2 were not used when initializing TFBertModel: ['mlm___cls', 'nsp___cls']\n",
            "- This IS expected if you are initializing TFBertModel from the checkpoint of a model trained on another task or with another architecture (e.g. initializing a BertForSequenceClassification model from a BertForPreTraining model).\n",
            "- This IS NOT expected if you are initializing TFBertModel from the checkpoint of a model that you expect to be exactly identical (initializing a BertForSequenceClassification model from a BertForSequenceClassification model).\n",
            "All the layers of TFBertModel were initialized from the model checkpoint at indobenchmark/indobert-base-p2.\n",
            "If your task is similar to the task the model of the checkpoint was trained on, you can already use TFBertModel for predictions without further training.\n"
          ]
        },
        {
          "output_type": "stream",
          "name": "stdout",
          "text": [
            "(1885, 768)\n"
          ]
        }
      ]
    },
    {
      "cell_type": "code",
      "source": [
        "bert_emb"
      ],
      "metadata": {
        "colab": {
          "base_uri": "https://localhost:8080/"
        },
        "id": "VxjkSGicd4jh",
        "outputId": "ba5e7e3a-70a5-4236-a0a0-27c4fdc0a13b"
      },
      "execution_count": null,
      "outputs": [
        {
          "output_type": "execute_result",
          "data": {
            "text/plain": [
              "array([[-0.82634854, -0.32899153,  0.99581361, ..., -0.39502379,\n",
              "         0.15848938,  0.8715468 ],\n",
              "       [-0.87633973, -0.49829659,  0.99321967, ..., -0.39376828,\n",
              "         0.03745089,  0.73490286],\n",
              "       [-0.8328259 , -0.73633105,  0.92967701, ..., -0.49356997,\n",
              "        -0.01186881,  0.83200425],\n",
              "       ...,\n",
              "       [-0.94800985, -0.66903979,  0.8307988 , ..., -0.60348201,\n",
              "        -0.09140661,  0.02682824],\n",
              "       [-0.86195791, -0.55870402,  0.92031193, ..., -0.60505778,\n",
              "         0.1332722 ,  0.60401791],\n",
              "       [-0.94625646, -0.76034552,  0.74249959, ..., -0.28264636,\n",
              "        -0.13251896, -0.02302862]])"
            ]
          },
          "metadata": {},
          "execution_count": 73
        }
      ]
    },
    {
      "cell_type": "code",
      "source": [
        "## Model EFCM - Reduksi Dimensi\n",
        "from sklearn.decomposition import TruncatedSVD\n",
        "\n",
        "svd = TruncatedSVD(n_components = 5)\n",
        "data = svd.fit_transform(bert_emb)\n",
        "\n",
        "print(data.shape)"
      ],
      "metadata": {
        "id": "-T9NntV_z4Ja",
        "colab": {
          "base_uri": "https://localhost:8080/"
        },
        "outputId": "8668c848-2d1b-437a-c976-59fc7d231d3c"
      },
      "execution_count": null,
      "outputs": [
        {
          "output_type": "stream",
          "name": "stdout",
          "text": [
            "(1885, 5)\n"
          ]
        }
      ]
    },
    {
      "cell_type": "code",
      "source": [
        "## Model EFCM - Clustering\n",
        "from sklearn.cluster import KMeans\n",
        "import sys\n",
        "#sys.path.insert(0, path + \"FCMeans\")\n",
        "from fcmeans import fcmeans\n",
        "\n",
        "m =1.1\n",
        "n_topics = 3\n",
        "initkm = KMeans(n_clusters=n_topics, n_init=1).fit(data)\n",
        "cntr, u = fcmeans(data.T, n_topics, m, error=0.0001, maxiter=200, init=initkm.cluster_centers_.T)\n",
        "cluster_membership = np.argmax(u, axis=0)\n",
        "\n",
        "print(cluster_membership.shape)"
      ],
      "metadata": {
        "id": "2K-Y31iZ0im0",
        "colab": {
          "base_uri": "https://localhost:8080/"
        },
        "outputId": "e485ef04-fb87-4c85-ad60-1c6a837f6d7e"
      },
      "execution_count": null,
      "outputs": [
        {
          "output_type": "stream",
          "name": "stdout",
          "text": [
            "(1885,)\n"
          ]
        }
      ]
    },
    {
      "cell_type": "code",
      "source": [
        "### Topic Interpretation\n",
        "import numpy as np\n",
        "from sklearn.feature_extraction.text import CountVectorizer\n",
        "\n",
        "#### Class Based TFIDF (C-TFIDF) Functions\n",
        "def c_tf_idf(documents, m, ngram_range=(1, 1)):\n",
        "    count = CountVectorizer(ngram_range=ngram_range).fit(documents)\n",
        "    t = count.transform(documents).toarray()\n",
        "    w = t.sum(axis=1)\n",
        "    tf = np.divide(t.T, w)\n",
        "    sum_t = t.sum(axis=0)\n",
        "    idf = np.log(np.divide(m, sum_t)).reshape(-1, 1)\n",
        "    tf_idf = np.multiply(tf, idf)\n",
        "\n",
        "    return tf_idf, count\n",
        "\n",
        "def extract_top_words_per_topic(tf_idf, count, docs_per_topic, n = 10):\n",
        "    words = count.get_feature_names_out()\n",
        "    labels = list(docs_per_topic.Topic)\n",
        "    tf_idf_transposed = tf_idf.T\n",
        "    indices = tf_idf_transposed.argsort()[:, -n:]\n",
        "    top_n_words = {label: [(words[j], tf_idf_transposed[i][j]) for j in indices[i]][::-1] for i, label in enumerate(labels)}\n",
        "    top_words = []\n",
        "    for i in range(len(labels)):\n",
        "      top_words.append([words[j] for j in indices [i]][::-1])\n",
        "    return top_words\n",
        "\n",
        "#### Topic Representation\n",
        "docs = pd.DataFrame(list(dataset[\"Isi_Tweet\"]), columns=[\"Doc\"])\n",
        "docs['Topic'] = cluster_membership\n",
        "docs['Doc_ID'] = range(len(docs))\n",
        "docs_per_topic = docs.dropna(subset=['Doc']).groupby(['Topic'], as_index = False).agg({'Doc': ' '.join})\n",
        "\n",
        "tf_idf, count = c_tf_idf(docs_per_topic.Doc.values, m=len(docs))\n",
        "top_words = extract_top_words_per_topic(tf_idf, count, docs_per_topic, 10)\n",
        "print(top_words)"
      ],
      "metadata": {
        "id": "d7QpVEH__NvB",
        "colab": {
          "base_uri": "https://localhost:8080/"
        },
        "outputId": "4c166bb0-99d4-4ece-e2af-36fe59b3c226"
      },
      "execution_count": null,
      "outputs": [
        {
          "output_type": "stream",
          "name": "stdout",
          "text": [
            "[['menjadi', 'hatta', 'dan', 'sebagai', 'mantan', 'tidak', 'tokoh', 'jusuf', 'wakil', 'kalla'], ['rt', 'prabowo', 'jadi', 'capres', 'jokowi', 'presiden', 'dukung', 'cawapres', 'dahlan', 'arb'], ['jadi', 'jd', 'yg', 'rt', 'jokowi', 'presiden', 'capres', 'arb', 'mau', 'di']]\n"
          ]
        }
      ]
    },
    {
      "cell_type": "code",
      "source": [
        "### Topic Coherence\n",
        "import gensim\n",
        "from itertools import combinations\n",
        "import warnings\n",
        "warnings.filterwarnings(\"ignore\", category=FutureWarning)\n",
        "warnings.filterwarnings(\"ignore\", category=DeprecationWarning)\n",
        "\n",
        "### Memuat Model Word2Vec\n",
        "w2v_model = gensim.models.Word2Vec.load(path + \"idwiki-berita/w2v-model.bin\")\n",
        "\n",
        "### Fungsi Menghitung Coherence\n",
        "def calculate_coherence( w2v_model, term_rankings):\n",
        "    overall_coherence = 0.0\n",
        "    for topic_index in range(len(term_rankings)):\n",
        "        # check each pair of terms\n",
        "        pair_scores = []\n",
        "        for pair in combinations(term_rankings[topic_index], 2 ):\n",
        "            if pair[0] in w2v_model.wv.index_to_key:\n",
        "                if pair[1] in w2v_model.wv.index_to_key:\n",
        "                    pair_scores.append( abs(w2v_model.wv.similarity(pair[0], pair[1])) )\n",
        "                #else:\n",
        "                    #pair_scores.append(0)\n",
        "            #else:\n",
        "                #pair_scores.append(0)\n",
        "\n",
        "        # get the mean for all pairs in this topic\n",
        "        if pair_scores:\n",
        "            topic_score = sum(pair_scores) / len(pair_scores)\n",
        "            overall_coherence += topic_score\n",
        "\n",
        "    # get the mean score across all topics\n",
        "    return overall_coherence / len(term_rankings)\n",
        "\n",
        "\n",
        "### Menentukan Nilai Coherence dari Topik\n",
        "calculate_coherence(w2v_model, top_words)"
      ],
      "metadata": {
        "id": "CYz8q4-SIO4m",
        "colab": {
          "base_uri": "https://localhost:8080/"
        },
        "outputId": "871de141-eba8-4894-a5e2-a336e8b4397c"
      },
      "execution_count": null,
      "outputs": [
        {
          "output_type": "execute_result",
          "data": {
            "text/plain": [
              "0.27501854046233115"
            ]
          },
          "metadata": {},
          "execution_count": 77
        }
      ]
    },
    {
      "cell_type": "code",
      "source": [
        "## Parameter Tuning\n",
        "### Jumlah Topik Optimal\n",
        "import pandas as pd\n",
        "\n",
        "num_topics = []\n",
        "coherences = []\n",
        "for n_topics in range(5,15,1):\n",
        "    print(\"The number of topics is \" + str(n_topics))\n",
        "\n",
        "    coherence_sim = []\n",
        "    for i in range(1,3):\n",
        "        print(\"The simulation \" + str(i))\n",
        "\n",
        "        #topic detection\n",
        "        m = 1.1\n",
        "        initkm = KMeans(n_clusters=n_topics, n_init=1).fit(data)\n",
        "        cntr, u = fcmeans(data.T, n_topics, m, error=0.0001, maxiter=200, init=initkm.cluster_centers_.T)\n",
        "        cluster_membership = np.argmax(u, axis=0)\n",
        "\n",
        "        docs = pd.DataFrame(list(dataset[\"Isi_Tweet\"]), columns=[\"Doc\"])\n",
        "        docs['Topic'] = cluster_membership\n",
        "        docs['Doc_ID'] = range(len(docs))\n",
        "        docs_per_topic = docs.dropna(subset=['Doc']).groupby(['Topic'], as_index = False).agg({'Doc': ' '.join})\n",
        "\n",
        "        tf_idf, count = c_tf_idf(docs_per_topic.Doc.values, m=len(docs))\n",
        "        top_words = extract_top_words_per_topic(tf_idf, count, docs_per_topic, 10)\n",
        "\n",
        "        coherence_sim.append(calculate_coherence(w2v_model, top_words))\n",
        "        print('Coherence value : ',coherence_sim[i-1])\n",
        "\n",
        "    num_topics.append(n_topics)\n",
        "    coherences.append(coherence_sim)\n",
        "\n",
        "    tf_idf, count = c_tf_idf(docs_per_topic.Doc.values, m=len(docs))\n",
        "    top_words = extract_top_words_per_topic(tf_idf, count, docs_per_topic, 10)\n",
        "\n",
        "### Visualisasi\n",
        "df = pd.DataFrame.from_records(coherences).T\n",
        "df.columns = num_topics\n",
        "boxplot = df.boxplot(grid=False)\n",
        "boxplot.set_title('Number of topics box Plot')\n",
        "boxplot.set_xlabel(\"Number of Topics\")\n",
        "boxplot.set_ylabel(\"Coherence\")\n"
      ],
      "metadata": {
        "id": "4GiGLPellyrJ",
        "colab": {
          "base_uri": "https://localhost:8080/",
          "height": 1000
        },
        "outputId": "51743353-def1-4581-9a77-db79a89a1b33"
      },
      "execution_count": null,
      "outputs": [
        {
          "output_type": "stream",
          "name": "stdout",
          "text": [
            "The number of topics is 5\n",
            "The simulation 1\n",
            "Coherence value :  0.2621687633118459\n",
            "The simulation 2\n",
            "Coherence value :  0.2621687633118459\n",
            "The number of topics is 6\n",
            "The simulation 1\n",
            "Coherence value :  0.25215155082661167\n",
            "The simulation 2\n",
            "Coherence value :  0.25215155082661167\n",
            "The number of topics is 7\n",
            "The simulation 1\n",
            "Coherence value :  0.253514235774203\n",
            "The simulation 2\n",
            "Coherence value :  0.25365998230435277\n",
            "The number of topics is 8\n",
            "The simulation 1\n",
            "Coherence value :  0.2523829197304116\n",
            "The simulation 2\n",
            "Coherence value :  0.2523829197304116\n",
            "The number of topics is 9\n",
            "The simulation 1\n",
            "Coherence value :  0.25011096687287726\n",
            "The simulation 2\n",
            "Coherence value :  0.24237064818639764\n",
            "The number of topics is 10\n",
            "The simulation 1\n",
            "Coherence value :  0.23704247550743202\n",
            "The simulation 2\n",
            "Coherence value :  0.24237391818403484\n",
            "The number of topics is 11\n",
            "The simulation 1\n",
            "Coherence value :  0.24533612518309258\n",
            "The simulation 2\n",
            "Coherence value :  0.24451355091517882\n",
            "The number of topics is 12\n",
            "The simulation 1\n",
            "Coherence value :  0.23523046555559313\n",
            "The simulation 2\n",
            "Coherence value :  0.2375917624398849\n",
            "The number of topics is 13\n",
            "The simulation 1\n",
            "Coherence value :  0.23761347370843094\n",
            "The simulation 2\n",
            "Coherence value :  0.25221367331929\n",
            "The number of topics is 14\n",
            "The simulation 1\n",
            "Coherence value :  0.24719176796178363\n",
            "The simulation 2\n",
            "Coherence value :  0.24287022220122875\n"
          ]
        },
        {
          "output_type": "execute_result",
          "data": {
            "text/plain": [
              "Text(0, 0.5, 'Coherence')"
            ]
          },
          "metadata": {},
          "execution_count": 81
        },
        {
          "output_type": "display_data",
          "data": {
            "text/plain": [
              "<Figure size 432x288 with 1 Axes>"
            ],
            "image/png": "[encoded data removed]"
          },
          "metadata": {
            "needs_background": "light"
          }
        }
      ]
    },
    {
      "cell_type": "code",
      "source": [
        "## yang terbaik adalah 11 topik\n",
        "df = pd.DataFrame.from_records(coherences).T\n",
        "df.columns = num_topics\n",
        "df.mean().sort_values()\n"
      ],
      "metadata": {
        "colab": {
          "base_uri": "https://localhost:8080/"
        },
        "id": "05oKyaS-DCfT",
        "outputId": "2c81b928-d3a0-41a3-a936-cca6dc56d1c6"
      },
      "execution_count": null,
      "outputs": [
        {
          "output_type": "execute_result",
          "data": {
            "text/plain": [
              "12    0.236411\n",
              "10    0.239708\n",
              "13    0.244914\n",
              "11    0.244925\n",
              "14    0.245031\n",
              "9     0.246241\n",
              "6     0.252152\n",
              "8     0.252383\n",
              "7     0.253587\n",
              "5     0.262169\n",
              "dtype: float64"
            ]
          },
          "metadata": {},
          "execution_count": 82
        }
      ]
    },
    {
      "cell_type": "code",
      "source": [
        "## Parameter Tuning\n",
        "### Jumlah dimensi reduksi optimal\n",
        "import pandas as pd\n",
        "\n",
        "n_dim = []\n",
        "coherences = []\n",
        "n_topics = 15\n",
        "for dim in range(5,16):\n",
        "    print(\"The number of reducted dimension is \" + str(dim))\n",
        "\n",
        "    coherence_sim = []\n",
        "    for i in range(1,3):\n",
        "        print(\"The simulation \" + str(i))\n",
        "\n",
        "        #topic detection\n",
        "        m = 1.1\n",
        "        svd = TruncatedSVD(n_components = dim)\n",
        "        data = svd.fit_transform(bert_emb)\n",
        "\n",
        "        initkm = KMeans(n_clusters=n_topics, n_init=5).fit(data)\n",
        "        cntr, u = fcmeans(data.T, n_topics, m, error=0.0001, maxiter=200, init=initkm.cluster_centers_.T)\n",
        "        cluster_membership = np.argmax(u, axis=0)\n",
        "\n",
        "        docs = pd.DataFrame(list(dataset[\"Isi_Tweet\"]), columns=[\"Doc\"])\n",
        "        docs['Topic'] = cluster_membership\n",
        "        docs['Doc_ID'] = range(len(docs))\n",
        "        docs_per_topic = docs.dropna(subset=['Doc']).groupby(['Topic'], as_index = False).agg({'Doc': ' '.join})\n",
        "\n",
        "        tf_idf, count = c_tf_idf(docs_per_topic.Doc.values, m=len(docs))\n",
        "        top_words = extract_top_words_per_topic(tf_idf, count, docs_per_topic, 10)\n",
        "\n",
        "        coherence_sim.append(calculate_coherence(w2v_model, top_words))\n",
        "        print('Coherence value : ',coherence_sim[i-1])\n",
        "\n",
        "    n_dim.append(dim)\n",
        "    coherences.append(coherence_sim)"
      ],
      "metadata": {
        "colab": {
          "base_uri": "https://localhost:8080/"
        },
        "id": "0KiLAf61-DeP",
        "outputId": "a732cdc2-c4fd-42ed-8c32-7df970d3c558"
      },
      "execution_count": null,
      "outputs": [
        {
          "output_type": "stream",
          "name": "stdout",
          "text": [
            "The number of reducted dimension is 5\n",
            "The simulation 1\n",
            "Coherence value :  0.24637993773834765\n",
            "The simulation 2\n",
            "Coherence value :  0.24637993773834765\n",
            "The number of reducted dimension is 6\n",
            "The simulation 1\n",
            "Coherence value :  0.2420836518971969\n",
            "The simulation 2\n",
            "Coherence value :  0.22735991485517906\n",
            "The number of reducted dimension is 7\n",
            "The simulation 1\n",
            "Coherence value :  0.23547535039652037\n",
            "The simulation 2\n",
            "Coherence value :  0.22702229631899626\n",
            "The number of reducted dimension is 8\n",
            "The simulation 1\n",
            "Coherence value :  0.237465569190681\n",
            "The simulation 2\n",
            "Coherence value :  0.23746556919068096\n",
            "The number of reducted dimension is 9\n",
            "The simulation 1\n",
            "Coherence value :  0.2289236763945569\n",
            "The simulation 2\n",
            "Coherence value :  0.22892367639455688\n",
            "The number of reducted dimension is 10\n",
            "The simulation 1\n",
            "Coherence value :  0.23824975755923086\n",
            "The simulation 2\n",
            "Coherence value :  0.2289236763945569\n",
            "The number of reducted dimension is 11\n",
            "The simulation 1\n",
            "Coherence value :  0.2374810653783026\n",
            "The simulation 2\n",
            "Coherence value :  0.2374810653783026\n",
            "The number of reducted dimension is 12\n",
            "The simulation 1\n",
            "Coherence value :  0.23624981858486696\n",
            "The simulation 2\n",
            "Coherence value :  0.2435096188512429\n",
            "The number of reducted dimension is 13\n",
            "The simulation 1\n",
            "Coherence value :  0.2407351964010448\n",
            "The simulation 2\n",
            "Coherence value :  0.2295475327237337\n",
            "The number of reducted dimension is 14\n",
            "The simulation 1\n",
            "Coherence value :  0.23468392510225788\n",
            "The simulation 2\n",
            "Coherence value :  0.2404498770970989\n",
            "The number of reducted dimension is 15\n",
            "The simulation 1\n",
            "Coherence value :  0.2404498770970989\n",
            "The simulation 2\n",
            "Coherence value :  0.23235796352197965\n"
          ]
        }
      ]
    },
    {
      "cell_type": "code",
      "source": [
        "df = pd.DataFrame.from_records(coherences).T\n",
        "df.columns = n_dim\n",
        "df.mean().sort_values()"
      ],
      "metadata": {
        "colab": {
          "base_uri": "https://localhost:8080/"
        },
        "id": "V8JaTPDk_bA2",
        "outputId": "40d3b5d2-0b8c-41a3-8c84-53bd795d4f30"
      },
      "execution_count": null,
      "outputs": [
        {
          "output_type": "execute_result",
          "data": {
            "text/plain": [
              "9     0.228924\n",
              "7     0.231249\n",
              "10    0.233587\n",
              "6     0.234722\n",
              "13    0.235141\n",
              "15    0.236404\n",
              "8     0.237466\n",
              "11    0.237481\n",
              "14    0.237567\n",
              "12    0.239880\n",
              "5     0.246380\n",
              "dtype: float64"
            ]
          },
          "metadata": {},
          "execution_count": 87
        }
      ]
    },
    {
      "cell_type": "code",
      "source": [
        "import matplotlib.pyplot as plt\n",
        "lineplot = df.mean(axis=0).plot(grid=False)\n",
        "lineplot.set_xlabel(\"Number of dimension\")\n",
        "lineplot.set_ylabel(\"Coherence\")\n",
        "lineplot.set_title('Number of dim Line Plot')"
      ],
      "metadata": {
        "colab": {
          "base_uri": "https://localhost:8080/",
          "height": 313
        },
        "id": "S9Qg8LRpIAK8",
        "outputId": "e276aeda-c9c8-4446-e1c3-46faef1c387b"
      },
      "execution_count": null,
      "outputs": [
        {
          "output_type": "execute_result",
          "data": {
            "text/plain": [
              "Text(0.5, 1.0, 'Number of dim Line Plot')"
            ]
          },
          "metadata": {},
          "execution_count": 88
        },
        {
          "output_type": "display_data",
          "data": {
            "text/plain": [
              "<Figure size 432x288 with 1 Axes>"
            ],
            "image/png": "[encoded data removed]"
          },
          "metadata": {
            "needs_background": "light"
          }
        }
      ]
    },
    {
      "cell_type": "code",
      "source": [
        "## Parameter Tuning\n",
        "### Jumlah konstanta fcmeans\n",
        "import pandas as pd\n",
        "\n",
        "m_list = []\n",
        "coherences = []\n",
        "n_topics = 12\n",
        "dim = 9\n",
        "for m_i in [round(i*.1, 1) for i in range(11, 26)]:\n",
        "    print(\"The number of m is \" + str(m_i))\n",
        "\n",
        "    coherence_sim = []\n",
        "    for i in range(1,3):\n",
        "        print(\"The simulation \" + str(i))\n",
        "\n",
        "        #topic detection\n",
        "        m = m_i\n",
        "        svd = TruncatedSVD(n_components = dim)\n",
        "        data = svd.fit_transform(bert_emb)\n",
        "\n",
        "        initkm = KMeans(n_clusters=n_topics, n_init=5).fit(data)\n",
        "        cntr, u = fcmeans(data.T, n_topics, m, error=0.0001, maxiter=200, init=initkm.cluster_centers_.T)\n",
        "        cluster_membership = np.argmax(u, axis=0)\n",
        "\n",
        "        docs = pd.DataFrame(list(dataset[\"Isi_Tweet\"]), columns=[\"Doc\"])\n",
        "        docs['Topic'] = cluster_membership\n",
        "        docs['Doc_ID'] = range(len(docs))\n",
        "        docs_per_topic = docs.dropna(subset=['Doc']).groupby(['Topic'], as_index = False).agg({'Doc': ' '.join})\n",
        "\n",
        "        tf_idf, count = c_tf_idf(docs_per_topic.Doc.values, m=len(docs))\n",
        "        top_words = extract_top_words_per_topic(tf_idf, count, docs_per_topic, 10)\n",
        "\n",
        "        coherence_sim.append(calculate_coherence(w2v_model, top_words))\n",
        "        print('Coherence value : ',coherence_sim[i-1])\n",
        "\n",
        "    m_list.append(m_i)\n",
        "    coherences.append(coherence_sim)"
      ],
      "metadata": {
        "colab": {
          "base_uri": "https://localhost:8080/"
        },
        "id": "ugC1Nc5EELJL",
        "outputId": "da6058c4-8d99-424c-be0e-9a46ee40ce37"
      },
      "execution_count": null,
      "outputs": [
        {
          "output_type": "stream",
          "name": "stdout",
          "text": [
            "The number of m is 1.1\n",
            "The simulation 1\n",
            "Coherence value :  0.2289236763945569\n",
            "The simulation 2\n",
            "Coherence value :  0.23334193326004352\n",
            "The number of m is 1.2\n",
            "The simulation 1\n",
            "Coherence value :  0.2321059954766598\n",
            "The simulation 2\n",
            "Coherence value :  0.23983575514857727\n",
            "The number of m is 1.3\n",
            "The simulation 1\n",
            "Coherence value :  0.2382243279946682\n",
            "The simulation 2\n",
            "Coherence value :  0.23822432799466822\n",
            "The number of m is 1.4\n",
            "The simulation 1\n",
            "Coherence value :  0.2402300006402016\n",
            "The simulation 2\n",
            "Coherence value :  0.24023000064020159\n",
            "The number of m is 1.5\n",
            "The simulation 1\n",
            "Coherence value :  0.23913657624501164\n",
            "The simulation 2\n",
            "Coherence value :  0.23783544578993565\n",
            "The number of m is 1.6\n",
            "The simulation 1\n",
            "Coherence value :  0.23445335096388897\n",
            "The simulation 2\n",
            "Coherence value :  0.23207848826916055\n",
            "The number of m is 1.7\n",
            "The simulation 1\n",
            "Coherence value :  0.23623966554662698\n",
            "The simulation 2\n",
            "Coherence value :  0.23623966554662698\n",
            "The number of m is 1.8\n",
            "The simulation 1\n",
            "Coherence value :  0.22603479787391959\n",
            "The simulation 2\n",
            "Coherence value :  0.22603479787391959\n",
            "The number of m is 1.9\n",
            "The simulation 1\n",
            "Coherence value :  0.2264520609963232\n",
            "The simulation 2\n",
            "Coherence value :  0.22562018687930455\n",
            "The number of m is 2.0\n",
            "The simulation 1\n",
            "Coherence value :  0.23076178455508498\n",
            "The simulation 2\n",
            "Coherence value :  0.23172851577795375\n",
            "The number of m is 2.1\n",
            "The simulation 1\n",
            "Coherence value :  0.2325200410190201\n",
            "The simulation 2\n",
            "Coherence value :  0.22998666300502404\n",
            "The number of m is 2.2\n",
            "The simulation 1\n",
            "Coherence value :  0.23984139203586707\n",
            "The simulation 2\n",
            "Coherence value :  0.2392974755408922\n",
            "The number of m is 2.3\n",
            "The simulation 1\n",
            "Coherence value :  0.22950124183654905\n",
            "The simulation 2\n",
            "Coherence value :  0.23331651566328393\n",
            "The number of m is 2.4\n",
            "The simulation 1\n",
            "Coherence value :  0.23124116472752085\n",
            "The simulation 2\n",
            "Coherence value :  0.24361317594185786\n",
            "The number of m is 2.5\n",
            "The simulation 1\n",
            "Coherence value :  0.24242467494809597\n",
            "The simulation 2\n",
            "Coherence value :  0.24500176335177415\n"
          ]
        }
      ]
    },
    {
      "cell_type": "code",
      "source": [
        "df = pd.DataFrame.from_records(coherences).T\n",
        "df.columns = m_list\n",
        "df.mean().sort_values()"
      ],
      "metadata": {
        "colab": {
          "base_uri": "https://localhost:8080/"
        },
        "id": "SkKaebXAGo28",
        "outputId": "4e4c5c69-aff8-4184-c3d9-bc29e7d56a51"
      },
      "execution_count": null,
      "outputs": [
        {
          "output_type": "execute_result",
          "data": {
            "text/plain": [
              "1.8    0.226035\n",
              "1.9    0.226036\n",
              "1.1    0.231133\n",
              "2.0    0.231245\n",
              "2.1    0.231253\n",
              "2.3    0.231409\n",
              "1.6    0.233266\n",
              "1.2    0.235971\n",
              "1.7    0.236240\n",
              "2.4    0.237427\n",
              "1.3    0.238224\n",
              "1.5    0.238486\n",
              "2.2    0.239569\n",
              "1.4    0.240230\n",
              "2.5    0.243713\n",
              "dtype: float64"
            ]
          },
          "metadata": {},
          "execution_count": 90
        }
      ]
    },
    {
      "cell_type": "code",
      "source": [
        "import matplotlib.pyplot as plt\n",
        "lineplot = df.mean(axis=0).plot(grid=False)\n",
        "lineplot.set_xlabel(\"Number of m\")\n",
        "lineplot.set_ylabel(\"Coherence\")\n",
        "lineplot.set_title('Number of m Line Plot')"
      ],
      "metadata": {
        "colab": {
          "base_uri": "https://localhost:8080/",
          "height": 313
        },
        "id": "9Liogk4MG0nq",
        "outputId": "e006ae13-97fe-44fe-fbf5-36c0c045a00b"
      },
      "execution_count": null,
      "outputs": [
        {
          "output_type": "execute_result",
          "data": {
            "text/plain": [
              "Text(0.5, 1.0, 'Number of m Line Plot')"
            ]
          },
          "metadata": {},
          "execution_count": 91
        },
        {
          "output_type": "display_data",
          "data": {
            "text/plain": [
              "<Figure size 432x288 with 1 Axes>"
            ],
            "image/png": "[encoded data removed]"
          },
          "metadata": {
            "needs_background": "light"
          }
        }
      ]
    },
    {
      "cell_type": "code",
      "source": [
        "## Model Test\n",
        "import pandas as pd\n",
        "\n",
        "num_topics = 12\n",
        "dim = 9\n",
        "m = 1.8\n",
        "coherences = []\n",
        "coherence_sim = []\n",
        "topic_sim = []\n",
        "for i in range(10):\n",
        "  svd = TruncatedSVD(n_components = dim)\n",
        "  data = svd.fit_transform(bert_emb)\n",
        "  print(\"The simulation \" + str(i+1))\n",
        "\n",
        "  #topic detection\n",
        "  m = 1.1\n",
        "  initkm = KMeans(n_clusters=n_topics, n_init=1).fit(data)\n",
        "  cntr, u = fcmeans(data.T, n_topics, m, error=0.0001, maxiter=200, init=initkm.cluster_centers_.T)\n",
        "  cluster_membership = np.argmax(u, axis=0)\n",
        "\n",
        "  docs = pd.DataFrame(list(dataset[\"Isi_Tweet\"]), columns=[\"Doc\"])\n",
        "  docs['Topic'] = cluster_membership\n",
        "  docs['Doc_ID'] = range(len(docs))\n",
        "  docs_per_topic = docs.dropna(subset=['Doc']).groupby(['Topic'], as_index = False).agg({'Doc': ' '.join})\n",
        "\n",
        "  tf_idf, count = c_tf_idf(docs_per_topic.Doc.values, m=len(docs))\n",
        "  top_words = extract_top_words_per_topic(tf_idf, count, docs_per_topic, 10)\n",
        "\n",
        "  coherence_sim.append(calculate_coherence(w2v_model, top_words))\n",
        "  print('Coherence value : ',coherence_sim[i])\n",
        "  topic_sim.append(top_words)\n",
        "coherences.append(coherence_sim)\n",
        "\n",
        "tf_idf, count = c_tf_idf(docs_per_topic.Doc.values, m=len(docs))\n",
        "top_words = extract_top_words_per_topic(tf_idf, count, docs_per_topic, 10)\n",
        "\n",
        "### Visualisasi\n",
        "df = pd.DataFrame.from_records(coherences).T"
      ],
      "metadata": {
        "id": "v0hbZclGHpx4",
        "colab": {
          "base_uri": "https://localhost:8080/"
        },
        "outputId": "f5c2c4dc-2313-4536-ae4b-c26e9581c430"
      },
      "execution_count": null,
      "outputs": [
        {
          "output_type": "stream",
          "name": "stdout",
          "text": [
            "The simulation 1\n",
            "Coherence value :  0.2386417168399526\n",
            "The simulation 2\n",
            "Coherence value :  0.22892367639455688\n",
            "The simulation 3\n",
            "Coherence value :  0.23334193326004357\n",
            "The simulation 4\n",
            "Coherence value :  0.2386417168399526\n",
            "The simulation 5\n",
            "Coherence value :  0.22892367639455694\n",
            "The simulation 6\n",
            "Coherence value :  0.23864171683995258\n",
            "The simulation 7\n",
            "Coherence value :  0.2401239398132675\n",
            "The simulation 8\n",
            "Coherence value :  0.2386417168399526\n",
            "The simulation 9\n",
            "Coherence value :  0.23739848506030817\n",
            "The simulation 10\n",
            "Coherence value :  0.22892367639455688\n"
          ]
        }
      ]
    },
    {
      "cell_type": "code",
      "source": [
        "for topic in topic_sim[9]:\n",
        "  print(topic)"
      ],
      "metadata": {
        "colab": {
          "base_uri": "https://localhost:8080/"
        },
        "id": "0iABe_vLC4im",
        "outputId": "5084f80a-305a-4a05-e301-6989620ac278"
      },
      "execution_count": null,
      "outputs": [
        {
          "output_type": "stream",
          "name": "stdout",
          "text": [
            "['jadi', 'rt', 'prabowo', 'presiden', 'jokowi', 'koruptor', 'capres', 'arb', 'dahlan', 'wakil']\n",
            "['hatta', 'menjadi', 'evaluasi', 'radjasa', 'pencapresan', 'membuka', 'umumnya', 'kemungkinan', '2013pan', 'ketua']\n",
            "['jadi', 'yg', 'kalo', 'mau', 'jd', 'ya', 'sama', 'aja', 'arb', 'jakarta']\n",
            "['prabowo', 'adalah', 'presiden', 'harus', '2014', 'oleh', 'pilih', 'saya', 'dahlan', 'dan']\n",
            "['jd', 'rt', 'jokowi', 'presiden', 'jadi', 'ya', 'aja', 'emoh', 'capres', 'ahok']\n",
            "['acak', 'rt', 'jadi', 'guruh', 'apa', 'dukung', 'kalo', 'presd', 'acakan', 'metode']\n",
            "['rt', 'capres', 'deklarasi', 'jk', 'jd', 'tdk', 'hanura', 'followradiopepatah', 'wiranto', 'yg']\n",
            "['yg', 'dan', 'saya', 'ada', 'akan', 'prabowo', 'jk', 'jadi', 'no', 'capres']\n",
            "['09', '42', '21', 'perbincangan', 'dinyatakan', 'terpopuler', '2013', '24', 'sosok', 'dalam']\n",
            "['rt', 'cawapres', 'bung', 'bungkus', 'gimana', 'underdog', 'prabowo', 'politika', 'charta', 'mampu']\n",
            "['wonogiri', 'vihara', 'forum', 'capres', 'petani', 'islam', 'jokowi', 'ppp', 'galang', 'partai2']\n",
            "['2014', 'prabowo', 'indonesia', 'jadi', 'dahlan', 'iskan', 'mahfud', 'akan', 'presiden', 'rt']\n"
          ]
        }
      ]
    }
  ],
  "metadata": {
    "colab": {
      "provenance": [],
      "include_colab_link": true
    },
    "kernelspec": {
      "display_name": "Python 3",
      "language": "python",
      "name": "python3"
    },
    "language_info": {
      "codemirror_mode": {
        "name": "ipython",
        "version": 3
      },
      "file_extension": ".py",
      "mimetype": "text/x-python",
      "name": "python",
      "nbconvert_exporter": "python",
      "pygments_lexer": "ipython3",
      "version": "3.8.5"
    }
  },
  "nbformat": 4,
  "nbformat_minor": 0
}