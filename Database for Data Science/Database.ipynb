{
  "cells": [
    {
      "cell_type": "code",
      "execution_count": null,
      "id": "published-future",
      "metadata": {
        "id": "published-future"
      },
      "outputs": [],
      "source": [
        "import pandas as pd\n",
        "import pylab as pl\n",
        "import numpy as np\n",
        "import sqlite3\n",
        "import scipy.optimize as opt\n",
        "from sklearn import preprocessing\n",
        "from sklearn.model_selection import train_test_split\n",
        "from sklearn.metrics import accuracy_score\n",
        "%matplotlib inline\n",
        "import matplotlib.pyplot as plt\n",
        "from uuid import uuid4"
      ]
    },
    {
      "cell_type": "markdown",
      "source": [
        "## Menggabungkan Dataset"
      ],
      "metadata": {
        "id": "HDBug81o99cy"
      },
      "id": "HDBug81o99cy"
    },
    {
      "cell_type": "code",
      "source": [
        "## Pembuatan Customer ID (data dummy) ##\n",
        "a = np.random.randint(10, high=100, size=1000)\n",
        "b = np.random.randint(100, high=1000, size=1000)\n",
        "c = np.random.randint(100, high=1000, size=1000)\n",
        "d = np.random.randint(100, high=1000, size=1000)\n",
        "\n",
        "CustomerID = []\n",
        "for i in range(1000):\n",
        "    CustomerID.append(f'{a[i]}-{b[i]}-{c[i]}-{d[i]}')\n",
        "\n",
        "Duplicate = False     # Memastikan tidak ada entri duplikat\n",
        "for i in range(1000):\n",
        "    if CustomerID.count(CustomerID[i]) > 1:\n",
        "        Duplicate = True"
      ],
      "metadata": {
        "id": "LBLJwaPU97Bh"
      },
      "id": "LBLJwaPU97Bh",
      "execution_count": null,
      "outputs": []
    },
    {
      "cell_type": "code",
      "source": [
        "## Pembuatan Product ID (data dummy) ##\n",
        "a = np.random.randint(1000, high=10000, size=1000)\n",
        "b = np.random.randint(100, high=1000, size=1000)\n",
        "c = np.random.randint(100, high=1000, size=1000)\n",
        "\n",
        "ProductID = []\n",
        "for i in range(1000):\n",
        "    ProductID.append(f'{a[i]}-{b[i]}-{c[i]}')\n",
        "\n",
        "Duplicate = False     # Memastikan tidak ada entri duplikat\n",
        "for i in range(1000):\n",
        "    if ProductID.count(ProductID[i]) > 1:\n",
        "        Duplicate = True"
      ],
      "metadata": {
        "id": "_E3vudHVCcK4"
      },
      "execution_count": null,
      "outputs": [],
      "id": "_E3vudHVCcK4"
    },
    {
      "cell_type": "code",
      "source": [
        "# Import Database\n",
        "df_customer = pd.read_csv(\"customer.csv\", sep=';')\n",
        "df_sales = pd.read_csv(\"sales.csv\")\n",
        "df_sales.drop(columns=[\"Gender\"], inplace=True)"
      ],
      "metadata": {
        "id": "2ePvMZVODXrw"
      },
      "id": "2ePvMZVODXrw",
      "execution_count": null,
      "outputs": []
    },
    {
      "cell_type": "code",
      "source": [
        "# Gabungkan data customer kedalam data sales\n",
        "for column in df_customer.columns:\n",
        "    df_sales.insert(0,column,df_customer[column])\n",
        "    \n",
        "# Tambah CustomerID dan ProductID\n",
        "df_sales.insert(0, \"CustomerID\", CustomerID)\n",
        "df_sales.insert(0, \"ProductID\", ProductID)"
      ],
      "metadata": {
        "id": "owAv-df4MVH9"
      },
      "id": "owAv-df4MVH9",
      "execution_count": null,
      "outputs": []
    },
    {
      "cell_type": "code",
      "source": [
        "# Export Data keseluruhan menjadi file CSV\n",
        "df_sales.to_csv('Database_data.csv')"
      ],
      "metadata": {
        "id": "6bFhc_4mEXAq"
      },
      "id": "6bFhc_4mEXAq",
      "execution_count": null,
      "outputs": []
    },
    {
      "cell_type": "markdown",
      "source": [
        "##Slicing Dataset"
      ],
      "metadata": {
        "id": "-t4JBvXCDGFH"
      },
      "id": "-t4JBvXCDGFH"
    },
    {
      "cell_type": "code",
      "source": [
        "df = pd.read_csv('Database_data.csv')\n",
        "df.head()"
      ],
      "metadata": {
        "id": "7f99Wa3iyNdZ",
        "colab": {
          "base_uri": "https://localhost:8080/",
          "height": 490
        },
        "outputId": "1f36079e-fe82-468d-c7d5-5b15ec0efa12"
      },
      "id": "7f99Wa3iyNdZ",
      "execution_count": null,
      "outputs": [
        {
          "output_type": "execute_result",
          "data": {
            "text/plain": [
              "   Unnamed: 0     ProductID      CustomerID  Phone Number  \\\n",
              "0           0  2501-265-751  43-107-331-695   81573975928   \n",
              "1           1  1039-533-780  75-364-901-710   81573918390   \n",
              "2           2  5992-444-146  93-888-168-812   81573860852   \n",
              "3           3  5099-512-798  56-981-748-179   81573803314   \n",
              "4           4  6148-845-651  99-154-337-194   81573745776   \n",
              "\n",
              "               Address gender                         Name   Invoice ID  \\\n",
              "0  777 Brockton Avenue      m              Hafizhan Shidqi  750-67-8428   \n",
              "1    30 Memorial Drive      m                Gandhi Wibowo  226-31-3081   \n",
              "2  250 Hartford Avenue      m  Aldio Mahendra Purwandrarto  631-41-3108   \n",
              "3       700 Oak Street      m                  Benny Putra  123-19-1176   \n",
              "4    66-4 Parkhurst Rd      m         Vicky Vernando Dasta  373-73-7910   \n",
              "\n",
              "  Branch       City  ... Quantity   Tax 5%     Total       Date   Time  \\\n",
              "0      A     Yangon  ...        7  26.1415  548.9715   1/5/2019  13:08   \n",
              "1      C  Naypyitaw  ...        5   3.8200   80.2200   3/8/2019  10:29   \n",
              "2      A     Yangon  ...        7  16.2155  340.5255   3/3/2019  13:23   \n",
              "3      A     Yangon  ...        8  23.2880  489.0480  1/27/2019  20:33   \n",
              "4      A     Yangon  ...        7  30.2085  634.3785   2/8/2019  10:37   \n",
              "\n",
              "       Payment    cogs gross margin percentage gross income  Rating  \n",
              "0      Ewallet  522.83                4.761905      26.1415     9.1  \n",
              "1         Cash   76.40                4.761905       3.8200     9.6  \n",
              "2  Credit card  324.31                4.761905      16.2155     7.4  \n",
              "3      Ewallet  465.76                4.761905      23.2880     8.4  \n",
              "4      Ewallet  604.17                4.761905      30.2085     5.3  \n",
              "\n",
              "[5 rows x 23 columns]"
            ],
            "text/html": [
              "\n",
              "  <div id=\"df-ba1f147c-ce2d-4c36-9ba0-31bf7cb22c1c\">\n",
              "    <div class=\"colab-df-container\">\n",
              "      <div>\n",
              "<style scoped>\n",
              "    .dataframe tbody tr th:only-of-type {\n",
              "        vertical-align: middle;\n",
              "    }\n",
              "\n",
              "    .dataframe tbody tr th {\n",
              "        vertical-align: top;\n",
              "    }\n",
              "\n",
              "    .dataframe thead th {\n",
              "        text-align: right;\n",
              "    }\n",
              "</style>\n",
              "<table border=\"1\" class=\"dataframe\">\n",
              "  <thead>\n",
              "    <tr style=\"text-align: right;\">\n",
              "      <th></th>\n",
              "      <th>Unnamed: 0</th>\n",
              "      <th>ProductID</th>\n",
              "      <th>CustomerID</th>\n",
              "      <th>Phone Number</th>\n",
              "      <th>Address</th>\n",
              "      <th>gender</th>\n",
              "      <th>Name</th>\n",
              "      <th>Invoice ID</th>\n",
              "      <th>Branch</th>\n",
              "      <th>City</th>\n",
              "      <th>...</th>\n",
              "      <th>Quantity</th>\n",
              "      <th>Tax 5%</th>\n",
              "      <th>Total</th>\n",
              "      <th>Date</th>\n",
              "      <th>Time</th>\n",
              "      <th>Payment</th>\n",
              "      <th>cogs</th>\n",
              "      <th>gross margin percentage</th>\n",
              "      <th>gross income</th>\n",
              "      <th>Rating</th>\n",
              "    </tr>\n",
              "  </thead>\n",
              "  <tbody>\n",
              "    <tr>\n",
              "      <th>0</th>\n",
              "      <td>0</td>\n",
              "      <td>2501-265-751</td>\n",
              "      <td>43-107-331-695</td>\n",
              "      <td>81573975928</td>\n",
              "      <td>777 Brockton Avenue</td>\n",
              "      <td>m</td>\n",
              "      <td>Hafizhan Shidqi</td>\n",
              "      <td>750-67-8428</td>\n",
              "      <td>A</td>\n",
              "      <td>Yangon</td>\n",
              "      <td>...</td>\n",
              "      <td>7</td>\n",
              "      <td>26.1415</td>\n",
              "      <td>548.9715</td>\n",
              "      <td>1/5/2019</td>\n",
              "      <td>13:08</td>\n",
              "      <td>Ewallet</td>\n",
              "      <td>522.83</td>\n",
              "      <td>4.761905</td>\n",
              "      <td>26.1415</td>\n",
              "      <td>9.1</td>\n",
              "    </tr>\n",
              "    <tr>\n",
              "      <th>1</th>\n",
              "      <td>1</td>\n",
              "      <td>1039-533-780</td>\n",
              "      <td>75-364-901-710</td>\n",
              "      <td>81573918390</td>\n",
              "      <td>30 Memorial Drive</td>\n",
              "      <td>m</td>\n",
              "      <td>Gandhi Wibowo</td>\n",
              "      <td>226-31-3081</td>\n",
              "      <td>C</td>\n",
              "      <td>Naypyitaw</td>\n",
              "      <td>...</td>\n",
              "      <td>5</td>\n",
              "      <td>3.8200</td>\n",
              "      <td>80.2200</td>\n",
              "      <td>3/8/2019</td>\n",
              "      <td>10:29</td>\n",
              "      <td>Cash</td>\n",
              "      <td>76.40</td>\n",
              "      <td>4.761905</td>\n",
              "      <td>3.8200</td>\n",
              "      <td>9.6</td>\n",
              "    </tr>\n",
              "    <tr>\n",
              "      <th>2</th>\n",
              "      <td>2</td>\n",
              "      <td>5992-444-146</td>\n",
              "      <td>93-888-168-812</td>\n",
              "      <td>81573860852</td>\n",
              "      <td>250 Hartford Avenue</td>\n",
              "      <td>m</td>\n",
              "      <td>Aldio Mahendra Purwandrarto</td>\n",
              "      <td>631-41-3108</td>\n",
              "      <td>A</td>\n",
              "      <td>Yangon</td>\n",
              "      <td>...</td>\n",
              "      <td>7</td>\n",
              "      <td>16.2155</td>\n",
              "      <td>340.5255</td>\n",
              "      <td>3/3/2019</td>\n",
              "      <td>13:23</td>\n",
              "      <td>Credit card</td>\n",
              "      <td>324.31</td>\n",
              "      <td>4.761905</td>\n",
              "      <td>16.2155</td>\n",
              "      <td>7.4</td>\n",
              "    </tr>\n",
              "    <tr>\n",
              "      <th>3</th>\n",
              "      <td>3</td>\n",
              "      <td>5099-512-798</td>\n",
              "      <td>56-981-748-179</td>\n",
              "      <td>81573803314</td>\n",
              "      <td>700 Oak Street</td>\n",
              "      <td>m</td>\n",
              "      <td>Benny Putra</td>\n",
              "      <td>123-19-1176</td>\n",
              "      <td>A</td>\n",
              "      <td>Yangon</td>\n",
              "      <td>...</td>\n",
              "      <td>8</td>\n",
              "      <td>23.2880</td>\n",
              "      <td>489.0480</td>\n",
              "      <td>1/27/2019</td>\n",
              "      <td>20:33</td>\n",
              "      <td>Ewallet</td>\n",
              "      <td>465.76</td>\n",
              "      <td>4.761905</td>\n",
              "      <td>23.2880</td>\n",
              "      <td>8.4</td>\n",
              "    </tr>\n",
              "    <tr>\n",
              "      <th>4</th>\n",
              "      <td>4</td>\n",
              "      <td>6148-845-651</td>\n",
              "      <td>99-154-337-194</td>\n",
              "      <td>81573745776</td>\n",
              "      <td>66-4 Parkhurst Rd</td>\n",
              "      <td>m</td>\n",
              "      <td>Vicky Vernando Dasta</td>\n",
              "      <td>373-73-7910</td>\n",
              "      <td>A</td>\n",
              "      <td>Yangon</td>\n",
              "      <td>...</td>\n",
              "      <td>7</td>\n",
              "      <td>30.2085</td>\n",
              "      <td>634.3785</td>\n",
              "      <td>2/8/2019</td>\n",
              "      <td>10:37</td>\n",
              "      <td>Ewallet</td>\n",
              "      <td>604.17</td>\n",
              "      <td>4.761905</td>\n",
              "      <td>30.2085</td>\n",
              "      <td>5.3</td>\n",
              "    </tr>\n",
              "  </tbody>\n",
              "</table>\n",
              "<p>5 rows × 23 columns</p>\n",
              "</div>\n",
              "      <button class=\"colab-df-convert\" onclick=\"convertToInteractive('df-ba1f147c-ce2d-4c36-9ba0-31bf7cb22c1c')\"\n",
              "              title=\"Convert this dataframe to an interactive table.\"\n",
              "              style=\"display:none;\">\n",
              "        \n",
              "  <svg xmlns=\"http://www.w3.org/2000/svg\" height=\"24px\"viewBox=\"0 0 24 24\"\n",
              "       width=\"24px\">\n",
              "    <path d=\"M0 0h24v24H0V0z\" fill=\"none\"/>\n",
              "    <path d=\"M18.56 5.44l.94 2.06.94-2.06 2.06-.94-2.06-.94-.94-2.06-.94 2.06-2.06.94zm-11 1L8.5 8.5l.94-2.06 2.06-.94-2.06-.94L8.5 2.5l-.94 2.06-2.06.94zm10 10l.94 2.06.94-2.06 2.06-.94-2.06-.94-.94-2.06-.94 2.06-2.06.94z\"/><path d=\"M17.41 7.96l-1.37-1.37c-.4-.4-.92-.59-1.43-.59-.52 0-1.04.2-1.43.59L10.3 9.45l-7.72 7.72c-.78.78-.78 2.05 0 2.83L4 21.41c.39.39.9.59 1.41.59.51 0 1.02-.2 1.41-.59l7.78-7.78 2.81-2.81c.8-.78.8-2.07 0-2.86zM5.41 20L4 18.59l7.72-7.72 1.47 1.35L5.41 20z\"/>\n",
              "  </svg>\n",
              "      </button>\n",
              "      \n",
              "  <style>\n",
              "    .colab-df-container {\n",
              "      display:flex;\n",
              "      flex-wrap:wrap;\n",
              "      gap: 12px;\n",
              "    }\n",
              "\n",
              "    .colab-df-convert {\n",
              "      background-color: #E8F0FE;\n",
              "      border: none;\n",
              "      border-radius: 50%;\n",
              "      cursor: pointer;\n",
              "      display: none;\n",
              "      fill: #1967D2;\n",
              "      height: 32px;\n",
              "      padding: 0 0 0 0;\n",
              "      width: 32px;\n",
              "    }\n",
              "\n",
              "    .colab-df-convert:hover {\n",
              "      background-color: #E2EBFA;\n",
              "      box-shadow: 0px 1px 2px rgba(60, 64, 67, 0.3), 0px 1px 3px 1px rgba(60, 64, 67, 0.15);\n",
              "      fill: #174EA6;\n",
              "    }\n",
              "\n",
              "    [theme=dark] .colab-df-convert {\n",
              "      background-color: #3B4455;\n",
              "      fill: #D2E3FC;\n",
              "    }\n",
              "\n",
              "    [theme=dark] .colab-df-convert:hover {\n",
              "      background-color: #434B5C;\n",
              "      box-shadow: 0px 1px 3px 1px rgba(0, 0, 0, 0.15);\n",
              "      filter: drop-shadow(0px 1px 2px rgba(0, 0, 0, 0.3));\n",
              "      fill: #FFFFFF;\n",
              "    }\n",
              "  </style>\n",
              "\n",
              "      <script>\n",
              "        const buttonEl =\n",
              "          document.querySelector('#df-ba1f147c-ce2d-4c36-9ba0-31bf7cb22c1c button.colab-df-convert');\n",
              "        buttonEl.style.display =\n",
              "          google.colab.kernel.accessAllowed ? 'block' : 'none';\n",
              "\n",
              "        async function convertToInteractive(key) {\n",
              "          const element = document.querySelector('#df-ba1f147c-ce2d-4c36-9ba0-31bf7cb22c1c');\n",
              "          const dataTable =\n",
              "            await google.colab.kernel.invokeFunction('convertToInteractive',\n",
              "                                                     [key], {});\n",
              "          if (!dataTable) return;\n",
              "\n",
              "          const docLinkHtml = 'Like what you see? Visit the ' +\n",
              "            '<a target=\"_blank\" href=https://colab.research.google.com/notebooks/data_table.ipynb>data table notebook</a>'\n",
              "            + ' to learn more about interactive tables.';\n",
              "          element.innerHTML = '';\n",
              "          dataTable['output_type'] = 'display_data';\n",
              "          await google.colab.output.renderOutput(dataTable, element);\n",
              "          const docLink = document.createElement('div');\n",
              "          docLink.innerHTML = docLinkHtml;\n",
              "          element.appendChild(docLink);\n",
              "        }\n",
              "      </script>\n",
              "    </div>\n",
              "  </div>\n",
              "  "
            ]
          },
          "metadata": {},
          "execution_count": 8
        }
      ]
    },
    {
      "cell_type": "code",
      "source": [
        "df.info()"
      ],
      "metadata": {
        "colab": {
          "base_uri": "https://localhost:8080/"
        },
        "id": "PB9Y9ciM-7Ct",
        "outputId": "cd2286a1-9d5c-441a-a2e1-b4005aa22d85"
      },
      "id": "PB9Y9ciM-7Ct",
      "execution_count": null,
      "outputs": [
        {
          "output_type": "stream",
          "name": "stdout",
          "text": [
            "<class 'pandas.core.frame.DataFrame'>\n",
            "RangeIndex: 1000 entries, 0 to 999\n",
            "Data columns (total 23 columns):\n",
            " #   Column                   Non-Null Count  Dtype  \n",
            "---  ------                   --------------  -----  \n",
            " 0   Unnamed: 0               1000 non-null   int64  \n",
            " 1   ProductID                1000 non-null   object \n",
            " 2   CustomerID               1000 non-null   object \n",
            " 3   Phone Number             1000 non-null   int64  \n",
            " 4   Address                  1000 non-null   object \n",
            " 5   gender                   1000 non-null   object \n",
            " 6   Name                     1000 non-null   object \n",
            " 7   Invoice ID               1000 non-null   object \n",
            " 8   Branch                   1000 non-null   object \n",
            " 9   City                     1000 non-null   object \n",
            " 10  Customer type            1000 non-null   object \n",
            " 11  Product line             1000 non-null   object \n",
            " 12  Unit price               1000 non-null   float64\n",
            " 13  Quantity                 1000 non-null   int64  \n",
            " 14  Tax 5%                   1000 non-null   float64\n",
            " 15  Total                    1000 non-null   float64\n",
            " 16  Date                     1000 non-null   object \n",
            " 17  Time                     1000 non-null   object \n",
            " 18  Payment                  1000 non-null   object \n",
            " 19  cogs                     1000 non-null   float64\n",
            " 20  gross margin percentage  1000 non-null   float64\n",
            " 21  gross income             1000 non-null   float64\n",
            " 22  Rating                   1000 non-null   float64\n",
            "dtypes: float64(7), int64(3), object(13)\n",
            "memory usage: 179.8+ KB\n"
          ]
        }
      ]
    },
    {
      "cell_type": "code",
      "source": [
        "customer = df[['CustomerID','Customer type','Phone Number','Name','Address','gender']]\n",
        "product = df[['ProductID','Product line','Unit price','Tax 5%','Branch']]\n",
        "purchase = df[['Invoice ID','ProductID','CustomerID','Name','Address','Quantity','Total','Date','Time','Payment','cogs','gross margin percentage','gross income','Rating']]\n",
        "store = df[['Branch','City']]"
      ],
      "metadata": {
        "id": "oFm1SeRXRNB6"
      },
      "id": "oFm1SeRXRNB6",
      "execution_count": null,
      "outputs": []
    },
    {
      "cell_type": "code",
      "source": [
        "customer.head()"
      ],
      "metadata": {
        "id": "D7MzBPnoWDVt",
        "colab": {
          "base_uri": "https://localhost:8080/",
          "height": 206
        },
        "outputId": "9f250295-1ecf-4a32-a670-6f350adf2090"
      },
      "id": "D7MzBPnoWDVt",
      "execution_count": null,
      "outputs": [
        {
          "output_type": "execute_result",
          "data": {
            "text/plain": [
              "       CustomerID Customer type  Phone Number                         Name  \\\n",
              "0  43-107-331-695        Member   81573975928              Hafizhan Shidqi   \n",
              "1  75-364-901-710        Normal   81573918390                Gandhi Wibowo   \n",
              "2  93-888-168-812        Normal   81573860852  Aldio Mahendra Purwandrarto   \n",
              "3  56-981-748-179        Member   81573803314                  Benny Putra   \n",
              "4  99-154-337-194        Normal   81573745776         Vicky Vernando Dasta   \n",
              "\n",
              "               Address gender  \n",
              "0  777 Brockton Avenue      m  \n",
              "1    30 Memorial Drive      m  \n",
              "2  250 Hartford Avenue      m  \n",
              "3       700 Oak Street      m  \n",
              "4    66-4 Parkhurst Rd      m  "
            ],
            "text/html": [
              "\n",
              "  <div id=\"df-afb273c1-a09f-4d0c-8b49-831eb9450a10\">\n",
              "    <div class=\"colab-df-container\">\n",
              "      <div>\n",
              "<style scoped>\n",
              "    .dataframe tbody tr th:only-of-type {\n",
              "        vertical-align: middle;\n",
              "    }\n",
              "\n",
              "    .dataframe tbody tr th {\n",
              "        vertical-align: top;\n",
              "    }\n",
              "\n",
              "    .dataframe thead th {\n",
              "        text-align: right;\n",
              "    }\n",
              "</style>\n",
              "<table border=\"1\" class=\"dataframe\">\n",
              "  <thead>\n",
              "    <tr style=\"text-align: right;\">\n",
              "      <th></th>\n",
              "      <th>CustomerID</th>\n",
              "      <th>Customer type</th>\n",
              "      <th>Phone Number</th>\n",
              "      <th>Name</th>\n",
              "      <th>Address</th>\n",
              "      <th>gender</th>\n",
              "    </tr>\n",
              "  </thead>\n",
              "  <tbody>\n",
              "    <tr>\n",
              "      <th>0</th>\n",
              "      <td>43-107-331-695</td>\n",
              "      <td>Member</td>\n",
              "      <td>81573975928</td>\n",
              "      <td>Hafizhan Shidqi</td>\n",
              "      <td>777 Brockton Avenue</td>\n",
              "      <td>m</td>\n",
              "    </tr>\n",
              "    <tr>\n",
              "      <th>1</th>\n",
              "      <td>75-364-901-710</td>\n",
              "      <td>Normal</td>\n",
              "      <td>81573918390</td>\n",
              "      <td>Gandhi Wibowo</td>\n",
              "      <td>30 Memorial Drive</td>\n",
              "      <td>m</td>\n",
              "    </tr>\n",
              "    <tr>\n",
              "      <th>2</th>\n",
              "      <td>93-888-168-812</td>\n",
              "      <td>Normal</td>\n",
              "      <td>81573860852</td>\n",
              "      <td>Aldio Mahendra Purwandrarto</td>\n",
              "      <td>250 Hartford Avenue</td>\n",
              "      <td>m</td>\n",
              "    </tr>\n",
              "    <tr>\n",
              "      <th>3</th>\n",
              "      <td>56-981-748-179</td>\n",
              "      <td>Member</td>\n",
              "      <td>81573803314</td>\n",
              "      <td>Benny Putra</td>\n",
              "      <td>700 Oak Street</td>\n",
              "      <td>m</td>\n",
              "    </tr>\n",
              "    <tr>\n",
              "      <th>4</th>\n",
              "      <td>99-154-337-194</td>\n",
              "      <td>Normal</td>\n",
              "      <td>81573745776</td>\n",
              "      <td>Vicky Vernando Dasta</td>\n",
              "      <td>66-4 Parkhurst Rd</td>\n",
              "      <td>m</td>\n",
              "    </tr>\n",
              "  </tbody>\n",
              "</table>\n",
              "</div>\n",
              "      <button class=\"colab-df-convert\" onclick=\"convertToInteractive('df-afb273c1-a09f-4d0c-8b49-831eb9450a10')\"\n",
              "              title=\"Convert this dataframe to an interactive table.\"\n",
              "              style=\"display:none;\">\n",
              "        \n",
              "  <svg xmlns=\"http://www.w3.org/2000/svg\" height=\"24px\"viewBox=\"0 0 24 24\"\n",
              "       width=\"24px\">\n",
              "    <path d=\"M0 0h24v24H0V0z\" fill=\"none\"/>\n",
              "    <path d=\"M18.56 5.44l.94 2.06.94-2.06 2.06-.94-2.06-.94-.94-2.06-.94 2.06-2.06.94zm-11 1L8.5 8.5l.94-2.06 2.06-.94-2.06-.94L8.5 2.5l-.94 2.06-2.06.94zm10 10l.94 2.06.94-2.06 2.06-.94-2.06-.94-.94-2.06-.94 2.06-2.06.94z\"/><path d=\"M17.41 7.96l-1.37-1.37c-.4-.4-.92-.59-1.43-.59-.52 0-1.04.2-1.43.59L10.3 9.45l-7.72 7.72c-.78.78-.78 2.05 0 2.83L4 21.41c.39.39.9.59 1.41.59.51 0 1.02-.2 1.41-.59l7.78-7.78 2.81-2.81c.8-.78.8-2.07 0-2.86zM5.41 20L4 18.59l7.72-7.72 1.47 1.35L5.41 20z\"/>\n",
              "  </svg>\n",
              "      </button>\n",
              "      \n",
              "  <style>\n",
              "    .colab-df-container {\n",
              "      display:flex;\n",
              "      flex-wrap:wrap;\n",
              "      gap: 12px;\n",
              "    }\n",
              "\n",
              "    .colab-df-convert {\n",
              "      background-color: #E8F0FE;\n",
              "      border: none;\n",
              "      border-radius: 50%;\n",
              "      cursor: pointer;\n",
              "      display: none;\n",
              "      fill: #1967D2;\n",
              "      height: 32px;\n",
              "      padding: 0 0 0 0;\n",
              "      width: 32px;\n",
              "    }\n",
              "\n",
              "    .colab-df-convert:hover {\n",
              "      background-color: #E2EBFA;\n",
              "      box-shadow: 0px 1px 2px rgba(60, 64, 67, 0.3), 0px 1px 3px 1px rgba(60, 64, 67, 0.15);\n",
              "      fill: #174EA6;\n",
              "    }\n",
              "\n",
              "    [theme=dark] .colab-df-convert {\n",
              "      background-color: #3B4455;\n",
              "      fill: #D2E3FC;\n",
              "    }\n",
              "\n",
              "    [theme=dark] .colab-df-convert:hover {\n",
              "      background-color: #434B5C;\n",
              "      box-shadow: 0px 1px 3px 1px rgba(0, 0, 0, 0.15);\n",
              "      filter: drop-shadow(0px 1px 2px rgba(0, 0, 0, 0.3));\n",
              "      fill: #FFFFFF;\n",
              "    }\n",
              "  </style>\n",
              "\n",
              "      <script>\n",
              "        const buttonEl =\n",
              "          document.querySelector('#df-afb273c1-a09f-4d0c-8b49-831eb9450a10 button.colab-df-convert');\n",
              "        buttonEl.style.display =\n",
              "          google.colab.kernel.accessAllowed ? 'block' : 'none';\n",
              "\n",
              "        async function convertToInteractive(key) {\n",
              "          const element = document.querySelector('#df-afb273c1-a09f-4d0c-8b49-831eb9450a10');\n",
              "          const dataTable =\n",
              "            await google.colab.kernel.invokeFunction('convertToInteractive',\n",
              "                                                     [key], {});\n",
              "          if (!dataTable) return;\n",
              "\n",
              "          const docLinkHtml = 'Like what you see? Visit the ' +\n",
              "            '<a target=\"_blank\" href=https://colab.research.google.com/notebooks/data_table.ipynb>data table notebook</a>'\n",
              "            + ' to learn more about interactive tables.';\n",
              "          element.innerHTML = '';\n",
              "          dataTable['output_type'] = 'display_data';\n",
              "          await google.colab.output.renderOutput(dataTable, element);\n",
              "          const docLink = document.createElement('div');\n",
              "          docLink.innerHTML = docLinkHtml;\n",
              "          element.appendChild(docLink);\n",
              "        }\n",
              "      </script>\n",
              "    </div>\n",
              "  </div>\n",
              "  "
            ]
          },
          "metadata": {},
          "execution_count": 13
        }
      ]
    },
    {
      "cell_type": "code",
      "source": [
        "customer_array = np.asarray(customer) \n",
        "print(customer_array)"
      ],
      "metadata": {
        "id": "yHUk35WGXabJ",
        "colab": {
          "base_uri": "https://localhost:8080/"
        },
        "outputId": "ca693089-afb9-44b2-deed-ad909b774150"
      },
      "id": "yHUk35WGXabJ",
      "execution_count": null,
      "outputs": [
        {
          "output_type": "stream",
          "name": "stdout",
          "text": [
            "[['43-107-331-695' 'Member' 81573975928 'Hafizhan Shidqi'\n",
            "  '777 Brockton Avenue' 'm']\n",
            " ['75-364-901-710' 'Normal' 81573918390 'Gandhi Wibowo'\n",
            "  '30 Memorial Drive' 'm']\n",
            " ['93-888-168-812' 'Normal' 81573860852 'Aldio Mahendra Purwandrarto'\n",
            "  '250 Hartford Avenue' 'm']\n",
            " ...\n",
            " ['90-552-464-712' 'Member' 81516610542 'Diky Handriansyah'\n",
            "  '454 Highland Ave' 'm']\n",
            " ['75-641-975-364' 'Normal' 81516553004 'Giono' '1184 Fall River Avenue'\n",
            "  'm']\n",
            " ['11-836-689-420' 'Member' 81512361845 'Suryadi' '420 Greengrass Road'\n",
            "  'm']]\n"
          ]
        }
      ]
    },
    {
      "cell_type": "code",
      "source": [
        "product.head()"
      ],
      "metadata": {
        "id": "mi56ProrWrVi"
      },
      "id": "mi56ProrWrVi",
      "execution_count": null,
      "outputs": []
    },
    {
      "cell_type": "code",
      "source": [
        "product_array = np.asarray(product)\n",
        "print(product_array)"
      ],
      "metadata": {
        "id": "Hi2OTeyVXoE4"
      },
      "id": "Hi2OTeyVXoE4",
      "execution_count": null,
      "outputs": []
    },
    {
      "cell_type": "code",
      "source": [
        "product_array.shape"
      ],
      "metadata": {
        "id": "IxqPmKiO2a80"
      },
      "id": "IxqPmKiO2a80",
      "execution_count": null,
      "outputs": []
    },
    {
      "cell_type": "code",
      "source": [
        "purchase.head()"
      ],
      "metadata": {
        "id": "EL5HtWMiWu5N"
      },
      "id": "EL5HtWMiWu5N",
      "execution_count": null,
      "outputs": []
    },
    {
      "cell_type": "code",
      "source": [
        "purchase_array = np.asarray(purchase)\n",
        "print(purchase_array)"
      ],
      "metadata": {
        "id": "B6fxYsNrYCpI"
      },
      "id": "B6fxYsNrYCpI",
      "execution_count": null,
      "outputs": []
    },
    {
      "cell_type": "code",
      "source": [
        "store.head()"
      ],
      "metadata": {
        "id": "F9v5sYXVW2wA"
      },
      "id": "F9v5sYXVW2wA",
      "execution_count": null,
      "outputs": []
    },
    {
      "cell_type": "code",
      "source": [
        "store_array = np.asarray(store)\n",
        "print(store_array)"
      ],
      "metadata": {
        "id": "NMVpuHSsYMEr"
      },
      "id": "NMVpuHSsYMEr",
      "execution_count": null,
      "outputs": []
    },
    {
      "cell_type": "code",
      "source": [
        "array = np.asarray(df)"
      ],
      "metadata": {
        "id": "30Or7NCZyWya"
      },
      "id": "30Or7NCZyWya",
      "execution_count": null,
      "outputs": []
    },
    {
      "cell_type": "code",
      "source": [
        "print(array)"
      ],
      "metadata": {
        "id": "5F4T04X-yo7x"
      },
      "id": "5F4T04X-yo7x",
      "execution_count": null,
      "outputs": []
    },
    {
      "cell_type": "code",
      "source": [
        "MyDB = sqlite3.connect('e-commerce db.db')"
      ],
      "metadata": {
        "id": "1Ht6ywvziJmL"
      },
      "id": "1Ht6ywvziJmL",
      "execution_count": null,
      "outputs": []
    },
    {
      "cell_type": "code",
      "source": [
        "c = MyDB.cursor()"
      ],
      "metadata": {
        "id": "ohK4N7Uir8Zu"
      },
      "id": "ohK4N7Uir8Zu",
      "execution_count": null,
      "outputs": []
    },
    {
      "cell_type": "markdown",
      "source": [],
      "metadata": {
        "id": "UtCUY1OhOY7T"
      },
      "id": "UtCUY1OhOY7T"
    },
    {
      "cell_type": "markdown",
      "source": [
        "##Table Customer"
      ],
      "metadata": {
        "id": "M6vNfHBhbtYW"
      },
      "id": "M6vNfHBhbtYW"
    },
    {
      "cell_type": "code",
      "source": [
        "c.execute('''CREATE TABLE customer(\n",
        "  \"Customer_ID\"\tVARCHAR(14) NOT NULL PRIMARY KEY UNIQUE,\n",
        "  \"Customer_type\"\tVARCHAR(6) NOT NULL,\n",
        "  \"Phone_Number\"\tINTEGER NOT NULL,\n",
        "  \"Name\"\tVARCHAR(28) NOT NULL,\n",
        "  \"Address\"\tVARCHAR(30) NOT NULL,\n",
        "  \"Gender\"\tVARCHAR(1) NOT NULL\n",
        ")''')"
      ],
      "metadata": {
        "id": "MKEV9TdZYxfR"
      },
      "id": "MKEV9TdZYxfR",
      "execution_count": null,
      "outputs": []
    },
    {
      "cell_type": "code",
      "source": [
        "c.executemany(\"INSERT INTO customer(Customer_ID,Customer_type,Phone_Number,Name,Address,Gender) VALUES(?,?,?,?,?,?)\",customer_array)"
      ],
      "metadata": {
        "id": "Cg02KDnLbxnm"
      },
      "id": "Cg02KDnLbxnm",
      "execution_count": null,
      "outputs": []
    },
    {
      "cell_type": "markdown",
      "source": [
        "##Table Product"
      ],
      "metadata": {
        "id": "vN_8i129dSKU"
      },
      "id": "vN_8i129dSKU"
    },
    {
      "cell_type": "code",
      "source": [
        "c.execute('''CREATE TABLE product(\n",
        "  \"Product_ID\"\tVARCHAR(12) NOT NULL PRIMARY KEY UNIQUE,\n",
        "  \"Product_line\"\tVARCHAR(22) NOT NULL,\n",
        "  \"Unit_price\"\tNUMERIC(5, 2) NOT NULL,\n",
        "  \"Tax_5\"\tNUMERIC(7, 4) NOT NULL,\n",
        "  \"Branch\"\tVARCHAR(1) NOT NULL,\n",
        "  FOREIGN KEY (Branch) REFERENCES store(Branch))''')"
      ],
      "metadata": {
        "id": "bm_-hOmOdZXl"
      },
      "id": "bm_-hOmOdZXl",
      "execution_count": null,
      "outputs": []
    },
    {
      "cell_type": "code",
      "source": [
        "c.executemany(\"INSERT INTO product(Product_ID,Product_line,Unit_price,Tax_5,Branch) VALUES(?,?,?,?,?)\",product_array)"
      ],
      "metadata": {
        "id": "s-5ixITxeyTh"
      },
      "id": "s-5ixITxeyTh",
      "execution_count": null,
      "outputs": []
    },
    {
      "cell_type": "markdown",
      "source": [
        "##Table Purchase"
      ],
      "metadata": {
        "id": "gCYuT836fj3h"
      },
      "id": "gCYuT836fj3h"
    },
    {
      "cell_type": "code",
      "source": [
        "c.execute('''CREATE TABLE purchase(\n",
        "  \"Invoice_ID\" VARCHAR(11) NOT NULL PRIMARY KEY UNIQUE,\n",
        "  \"Product_ID\" VARCHAR(12) NOT NULL UNIQUE,\n",
        "  \"Customer_ID\" VARCHAR(14) NOT NULL UNIQUE,\n",
        "  \"Name\" VARCHAR(28) NOT NULL,\n",
        "  \"Address\" VARCHAR(30) NOT NULL,\n",
        "  \"Quantity\" INTEGER NOT NULL,\n",
        "  \"Total\" NUMERIC(8, 4) NOT NULL,\n",
        "  \"Date\" DATE NOT NULL,\n",
        "  \"Time\" VARCHAR(5) NOT NULL,\n",
        "  \"Payment\" VARCHAR(11) NOT NULL,\n",
        "  \"cogs\" NUMERIC(6, 2) NOT NULL,\n",
        "  \"gross_margin_percentage\" NUMERIC(11, 9) NOT NULL,\n",
        "  \"gross_income\" NUMERIC(7, 4) NOT NULL,\n",
        "  \"Rating\" NUMERIC(4, 1) NOT NULL,\n",
        "  FOREIGN KEY (Product_ID) REFERENCES product(Product_ID),\n",
        "  FOREIGN KEY (Customer_ID) REFERENCES customer(Customer_ID),\n",
        "  FOREIGN KEY (Name) REFERENCES customer(Name),\n",
        "  FOREIGN KEY (Address) REFERENCES customer(Address))''')"
      ],
      "metadata": {
        "id": "wcUlH88rfn7k"
      },
      "id": "wcUlH88rfn7k",
      "execution_count": null,
      "outputs": []
    },
    {
      "cell_type": "code",
      "source": [
        "c.executemany(\"INSERT INTO purchase(Invoice_ID,Product_ID,Customer_ID,Name,Address,Quantity,Total,Date,Time,Payment,cogs,gross_margin_percentage,gross_income,Rating) VALUES(?,?,?,?,?,?,?,?,?,?,?,?,?,?)\",purchase_array)"
      ],
      "metadata": {
        "id": "mbLoXSHfhzZL"
      },
      "id": "mbLoXSHfhzZL",
      "execution_count": null,
      "outputs": []
    },
    {
      "cell_type": "markdown",
      "source": [
        "##Table Store"
      ],
      "metadata": {
        "id": "Ll3goO-Akb4K"
      },
      "id": "Ll3goO-Akb4K"
    },
    {
      "cell_type": "code",
      "source": [
        "c.execute('''CREATE TABLE IF NOT EXISTS store(\n",
        "  \"Branch\"\tVARCHAR(1) NOT NULL PRIMARY KEY,\n",
        "  \"City\"\tVARCHAR(9) NOT NULL)''')"
      ],
      "metadata": {
        "id": "v-mPaqOzke7K"
      },
      "id": "v-mPaqOzke7K",
      "execution_count": null,
      "outputs": []
    },
    {
      "cell_type": "code",
      "source": [
        "c.executemany(\"INSERT OR IGNORE INTO store(Branch, City) VALUES(?,?)\",store_array)"
      ],
      "metadata": {
        "id": "J5COXQrnlQeg"
      },
      "id": "J5COXQrnlQeg",
      "execution_count": null,
      "outputs": []
    },
    {
      "cell_type": "code",
      "source": [
        "MyDB.commit()"
      ],
      "metadata": {
        "id": "3I7a-s1w5Cpy"
      },
      "id": "3I7a-s1w5Cpy",
      "execution_count": null,
      "outputs": []
    },
    {
      "cell_type": "code",
      "source": [
        "MyDB.close()"
      ],
      "metadata": {
        "id": "TKZxLEkU5Ktv"
      },
      "id": "TKZxLEkU5Ktv",
      "execution_count": null,
      "outputs": []
    },
    {
      "cell_type": "code",
      "execution_count": null,
      "id": "beginning-place",
      "metadata": {
        "id": "beginning-place"
      },
      "outputs": [],
      "source": [
        "df = pd.read_csv(r\"C:\\Users\\Bravy\\Downloads\\supermarket_sales - Sheet1.csv\")\n",
        "df.tail(10)"
      ]
    },
    {
      "cell_type": "code",
      "execution_count": null,
      "id": "virtual-parcel",
      "metadata": {
        "id": "virtual-parcel"
      },
      "outputs": [],
      "source": [
        "df.isnull().values.any()   # Check entri NaN"
      ]
    },
    {
      "cell_type": "code",
      "execution_count": null,
      "id": "million-diesel",
      "metadata": {
        "id": "million-diesel"
      },
      "outputs": [],
      "source": [
        "df.info"
      ]
    },
    {
      "cell_type": "markdown",
      "id": "danish-bones",
      "metadata": {
        "id": "danish-bones"
      },
      "source": [
        "## Pendapatan per minggu"
      ]
    },
    {
      "cell_type": "code",
      "execution_count": null,
      "id": "abroad-function",
      "metadata": {
        "id": "abroad-function"
      },
      "outputs": [],
      "source": [
        "df['Date'] = pd.to_datetime(df['Date'], errors='coerce')\n",
        "weekly_income = np.asarray(df.groupby(df.Date.dt.isocalendar().week)['gross income'].sum())"
      ]
    },
    {
      "cell_type": "code",
      "source": [
        "weeks = [1,2,3,4,5,6,7,8,9,10,11,12,13]\n",
        "plt.title(\"Gross Income Tiap Minggu\")\n",
        "plt.xlabel(\"Minggu\")\n",
        "plt.ylabel(\"Gross Income\")\n",
        "plt.xticks(weeks)\n",
        "plt.plot(weeks,weekly_income, color=\"#483D8B\", marker='o')"
      ],
      "metadata": {
        "id": "sV4-yjyOWZnG"
      },
      "id": "sV4-yjyOWZnG",
      "execution_count": null,
      "outputs": []
    },
    {
      "cell_type": "markdown",
      "id": "spare-hawaiian",
      "metadata": {
        "id": "spare-hawaiian"
      },
      "source": [
        "## Member vs Nonmember"
      ]
    },
    {
      "cell_type": "code",
      "execution_count": null,
      "id": "appropriate-cemetery",
      "metadata": {
        "id": "appropriate-cemetery"
      },
      "outputs": [],
      "source": [
        "df_normal = df[df['Customer type'] == 'Normal']\n",
        "df_member = df[df['Customer type'] == 'Member']\n",
        "df_normal.head()"
      ]
    },
    {
      "cell_type": "code",
      "execution_count": null,
      "id": "light-gnome",
      "metadata": {
        "id": "light-gnome"
      },
      "outputs": [],
      "source": [
        "df_member"
      ]
    },
    {
      "cell_type": "code",
      "execution_count": null,
      "id": "athletic-developer",
      "metadata": {
        "id": "athletic-developer"
      },
      "outputs": [],
      "source": [
        "avg_gross_normal = df_normal['gross income'].sum()/len(df_normal.index)\n",
        "avg_gross_member = df_member['gross income'].sum()/len(df_member.index)\n",
        "\n",
        "print(f'Average Gross Income dari customer normal: {avg_gross_normal}')\n",
        "print(f'Average Gross Income dari customer member: {avg_gross_member}')\n",
        "\n",
        "plt.title(\"Average Gross Income Berdasarkan Membership\")\n",
        "plt.xlabel(\"Membership\")\n",
        "plt.ylabel(\"Gross Income\")\n",
        "plt.bar([\"Iya\", \"Tidak\"], [avg_gross_normal, avg_gross_member], color=[\"#556B2F\", \"#8B0000\"])"
      ]
    },
    {
      "cell_type": "markdown",
      "id": "hazardous-cycling",
      "metadata": {
        "id": "hazardous-cycling"
      },
      "source": [
        "## Perbandingan keuntungan antar product line"
      ]
    },
    {
      "cell_type": "code",
      "execution_count": null,
      "id": "academic-namibia",
      "metadata": {
        "id": "academic-namibia"
      },
      "outputs": [],
      "source": [
        "product_line = np.asarray(df[['Product line']])\n",
        "np.unique(product_line)"
      ]
    },
    {
      "cell_type": "code",
      "execution_count": null,
      "id": "sunrise-longer",
      "metadata": {
        "id": "sunrise-longer"
      },
      "outputs": [],
      "source": [
        "df_EA = df[df['Product line'] == 'Electronic accessories']\n",
        "df_FA = df[df['Product line'] == 'Fashion accessories']\n",
        "df_FB = df[df['Product line'] == 'Food and beverages']\n",
        "df_HB = df[df['Product line'] == 'Health and beauty']\n",
        "df_HL = df[df['Product line'] == 'Home and lifestyle']\n",
        "df_ST = df[df['Product line'] ==  'Sports and travel']"
      ]
    },
    {
      "cell_type": "code",
      "execution_count": null,
      "id": "resident-links",
      "metadata": {
        "id": "resident-links"
      },
      "outputs": [],
      "source": [
        "gross_EA = df_EA['gross income'].sum()\n",
        "gross_FA = df_FA['gross income'].sum()\n",
        "gross_FB = df_FB['gross income'].sum()\n",
        "gross_HB = df_HB['gross income'].sum()\n",
        "gross_HL = df_HL['gross income'].sum()\n",
        "gross_ST = df_ST['gross income'].sum()\n",
        "\n",
        "plt.title(\"Gross Income Tiap Lini Produk\")\n",
        "plt.xlabel(\"Nama Lini Produk\")\n",
        "plt.ylabel(\"Gross Income\")\n",
        "plt.bar([\"Electronics\", \"Fashion\", \"Food\", \"Health\", \"Lifestyle\", \"Sports\"], \n",
        "        [gross_EA, gross_FA, gross_FB, gross_HB, gross_HL, gross_ST], color=[\"#000080\",\"#006400\",\"#8B0000\", \"#483D8B\", \"#DC143C\", \"#556B2F\"])"
      ]
    },
    {
      "cell_type": "markdown",
      "id": "affected-cancer",
      "metadata": {
        "id": "affected-cancer"
      },
      "source": [
        "## Perbandingan keuntungan cabang"
      ]
    },
    {
      "cell_type": "code",
      "execution_count": null,
      "id": "rocky-forge",
      "metadata": {
        "id": "rocky-forge"
      },
      "outputs": [],
      "source": [
        "cabang = np.asarray(df[['Branch']])\n",
        "np.unique(cabang)"
      ]
    },
    {
      "cell_type": "code",
      "execution_count": null,
      "id": "iraqi-poster",
      "metadata": {
        "id": "iraqi-poster"
      },
      "outputs": [],
      "source": [
        "df_A = df[df['Branch'] == 'A']\n",
        "df_B = df[df['Branch'] == 'B']\n",
        "df_C = df[df['Branch'] == 'C']"
      ]
    },
    {
      "cell_type": "code",
      "execution_count": null,
      "id": "addressed-kingston",
      "metadata": {
        "id": "addressed-kingston"
      },
      "outputs": [],
      "source": [
        "gross_A = df_A['gross income'].sum()\n",
        "gross_B = df_B['gross income'].sum()\n",
        "gross_C = df_C['gross income'].sum()\n",
        "\n",
        "plt.title(\"Gross Income per Cabang\")\n",
        "plt.xlabel(\"Nama Cabang\")\n",
        "plt.ylabel(\"Gross Income\")\n",
        "plt.bar([\"Yangon\",\"Naypyitaw\",\"Mandalay\"], [gross_A, gross_B, gross_C], color=[\"#000080\",\"#006400\",\"#8B0000\"])\n",
        "\n",
        "print(f'Gross Income dari cabang Yangon: {gross_A}')\n",
        "print(f'Gross Income dari cabang Mandalay: {gross_B}')\n",
        "print(f'Gross Income dari cabang Naypyitaw: {gross_C}')"
      ]
    },
    {
      "cell_type": "code",
      "source": [],
      "metadata": {
        "id": "zy6rRHzVQMXP"
      },
      "id": "zy6rRHzVQMXP",
      "execution_count": null,
      "outputs": []
    }
  ],
  "metadata": {
    "kernelspec": {
      "display_name": "Python 3",
      "language": "python",
      "name": "python3"
    },
    "language_info": {
      "codemirror_mode": {
        "name": "ipython",
        "version": 3
      },
      "file_extension": ".py",
      "mimetype": "text/x-python",
      "name": "python",
      "nbconvert_exporter": "python",
      "pygments_lexer": "ipython3",
      "version": "3.8.8"
    },
    "colab": {
      "provenance": []
    }
  },
  "nbformat": 4,
  "nbformat_minor": 5
}